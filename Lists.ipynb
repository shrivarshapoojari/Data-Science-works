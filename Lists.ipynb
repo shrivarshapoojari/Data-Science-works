{
 "cells": [
  {
   "cell_type": "code",
   "execution_count": 1,
   "id": "119e2ecc-da4e-4986-8635-d1244a3de2e8",
   "metadata": {
    "tags": []
   },
   "outputs": [],
   "source": [
    "str=\"PW Skills Data Science Masters\""
   ]
  },
  {
   "cell_type": "code",
   "execution_count": 4,
   "id": "b7f76166-e12b-485a-a392-ad47023124c6",
   "metadata": {
    "tags": []
   },
   "outputs": [],
   "source": [
    "lst=str.split(\" \")"
   ]
  },
  {
   "cell_type": "code",
   "execution_count": 3,
   "id": "e35e3362-4a7e-4375-ae30-999dabb75811",
   "metadata": {
    "tags": []
   },
   "outputs": [
    {
     "data": {
      "text/plain": [
       "['P',\n",
       " 'W',\n",
       " ' ',\n",
       " 'S',\n",
       " 'k',\n",
       " 'i',\n",
       " 'l',\n",
       " 'l',\n",
       " 's',\n",
       " ' ',\n",
       " 'D',\n",
       " 'a',\n",
       " 't',\n",
       " 'a',\n",
       " ' ',\n",
       " 'S',\n",
       " 'c',\n",
       " 'i',\n",
       " 'e',\n",
       " 'n',\n",
       " 'c',\n",
       " 'e',\n",
       " ' ',\n",
       " 'M',\n",
       " 'a',\n",
       " 's',\n",
       " 't',\n",
       " 'e',\n",
       " 'r',\n",
       " 's']"
      ]
     },
     "execution_count": 3,
     "metadata": {},
     "output_type": "execute_result"
    }
   ],
   "source": [
    "list(str)"
   ]
  },
  {
   "cell_type": "code",
   "execution_count": 5,
   "id": "0bf49f80-bcf8-42c9-86e4-7c81a125dda9",
   "metadata": {
    "tags": []
   },
   "outputs": [
    {
     "data": {
      "text/plain": [
       "'Data'"
      ]
     },
     "execution_count": 5,
     "metadata": {},
     "output_type": "execute_result"
    }
   ],
   "source": [
    "lst[2]"
   ]
  },
  {
   "cell_type": "code",
   "execution_count": 6,
   "id": "499055e9-6d11-48be-8f98-64bc2abf9bd0",
   "metadata": {
    "tags": []
   },
   "outputs": [
    {
     "data": {
      "text/plain": [
       "['Skills', 'Data', 'Science']"
      ]
     },
     "execution_count": 6,
     "metadata": {},
     "output_type": "execute_result"
    }
   ],
   "source": [
    "lst[1:4]"
   ]
  },
  {
   "cell_type": "code",
   "execution_count": 7,
   "id": "0a3b0035-16db-4114-aed9-e0cde8b1d32b",
   "metadata": {
    "tags": []
   },
   "outputs": [
    {
     "data": {
      "text/plain": [
       "['PW', 'Skills', 'Data', 'Science', 'Masters']"
      ]
     },
     "execution_count": 7,
     "metadata": {},
     "output_type": "execute_result"
    }
   ],
   "source": [
    "lst\n"
   ]
  },
  {
   "cell_type": "code",
   "execution_count": 8,
   "id": "abb86682-4ffb-46f2-b5a1-cd31ec81b9a6",
   "metadata": {
    "tags": []
   },
   "outputs": [
    {
     "data": {
      "text/plain": [
       "['Masters', 'Science', 'Data', 'Skills', 'PW']"
      ]
     },
     "execution_count": 8,
     "metadata": {},
     "output_type": "execute_result"
    }
   ],
   "source": [
    "lst[::-1]"
   ]
  },
  {
   "cell_type": "code",
   "execution_count": 9,
   "id": "523c0b87-9b3d-47cb-ad57-b863ec4b6b0b",
   "metadata": {
    "tags": []
   },
   "outputs": [
    {
     "data": {
      "text/plain": [
       "['Masters', 'Data']"
      ]
     },
     "execution_count": 9,
     "metadata": {},
     "output_type": "execute_result"
    }
   ],
   "source": [
    "lst[4:1:-2]"
   ]
  },
  {
   "cell_type": "code",
   "execution_count": 10,
   "id": "b0a71167-da3f-4ba5-8e10-38204af29fb0",
   "metadata": {
    "tags": []
   },
   "outputs": [
    {
     "data": {
      "text/plain": [
       "[]"
      ]
     },
     "execution_count": 10,
     "metadata": {},
     "output_type": "execute_result"
    }
   ],
   "source": [
    "lst[1:4:-2]"
   ]
  },
  {
   "cell_type": "code",
   "execution_count": 11,
   "id": "2273f86f-7052-496d-a878-7fea8b2057c5",
   "metadata": {
    "tags": []
   },
   "outputs": [
    {
     "data": {
      "text/plain": [
       "'Skills'"
      ]
     },
     "execution_count": 11,
     "metadata": {},
     "output_type": "execute_result"
    }
   ],
   "source": [
    "lst[-4]"
   ]
  },
  {
   "cell_type": "code",
   "execution_count": 12,
   "id": "338f3f72-ede7-4ed2-b1ae-fca375397cb1",
   "metadata": {
    "tags": []
   },
   "outputs": [
    {
     "data": {
      "text/plain": [
       "[]"
      ]
     },
     "execution_count": 12,
     "metadata": {},
     "output_type": "execute_result"
    }
   ],
   "source": [
    "lst[-5:-3:-2]"
   ]
  },
  {
   "cell_type": "code",
   "execution_count": 13,
   "id": "baa16805-6e58-497f-9bbf-eecd083a8ddc",
   "metadata": {
    "tags": []
   },
   "outputs": [
    {
     "data": {
      "text/plain": [
       "['Data']"
      ]
     },
     "execution_count": 13,
     "metadata": {},
     "output_type": "execute_result"
    }
   ],
   "source": [
    "lst[-3:-5:-2]"
   ]
  },
  {
   "cell_type": "code",
   "execution_count": 14,
   "id": "26fd86f3-985e-4ec9-8a4e-5cc12ee73980",
   "metadata": {
    "tags": []
   },
   "outputs": [
    {
     "data": {
      "text/plain": [
       "['Data', 'Skills']"
      ]
     },
     "execution_count": 14,
     "metadata": {},
     "output_type": "execute_result"
    }
   ],
   "source": [
    "lst[-3:-5:-1]"
   ]
  },
  {
   "cell_type": "markdown",
   "id": "aef66277-7f51-4766-82d6-0675735d1c7e",
   "metadata": {},
   "source": [
    "# Concatination\n"
   ]
  },
  {
   "cell_type": "code",
   "execution_count": 15,
   "id": "5d14c972-6ae1-4392-a25b-92b73bd1b9ca",
   "metadata": {
    "tags": []
   },
   "outputs": [
    {
     "data": {
      "text/plain": [
       "['PW', 'Skills', 'Data', 'Science', 'Masters', 1, 'Shri']"
      ]
     },
     "execution_count": 15,
     "metadata": {},
     "output_type": "execute_result"
    }
   ],
   "source": [
    "lst+[1,\"Shri\"]"
   ]
  },
  {
   "cell_type": "code",
   "execution_count": 16,
   "id": "15f1cdde-04ba-48cb-8c72-902410dba2ed",
   "metadata": {
    "tags": []
   },
   "outputs": [
    {
     "data": {
      "text/plain": [
       "['PW', 'Skills', 'Data', 'Science', 'Masters', ['g', 'r']]"
      ]
     },
     "execution_count": 16,
     "metadata": {},
     "output_type": "execute_result"
    }
   ],
   "source": [
    "lst+[[\"g\", \"r\"]]"
   ]
  },
  {
   "cell_type": "code",
   "execution_count": 17,
   "id": "81233b5b-9ed2-4fc0-a5d7-88416ea21f71",
   "metadata": {
    "tags": []
   },
   "outputs": [],
   "source": [
    "list1=[1,2,3]"
   ]
  },
  {
   "cell_type": "code",
   "execution_count": 18,
   "id": "3afd7711-4c5b-42c1-9e9b-d9b81f529a4a",
   "metadata": {
    "tags": []
   },
   "outputs": [
    {
     "data": {
      "text/plain": [
       "[1, 2, 3, 1, 2, 3]"
      ]
     },
     "execution_count": 18,
     "metadata": {},
     "output_type": "execute_result"
    }
   ],
   "source": [
    "list1*2"
   ]
  },
  {
   "cell_type": "code",
   "execution_count": 19,
   "id": "d3e39cb9-3ff0-4737-b5ae-7763ec183f27",
   "metadata": {
    "tags": []
   },
   "outputs": [
    {
     "name": "stdout",
     "output_type": "stream",
     "text": [
      "PW IS THERE\n",
      "Skills IS THERE\n",
      "Data IS THERE\n",
      "Science IS THERE\n",
      "Masters IS THERE\n"
     ]
    }
   ],
   "source": [
    "for i in lst:\n",
    "    if i in lst:\n",
    "        print(i, 'IS THERE')"
   ]
  },
  {
   "cell_type": "code",
   "execution_count": 24,
   "id": "db4ac410-49ee-468d-970f-7c4a4b39f7d5",
   "metadata": {
    "tags": []
   },
   "outputs": [
    {
     "name": "stdout",
     "output_type": "stream",
     "text": [
      "Science is there\n"
     ]
    }
   ],
   "source": [
    "word=\"Science\"\n",
    "\n",
    "for i in lst:\n",
    "    if word in lst:\n",
    "        print(word ,\"is there\")\n",
    "        break\n",
    "     "
   ]
  },
  {
   "cell_type": "code",
   "execution_count": 26,
   "id": "f0ff99a8-cf8b-4c70-bbcb-a649fd96df27",
   "metadata": {
    "tags": []
   },
   "outputs": [
    {
     "name": "stdout",
     "output_type": "stream",
     "text": [
      "Present\n"
     ]
    }
   ],
   "source": [
    "if \"Science\" in lst:\n",
    "    print(\"Present\")"
   ]
  },
  {
   "cell_type": "code",
   "execution_count": 27,
   "id": "a156ff35-3ee1-42e1-9c9f-c274d5e5dad7",
   "metadata": {
    "tags": []
   },
   "outputs": [],
   "source": [
    "list2=[1,2,3,4]"
   ]
  },
  {
   "cell_type": "code",
   "execution_count": 28,
   "id": "9e463f57-f913-43a7-9619-3df0947bf04a",
   "metadata": {
    "tags": []
   },
   "outputs": [
    {
     "data": {
      "text/plain": [
       "True"
      ]
     },
     "execution_count": 28,
     "metadata": {},
     "output_type": "execute_result"
    }
   ],
   "source": [
    "4 in list2"
   ]
  },
  {
   "cell_type": "code",
   "execution_count": 29,
   "id": "df471e89-968f-4cfa-80a2-bb953e812b7a",
   "metadata": {
    "tags": []
   },
   "outputs": [
    {
     "data": {
      "text/plain": [
       "False"
      ]
     },
     "execution_count": 29,
     "metadata": {},
     "output_type": "execute_result"
    }
   ],
   "source": [
    "5 in list2"
   ]
  },
  {
   "cell_type": "code",
   "execution_count": 30,
   "id": "fd99a738-9073-4e9e-b04d-9f9226ded0e5",
   "metadata": {
    "tags": []
   },
   "outputs": [
    {
     "name": "stdout",
     "output_type": "stream",
     "text": [
      "4\n"
     ]
    }
   ],
   "source": [
    "print(max(list2))"
   ]
  },
  {
   "cell_type": "code",
   "execution_count": 31,
   "id": "5acc82b2-0b08-46c1-b56d-92272d314185",
   "metadata": {
    "tags": []
   },
   "outputs": [
    {
     "name": "stdout",
     "output_type": "stream",
     "text": [
      "1\n"
     ]
    }
   ],
   "source": [
    "print(min(list2))"
   ]
  },
  {
   "cell_type": "markdown",
   "id": "a279472d-7a3b-4717-b1d2-dad248862e9f",
   "metadata": {},
   "source": [
    "# Apppend\n"
   ]
  },
  {
   "cell_type": "code",
   "execution_count": 32,
   "id": "009bdff8-c5c2-4aa1-b789-87f992d9e50a",
   "metadata": {
    "tags": []
   },
   "outputs": [],
   "source": [
    "list4=[1,2,3,4]"
   ]
  },
  {
   "cell_type": "code",
   "execution_count": 33,
   "id": "80f2245e-85c3-4864-9a00-6ca609f42371",
   "metadata": {
    "tags": []
   },
   "outputs": [],
   "source": [
    "list4.append(5)"
   ]
  },
  {
   "cell_type": "code",
   "execution_count": 34,
   "id": "d491693c-e062-4ba5-b627-438ccf6956d0",
   "metadata": {
    "tags": []
   },
   "outputs": [
    {
     "data": {
      "text/plain": [
       "[1, 2, 3, 4, 5]"
      ]
     },
     "execution_count": 34,
     "metadata": {},
     "output_type": "execute_result"
    }
   ],
   "source": [
    "list4"
   ]
  },
  {
   "cell_type": "code",
   "execution_count": 35,
   "id": "99e393a7-daa1-4ef4-b3f2-f456ea6bcaa3",
   "metadata": {
    "tags": []
   },
   "outputs": [
    {
     "data": {
      "text/plain": [
       "5"
      ]
     },
     "execution_count": 35,
     "metadata": {},
     "output_type": "execute_result"
    }
   ],
   "source": [
    "list4.pop()"
   ]
  },
  {
   "cell_type": "code",
   "execution_count": 37,
   "id": "eff3103e-b0af-4367-8733-0a3308410942",
   "metadata": {
    "tags": []
   },
   "outputs": [
    {
     "data": {
      "text/plain": [
       "[1, 2, 4]"
      ]
     },
     "execution_count": 37,
     "metadata": {},
     "output_type": "execute_result"
    }
   ],
   "source": [
    "list4"
   ]
  },
  {
   "cell_type": "code",
   "execution_count": 48,
   "id": "3d148903-0f0c-42fc-82c0-68f2bfa886b5",
   "metadata": {
    "tags": []
   },
   "outputs": [],
   "source": [
    "list5=[1,2,3,4,5,6,7]\n",
    "## if we want to add more than 1 element at a time\n",
    "list5.extend([8,9,10])"
   ]
  },
  {
   "cell_type": "code",
   "execution_count": 49,
   "id": "85dc5ca0-871e-410c-8d09-4a9dcfc45cfe",
   "metadata": {
    "tags": []
   },
   "outputs": [
    {
     "data": {
      "text/plain": [
       "[1, 2, 3, 4, 5, 6, 7, 8, 9, 10]"
      ]
     },
     "execution_count": 49,
     "metadata": {},
     "output_type": "execute_result"
    }
   ],
   "source": [
    "list5"
   ]
  },
  {
   "cell_type": "code",
   "execution_count": 50,
   "id": "525849fd-0b57-4093-8044-a032c1d6a85b",
   "metadata": {
    "tags": []
   },
   "outputs": [
    {
     "data": {
      "text/plain": [
       "4"
      ]
     },
     "execution_count": 50,
     "metadata": {},
     "output_type": "execute_result"
    }
   ],
   "source": [
    "list5.pop(3)  # pop through index"
   ]
  },
  {
   "cell_type": "code",
   "execution_count": 51,
   "id": "58b4679b-3226-47af-84f6-d018e664791b",
   "metadata": {
    "tags": []
   },
   "outputs": [],
   "source": [
    "a=list5.pop()"
   ]
  },
  {
   "cell_type": "code",
   "execution_count": 52,
   "id": "d20da3ac-b951-4825-a487-76fe7ebe5ce0",
   "metadata": {
    "tags": []
   },
   "outputs": [
    {
     "data": {
      "text/plain": [
       "10"
      ]
     },
     "execution_count": 52,
     "metadata": {},
     "output_type": "execute_result"
    }
   ],
   "source": [
    "a"
   ]
  },
  {
   "cell_type": "markdown",
   "id": "ef5f9193-b38b-43b0-807b-c8c69287d070",
   "metadata": {
    "tags": []
   },
   "source": [
    "# Sorting"
   ]
  },
  {
   "cell_type": "code",
   "execution_count": 38,
   "id": "60029476-2e4e-499d-8e44-77c6b18c85be",
   "metadata": {
    "tags": []
   },
   "outputs": [],
   "source": [
    "a=list4.pop(0)"
   ]
  },
  {
   "cell_type": "code",
   "execution_count": 39,
   "id": "bd5bc66d-7241-4f95-905b-406e4e5e29b6",
   "metadata": {
    "tags": []
   },
   "outputs": [
    {
     "data": {
      "text/plain": [
       "1"
      ]
     },
     "execution_count": 39,
     "metadata": {},
     "output_type": "execute_result"
    }
   ],
   "source": [
    "a"
   ]
  },
  {
   "cell_type": "code",
   "execution_count": 40,
   "id": "d97e0199-d1d3-4aa4-8b06-8a81d2563154",
   "metadata": {
    "tags": []
   },
   "outputs": [],
   "source": [
    "new_list=[4,6,8,9,10]"
   ]
  },
  {
   "cell_type": "code",
   "execution_count": 41,
   "id": "5e515d16-b775-4131-a8fa-27ac5224234f",
   "metadata": {
    "tags": []
   },
   "outputs": [],
   "source": [
    "new_list.reverse() # Inplace oparation"
   ]
  },
  {
   "cell_type": "code",
   "execution_count": 42,
   "id": "5cfe8220-e352-4752-ae01-0fbbd8ef614c",
   "metadata": {
    "tags": []
   },
   "outputs": [
    {
     "data": {
      "text/plain": [
       "[10, 9, 8, 6, 4]"
      ]
     },
     "execution_count": 42,
     "metadata": {},
     "output_type": "execute_result"
    }
   ],
   "source": [
    "new_list"
   ]
  },
  {
   "cell_type": "code",
   "execution_count": 43,
   "id": "4f871f19-ee79-4b0f-beb7-df8e38773e7b",
   "metadata": {
    "tags": []
   },
   "outputs": [],
   "source": [
    "new_list.sort() # inplace because original list gets updated"
   ]
  },
  {
   "cell_type": "code",
   "execution_count": 44,
   "id": "f75a26cc-3858-40d2-9d81-a706162e497d",
   "metadata": {
    "tags": []
   },
   "outputs": [
    {
     "data": {
      "text/plain": [
       "[4, 6, 8, 9, 10]"
      ]
     },
     "execution_count": 44,
     "metadata": {},
     "output_type": "execute_result"
    }
   ],
   "source": [
    "new_list"
   ]
  },
  {
   "cell_type": "markdown",
   "id": "d2986ad0-ccc8-47de-b2b3-237520430e4f",
   "metadata": {},
   "source": [
    "#  Nested List"
   ]
  },
  {
   "cell_type": "code",
   "execution_count": 53,
   "id": "64eabcdf-e872-4ee9-98af-4e4e49a3a486",
   "metadata": {
    "tags": []
   },
   "outputs": [],
   "source": [
    "l1=[1,2,3]\n",
    "l2=[5,6,7]\n",
    "l3=[8,9,10]\n",
    "\n",
    "\n",
    "matrix=[l1,l2,l3]"
   ]
  },
  {
   "cell_type": "code",
   "execution_count": 54,
   "id": "aac3f696-2fa4-46c6-acbd-a2a14737e656",
   "metadata": {
    "tags": []
   },
   "outputs": [
    {
     "data": {
      "text/plain": [
       "[[1, 2, 3], [5, 6, 7], [8, 9, 10]]"
      ]
     },
     "execution_count": 54,
     "metadata": {},
     "output_type": "execute_result"
    }
   ],
   "source": [
    "matrix"
   ]
  },
  {
   "cell_type": "code",
   "execution_count": 55,
   "id": "ff6516b4-8d9c-4e19-aeed-b34643964473",
   "metadata": {
    "tags": []
   },
   "outputs": [
    {
     "data": {
      "text/plain": [
       "[5, 6, 7]"
      ]
     },
     "execution_count": 55,
     "metadata": {},
     "output_type": "execute_result"
    }
   ],
   "source": [
    "matrix[1]"
   ]
  },
  {
   "cell_type": "code",
   "execution_count": 57,
   "id": "27c013c9-5716-4b74-8e68-736928452581",
   "metadata": {
    "tags": []
   },
   "outputs": [
    {
     "data": {
      "text/plain": [
       "[6, 7]"
      ]
     },
     "execution_count": 57,
     "metadata": {},
     "output_type": "execute_result"
    }
   ],
   "source": [
    "matrix[1][1:]"
   ]
  },
  {
   "cell_type": "code",
   "execution_count": 58,
   "id": "7b085375-b59d-40b9-a1a8-4f2535d94f30",
   "metadata": {
    "tags": []
   },
   "outputs": [
    {
     "data": {
      "text/plain": [
       "[1, 2, 3, 4, 5, 6, 7, 8, 9, 10, 11, 12, 13, 14, 15, 16, 17, 18, 19, 20]"
      ]
     },
     "execution_count": 58,
     "metadata": {},
     "output_type": "execute_result"
    }
   ],
   "source": [
    "[i for i in range(1,21)]"
   ]
  },
  {
   "cell_type": "code",
   "execution_count": 59,
   "id": "e54c1f1e-3787-4e5c-b7e8-118bbc95a8ae",
   "metadata": {
    "tags": []
   },
   "outputs": [
    {
     "data": {
      "text/plain": [
       "['Odd',\n",
       " 2,\n",
       " 'Odd',\n",
       " 4,\n",
       " 'Odd',\n",
       " 6,\n",
       " 'Odd',\n",
       " 8,\n",
       " 'Odd',\n",
       " 10,\n",
       " 'Odd',\n",
       " 12,\n",
       " 'Odd',\n",
       " 14,\n",
       " 'Odd',\n",
       " 16,\n",
       " 'Odd',\n",
       " 18,\n",
       " 'Odd',\n",
       " 20]"
      ]
     },
     "execution_count": 59,
     "metadata": {},
     "output_type": "execute_result"
    }
   ],
   "source": [
    "[i if  i%2==0 else \"Odd\"for i in range(1,21)]"
   ]
  },
  {
   "cell_type": "code",
   "execution_count": 62,
   "id": "d162b8d9-b087-46c8-a527-5202965aa010",
   "metadata": {
    "tags": []
   },
   "outputs": [
    {
     "name": "stdout",
     "output_type": "stream",
     "text": [
      "4\n",
      "6\n"
     ]
    }
   ],
   "source": [
    "list_a=[1,2,3,4]\n",
    "odd=0\n",
    "sum=0\n",
    "for i in list_a:\n",
    "    if i%2==0:\n",
    "        sum+=i\n",
    "    else: \n",
    "        odd+=i\n",
    "        \n",
    "print(odd)\n",
    "print(sum)"
   ]
  },
  {
   "cell_type": "code",
   "execution_count": 64,
   "id": "d7937bde-c94c-45e2-b26b-6448a56cbb10",
   "metadata": {
    "tags": []
   },
   "outputs": [
    {
     "data": {
      "text/plain": [
       "[1, 4, 9, 16, 25, 36, 49, 64, 81]"
      ]
     },
     "execution_count": 64,
     "metadata": {},
     "output_type": "execute_result"
    }
   ],
   "source": [
    "[i*i for i in range(1,10)]"
   ]
  },
  {
   "cell_type": "code",
   "execution_count": 68,
   "id": "f631427a-1c9b-4206-848b-8494ff460352",
   "metadata": {
    "tags": []
   },
   "outputs": [
    {
     "data": {
      "text/plain": [
       "['A', 'B', 'O']"
      ]
     },
     "execution_count": 68,
     "metadata": {},
     "output_type": "execute_result"
    }
   ],
   "source": [
    "# Create list of only first letters in a list\n",
    "words=[\"Apple\",\"Bananaa\",\"Orange\"]\n",
    "[w[0] for w in words]"
   ]
  },
  {
   "cell_type": "code",
   "execution_count": 70,
   "id": "58777f9a-f572-4a20-873a-ba9fb24081d3",
   "metadata": {
    "tags": []
   },
   "outputs": [
    {
     "data": {
      "text/plain": [
       "[68.0, 104.0, 86.0, 122.0, 140.0]"
      ]
     },
     "execution_count": 70,
     "metadata": {},
     "output_type": "execute_result"
    }
   ],
   "source": [
    "# temp to farenihieat from list\n",
    "temperature=[20,40,30,50,60]\n",
    "[(9/5)*t+32 for t in temperature]"
   ]
  },
  {
   "cell_type": "code",
   "execution_count": 73,
   "id": "5849916d-c0ab-405c-8304-f30d1fb57d28",
   "metadata": {
    "tags": []
   },
   "outputs": [
    {
     "data": {
      "text/plain": [
       "[1, 2, 3, 4, 5, 6, 7, 8, 9]"
      ]
     },
     "execution_count": 73,
     "metadata": {},
     "output_type": "execute_result"
    }
   ],
   "source": [
    "# Flatten list into singlelist using list comprehension\n",
    "lists=[[1,2,3],[4,5,6],[7,8,9]]\n",
    "[num for sublist in lists for num in sublist]"
   ]
  },
  {
   "cell_type": "code",
   "execution_count": null,
   "id": "4761521e-5846-4c07-834b-e7fb224a886d",
   "metadata": {},
   "outputs": [],
   "source": []
  }
 ],
 "metadata": {
  "kernelspec": {
   "display_name": "Python 3 (ipykernel)",
   "language": "python",
   "name": "python3"
  },
  "language_info": {
   "codemirror_mode": {
    "name": "ipython",
    "version": 3
   },
   "file_extension": ".py",
   "mimetype": "text/x-python",
   "name": "python",
   "nbconvert_exporter": "python",
   "pygments_lexer": "ipython3",
   "version": "3.11.3"
  }
 },
 "nbformat": 4,
 "nbformat_minor": 5
}
