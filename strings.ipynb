{
 "cells": [
  {
   "cell_type": "code",
   "execution_count": 2,
   "id": "b5677192-4fd0-425c-80a9-dbc232ebdff0",
   "metadata": {
    "tags": []
   },
   "outputs": [
    {
     "data": {
      "text/plain": [
       "'ta Science'"
      ]
     },
     "execution_count": 2,
     "metadata": {},
     "output_type": "execute_result"
    }
   ],
   "source": [
    "s=\"PW Data Science\"\n",
    " \n",
    "s[5:]"
   ]
  },
  {
   "cell_type": "code",
   "execution_count": 5,
   "id": "0e689343-b030-4ac0-99b8-65d18bf81ab6",
   "metadata": {
    "tags": []
   },
   "outputs": [
    {
     "data": {
      "text/plain": [
       "'t'"
      ]
     },
     "execution_count": 5,
     "metadata": {},
     "output_type": "execute_result"
    }
   ],
   "source": [
    "s[5]"
   ]
  },
  {
   "cell_type": "code",
   "execution_count": 6,
   "id": "0acd0e4a-df26-481e-9a73-d225afc68402",
   "metadata": {
    "tags": []
   },
   "outputs": [
    {
     "data": {
      "text/plain": [
       "'ta S'"
      ]
     },
     "execution_count": 6,
     "metadata": {},
     "output_type": "execute_result"
    }
   ],
   "source": [
    "s[5:9]"
   ]
  },
  {
   "cell_type": "code",
   "execution_count": 7,
   "id": "a8776358-f9ac-4294-bc95-fb9146299db3",
   "metadata": {
    "tags": []
   },
   "outputs": [
    {
     "data": {
      "text/plain": [
       "'ecneicS ataD WP'"
      ]
     },
     "execution_count": 7,
     "metadata": {},
     "output_type": "execute_result"
    }
   ],
   "source": [
    "s[::-1]"
   ]
  },
  {
   "cell_type": "code",
   "execution_count": 3,
   "id": "2aca99c1-a7ff-4f5e-92c8-b8216a13a6f5",
   "metadata": {},
   "outputs": [
    {
     "data": {
      "text/plain": [
       "'eniSaa P'"
      ]
     },
     "execution_count": 3,
     "metadata": {},
     "output_type": "execute_result"
    }
   ],
   "source": [
    "s[::-2]"
   ]
  },
  {
   "cell_type": "code",
   "execution_count": 8,
   "id": "8f051b20-c49a-446f-9daa-3894bedbc8e2",
   "metadata": {
    "tags": []
   },
   "outputs": [
    {
     "data": {
      "text/plain": [
       "' at'"
      ]
     },
     "execution_count": 8,
     "metadata": {},
     "output_type": "execute_result"
    }
   ],
   "source": [
    "s[7:4:-1]"
   ]
  },
  {
   "cell_type": "code",
   "execution_count": 14,
   "id": "e0d8c2fd-a598-48e3-9f31-34198e82d8fd",
   "metadata": {
    "tags": []
   },
   "outputs": [
    {
     "data": {
      "text/plain": [
       "''"
      ]
     },
     "execution_count": 14,
     "metadata": {},
     "output_type": "execute_result"
    }
   ],
   "source": [
    "s[4:7:-1]"
   ]
  },
  {
   "cell_type": "code",
   "execution_count": 9,
   "id": "4831ee87-fedb-46e6-9b63-b59d1b5cc844",
   "metadata": {
    "tags": []
   },
   "outputs": [],
   "source": [
    "s=\"Shrivarsha\"\n"
   ]
  },
  {
   "cell_type": "code",
   "execution_count": 12,
   "id": "6a6f92e8-3404-4b1e-b013-4fe7c9aac5fb",
   "metadata": {
    "tags": []
   },
   "outputs": [
    {
     "data": {
      "text/plain": [
       "''"
      ]
     },
     "execution_count": 12,
     "metadata": {},
     "output_type": "execute_result"
    }
   ],
   "source": [
    "s[4:7:-1]"
   ]
  },
  {
   "cell_type": "code",
   "execution_count": 11,
   "id": "6ac37ef2-3625-4fa3-ab3d-9956c2e1d5bf",
   "metadata": {
    "tags": []
   },
   "outputs": [
    {
     "data": {
      "text/plain": [
       "''"
      ]
     },
     "execution_count": 11,
     "metadata": {},
     "output_type": "execute_result"
    }
   ],
   "source": [
    "s[7:4:1]"
   ]
  },
  {
   "cell_type": "code",
   "execution_count": 13,
   "id": "ce379f78-8927-48d9-acf5-cbb7588b8540",
   "metadata": {
    "tags": []
   },
   "outputs": [
    {
     "data": {
      "text/plain": [
       "1"
      ]
     },
     "execution_count": 13,
     "metadata": {},
     "output_type": "execute_result"
    }
   ],
   "source": [
    "s.find(\"h\")"
   ]
  },
  {
   "cell_type": "code",
   "execution_count": 15,
   "id": "99ccd1cd-57f1-4dec-ac3c-671606e79778",
   "metadata": {
    "tags": []
   },
   "outputs": [
    {
     "data": {
      "text/plain": [
       "2"
      ]
     },
     "execution_count": 15,
     "metadata": {},
     "output_type": "execute_result"
    }
   ],
   "source": [
    "s.find(\"r\",2,3)"
   ]
  },
  {
   "cell_type": "code",
   "execution_count": 18,
   "id": "b3a7a2d2-16e5-44e4-8ab0-192c995679c7",
   "metadata": {
    "tags": []
   },
   "outputs": [
    {
     "data": {
      "text/plain": [
       "6"
      ]
     },
     "execution_count": 18,
     "metadata": {},
     "output_type": "execute_result"
    }
   ],
   "source": [
    "s.find(\"r\",3,7)"
   ]
  },
  {
   "cell_type": "code",
   "execution_count": 19,
   "id": "316deba7-9402-4955-95ed-f34164614746",
   "metadata": {
    "tags": []
   },
   "outputs": [
    {
     "data": {
      "text/plain": [
       "1"
      ]
     },
     "execution_count": 19,
     "metadata": {},
     "output_type": "execute_result"
    }
   ],
   "source": [
    "s.count(\"s\")"
   ]
  },
  {
   "cell_type": "code",
   "execution_count": 20,
   "id": "982029b3-1692-4c2a-a478-f5bfd639aa93",
   "metadata": {
    "tags": []
   },
   "outputs": [
    {
     "data": {
      "text/plain": [
       "2"
      ]
     },
     "execution_count": 20,
     "metadata": {},
     "output_type": "execute_result"
    }
   ],
   "source": [
    "s.count('a')"
   ]
  },
  {
   "cell_type": "code",
   "execution_count": 21,
   "id": "b8ccb0fe-adca-4d60-b5f6-9b0953ec2e27",
   "metadata": {
    "tags": []
   },
   "outputs": [],
   "source": [
    "a=\"Data Science Masters\""
   ]
  },
  {
   "cell_type": "code",
   "execution_count": 23,
   "id": "ba728678-dbce-478f-b6e4-c91c234d44a2",
   "metadata": {
    "tags": []
   },
   "outputs": [
    {
     "data": {
      "text/plain": [
       "['Data', 'Science', 'Masters']"
      ]
     },
     "execution_count": 23,
     "metadata": {},
     "output_type": "execute_result"
    }
   ],
   "source": [
    "a.split(\" \")"
   ]
  },
  {
   "cell_type": "code",
   "execution_count": 24,
   "id": "428de0b4-eec2-4612-a081-ab214807043a",
   "metadata": {
    "tags": []
   },
   "outputs": [
    {
     "data": {
      "text/plain": [
       "['Data Science Ma', 'ter', '']"
      ]
     },
     "execution_count": 24,
     "metadata": {},
     "output_type": "execute_result"
    }
   ],
   "source": [
    "a.split('s')"
   ]
  },
  {
   "cell_type": "code",
   "execution_count": 26,
   "id": "2ae31fbb-460e-4373-bc7a-38af8cf7596a",
   "metadata": {
    "tags": []
   },
   "outputs": [
    {
     "data": {
      "text/plain": [
       "('Data Science Ma', 's', 'ters')"
      ]
     },
     "execution_count": 26,
     "metadata": {},
     "output_type": "execute_result"
    }
   ],
   "source": [
    "a.partition('s')"
   ]
  },
  {
   "cell_type": "code",
   "execution_count": 27,
   "id": "79e31765-9944-4acf-98d0-fd52c599dcb3",
   "metadata": {
    "tags": []
   },
   "outputs": [
    {
     "data": {
      "text/plain": [
       "'dATA sCIENCE mASTERS'"
      ]
     },
     "execution_count": 27,
     "metadata": {},
     "output_type": "execute_result"
    }
   ],
   "source": [
    "a.swapcase()"
   ]
  },
  {
   "cell_type": "code",
   "execution_count": 28,
   "id": "40c14a29-ee72-4f28-a2d0-a0fc734d6271",
   "metadata": {
    "tags": []
   },
   "outputs": [
    {
     "data": {
      "text/plain": [
       "'SHRIVARSHA'"
      ]
     },
     "execution_count": 28,
     "metadata": {},
     "output_type": "execute_result"
    }
   ],
   "source": [
    "s.upper()"
   ]
  },
  {
   "cell_type": "code",
   "execution_count": 29,
   "id": "6776bdf1-bb0c-4715-b241-726cf2c24b22",
   "metadata": {
    "tags": []
   },
   "outputs": [
    {
     "data": {
      "text/plain": [
       "'Data Science Masters'"
      ]
     },
     "execution_count": 29,
     "metadata": {},
     "output_type": "execute_result"
    }
   ],
   "source": [
    "a.title()"
   ]
  },
  {
   "cell_type": "code",
   "execution_count": 1,
   "id": "5f324f0d-d562-42a1-b168-7d74a7d6c746",
   "metadata": {},
   "outputs": [],
   "source": [
    "name=\"Data Science Masters\""
   ]
  },
  {
   "cell_type": "code",
   "execution_count": 2,
   "id": "e9a04ea6-7c07-4287-adcc-547971b14632",
   "metadata": {
    "tags": []
   },
   "outputs": [
    {
     "data": {
      "text/plain": [
       "'dATA sCIENCE mASTERS'"
      ]
     },
     "execution_count": 2,
     "metadata": {},
     "output_type": "execute_result"
    }
   ],
   "source": [
    "name.swapcase()"
   ]
  },
  {
   "cell_type": "code",
   "execution_count": 4,
   "id": "17ea3a30-989c-4631-8d70-e5dcc5a8af1c",
   "metadata": {
    "tags": []
   },
   "outputs": [
    {
     "data": {
      "text/plain": [
       "'Data Science Masters'"
      ]
     },
     "execution_count": 4,
     "metadata": {},
     "output_type": "execute_result"
    }
   ],
   "source": [
    "name.title()\n"
   ]
  },
  {
   "cell_type": "code",
   "execution_count": 6,
   "id": "3dd5fd61-3111-421c-aa28-dc281d374e55",
   "metadata": {
    "tags": []
   },
   "outputs": [
    {
     "data": {
      "text/plain": [
       "'Data science masters'"
      ]
     },
     "execution_count": 6,
     "metadata": {},
     "output_type": "execute_result"
    }
   ],
   "source": [
    "name.capitalize()"
   ]
  },
  {
   "cell_type": "code",
   "execution_count": 7,
   "id": "ecf3fd15-47a6-497d-b278-60ef678526c1",
   "metadata": {
    "tags": []
   },
   "outputs": [
    {
     "data": {
      "text/plain": [
       "<reversed at 0x219f9e2b850>"
      ]
     },
     "execution_count": 7,
     "metadata": {},
     "output_type": "execute_result"
    }
   ],
   "source": [
    "reversed(name)"
   ]
  },
  {
   "cell_type": "code",
   "execution_count": 10,
   "id": "e53cfb37-45f2-498e-bd23-461522898433",
   "metadata": {
    "tags": []
   },
   "outputs": [
    {
     "data": {
      "text/plain": [
       "'sretsaM ecneicS ataD'"
      ]
     },
     "execution_count": 10,
     "metadata": {},
     "output_type": "execute_result"
    }
   ],
   "source": [
    "''.join(reversed(name))"
   ]
  },
  {
   "cell_type": "code",
   "execution_count": 12,
   "id": "dc3822ed-31cf-4940-9b1f-958597cb6a9c",
   "metadata": {
    "tags": []
   },
   "outputs": [
    {
     "data": {
      "text/plain": [
       "'a n t'"
      ]
     },
     "execution_count": 12,
     "metadata": {},
     "output_type": "execute_result"
    }
   ],
   "source": [
    "\" \".join(\"ant\")"
   ]
  },
  {
   "cell_type": "code",
   "execution_count": 14,
   "id": "b36bb5e6-e5fb-4edd-9198-636d581700b8",
   "metadata": {
    "tags": []
   },
   "outputs": [
    {
     "data": {
      "text/plain": [
       "'t n a'"
      ]
     },
     "execution_count": 14,
     "metadata": {},
     "output_type": "execute_result"
    }
   ],
   "source": [
    "\" \".join(reversed(\"ant\"))"
   ]
  },
  {
   "cell_type": "code",
   "execution_count": 15,
   "id": "62f1e0a4-0ff0-48ef-bc17-1427da000556",
   "metadata": {
    "tags": []
   },
   "outputs": [
    {
     "data": {
      "text/plain": [
       "'a hi  n hi  t'"
      ]
     },
     "execution_count": 15,
     "metadata": {},
     "output_type": "execute_result"
    }
   ],
   "source": [
    "\" hi  \".join(\"ant\")"
   ]
  },
  {
   "cell_type": "code",
   "execution_count": 16,
   "id": "1b564e2b-696e-4968-870a-2b0a8dc4b57c",
   "metadata": {
    "tags": []
   },
   "outputs": [],
   "source": [
    "str=\"  Shrivarsha   \""
   ]
  },
  {
   "cell_type": "code",
   "execution_count": 17,
   "id": "772804c3-cd9b-4389-bd99-258ec59407c8",
   "metadata": {
    "tags": []
   },
   "outputs": [
    {
     "data": {
      "text/plain": [
       "'Shrivarsha'"
      ]
     },
     "execution_count": 17,
     "metadata": {},
     "output_type": "execute_result"
    }
   ],
   "source": [
    "str.strip()"
   ]
  },
  {
   "cell_type": "code",
   "execution_count": 18,
   "id": "b1d2f153-050b-48b0-bd22-dc9795bdaa21",
   "metadata": {
    "tags": []
   },
   "outputs": [],
   "source": [
    "n=\"Hello Shri\""
   ]
  },
  {
   "cell_type": "code",
   "execution_count": 19,
   "id": "7c0abc28-2ed2-4694-adff-47f3f01de487",
   "metadata": {
    "tags": []
   },
   "outputs": [
    {
     "data": {
      "text/plain": [
       "'HI Shri'"
      ]
     },
     "execution_count": 19,
     "metadata": {},
     "output_type": "execute_result"
    }
   ],
   "source": [
    "n.replace(\"Hello\" ,\"HI\")\n",
    "\n"
   ]
  },
  {
   "cell_type": "markdown",
   "id": "9ebc5f37-9064-47b5-9880-2684ab2a1781",
   "metadata": {
    "tags": []
   },
   "source": [
    "#Replace Method returns new string not alters existing string\n"
   ]
  },
  {
   "cell_type": "code",
   "execution_count": 25,
   "id": "681ce655-54b6-464e-a102-76c05b971272",
   "metadata": {
    "tags": []
   },
   "outputs": [
    {
     "data": {
      "text/plain": [
       "'HEllo Shri'"
      ]
     },
     "execution_count": 25,
     "metadata": {},
     "output_type": "execute_result"
    }
   ],
   "source": [
    "n.replace(\"e\",\"E\")"
   ]
  },
  {
   "cell_type": "code",
   "execution_count": 26,
   "id": "4fab1df4-5fcf-471f-a26f-ac8f385a9bcb",
   "metadata": {
    "tags": []
   },
   "outputs": [
    {
     "data": {
      "text/plain": [
       "'Hello Shri'"
      ]
     },
     "execution_count": 26,
     "metadata": {},
     "output_type": "execute_result"
    }
   ],
   "source": [
    "n"
   ]
  },
  {
   "cell_type": "code",
   "execution_count": 30,
   "id": "2ffd16a8-0416-4628-9446-4b3381bb8a95",
   "metadata": {
    "tags": []
   },
   "outputs": [
    {
     "data": {
      "text/plain": [
       "'Testgmail.com'"
      ]
     },
     "execution_count": 30,
     "metadata": {},
     "output_type": "execute_result"
    }
   ],
   "source": [
    "e=\"Test@gmail.com\"\n",
    "a=e.replace(\"@\",\"\")\n",
    "a\n"
   ]
  },
  {
   "cell_type": "code",
   "execution_count": 31,
   "id": "9776b108-3565-46c5-8397-52310c4e4f7c",
   "metadata": {
    "tags": []
   },
   "outputs": [
    {
     "data": {
      "text/plain": [
       "'Test@gmail.com'"
      ]
     },
     "execution_count": 31,
     "metadata": {},
     "output_type": "execute_result"
    }
   ],
   "source": [
    "e"
   ]
  },
  {
   "cell_type": "code",
   "execution_count": 32,
   "id": "7457fe8d-3526-4fe7-910c-481de1899979",
   "metadata": {
    "tags": []
   },
   "outputs": [],
   "source": [
    "str1 =\"Welcome to pwskills.Welcome to Dat cience Masters\""
   ]
  },
  {
   "cell_type": "markdown",
   "id": "754bd86b-baed-49fa-bbca-ef64bf05ab2b",
   "metadata": {
    "tags": []
   },
   "source": [
    "str1.replace(\"Dat cience\", \"Data Science\")"
   ]
  },
  {
   "cell_type": "markdown",
   "id": "14fc718b-f259-415e-9c6d-5b7487d12ba8",
   "metadata": {},
   "source": [
    "### print vowel in sting"
   ]
  },
  {
   "cell_type": "code",
   "execution_count": 35,
   "id": "547bdbce-6516-497a-9740-018880c28fa2",
   "metadata": {
    "tags": []
   },
   "outputs": [
    {
     "name": "stdout",
     "output_type": "stream",
     "text": [
      "i a a "
     ]
    }
   ],
   "source": [
    "name=\"Shrivarsha\"\n",
    "vowel=\"AEIOUaeiou\"\n",
    "for ch in name:\n",
    "    if ch in vowel:\n",
    "        print(ch,end=' ')"
   ]
  },
  {
   "cell_type": "markdown",
   "id": "69c3c540-300f-40cd-bf66-eec25a13166f",
   "metadata": {},
   "source": [
    "### LISTS"
   ]
  },
  {
   "cell_type": "raw",
   "id": "81d1ee88-688f-4bd4-9e23-786b368f6249",
   "metadata": {},
   "source": []
  },
  {
   "cell_type": "code",
   "execution_count": null,
   "id": "e1f75aff-3fdd-4cfa-b31a-50bf7e427744",
   "metadata": {},
   "outputs": [],
   "source": []
  },
  {
   "cell_type": "code",
   "execution_count": null,
   "id": "80395b43-cfb3-476e-a4e2-7366403782aa",
   "metadata": {},
   "outputs": [],
   "source": []
  }
 ],
 "metadata": {
  "kernelspec": {
   "display_name": "Python 3 (ipykernel)",
   "language": "python",
   "name": "python3"
  },
  "language_info": {
   "codemirror_mode": {
    "name": "ipython",
    "version": 3
   },
   "file_extension": ".py",
   "mimetype": "text/x-python",
   "name": "python",
   "nbconvert_exporter": "python",
   "pygments_lexer": "ipython3",
   "version": "3.11.3"
  }
 },
 "nbformat": 4,
 "nbformat_minor": 5
}
