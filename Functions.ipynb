{
 "cells": [
  {
   "cell_type": "code",
   "execution_count": 1,
   "id": "d937dce5-2857-4658-9d9c-4edca8064c6e",
   "metadata": {
    "tags": []
   },
   "outputs": [],
   "source": [
    "def test():\n",
    "    print(\"Test fun\")"
   ]
  },
  {
   "cell_type": "code",
   "execution_count": 2,
   "id": "c7444101-c98a-4f85-8516-2addc9363b49",
   "metadata": {
    "tags": []
   },
   "outputs": [
    {
     "name": "stdout",
     "output_type": "stream",
     "text": [
      "Test fun\n"
     ]
    }
   ],
   "source": [
    "test()"
   ]
  },
  {
   "cell_type": "code",
   "execution_count": 4,
   "id": "914d7374-da96-4ca4-87b7-1f38e266d25d",
   "metadata": {
    "tags": []
   },
   "outputs": [],
   "source": [
    "def test1():\n",
    "    pass  # passes entire function definition.. \n",
    "            # if we give pass no need to give any fn definition"
   ]
  },
  {
   "cell_type": "code",
   "execution_count": 6,
   "id": "98986802-86c7-4a2a-9a09-c8eb52d17217",
   "metadata": {
    "tags": []
   },
   "outputs": [
    {
     "name": "stdout",
     "output_type": "stream",
     "text": [
      "Test fun\n"
     ]
    },
    {
     "ename": "TypeError",
     "evalue": "unsupported operand type(s) for +: 'NoneType' and 'str'",
     "output_type": "error",
     "traceback": [
      "\u001b[1;31m---------------------------------------------------------------------------\u001b[0m",
      "\u001b[1;31mTypeError\u001b[0m                                 Traceback (most recent call last)",
      "Cell \u001b[1;32mIn[6], line 2\u001b[0m\n\u001b[0;32m      1\u001b[0m \u001b[38;5;66;03m# print returns none type\u001b[39;00m\n\u001b[1;32m----> 2\u001b[0m test()\u001b[38;5;241m+\u001b[39m\u001b[38;5;124m\"\u001b[39m\u001b[38;5;124mShri\u001b[39m\u001b[38;5;124m\"\u001b[39m\n",
      "\u001b[1;31mTypeError\u001b[0m: unsupported operand type(s) for +: 'NoneType' and 'str'"
     ]
    }
   ],
   "source": [
    "# print returns none type\n",
    "test()+\"Shri\""
   ]
  },
  {
   "cell_type": "code",
   "execution_count": 8,
   "id": "66da4e53-8003-4b2b-901d-7edcea8de237",
   "metadata": {
    "tags": []
   },
   "outputs": [],
   "source": [
    "def test2():\n",
    "    return \"Function with return\""
   ]
  },
  {
   "cell_type": "code",
   "execution_count": 9,
   "id": "26297e5f-af44-4750-af72-2d685f1f67e1",
   "metadata": {
    "tags": []
   },
   "outputs": [
    {
     "data": {
      "text/plain": [
       "'Function with return SHRI'"
      ]
     },
     "execution_count": 9,
     "metadata": {},
     "output_type": "execute_result"
    }
   ],
   "source": [
    "test2()+\" SHRI\""
   ]
  },
  {
   "cell_type": "code",
   "execution_count": 11,
   "id": "6b13ee0e-06c6-49f0-80d9-9d726e596581",
   "metadata": {
    "tags": []
   },
   "outputs": [],
   "source": [
    "# able to get multiple return from a function\n",
    "# it returns a tuple.\n",
    "def test3():\n",
    "    return 1, 2,\"Shri\",True"
   ]
  },
  {
   "cell_type": "code",
   "execution_count": 12,
   "id": "d3c3fdb6-7c60-458b-ac99-b4a4d700c230",
   "metadata": {
    "tags": []
   },
   "outputs": [
    {
     "data": {
      "text/plain": [
       "(1, 2, 'Shri', True)"
      ]
     },
     "execution_count": 12,
     "metadata": {},
     "output_type": "execute_result"
    }
   ],
   "source": [
    "test3()"
   ]
  },
  {
   "cell_type": "code",
   "execution_count": 13,
   "id": "1989dc9e-50ee-4372-a0fc-ab4bfaddb823",
   "metadata": {
    "tags": []
   },
   "outputs": [
    {
     "data": {
      "text/plain": [
       "1"
      ]
     },
     "execution_count": 13,
     "metadata": {},
     "output_type": "execute_result"
    }
   ],
   "source": [
    "test3()[0]"
   ]
  },
  {
   "cell_type": "code",
   "execution_count": 14,
   "id": "96019fb9-a5e0-43e5-8c7b-8ca4f338ccff",
   "metadata": {
    "tags": []
   },
   "outputs": [
    {
     "data": {
      "text/plain": [
       "True"
      ]
     },
     "execution_count": 14,
     "metadata": {},
     "output_type": "execute_result"
    }
   ],
   "source": [
    "test3()[3]"
   ]
  },
  {
   "cell_type": "code",
   "execution_count": 15,
   "id": "00c6f737-b099-406e-9bc0-6261d87226b9",
   "metadata": {
    "tags": []
   },
   "outputs": [],
   "source": [
    "a,b,c,d=test3()"
   ]
  },
  {
   "cell_type": "code",
   "execution_count": 17,
   "id": "a719446f-4e35-41c3-ab7d-83dbc2b8173f",
   "metadata": {
    "tags": []
   },
   "outputs": [
    {
     "data": {
      "text/plain": [
       "1"
      ]
     },
     "execution_count": 17,
     "metadata": {},
     "output_type": "execute_result"
    }
   ],
   "source": [
    "a"
   ]
  },
  {
   "cell_type": "code",
   "execution_count": 18,
   "id": "58f89ad1-9294-46d6-8e76-5716ff509f9b",
   "metadata": {
    "tags": []
   },
   "outputs": [
    {
     "data": {
      "text/plain": [
       "2"
      ]
     },
     "execution_count": 18,
     "metadata": {},
     "output_type": "execute_result"
    }
   ],
   "source": [
    "b"
   ]
  },
  {
   "cell_type": "code",
   "execution_count": 19,
   "id": "4a36b4a0-3b87-4ee8-abab-e16caeba45c3",
   "metadata": {
    "tags": []
   },
   "outputs": [
    {
     "data": {
      "text/plain": [
       "'Shri'"
      ]
     },
     "execution_count": 19,
     "metadata": {},
     "output_type": "execute_result"
    }
   ],
   "source": [
    "c"
   ]
  },
  {
   "cell_type": "code",
   "execution_count": 20,
   "id": "e76473dd-be61-4f40-bf5c-14ad4b756069",
   "metadata": {
    "tags": []
   },
   "outputs": [
    {
     "data": {
      "text/plain": [
       "True"
      ]
     },
     "execution_count": 20,
     "metadata": {},
     "output_type": "execute_result"
    }
   ],
   "source": [
    "d"
   ]
  },
  {
   "cell_type": "code",
   "execution_count": 21,
   "id": "f035471d-3551-489a-ab2c-198b38daabcd",
   "metadata": {
    "tags": []
   },
   "outputs": [
    {
     "data": {
      "text/plain": [
       "(1, 2, 'Shri', True)"
      ]
     },
     "execution_count": 21,
     "metadata": {},
     "output_type": "execute_result"
    }
   ],
   "source": [
    "a,b,c,d"
   ]
  },
  {
   "cell_type": "code",
   "execution_count": 23,
   "id": "b5c58228-16b1-49f1-b8f4-b20af705d43a",
   "metadata": {
    "tags": []
   },
   "outputs": [],
   "source": [
    "def test5(a,b):\n",
    "    c=a+b\n",
    "    return c"
   ]
  },
  {
   "cell_type": "code",
   "execution_count": 24,
   "id": "fb7a0efb-39f0-48f7-82e8-343c799e9a96",
   "metadata": {
    "tags": []
   },
   "outputs": [
    {
     "data": {
      "text/plain": [
       "8"
      ]
     },
     "execution_count": 24,
     "metadata": {},
     "output_type": "execute_result"
    }
   ],
   "source": [
    "test5(3,5)"
   ]
  },
  {
   "cell_type": "code",
   "execution_count": 25,
   "id": "39ff4a12-592b-4c38-a2d6-f6b4b4cc5de5",
   "metadata": {
    "tags": []
   },
   "outputs": [
    {
     "data": {
      "text/plain": [
       "'ShriVarsha'"
      ]
     },
     "execution_count": 25,
     "metadata": {},
     "output_type": "execute_result"
    }
   ],
   "source": [
    "test5(\"Shri\",\"Varsha\")"
   ]
  },
  {
   "cell_type": "code",
   "execution_count": 27,
   "id": "efa69353-d6f3-4c5e-b94c-3673b3b89925",
   "metadata": {
    "tags": []
   },
   "outputs": [
    {
     "data": {
      "text/plain": [
       "[1, 2, 3, 4, 5, 7, 8, 0]"
      ]
     },
     "execution_count": 27,
     "metadata": {},
     "output_type": "execute_result"
    }
   ],
   "source": [
    "test5([1,2,3,4,5],[7,8,0])"
   ]
  },
  {
   "cell_type": "code",
   "execution_count": 28,
   "id": "acc7f47f-cbcb-4a69-a861-d1215a2841ef",
   "metadata": {
    "tags": []
   },
   "outputs": [
    {
     "data": {
      "text/plain": [
       "'PoojariVarsha'"
      ]
     },
     "execution_count": 28,
     "metadata": {},
     "output_type": "execute_result"
    }
   ],
   "source": [
    "test5(b=\"Varsha\", a=\"Poojari\")"
   ]
  },
  {
   "cell_type": "code",
   "execution_count": 39,
   "id": "7eadb925-3cbf-4385-a586-99ae2d7c175c",
   "metadata": {
    "tags": []
   },
   "outputs": [],
   "source": [
    "# create a function to filter out numeric value out of list\n",
    "l=[1,2,4,5,6,\"Shri\"]\n",
    "li=[]\n",
    "def test7(a):\n",
    "    for i in a:\n",
    "        if type(i)==int:\n",
    "           li.append(i)\n",
    "    return li\n",
    "            "
   ]
  },
  {
   "cell_type": "code",
   "execution_count": 40,
   "id": "f47702ec-0147-4b28-bbc7-adb2f6533f5a",
   "metadata": {
    "tags": []
   },
   "outputs": [
    {
     "data": {
      "text/plain": [
       "[1, 2, 4, 5, 6]"
      ]
     },
     "execution_count": 40,
     "metadata": {},
     "output_type": "execute_result"
    }
   ],
   "source": [
    "test7(l)"
   ]
  },
  {
   "cell_type": "code",
   "execution_count": 34,
   "id": "97c2e1da-dc99-49f2-81d0-5cb9d6a3e37c",
   "metadata": {
    "tags": []
   },
   "outputs": [
    {
     "data": {
      "text/plain": [
       "[1, 2, 4, 5, 6]"
      ]
     },
     "execution_count": 34,
     "metadata": {},
     "output_type": "execute_result"
    }
   ],
   "source": []
  },
  {
   "cell_type": "code",
   "execution_count": 49,
   "id": "9fff85cd-9353-4ee1-92b3-dfaf957f5bbe",
   "metadata": {
    "tags": []
   },
   "outputs": [],
   "source": [
    "li1=[]\n",
    "def test8(a):\n",
    "     for i in a:\n",
    "        if type(i)==int:\n",
    "           li1.append(i)\n",
    "        if type(i)==list:\n",
    "            for j in i:\n",
    "                if type(j)==int :\n",
    "                    li1.append(j)\n",
    "     return li1\n",
    "    "
   ]
  },
  {
   "cell_type": "code",
   "execution_count": 50,
   "id": "de87c217-afdd-4167-8211-40fafa4cea68",
   "metadata": {
    "tags": []
   },
   "outputs": [
    {
     "data": {
      "text/plain": [
       "[1, 2, 4, 5, 6, 98, 99, 100]"
      ]
     },
     "execution_count": 50,
     "metadata": {},
     "output_type": "execute_result"
    }
   ],
   "source": [
    "l1=[1,2,4,5,6,\"Shri\",[98,99,100]]\n",
    "test8(l1)"
   ]
  },
  {
   "cell_type": "markdown",
   "id": "440bc6e6-f0b5-481b-af73-d175d6553b5a",
   "metadata": {},
   "source": [
    "\n",
    "\n",
    "# PART2"
   ]
  },
  {
   "cell_type": "code",
   "execution_count": 1,
   "id": "0d7264ea-fb1c-40c2-9001-4ef046c68426",
   "metadata": {
    "tags": []
   },
   "outputs": [],
   "source": [
    "# able to pass any no of args\n",
    "def test9(*args):\n",
    "    return args"
   ]
  },
  {
   "cell_type": "code",
   "execution_count": 2,
   "id": "5babfdad-bfee-45cd-b54e-9c3790f2f178",
   "metadata": {
    "tags": []
   },
   "outputs": [
    {
     "data": {
      "text/plain": [
       "(1,)"
      ]
     },
     "execution_count": 2,
     "metadata": {},
     "output_type": "execute_result"
    }
   ],
   "source": [
    "test9(1)"
   ]
  },
  {
   "cell_type": "code",
   "execution_count": 5,
   "id": "dae81282-0e92-40ac-966c-c68df5eac223",
   "metadata": {
    "tags": []
   },
   "outputs": [
    {
     "data": {
      "text/plain": [
       "('SHri', 1, 3)"
      ]
     },
     "execution_count": 5,
     "metadata": {},
     "output_type": "execute_result"
    }
   ],
   "source": [
    "test9(\"SHri\",1,3)"
   ]
  },
  {
   "cell_type": "code",
   "execution_count": 10,
   "id": "c4b919bd-112d-4e43-a302-7077ba6b103e",
   "metadata": {
    "tags": []
   },
   "outputs": [],
   "source": [
    "def test10(*args , a):\n",
    "        return args ,a"
   ]
  },
  {
   "cell_type": "code",
   "execution_count": 11,
   "id": "06fb61d1-578a-44ff-9516-73cdc6fb9a23",
   "metadata": {
    "tags": []
   },
   "outputs": [
    {
     "data": {
      "text/plain": [
       "((1, 2, 3, 4), 'Shri')"
      ]
     },
     "execution_count": 11,
     "metadata": {},
     "output_type": "execute_result"
    }
   ],
   "source": [
    "test10(1,2,3,4,a=\"Shri\")"
   ]
  },
  {
   "cell_type": "code",
   "execution_count": 13,
   "id": "7417a2fd-9930-47fc-9fe5-5636249e0790",
   "metadata": {
    "tags": []
   },
   "outputs": [],
   "source": [
    "def test11(**keyargs):\n",
    "    return keyargs\n",
    "                       # takes input in the form of key value"
   ]
  },
  {
   "cell_type": "code",
   "execution_count": 14,
   "id": "1199e20f-52fd-4bf5-9600-bb53cb8271ed",
   "metadata": {
    "tags": []
   },
   "outputs": [
    {
     "data": {
      "text/plain": [
       "{}"
      ]
     },
     "execution_count": 14,
     "metadata": {},
     "output_type": "execute_result"
    }
   ],
   "source": [
    "test11()"
   ]
  },
  {
   "cell_type": "code",
   "execution_count": 19,
   "id": "a80494ca-0bcb-46df-b677-621ae2dd3956",
   "metadata": {
    "tags": []
   },
   "outputs": [
    {
     "data": {
      "text/plain": [
       "{'a': 34, 'b': 67, 'c': 'Shri', 'd': (1, 2, 3, 4)}"
      ]
     },
     "execution_count": 19,
     "metadata": {},
     "output_type": "execute_result"
    }
   ],
   "source": [
    "test11(a=34,b=67,c=\"Shri\" , d=(1,2,3,4))"
   ]
  },
  {
   "cell_type": "code",
   "execution_count": 25,
   "id": "41ae1667-967c-420b-b9b8-b2a87cfd220a",
   "metadata": {
    "tags": []
   },
   "outputs": [],
   "source": [
    "def test12(**keyargs):\n",
    "    for i in keyargs:\n",
    "        if type(keyargs[i])==list:\n",
    "                return i , keyargs[i]"
   ]
  },
  {
   "cell_type": "code",
   "execution_count": 26,
   "id": "2c5e9e1c-1e53-4302-a658-777934918454",
   "metadata": {
    "tags": []
   },
   "outputs": [
    {
     "data": {
      "text/plain": [
       "('e', [9, 8, 7, 6, 0])"
      ]
     },
     "execution_count": 26,
     "metadata": {},
     "output_type": "execute_result"
    }
   ],
   "source": [
    "test12(a=34,b=67,c=\"Shri\",d=(1,2,3,4),e=[9,8,7,6,0])"
   ]
  },
  {
   "cell_type": "code",
   "execution_count": 28,
   "id": "1d90ebd3-2fa1-436b-91b1-7f5ad03890da",
   "metadata": {
    "tags": []
   },
   "outputs": [],
   "source": [
    "def test20(*args,**keyargs):\n",
    "    return args,keyargs"
   ]
  },
  {
   "cell_type": "code",
   "execution_count": 29,
   "id": "6663a46d-424c-458a-8728-1ea4e11178b1",
   "metadata": {
    "tags": []
   },
   "outputs": [
    {
     "data": {
      "text/plain": [
       "((2, 3, 4, 5), {'a': 90, 'b': 87})"
      ]
     },
     "execution_count": 29,
     "metadata": {},
     "output_type": "execute_result"
    }
   ],
   "source": [
    "test20(2,3,4,5,a=90,b=87)"
   ]
  },
  {
   "cell_type": "markdown",
   "id": "9007f881-7466-4e3e-83e5-31b37a5b3425",
   "metadata": {},
   "source": [
    "# Generator Function"
   ]
  },
  {
   "cell_type": "code",
   "execution_count": 5,
   "id": "edba8e00-6e88-4cd4-bd8c-02861326373e",
   "metadata": {
    "tags": []
   },
   "outputs": [],
   "source": [
    "#fibonacci Series\n",
    " "
   ]
  },
  {
   "cell_type": "code",
   "execution_count": 10,
   "id": "84a4d68b-d1f5-4390-9ef3-7eda9fc7f644",
   "metadata": {
    "tags": []
   },
   "outputs": [],
   "source": [
    "def test_fib(n):\n",
    "    a,b=0,1\n",
    "    for i in range(n):\n",
    "        yield a\n",
    "        a,b=b,a+b\n",
    "       "
   ]
  },
  {
   "cell_type": "code",
   "execution_count": 8,
   "id": "b010c72f-0069-4ff9-a18f-dfd99bf872d9",
   "metadata": {
    "tags": []
   },
   "outputs": [],
   "source": [
    "# To make generator function to work we have to call it inside forloop"
   ]
  },
  {
   "cell_type": "code",
   "execution_count": 11,
   "id": "01068340-4100-42a4-bcbf-449f275915b1",
   "metadata": {
    "tags": []
   },
   "outputs": [
    {
     "name": "stdout",
     "output_type": "stream",
     "text": [
      "0\n",
      "1\n",
      "2\n",
      "4\n",
      "8\n",
      "16\n",
      "32\n",
      "64\n",
      "128\n",
      "256\n"
     ]
    }
   ],
   "source": [
    "for i in test_fib(10):\n",
    "    print(i)"
   ]
  },
  {
   "cell_type": "markdown",
   "id": "f77b8813-03a2-4efe-87d8-001f6a3313e7",
   "metadata": {},
   "source": [
    "# LAMBDA FUNCTION"
   ]
  },
  {
   "cell_type": "code",
   "execution_count": 12,
   "id": "31694bb7-7f47-40a3-990d-7ae26287d20f",
   "metadata": {
    "tags": []
   },
   "outputs": [],
   "source": [
    "a= lambda n,p:n**p"
   ]
  },
  {
   "cell_type": "code",
   "execution_count": 13,
   "id": "317b41ec-872e-4495-b1e6-4c7ede9d4112",
   "metadata": {
    "tags": []
   },
   "outputs": [
    {
     "data": {
      "text/plain": [
       "9"
      ]
     },
     "execution_count": 13,
     "metadata": {},
     "output_type": "execute_result"
    }
   ],
   "source": [
    "a(3,2)"
   ]
  },
  {
   "cell_type": "code",
   "execution_count": 14,
   "id": "25f1c2a1-4b46-40fa-a0a5-97fb9b1253cd",
   "metadata": {
    "tags": []
   },
   "outputs": [],
   "source": [
    "add = lambda a,b:a+b"
   ]
  },
  {
   "cell_type": "code",
   "execution_count": 15,
   "id": "206d9da8-8038-4b01-945c-18508f751214",
   "metadata": {
    "tags": []
   },
   "outputs": [
    {
     "data": {
      "text/plain": [
       "3"
      ]
     },
     "execution_count": 15,
     "metadata": {},
     "output_type": "execute_result"
    }
   ],
   "source": [
    "add(1,2)"
   ]
  },
  {
   "cell_type": "code",
   "execution_count": 16,
   "id": "dec3353c-712f-4484-b254-9e1653eb0876",
   "metadata": {
    "tags": []
   },
   "outputs": [],
   "source": [
    "ctof=lambda c:c*(9/5)+32"
   ]
  },
  {
   "cell_type": "code",
   "execution_count": 17,
   "id": "2b79134b-2624-4984-b1f8-61e191f274bf",
   "metadata": {
    "tags": []
   },
   "outputs": [
    {
     "data": {
      "text/plain": [
       "89.6"
      ]
     },
     "execution_count": 17,
     "metadata": {},
     "output_type": "execute_result"
    }
   ],
   "source": [
    "ctof(32)"
   ]
  },
  {
   "cell_type": "code",
   "execution_count": 22,
   "id": "8dd30d0d-cf57-405a-90f8-15a59f44e3d4",
   "metadata": {
    "tags": []
   },
   "outputs": [],
   "source": [
    "maxi=lambda a,b : a if a>b else b"
   ]
  },
  {
   "cell_type": "code",
   "execution_count": 23,
   "id": "309352cb-47a2-4385-bc59-f48878cc7f28",
   "metadata": {
    "tags": []
   },
   "outputs": [
    {
     "data": {
      "text/plain": [
       "3"
      ]
     },
     "execution_count": 23,
     "metadata": {},
     "output_type": "execute_result"
    }
   ],
   "source": [
    "maxi(2,3)"
   ]
  },
  {
   "cell_type": "code",
   "execution_count": 24,
   "id": "e334c7c3-4368-40ad-a693-8ffcb8b837c5",
   "metadata": {
    "tags": []
   },
   "outputs": [],
   "source": [
    "len_st=lambda s: len(s)"
   ]
  },
  {
   "cell_type": "code",
   "execution_count": 25,
   "id": "33dc79b6-f6da-4fd2-ae7f-76dd5e41d2ab",
   "metadata": {
    "tags": []
   },
   "outputs": [
    {
     "data": {
      "text/plain": [
       "4"
      ]
     },
     "execution_count": 25,
     "metadata": {},
     "output_type": "execute_result"
    }
   ],
   "source": [
    "len_st(\"Shri\")"
   ]
  },
  {
   "cell_type": "markdown",
   "id": "e7bb16b1-02c0-489c-8b1c-68052ed06c8e",
   "metadata": {},
   "source": [
    "# Maps REduce filter"
   ]
  },
  {
   "cell_type": "code",
   "execution_count": 28,
   "id": "741d77eb-8d68-47c2-aaec-2fa857ff0284",
   "metadata": {
    "tags": []
   },
   "outputs": [],
   "source": [
    "l=[1,2,3,4,5]\n",
    "def sq(x):\n",
    "    return x**2\n",
    "\n",
    "    "
   ]
  },
  {
   "cell_type": "code",
   "execution_count": 29,
   "id": "f30c17f6-6765-4e64-929f-09291c59ac81",
   "metadata": {
    "tags": []
   },
   "outputs": [
    {
     "data": {
      "text/plain": [
       "[1, 4, 9, 16, 25]"
      ]
     },
     "execution_count": 29,
     "metadata": {},
     "output_type": "execute_result"
    }
   ],
   "source": [
    "list(map(sq,l))"
   ]
  },
  {
   "cell_type": "code",
   "execution_count": 30,
   "id": "e7a6f07e-e088-4903-b6a0-169d14c176d0",
   "metadata": {
    "tags": []
   },
   "outputs": [
    {
     "data": {
      "text/plain": [
       "[1, 4, 9, 16, 25]"
      ]
     },
     "execution_count": 30,
     "metadata": {},
     "output_type": "execute_result"
    }
   ],
   "source": [
    "list(map(lambda x:x**2,l))"
   ]
  },
  {
   "cell_type": "code",
   "execution_count": 31,
   "id": "205d99e1-1d89-4945-9524-c669208ad6af",
   "metadata": {
    "tags": []
   },
   "outputs": [
    {
     "data": {
      "text/plain": [
       "[11, 12, 13, 14, 15]"
      ]
     },
     "execution_count": 31,
     "metadata": {},
     "output_type": "execute_result"
    }
   ],
   "source": [
    "list(map(lambda x:x+10,l))"
   ]
  },
  {
   "cell_type": "code",
   "execution_count": 33,
   "id": "f216db3b-e66d-46eb-9cd7-0f3abd7b8b0c",
   "metadata": {
    "tags": []
   },
   "outputs": [
    {
     "data": {
      "text/plain": [
       "['1', '2', '3', '4', '5']"
      ]
     },
     "execution_count": 33,
     "metadata": {},
     "output_type": "execute_result"
    }
   ],
   "source": [
    "list(map(lambda x:str(x),l))"
   ]
  },
  {
   "cell_type": "code",
   "execution_count": 34,
   "id": "1fe85f4c-56f2-4f5a-adbc-fc3548372f83",
   "metadata": {
    "tags": []
   },
   "outputs": [
    {
     "data": {
      "text/plain": [
       "[7, 9, 11, 13, 15]"
      ]
     },
     "execution_count": 34,
     "metadata": {},
     "output_type": "execute_result"
    }
   ],
   "source": [
    "l1=[1,2,3,4,5]\n",
    "l2=[6,7,8,9,10]\n",
    "list(map(lambda x,y : x+y ,l1,l2))"
   ]
  },
  {
   "cell_type": "code",
   "execution_count": 35,
   "id": "15817aad-6a45-4376-85a5-0b2a9e0e57d2",
   "metadata": {
    "tags": []
   },
   "outputs": [],
   "source": [
    "s=\"pwskills\"\n"
   ]
  },
  {
   "cell_type": "code",
   "execution_count": 39,
   "id": "b13ee800-3f3a-45e4-b5df-237ac87b4991",
   "metadata": {
    "tags": []
   },
   "outputs": [
    {
     "data": {
      "text/plain": [
       "['P', 'W', 'S', 'K', 'I', 'L', 'L', 'S']"
      ]
     },
     "execution_count": 39,
     "metadata": {},
     "output_type": "execute_result"
    }
   ],
   "source": [
    " list(map(lambda x:x.upper(),s))"
   ]
  },
  {
   "cell_type": "code",
   "execution_count": 40,
   "id": "a695b72f-8d43-4292-b5fc-d3c1a1230fb9",
   "metadata": {
    "tags": []
   },
   "outputs": [],
   "source": [
    "from functools import reduce"
   ]
  },
  {
   "cell_type": "code",
   "execution_count": 41,
   "id": "599ad4fa-d627-485f-966e-cbbbae9e8419",
   "metadata": {
    "tags": []
   },
   "outputs": [],
   "source": [
    "l=[1,2,3,4,5]"
   ]
  },
  {
   "cell_type": "code",
   "execution_count": 42,
   "id": "b94ab73e-55cf-4c2d-a8ca-4264e131a850",
   "metadata": {
    "tags": []
   },
   "outputs": [
    {
     "data": {
      "text/plain": [
       "15"
      ]
     },
     "execution_count": 42,
     "metadata": {},
     "output_type": "execute_result"
    }
   ],
   "source": [
    "reduce(lambda x,y :x+y,l)"
   ]
  },
  {
   "cell_type": "markdown",
   "id": "54313520-9371-4ec6-ba42-fb9437a3725e",
   "metadata": {},
   "source": [
    "# filter"
   ]
  },
  {
   "cell_type": "code",
   "execution_count": 44,
   "id": "0cc03694-9a8f-4d68-8822-aa4b43aa361d",
   "metadata": {
    "tags": []
   },
   "outputs": [
    {
     "data": {
      "text/plain": [
       "[2, 4]"
      ]
     },
     "execution_count": 44,
     "metadata": {},
     "output_type": "execute_result"
    }
   ],
   "source": [
    "l1=[2,1,3,4,5]\n",
    "list(filter(lambda x:x%2==0,l1))"
   ]
  },
  {
   "cell_type": "code",
   "execution_count": 45,
   "id": "e23ebccb-e5c0-4638-877d-0f7b165f786d",
   "metadata": {
    "tags": []
   },
   "outputs": [
    {
     "data": {
      "text/plain": [
       "[7, 8, 9, 11]"
      ]
     },
     "execution_count": 45,
     "metadata": {},
     "output_type": "execute_result"
    }
   ],
   "source": [
    "l2=[-1,-2,-3,-4,-5,-6,7,8,9,11]\n",
    "list(filter(lambda x:x>0,l2))"
   ]
  },
  {
   "cell_type": "code",
   "execution_count": 46,
   "id": "0488e754-8e3d-4bae-b950-1a5ff440e2e6",
   "metadata": {
    "tags": []
   },
   "outputs": [],
   "source": [
    "l3=[\"Sudgh\",\"kiiiiiii\",\"ji\",\"hi\"] \n",
    "# extract all string whose length less than 4"
   ]
  },
  {
   "cell_type": "code",
   "execution_count": 51,
   "id": "1726fca6-c161-4d7c-a026-3f4f45064667",
   "metadata": {
    "tags": []
   },
   "outputs": [
    {
     "data": {
      "text/plain": [
       "['ji', 'hi']"
      ]
     },
     "execution_count": 51,
     "metadata": {},
     "output_type": "execute_result"
    }
   ],
   "source": [
    "list((filter(lambda x : len(x)<4,l3)))"
   ]
  },
  {
   "cell_type": "code",
   "execution_count": null,
   "id": "194f8b3b-db99-4386-b00f-bb340df490d9",
   "metadata": {},
   "outputs": [],
   "source": []
  }
 ],
 "metadata": {
  "kernelspec": {
   "display_name": "Python 3 (ipykernel)",
   "language": "python",
   "name": "python3"
  },
  "language_info": {
   "codemirror_mode": {
    "name": "ipython",
    "version": 3
   },
   "file_extension": ".py",
   "mimetype": "text/x-python",
   "name": "python",
   "nbconvert_exporter": "python",
   "pygments_lexer": "ipython3",
   "version": "3.11.3"
  }
 },
 "nbformat": 4,
 "nbformat_minor": 5
}
