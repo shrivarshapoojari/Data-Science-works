{
 "cells": [
  {
   "cell_type": "code",
   "execution_count": 1,
   "id": "f2809c5b-ef8d-4616-948e-00f4c2662305",
   "metadata": {
    "tags": []
   },
   "outputs": [],
   "source": [
    "name=\"Shrivarsha\""
   ]
  },
  {
   "cell_type": "code",
   "execution_count": 3,
   "id": "2fcb7eb5-d6fe-43e6-a460-5b018e5ec60a",
   "metadata": {
    "tags": []
   },
   "outputs": [
    {
     "name": "stdout",
     "output_type": "stream",
     "text": [
      "My name is Shrivarsha and age is 18 and degree is BE\n"
     ]
    }
   ],
   "source": [
    "age=18\n",
    "degree=\"BE\"\n",
    "print(\"My name is {} and age is {} and degree is {}\".format(name,age,degree))\n"
   ]
  },
  {
   "cell_type": "code",
   "execution_count": 4,
   "id": "e0d7529a-1ad9-4b12-9903-c2aed27acffa",
   "metadata": {
    "tags": []
   },
   "outputs": [
    {
     "name": "stdout",
     "output_type": "stream",
     "text": [
      "0\n"
     ]
    }
   ],
   "source": [
    "for i in range(0,1):\n",
    "    print(i)"
   ]
  },
  {
   "cell_type": "code",
   "execution_count": null,
   "id": "b65871d3-eef6-48f6-b24a-152d968d2aee",
   "metadata": {},
   "outputs": [],
   "source": []
  }
 ],
 "metadata": {
  "kernelspec": {
   "display_name": "Python 3 (ipykernel)",
   "language": "python",
   "name": "python3"
  },
  "language_info": {
   "codemirror_mode": {
    "name": "ipython",
    "version": 3
   },
   "file_extension": ".py",
   "mimetype": "text/x-python",
   "name": "python",
   "nbconvert_exporter": "python",
   "pygments_lexer": "ipython3",
   "version": "3.11.3"
  }
 },
 "nbformat": 4,
 "nbformat_minor": 5
}
