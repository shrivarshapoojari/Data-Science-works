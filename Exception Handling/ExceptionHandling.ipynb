{
 "cells": [
  {
   "cell_type": "code",
   "execution_count": 2,
   "id": "db81b0e6-721c-4827-8cab-886df7bca7e6",
   "metadata": {
    "tags": []
   },
   "outputs": [
    {
     "name": "stdout",
     "output_type": "stream",
     "text": [
      "File not found [Errno 2] No such file or directory: 'test.txt'\n",
      "10\n"
     ]
    }
   ],
   "source": [
    "try :\n",
    "    f=open(\"test.txt\",\"r\")\n",
    "except Exception as e:\n",
    "    print(\"File not found\",e)\n",
    "print(10)"
   ]
  },
  {
   "cell_type": "code",
   "execution_count": 3,
   "id": "ea3e2eb9-be0d-4857-82bf-91e5f049c98e",
   "metadata": {
    "tags": []
   },
   "outputs": [
    {
     "name": "stdout",
     "output_type": "stream",
     "text": [
      "This will execute only if try execute it self without any exception\n"
     ]
    }
   ],
   "source": [
    "try :\n",
    "    f=open(\"test.txt\",\"w\")\n",
    "    f.write(\"Hello\")\n",
    "     \n",
    "  \n",
    "except Exception as e:\n",
    "    print(\"File not found\",e)\n",
    "else:\n",
    "    f.close()\n",
    "    print(\"This will execute only if try execute it self without any exception\")\n",
    "    "
   ]
  },
  {
   "cell_type": "code",
   "execution_count": 4,
   "id": "3e5b5c90-437b-44c1-b0af-803425068d0d",
   "metadata": {},
   "outputs": [],
   "source": [
    "# finalyy will always execute"
   ]
  },
  {
   "cell_type": "markdown",
   "id": "f07d5a52-001b-4d66-9c33-d81bea4c0229",
   "metadata": {},
   "source": [
    "# Custom exception handling\n"
   ]
  },
  {
   "cell_type": "code",
   "execution_count": 5,
   "id": "49d8232f-ad51-4d0e-934b-c63a71b331c0",
   "metadata": {
    "tags": []
   },
   "outputs": [
    {
     "name": "stdin",
     "output_type": "stream",
     "text": [
      "Enter your age -98\n"
     ]
    }
   ],
   "source": [
    "age=int(input(\"Enter your age\"))"
   ]
  },
  {
   "cell_type": "code",
   "execution_count": 10,
   "id": "6780de91-c930-4252-8f67-5e7d14afe4fc",
   "metadata": {
    "tags": []
   },
   "outputs": [],
   "source": [
    "class validateage(Exception):\n",
    "    def __init__(self,msg):\n",
    "        self.msg=msg\n",
    "        "
   ]
  },
  {
   "cell_type": "code",
   "execution_count": 11,
   "id": "1944b3ef-27e1-45d9-b6fa-f3fcd2420def",
   "metadata": {
    "tags": []
   },
   "outputs": [],
   "source": [
    "def validate_age(age):\n",
    "    if age<0:\n",
    "        raise validateage(\"age cant be negative\")\n",
    "    elif age>200 :\n",
    "        raise validateage(\"Age is high\")\n",
    "    else:\n",
    "        print(\"age is valid\")\n",
    "        "
   ]
  },
  {
   "cell_type": "code",
   "execution_count": 12,
   "id": "5bc7f8ef-b8f4-45a3-9d6a-3fb5581297c8",
   "metadata": {
    "tags": []
   },
   "outputs": [
    {
     "name": "stdin",
     "output_type": "stream",
     "text": [
      "Enter your age -3\n"
     ]
    },
    {
     "name": "stdout",
     "output_type": "stream",
     "text": [
      "age cant be negative\n"
     ]
    }
   ],
   "source": [
    "try:\n",
    "    age=int(input(\"Enter your age\"))\n",
    "    validate_age(age)\n",
    "except validateage as e:\n",
    "    print(e)"
   ]
  },
  {
   "cell_type": "markdown",
   "id": "96e58417-6ac9-477f-84b9-fa76d7cf28fc",
   "metadata": {},
   "source": [
    "# General Exceptions"
   ]
  },
  {
   "cell_type": "code",
   "execution_count": 14,
   "id": "0e13cbae-1354-437b-aad0-557092381cd8",
   "metadata": {
    "tags": []
   },
   "outputs": [
    {
     "name": "stdout",
     "output_type": "stream",
     "text": [
      "division by zero\n"
     ]
    }
   ],
   "source": [
    "try:\n",
    "    a=10\n",
    "    10/0\n",
    "except ZeroDivisionError as e:\n",
    "    print(e)"
   ]
  },
  {
   "cell_type": "code",
   "execution_count": 15,
   "id": "dbb2317c-6636-4a81-b381-7a2c34334dff",
   "metadata": {
    "tags": []
   },
   "outputs": [
    {
     "name": "stdout",
     "output_type": "stream",
     "text": [
      "invalid literal for int() with base 10: 'sudh'\n"
     ]
    }
   ],
   "source": [
    "try :\n",
    "    int(\"sudh\")\n",
    "except(ValueError ,TypeError) as e:\n",
    "    print(e)"
   ]
  },
  {
   "cell_type": "code",
   "execution_count": 17,
   "id": "b1b602e9-5870-4baa-8940-adf513cc517b",
   "metadata": {
    "tags": []
   },
   "outputs": [
    {
     "name": "stdout",
     "output_type": "stream",
     "text": [
      "Generate ERROR\n"
     ]
    }
   ],
   "source": [
    "try :\n",
    "    int(\"sudh\")\n",
    "except:\n",
    "    print(\"Generate ERROR\")"
   ]
  },
  {
   "cell_type": "code",
   "execution_count": 18,
   "id": "dfac888f-d080-438a-bab9-bfed0d66218f",
   "metadata": {
    "tags": []
   },
   "outputs": [
    {
     "name": "stdout",
     "output_type": "stream",
     "text": [
      "No module named 'shhh'\n"
     ]
    }
   ],
   "source": [
    "try :\n",
    "    import shhh\n",
    "except ImportError as e:\n",
    "    print(e)"
   ]
  },
  {
   "cell_type": "code",
   "execution_count": 19,
   "id": "8f5a1127-74e6-47e0-a14a-40e1053e69c6",
   "metadata": {
    "tags": []
   },
   "outputs": [
    {
     "name": "stdout",
     "output_type": "stream",
     "text": [
      "'mdjfj'\n"
     ]
    }
   ],
   "source": [
    "try :\n",
    "    d={1:[1,2,3],\"Key\":\"Shri\"}\n",
    "    d[\"mdjfj\"]\n",
    "except KeyError as e:\n",
    "    print(e)"
   ]
  },
  {
   "cell_type": "code",
   "execution_count": 1,
   "id": "6b866d53-31f5-4518-8d1b-6458085e4469",
   "metadata": {},
   "outputs": [
    {
     "name": "stdout",
     "output_type": "stream",
     "text": [
      "'str' object has no attribute 'tesr'\n"
     ]
    }
   ],
   "source": [
    "try:\n",
    "    \"sudh\".tesr()\n",
    "except AttributeError as e:\n",
    "    print(e)"
   ]
  },
  {
   "cell_type": "code",
   "execution_count": null,
   "id": "560e0422-df72-4336-bf37-02a213ea42ac",
   "metadata": {},
   "outputs": [],
   "source": []
  }
 ],
 "metadata": {
  "kernelspec": {
   "display_name": "Python 3 (ipykernel)",
   "language": "python",
   "name": "python3"
  },
  "language_info": {
   "codemirror_mode": {
    "name": "ipython",
    "version": 3
   },
   "file_extension": ".py",
   "mimetype": "text/x-python",
   "name": "python",
   "nbconvert_exporter": "python",
   "pygments_lexer": "ipython3",
   "version": "3.11.3"
  }
 },
 "nbformat": 4,
 "nbformat_minor": 5
}
