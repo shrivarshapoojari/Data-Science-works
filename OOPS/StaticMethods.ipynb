{
 "cells": [
  {
   "cell_type": "code",
   "execution_count": 1,
   "id": "0a8cb63e-70bf-4e6a-a5a5-fb4732f56bbf",
   "metadata": {
    "tags": []
   },
   "outputs": [],
   "source": [
    "class pw:\n",
    "    def student_details(self,name,mail_id,number):\n",
    "        print(name,mail_id,number)"
   ]
  },
  {
   "cell_type": "code",
   "execution_count": 3,
   "id": "30cfdae1-fbb5-4a06-9b3f-1a596bbc458b",
   "metadata": {
    "tags": []
   },
   "outputs": [],
   "source": [
    "p1=pw()"
   ]
  },
  {
   "cell_type": "code",
   "execution_count": 4,
   "id": "917647a4-d192-4665-b3f5-280be3508439",
   "metadata": {
    "tags": []
   },
   "outputs": [
    {
     "name": "stdout",
     "output_type": "stream",
     "text": [
      "Shri Mymail 80953487\n"
     ]
    }
   ],
   "source": [
    "p1.student_details(\"Shri\",\"Mymail\",80953487)"
   ]
  },
  {
   "cell_type": "code",
   "execution_count": 15,
   "id": "01bb134c-b921-48bd-ab3b-888fbc7b26c7",
   "metadata": {
    "tags": []
   },
   "outputs": [],
   "source": [
    "class pw1:\n",
    "    def student_details(self,name,mail_id,number):\n",
    "        print(name,mail_id,number)\n",
    "    @staticmethod\n",
    "    def mentorstatic(list_mentors):\n",
    "        print(list_mentors)\n",
    "    def mentor(mentors):\n",
    "        print(mentors)"
   ]
  },
  {
   "cell_type": "code",
   "execution_count": 17,
   "id": "23a0b3d6-0987-4ea5-af33-48ddb9f4e3f7",
   "metadata": {
    "tags": []
   },
   "outputs": [
    {
     "name": "stdout",
     "output_type": "stream",
     "text": [
      "['Sudh', 'Kris', 'VIS']\n"
     ]
    }
   ],
   "source": [
    "pw1.mentorstatic([\"Sudh\",\"Kris\",\"VIS\"])"
   ]
  },
  {
   "cell_type": "code",
   "execution_count": 11,
   "id": "6e5f853e-06a8-4480-bfe0-907008de5768",
   "metadata": {
    "tags": []
   },
   "outputs": [],
   "source": [
    "p2obj=pw1()"
   ]
  },
  {
   "cell_type": "code",
   "execution_count": 19,
   "id": "43ea8a0c-5c90-434e-8cbd-7af420fcb064",
   "metadata": {
    "tags": []
   },
   "outputs": [
    {
     "name": "stdout",
     "output_type": "stream",
     "text": [
      "['HI', 'Hlo']\n"
     ]
    }
   ],
   "source": [
    " pw1.mentor([\"HI\",\"Hlo\"])"
   ]
  },
  {
   "cell_type": "code",
   "execution_count": 20,
   "id": "7cae9c77-6559-4820-9993-c311b679bf8c",
   "metadata": {
    "tags": []
   },
   "outputs": [],
   "source": [
    "# static methods available to all objects"
   ]
  },
  {
   "cell_type": "code",
   "execution_count": 21,
   "id": "31ceac61-fbb1-4563-81d9-e6eb0500fb09",
   "metadata": {
    "tags": []
   },
   "outputs": [],
   "source": [
    "# static method are accesibvle from inside instance method"
   ]
  },
  {
   "cell_type": "code",
   "execution_count": 22,
   "id": "aef060f3-e473-4e28-9db1-8636f6cdff76",
   "metadata": {
    "tags": []
   },
   "outputs": [],
   "source": [
    "# static method can be accesible from another static method"
   ]
  },
  {
   "cell_type": "code",
   "execution_count": null,
   "id": "12bb3e22-d7aa-4927-8939-797a670e2b02",
   "metadata": {},
   "outputs": [],
   "source": []
  }
 ],
 "metadata": {
  "kernelspec": {
   "display_name": "Python 3 (ipykernel)",
   "language": "python",
   "name": "python3"
  },
  "language_info": {
   "codemirror_mode": {
    "name": "ipython",
    "version": 3
   },
   "file_extension": ".py",
   "mimetype": "text/x-python",
   "name": "python",
   "nbconvert_exporter": "python",
   "pygments_lexer": "ipython3",
   "version": "3.11.3"
  }
 },
 "nbformat": 4,
 "nbformat_minor": 5
}
