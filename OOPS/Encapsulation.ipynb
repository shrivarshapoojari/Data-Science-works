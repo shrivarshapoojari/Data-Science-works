{
 "cells": [
  {
   "cell_type": "code",
   "execution_count": 4,
   "id": "9c8aa640-d25b-426c-99f9-829b041f5703",
   "metadata": {
    "tags": []
   },
   "outputs": [],
   "source": [
    "class test:\n",
    "    def __init__(self,a,b):\n",
    "        self.a=a;\n",
    "        self.b=b"
   ]
  },
  {
   "cell_type": "code",
   "execution_count": 5,
   "id": "8d1246ca-4550-471d-9935-3e12f31e388a",
   "metadata": {
    "tags": []
   },
   "outputs": [],
   "source": [
    "t=test(45,67)"
   ]
  },
  {
   "cell_type": "code",
   "execution_count": 6,
   "id": "4e163a84-f2f3-4990-ad3f-90a1aae652fb",
   "metadata": {
    "tags": []
   },
   "outputs": [
    {
     "data": {
      "text/plain": [
       "45"
      ]
     },
     "execution_count": 6,
     "metadata": {},
     "output_type": "execute_result"
    }
   ],
   "source": [
    "t.a"
   ]
  },
  {
   "cell_type": "code",
   "execution_count": 67,
   "id": "d4c904eb-0d60-4f8c-bcdc-c9f7c8b02b3c",
   "metadata": {
    "tags": []
   },
   "outputs": [],
   "source": [
    "class car :\n",
    "    def __init__(self,year,make,model,speed):\n",
    "        self.__year=year\n",
    "        self.__make=make\n",
    "        self.__model=model\n",
    "        self.__speed=speed\n",
    "    def set_speed(self, speed):\n",
    "        self.__speed=0 if speed<0 else speed\n",
    "    def viewdetails(self):\n",
    "        return self.__year,self.__make,self.__model,self.__speed\n",
    "    "
   ]
  },
  {
   "cell_type": "code",
   "execution_count": 68,
   "id": "3d28d247-3825-4eca-a3aa-257e13ca310d",
   "metadata": {
    "tags": []
   },
   "outputs": [],
   "source": [
    "obj=car(2000,\"inova\",\"toyota\",12)"
   ]
  },
  {
   "cell_type": "code",
   "execution_count": 60,
   "id": "90140ead-b339-4056-8691-a732c1ac6a2c",
   "metadata": {
    "tags": []
   },
   "outputs": [],
   "source": [
    "   # __ makes variable private"
   ]
  },
  {
   "cell_type": "code",
   "execution_count": 61,
   "id": "f807b58e-9a97-416f-b698-b719d53d7335",
   "metadata": {
    "tags": []
   },
   "outputs": [
    {
     "data": {
      "text/plain": [
       "2000"
      ]
     },
     "execution_count": 61,
     "metadata": {},
     "output_type": "execute_result"
    }
   ],
   "source": [
    "#to access private\n",
    "obj._car__year"
   ]
  },
  {
   "cell_type": "code",
   "execution_count": 62,
   "id": "4555841b-beb7-4a4a-91bb-c205c36cf934",
   "metadata": {
    "tags": []
   },
   "outputs": [],
   "source": [
    "obj._car__year=2033"
   ]
  },
  {
   "cell_type": "code",
   "execution_count": 63,
   "id": "f421edbb-b85a-4025-8505-1c772c99f98c",
   "metadata": {
    "tags": []
   },
   "outputs": [
    {
     "data": {
      "text/plain": [
       "2033"
      ]
     },
     "execution_count": 63,
     "metadata": {},
     "output_type": "execute_result"
    }
   ],
   "source": [
    "obj._car__year"
   ]
  },
  {
   "cell_type": "code",
   "execution_count": 70,
   "id": "6f8fc621-40ec-4791-9709-3fa8873ffd55",
   "metadata": {
    "tags": []
   },
   "outputs": [],
   "source": [
    "obj.set_speed(20)"
   ]
  },
  {
   "cell_type": "code",
   "execution_count": 71,
   "id": "47a56908-e150-4b05-80f3-81d64b6daf0e",
   "metadata": {
    "tags": []
   },
   "outputs": [
    {
     "data": {
      "text/plain": [
       "(2000, 'inova', 'toyota', 20)"
      ]
     },
     "execution_count": 71,
     "metadata": {},
     "output_type": "execute_result"
    }
   ],
   "source": [
    "obj.viewdetails()"
   ]
  },
  {
   "cell_type": "code",
   "execution_count": null,
   "id": "e40d1bfd-e181-4694-940f-0829d724bd3a",
   "metadata": {},
   "outputs": [],
   "source": []
  }
 ],
 "metadata": {
  "kernelspec": {
   "display_name": "Python 3 (ipykernel)",
   "language": "python",
   "name": "python3"
  },
  "language_info": {
   "codemirror_mode": {
    "name": "ipython",
    "version": 3
   },
   "file_extension": ".py",
   "mimetype": "text/x-python",
   "name": "python",
   "nbconvert_exporter": "python",
   "pygments_lexer": "ipython3",
   "version": "3.11.3"
  }
 },
 "nbformat": 4,
 "nbformat_minor": 5
}
