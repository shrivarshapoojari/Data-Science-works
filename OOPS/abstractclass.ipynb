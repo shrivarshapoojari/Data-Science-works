{
 "cells": [
  {
   "cell_type": "code",
   "execution_count": 4,
   "id": "4497c25e-142b-4b90-a089-8cc41c05e6f9",
   "metadata": {
    "tags": []
   },
   "outputs": [],
   "source": [
    "\n",
    "import abc\n",
    "\n",
    "class pwskills:\n",
    "    @abc.abstractmethod\n",
    "    def student_details(self):\n",
    "        pass\n",
    "    @abc.abstractmethod\n",
    "    def student_assignment(self):\n",
    "        pass\n",
    "    @abc.abstractmethod\n",
    "    def student_marks(self):\n",
    "        pass\n",
    "    "
   ]
  },
  {
   "cell_type": "code",
   "execution_count": 7,
   "id": "6fb8cc45-cf6a-4434-b932-f7396c6a1f3b",
   "metadata": {
    "tags": []
   },
   "outputs": [],
   "source": [
    "class ds(pwskills):\n",
    "    def student_details(self):\n",
    "        return \"DataSCIENCE\"\n",
    "    def student_assignment(self):\n",
    "        return \"DS assign\"\n",
    "    \n",
    "    "
   ]
  },
  {
   "cell_type": "code",
   "execution_count": 8,
   "id": "8b9228b1-70f4-4fb7-9316-cf22e8b792ef",
   "metadata": {
    "tags": []
   },
   "outputs": [],
   "source": [
    "class wb(pwskills):\n",
    "    def student_details(self):\n",
    "        return \"wb\"\n",
    "    def student_assignment(self):\n",
    "        return \"wbassign\"\n",
    "    \n",
    "    "
   ]
  },
  {
   "cell_type": "code",
   "execution_count": 10,
   "id": "a0d27970-4219-4176-bdab-557c05b43038",
   "metadata": {
    "tags": []
   },
   "outputs": [],
   "source": [
    "w=wb()"
   ]
  },
  {
   "cell_type": "code",
   "execution_count": 11,
   "id": "bd7ee99b-6202-47ed-ab79-2f6006d38bef",
   "metadata": {
    "tags": []
   },
   "outputs": [
    {
     "data": {
      "text/plain": [
       "'wb'"
      ]
     },
     "execution_count": 11,
     "metadata": {},
     "output_type": "execute_result"
    }
   ],
   "source": [
    "w.student_details()"
   ]
  },
  {
   "cell_type": "markdown",
   "id": "59070f4e-ebcd-4681-8842-5dd3f4db9a89",
   "metadata": {},
   "source": [
    "# Decorators"
   ]
  },
  {
   "cell_type": "code",
   "execution_count": 12,
   "id": "833cd618-4ddd-4bcb-b6fd-7f73262def5a",
   "metadata": {
    "tags": []
   },
   "outputs": [],
   "source": [
    "def deco(func):\n",
    "    def inner_deco():\n",
    "        print(\"Start\")\n",
    "        func()\n",
    "        print(\"END\")\n",
    "    return inner_deco"
   ]
  },
  {
   "cell_type": "code",
   "execution_count": 13,
   "id": "d47c64a0-8392-4ef4-81f2-390dcf8015b7",
   "metadata": {
    "tags": []
   },
   "outputs": [],
   "source": [
    "def test1():\n",
    "    print(4+5)"
   ]
  },
  {
   "cell_type": "code",
   "execution_count": 14,
   "id": "82dbda0c-dcb7-4d12-a946-c5293166c88c",
   "metadata": {
    "tags": []
   },
   "outputs": [
    {
     "name": "stdout",
     "output_type": "stream",
     "text": [
      "9\n"
     ]
    }
   ],
   "source": [
    "test1()"
   ]
  },
  {
   "cell_type": "code",
   "execution_count": 15,
   "id": "b1250ca7-dbab-42c4-a72e-208c8c943400",
   "metadata": {
    "tags": []
   },
   "outputs": [],
   "source": [
    "@ deco\n",
    "def test2():\n",
    "    print(5+7)"
   ]
  },
  {
   "cell_type": "code",
   "execution_count": 16,
   "id": "7a9d627f-1e7d-4c10-9556-d9c554523b3c",
   "metadata": {
    "tags": []
   },
   "outputs": [
    {
     "name": "stdout",
     "output_type": "stream",
     "text": [
      "Start\n",
      "12\n",
      "END\n"
     ]
    }
   ],
   "source": [
    "test2()"
   ]
  },
  {
   "cell_type": "code",
   "execution_count": 22,
   "id": "5a22ecc5-74bf-4e46-8d71-ab7a46fa2ec3",
   "metadata": {
    "tags": []
   },
   "outputs": [],
   "source": [
    "import time\n",
    "def timer_test(func):\n",
    "    def timer_inner():\n",
    "        start=time.time()\n",
    "        func()\n",
    "        end=time.time()\n",
    "        print(\"Time of execution is=\",end-start)\n",
    "    return timer_inner"
   ]
  },
  {
   "cell_type": "code",
   "execution_count": 33,
   "id": "23fe2052-cad6-4ee8-94ce-5fe37ad0bcb3",
   "metadata": {
    "tags": []
   },
   "outputs": [],
   "source": [
    "@timer_test\n",
    "def looper():\n",
    "    a=0\n",
    "    for i in range(1,10000):\n",
    "        a+=i\n",
    "    print( \"value of a is=\",a)\n",
    "        "
   ]
  },
  {
   "cell_type": "code",
   "execution_count": 34,
   "id": "2cbf1fc1-1fe9-4d58-b64a-71b11ce7c1b7",
   "metadata": {
    "tags": []
   },
   "outputs": [
    {
     "name": "stdout",
     "output_type": "stream",
     "text": [
      "value of a is= 49995000\n",
      "Time of exec is= 0.002000093460083008\n"
     ]
    }
   ],
   "source": [
    "looper()"
   ]
  },
  {
   "cell_type": "code",
   "execution_count": null,
   "id": "c82a044d-987a-4817-a922-13cfa1b93d5c",
   "metadata": {},
   "outputs": [],
   "source": []
  },
  {
   "cell_type": "code",
   "execution_count": null,
   "id": "e3ff2ccb-8f63-457b-9188-51a6989ef18c",
   "metadata": {},
   "outputs": [],
   "source": []
  },
  {
   "cell_type": "code",
   "execution_count": null,
   "id": "9d63bc0b-87f3-4ffd-b2db-ac68a306e463",
   "metadata": {},
   "outputs": [],
   "source": []
  }
 ],
 "metadata": {
  "kernelspec": {
   "display_name": "Python 3 (ipykernel)",
   "language": "python",
   "name": "python3"
  },
  "language_info": {
   "codemirror_mode": {
    "name": "ipython",
    "version": 3
   },
   "file_extension": ".py",
   "mimetype": "text/x-python",
   "name": "python",
   "nbconvert_exporter": "python",
   "pygments_lexer": "ipython3",
   "version": "3.11.3"
  }
 },
 "nbformat": 4,
 "nbformat_minor": 5
}
