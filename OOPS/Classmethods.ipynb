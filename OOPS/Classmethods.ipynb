{
 "cells": [
  {
   "cell_type": "code",
   "execution_count": 2,
   "id": "49b630a1-6ad3-4af2-88eb-ade6d9cd8b78",
   "metadata": {
    "tags": []
   },
   "outputs": [],
   "source": [
    "class pw:\n",
    "    def __init__(self,name,email):\n",
    "        self.name=name\n",
    "        self.email=email\n",
    "    def student_details(self):\n",
    "        print(self.name,self.email)"
   ]
  },
  {
   "cell_type": "code",
   "execution_count": 5,
   "id": "b1d573ce-54d5-4fcb-96b2-4dc224e251e0",
   "metadata": {
    "tags": []
   },
   "outputs": [],
   "source": [
    "class pw1:\n",
    "    def __init__(self,name,email):\n",
    "        self.name=name\n",
    "        self.email=email\n",
    "    @classmethod\n",
    "    def details(cls,name,email):\n",
    "        return cls(name,email)\n",
    "        \n",
    "    def student_details(self):\n",
    "        print(self.name,self.email)"
   ]
  },
  {
   "cell_type": "code",
   "execution_count": 4,
   "id": "bfe18657-a4d3-4b36-b55a-f27eef5194b2",
   "metadata": {
    "tags": []
   },
   "outputs": [],
   "source": [
    "# Class Methods can be called with class name or object name"
   ]
  },
  {
   "cell_type": "code",
   "execution_count": 9,
   "id": "1e849767-85bd-4b90-94b1-ff8ec875a1d7",
   "metadata": {
    "tags": []
   },
   "outputs": [],
   "source": [
    "p=pw1.details(\"Shri\",\"Shri@gmail\")"
   ]
  },
  {
   "cell_type": "code",
   "execution_count": 10,
   "id": "ba6d9947-9d72-469f-8208-d5ffd0c746db",
   "metadata": {
    "tags": []
   },
   "outputs": [
    {
     "data": {
      "text/plain": [
       "'Shri'"
      ]
     },
     "execution_count": 10,
     "metadata": {},
     "output_type": "execute_result"
    }
   ],
   "source": [
    "p.name"
   ]
  },
  {
   "cell_type": "code",
   "execution_count": 11,
   "id": "7158c2a2-3744-4548-b7ff-a2b6d89104fb",
   "metadata": {
    "tags": []
   },
   "outputs": [
    {
     "name": "stdout",
     "output_type": "stream",
     "text": [
      "Shri Shri@gmail\n"
     ]
    }
   ],
   "source": [
    "p.student_details()"
   ]
  },
  {
   "cell_type": "code",
   "execution_count": 12,
   "id": "afdbf921-8c66-49f7-b3ff-32991b367371",
   "metadata": {
    "tags": []
   },
   "outputs": [],
   "source": [
    "#With vaiable of  class method we can access other function inside class here p is the variable of class method pw1"
   ]
  },
  {
   "cell_type": "code",
   "execution_count": 20,
   "id": "6d58a89b-cfd3-48ef-884b-894acb34fc30",
   "metadata": {
    "tags": []
   },
   "outputs": [],
   "source": [
    "class pw2:\n",
    "    mbl=8095343487\n",
    "    def __init__(self,name,email):\n",
    "        self.name=name\n",
    "        self.email=email\n",
    "    @classmethod\n",
    "    def change (cls,mobile):\n",
    "        pw2.mbl=mobile\n",
    "    @classmethod\n",
    "    def details(cls,name,email):\n",
    "        return cls(name,email)\n",
    "        \n",
    "    def student_details(self):\n",
    "        print(self.name,self.email,pw2.mbl)"
   ]
  },
  {
   "cell_type": "code",
   "execution_count": 14,
   "id": "d002b528-f401-4c2c-a7e0-63a71c370a83",
   "metadata": {
    "tags": []
   },
   "outputs": [],
   "source": [
    "# mbl is class variable.. we can acess classs variable with class name "
   ]
  },
  {
   "cell_type": "code",
   "execution_count": 21,
   "id": "fe4bebbc-6fe6-47a3-b071-d0cce2c8a21b",
   "metadata": {
    "tags": []
   },
   "outputs": [
    {
     "data": {
      "text/plain": [
       "8095343487"
      ]
     },
     "execution_count": 21,
     "metadata": {},
     "output_type": "execute_result"
    }
   ],
   "source": [
    "pw2.mbl"
   ]
  },
  {
   "cell_type": "code",
   "execution_count": 22,
   "id": "45d60c75-1ba2-463c-b614-d76f2ae9137e",
   "metadata": {
    "tags": []
   },
   "outputs": [],
   "source": [
    "pn=pw2.details(\"Sonal\",\"Sonal @gmail.com\")"
   ]
  },
  {
   "cell_type": "code",
   "execution_count": 23,
   "id": "981a234d-36fa-4ab4-b1ea-aafe9fdc3200",
   "metadata": {
    "tags": []
   },
   "outputs": [
    {
     "name": "stdout",
     "output_type": "stream",
     "text": [
      "Sonal Sonal @gmail.com 8095343487\n"
     ]
    }
   ],
   "source": [
    "pn.student_details()"
   ]
  },
  {
   "cell_type": "code",
   "execution_count": 24,
   "id": "fcd2513b-e8b0-45ab-b28a-8875993275cf",
   "metadata": {
    "tags": []
   },
   "outputs": [],
   "source": [
    "pw2.change(9620707118)"
   ]
  },
  {
   "cell_type": "code",
   "execution_count": 25,
   "id": "0ea6a387-9035-4168-b160-514f9e734b96",
   "metadata": {
    "tags": []
   },
   "outputs": [
    {
     "data": {
      "text/plain": [
       "9620707118"
      ]
     },
     "execution_count": 25,
     "metadata": {},
     "output_type": "execute_result"
    }
   ],
   "source": [
    "pw2.mbl"
   ]
  },
  {
   "cell_type": "code",
   "execution_count": 26,
   "id": "a516bfbe-3182-4942-b0a2-17247d5217c1",
   "metadata": {
    "tags": []
   },
   "outputs": [
    {
     "name": "stdout",
     "output_type": "stream",
     "text": [
      "Sonal Sonal @gmail.com 9620707118\n"
     ]
    }
   ],
   "source": [
    "pn.student_details()"
   ]
  },
  {
   "cell_type": "code",
   "execution_count": 27,
   "id": "0be55b44-4ff4-42c9-852a-ef72d109e175",
   "metadata": {
    "tags": []
   },
   "outputs": [],
   "source": [
    "# add external functions to class\n",
    "class pw3:\n",
    "    \n",
    "    mbl=8095343487\n",
    "    def __init__(self,name,email):\n",
    "        self.name=name\n",
    "        self.email=email\n",
    "    @classmethod\n",
    "    def change (cls,mobile):\n",
    "        pw2.mbl=mobile\n",
    "    @classmethod\n",
    "    def details(cls,name,email):\n",
    "        return cls(name,email)\n",
    "        \n",
    "    def student_details(self):\n",
    "        print(self.name,self.email,pw2.mbl)"
   ]
  },
  {
   "cell_type": "code",
   "execution_count": 28,
   "id": "224c6bea-7207-4ae3-a7c8-ea65293ed587",
   "metadata": {
    "tags": []
   },
   "outputs": [],
   "source": [
    "def course(cls,course_name):\n",
    "    print(\"Your course is \",course_name)"
   ]
  },
  {
   "cell_type": "code",
   "execution_count": 31,
   "id": "39c2eaeb-1afc-40bd-b5f3-c15e6768b9f6",
   "metadata": {
    "tags": []
   },
   "outputs": [],
   "source": [
    " pw3.course=classmethod(course) # adds to pw3 class"
   ]
  },
  {
   "cell_type": "code",
   "execution_count": 32,
   "id": "1a14c618-6bd1-4165-b431-12171924782f",
   "metadata": {
    "tags": []
   },
   "outputs": [
    {
     "name": "stdout",
     "output_type": "stream",
     "text": [
      "Your course is  DS\n"
     ]
    }
   ],
   "source": [
    "pw3.course(\"DS\")"
   ]
  },
  {
   "cell_type": "code",
   "execution_count": 35,
   "id": "22e0f551-0087-44cc-a264-f692990e2ab0",
   "metadata": {
    "tags": []
   },
   "outputs": [],
   "source": [
    "# delete existing class methods , class variable, instance methods from a class"
   ]
  },
  {
   "cell_type": "code",
   "execution_count": 34,
   "id": "5ef4b167-73f0-413d-a380-a24bca0d9c3b",
   "metadata": {
    "tags": []
   },
   "outputs": [],
   "source": [
    "#DELETE FUNCTIONS\n",
    "class pw4:\n",
    "    \n",
    "    mbl=8095343487\n",
    "    def __init__(self,name,email):\n",
    "        self.name=name\n",
    "        self.email=email\n",
    "    @classmethod\n",
    "    def change (cls,mobile):\n",
    "        pw2.mbl=mobile\n",
    "    @classmethod\n",
    "    def details(cls,name,email):\n",
    "        return cls(name,email)\n",
    "        \n",
    "    def student_details(self):\n",
    "        print(self.name,self.email,pw2.mbl)"
   ]
  },
  {
   "cell_type": "code",
   "execution_count": 36,
   "id": "48e6d41b-b507-444e-919f-0a09332edfd0",
   "metadata": {
    "tags": []
   },
   "outputs": [],
   "source": [
    "del pw4.change"
   ]
  },
  {
   "cell_type": "code",
   "execution_count": 37,
   "id": "8b23c4a1-f282-4332-8b62-ce09fe2a4f9e",
   "metadata": {
    "tags": []
   },
   "outputs": [
    {
     "ename": "AttributeError",
     "evalue": "type object 'pw4' has no attribute 'change'",
     "output_type": "error",
     "traceback": [
      "\u001b[1;31m---------------------------------------------------------------------------\u001b[0m",
      "\u001b[1;31mAttributeError\u001b[0m                            Traceback (most recent call last)",
      "Cell \u001b[1;32mIn[37], line 1\u001b[0m\n\u001b[1;32m----> 1\u001b[0m pw4\u001b[38;5;241m.\u001b[39mchange(\u001b[38;5;241m89\u001b[39m)\n",
      "\u001b[1;31mAttributeError\u001b[0m: type object 'pw4' has no attribute 'change'"
     ]
    }
   ],
   "source": [
    "pw4.change(89)"
   ]
  },
  {
   "cell_type": "code",
   "execution_count": 40,
   "id": "254a2cbb-cab1-4a24-a412-ac88334695a8",
   "metadata": {
    "tags": []
   },
   "outputs": [
    {
     "ename": "AttributeError",
     "evalue": "type object 'pw4' has no attribute 'details'",
     "output_type": "error",
     "traceback": [
      "\u001b[1;31m---------------------------------------------------------------------------\u001b[0m",
      "\u001b[1;31mAttributeError\u001b[0m                            Traceback (most recent call last)",
      "Cell \u001b[1;32mIn[40], line 1\u001b[0m\n\u001b[1;32m----> 1\u001b[0m \u001b[38;5;28mdelattr\u001b[39m(pw4,\u001b[38;5;124m\"\u001b[39m\u001b[38;5;124mdetails\u001b[39m\u001b[38;5;124m\"\u001b[39m)\n",
      "\u001b[1;31mAttributeError\u001b[0m: type object 'pw4' has no attribute 'details'"
     ]
    }
   ],
   "source": [
    "delattr(pw4,\"details\")"
   ]
  },
  {
   "cell_type": "code",
   "execution_count": 41,
   "id": "5f3775ed-6b82-4e87-bdb1-dbe0ce42484b",
   "metadata": {
    "tags": []
   },
   "outputs": [
    {
     "data": {
      "text/plain": [
       "8095343487"
      ]
     },
     "execution_count": 41,
     "metadata": {},
     "output_type": "execute_result"
    }
   ],
   "source": [
    "pw4.mbl"
   ]
  },
  {
   "cell_type": "code",
   "execution_count": 42,
   "id": "8333a83a-d1e1-4e34-babc-2747eb02241e",
   "metadata": {
    "tags": []
   },
   "outputs": [],
   "source": [
    "delattr(pw4,\"mbl\")"
   ]
  },
  {
   "cell_type": "code",
   "execution_count": 43,
   "id": "166b6841-a789-4660-af92-247947ca8166",
   "metadata": {
    "tags": []
   },
   "outputs": [
    {
     "ename": "AttributeError",
     "evalue": "type object 'pw4' has no attribute 'mbl'",
     "output_type": "error",
     "traceback": [
      "\u001b[1;31m---------------------------------------------------------------------------\u001b[0m",
      "\u001b[1;31mAttributeError\u001b[0m                            Traceback (most recent call last)",
      "Cell \u001b[1;32mIn[43], line 1\u001b[0m\n\u001b[1;32m----> 1\u001b[0m pw4\u001b[38;5;241m.\u001b[39mmbl\n",
      "\u001b[1;31mAttributeError\u001b[0m: type object 'pw4' has no attribute 'mbl'"
     ]
    }
   ],
   "source": [
    "pw4.mbl"
   ]
  },
  {
   "cell_type": "code",
   "execution_count": 44,
   "id": "0dc9f517-b74f-4aff-b644-fb77d498ae27",
   "metadata": {
    "tags": []
   },
   "outputs": [],
   "source": [
    "delattr(pw4,\"student_details\")"
   ]
  },
  {
   "cell_type": "code",
   "execution_count": 45,
   "id": "4bece3a2-b4b0-44af-88da-4a274acaffbc",
   "metadata": {
    "tags": []
   },
   "outputs": [
    {
     "ename": "AttributeError",
     "evalue": "type object 'pw4' has no attribute 'student_details'",
     "output_type": "error",
     "traceback": [
      "\u001b[1;31m---------------------------------------------------------------------------\u001b[0m",
      "\u001b[1;31mAttributeError\u001b[0m                            Traceback (most recent call last)",
      "Cell \u001b[1;32mIn[45], line 1\u001b[0m\n\u001b[1;32m----> 1\u001b[0m pw4\u001b[38;5;241m.\u001b[39mstudent_details()\n",
      "\u001b[1;31mAttributeError\u001b[0m: type object 'pw4' has no attribute 'student_details'"
     ]
    }
   ],
   "source": [
    "pw4.student_details()"
   ]
  },
  {
   "cell_type": "code",
   "execution_count": null,
   "id": "775c805d-3ef0-43e1-b388-4f2e06f64344",
   "metadata": {},
   "outputs": [],
   "source": []
  }
 ],
 "metadata": {
  "kernelspec": {
   "display_name": "Python 3 (ipykernel)",
   "language": "python",
   "name": "python3"
  },
  "language_info": {
   "codemirror_mode": {
    "name": "ipython",
    "version": 3
   },
   "file_extension": ".py",
   "mimetype": "text/x-python",
   "name": "python",
   "nbconvert_exporter": "python",
   "pygments_lexer": "ipython3",
   "version": "3.11.3"
  }
 },
 "nbformat": 4,
 "nbformat_minor": 5
}
