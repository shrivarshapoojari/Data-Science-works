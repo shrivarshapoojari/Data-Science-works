{
 "cells": [
  {
   "cell_type": "code",
   "execution_count": 6,
   "id": "cbfe19e0-bb9e-488e-9fe3-70dab2895e09",
   "metadata": {
    "tags": []
   },
   "outputs": [],
   "source": [
    "# used to read and write large files\n",
    "# allows read and write data in chunk"
   ]
  },
  {
   "cell_type": "code",
   "execution_count": 2,
   "id": "0984c096-febc-4362-969d-d26a781c2581",
   "metadata": {
    "tags": []
   },
   "outputs": [],
   "source": [
    "import io"
   ]
  },
  {
   "cell_type": "code",
   "execution_count": 3,
   "id": "bfdec065-876d-4267-a237-72dd257aa09c",
   "metadata": {
    "tags": []
   },
   "outputs": [],
   "source": [
    "with open(\"test5.txt\",\"wb\") as f:\n",
    "    file=io.BufferedWriter(f)\n",
    "    file.write(b\"This is b write\")\n",
    "    file.write(b\" t"
   ]
  },
  {
   "cell_type": "code",
   "execution_count": 12,
   "id": "5d0a7aef-e82f-4e4d-8ed9-767229ba2aad",
   "metadata": {},
   "outputs": [
    {
     "name": "stdout",
     "output_type": "stream",
     "text": [
      "b'This is b '\n"
     ]
    }
   ],
   "source": [
    "with open(\"test5.txt\",\"rb\") as f:\n",
    "     file = io.BufferedReader(f)\n",
    "     data=file.read(10) # reds 10 bytes\n",
    "     print(data)\n",
    "    \n",
    "  \n",
    "    "
   ]
  },
  {
   "cell_type": "markdown",
   "id": "643be748-a15a-4e63-8e42-dcb1ba585967",
   "metadata": {},
   "source": [
    "## LOGGING AND DEBUGGER"
   ]
  },
  {
   "cell_type": "code",
   "execution_count": 1,
   "id": "1abcebfc-50bb-435c-b004-11a3e1c996d1",
   "metadata": {
    "tags": []
   },
   "outputs": [],
   "source": [
    "import logging"
   ]
  },
  {
   "cell_type": "code",
   "execution_count": 2,
   "id": "f918558a-4c0f-43d8-8283-0712e9e2bd7e",
   "metadata": {
    "tags": []
   },
   "outputs": [],
   "source": [
    "logging.basicConfig(filename=\"test6.log\",level=logging.INFO)"
   ]
  },
  {
   "cell_type": "code",
   "execution_count": 3,
   "id": "49e253d8-5e7a-4ccb-b771-d9293323d004",
   "metadata": {
    "tags": []
   },
   "outputs": [],
   "source": [
    "logging.info(\"This is my line of exec\")"
   ]
  },
  {
   "cell_type": "code",
   "execution_count": 4,
   "id": "f90115bc-2006-41b8-9faa-766672ff4b2c",
   "metadata": {},
   "outputs": [],
   "source": [
    "logging.error(\"Error\")"
   ]
  },
  {
   "cell_type": "code",
   "execution_count": 5,
   "id": "7802658a-b6c3-49b4-8f8a-f85b4726ea78",
   "metadata": {},
   "outputs": [],
   "source": [
    "logging.critical(\"CRITICAL\")"
   ]
  },
  {
   "cell_type": "code",
   "execution_count": 6,
   "id": "8ef5cd46-eafe-42c1-8755-b106ab000d82",
   "metadata": {
    "tags": []
   },
   "outputs": [],
   "source": [
    "logging.warning(\"THIS IS WARNING\")"
   ]
  },
  {
   "cell_type": "code",
   "execution_count": 7,
   "id": "1e68b98e-bf7a-487b-8896-4bc9595a05b1",
   "metadata": {
    "tags": []
   },
   "outputs": [],
   "source": [
    "logging.debug(\"This is debug\")\n",
    "# debug info wont be added in filebecause we have set looging lable as info.. so only things coming below info in heirarchy will be logged. all others will be ignored"
   ]
  },
  {
   "cell_type": "markdown",
   "id": "6ff60940-08ba-4a78-a445-a2542f582bf5",
   "metadata": {},
   "source": [
    " HEIRARCHY\n",
    "1. NOSET\n",
    "2.DEBUG\n",
    "3.INFO\n",
    "4.WARNING\n",
    "5.ERROR\n",
    "6.CRITICAL\n"
   ]
  },
  {
   "cell_type": "code",
   "execution_count": 10,
   "id": "a23f7c09-6157-44f1-ba80-9c97d35976a0",
   "metadata": {
    "tags": []
   },
   "outputs": [],
   "source": [
    "logging.shutdown() # stops logging"
   ]
  },
  {
   "cell_type": "code",
   "execution_count": 12,
   "id": "fa17b383-ec7d-4675-848a-bc82e7268408",
   "metadata": {},
   "outputs": [],
   "source": [
    "logging.basicConfig(filename=\"testn.log\", level = logging.DEBUG ,format='%(asctime)s %(message)s') # logs time with messages"
   ]
  },
  {
   "cell_type": "code",
   "execution_count": 13,
   "id": "ec880126-474b-4235-9b87-db6d2b6c6232",
   "metadata": {
    "tags": []
   },
   "outputs": [],
   "source": [
    "logging.info(\"infologs\")"
   ]
  },
  {
   "cell_type": "code",
   "execution_count": 22,
   "id": "4641f6d1-dca6-46bd-9f90-295ca6f9080d",
   "metadata": {},
   "outputs": [],
   "source": [
    "logging.debug(\"debug info\")"
   ]
  },
  {
   "cell_type": "code",
   "execution_count": 24,
   "id": "fb66236e-460c-4248-aca7-d0dde79f596f",
   "metadata": {},
   "outputs": [],
   "source": [
    "logging.shutdown()"
   ]
  },
  {
   "cell_type": "code",
   "execution_count": 2,
   "id": "e00ed351-daf6-4ebd-bf1c-b5ca61efd5ef",
   "metadata": {
    "tags": []
   },
   "outputs": [],
   "source": [
    "logging.basicConfig(filename=\"test8.log\",level=logging.DEBUG, format='%(asctime)s%(name)s%(levelname)s %(message)s')"
   ]
  },
  {
   "cell_type": "code",
   "execution_count": 5,
   "id": "6a9982e7-f744-44e0-98a1-e4611a8f4659",
   "metadata": {
    "tags": []
   },
   "outputs": [],
   "source": [
    "logging.info(\"INFO LOGS\")"
   ]
  },
  {
   "cell_type": "code",
   "execution_count": 14,
   "id": "a49d108a-d75e-4e96-8fdd-0c7cd64102a4",
   "metadata": {
    "tags": []
   },
   "outputs": [],
   "source": [
    "l=[1,2,3,4,[4,5,6],\"Shri\",\"Varsha\"]"
   ]
  },
  {
   "cell_type": "code",
   "execution_count": 17,
   "id": "51815a64-e92e-44d2-ad2d-1b42bd87b8c2",
   "metadata": {
    "tags": []
   },
   "outputs": [],
   "source": [
    "l1_int=[]\n",
    "l2_str=[]\n",
    "for i in l:\n",
    "    logging.info(\"Start of first loop{}\".format(l))\n",
    "    logging.info(\"Value of i {}\n",
    "    if type(i)==list:\n",
    "        for j in i:\n",
    "            if type(j)==int:\n",
    "                l1_int.append(j)\n",
    "    elif type(i)==int:\n",
    "        l1_int.append(i)\n",
    "    else :\n",
    "        if type(i)==str:\n",
    "            l2_str.append(i)\n",
    "            "
   ]
  },
  {
   "cell_type": "code",
   "execution_count": 18,
   "id": "955903e0-9eb1-4ed4-a705-02362ab1e3b1",
   "metadata": {
    "tags": []
   },
   "outputs": [
    {
     "data": {
      "text/plain": [
       "[1, 2, 3, 4, 4, 5, 6]"
      ]
     },
     "execution_count": 18,
     "metadata": {},
     "output_type": "execute_result"
    }
   ],
   "source": [
    "l1_int\n"
   ]
  },
  {
   "cell_type": "code",
   "execution_count": 10,
   "id": "2da53956-9366-43b2-8806-3217a18f9640",
   "metadata": {
    "tags": []
   },
   "outputs": [
    {
     "data": {
      "text/plain": [
       "['Shri', 'Varsha']"
      ]
     },
     "execution_count": 10,
     "metadata": {},
     "output_type": "execute_result"
    }
   ],
   "source": [
    "l2_str"
   ]
  },
  {
   "cell_type": "code",
   "execution_count": null,
   "id": "a2863735-10e1-44ef-a2a5-35992daa35cb",
   "metadata": {},
   "outputs": [],
   "source": []
  }
 ],
 "metadata": {
  "kernelspec": {
   "display_name": "Python 3 (ipykernel)",
   "language": "python",
   "name": "python3"
  },
  "language_info": {
   "codemirror_mode": {
    "name": "ipython",
    "version": 3
   },
   "file_extension": ".py",
   "mimetype": "text/x-python",
   "name": "python",
   "nbconvert_exporter": "python",
   "pygments_lexer": "ipython3",
   "version": "3.11.3"
  }
 },
 "nbformat": 4,
 "nbformat_minor": 5
}
