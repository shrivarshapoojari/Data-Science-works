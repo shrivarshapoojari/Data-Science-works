{
 "cells": [
  {
   "cell_type": "code",
   "execution_count": 1,
   "id": "1cce8ec9-b87f-44bd-ad0d-1c8fd0f89bf1",
   "metadata": {
    "tags": []
   },
   "outputs": [],
   "source": [
    "f=open(\"test.txt\",\"w\")  # w mode deletes existing file by deleting previous info"
   ]
  },
  {
   "cell_type": "code",
   "execution_count": 2,
   "id": "f8c4f93e-d1ef-4f55-8e81-c643d6fd75e7",
   "metadata": {
    "tags": []
   },
   "outputs": [
    {
     "data": {
      "text/plain": [
       "'C:\\\\Users\\\\shree\\\\Python\\\\Lecture Notes\\\\OOPS\\\\FileHandling'"
      ]
     },
     "execution_count": 2,
     "metadata": {},
     "output_type": "execute_result"
    }
   ],
   "source": [
    "pwd   ## present working directory"
   ]
  },
  {
   "cell_type": "code",
   "execution_count": 3,
   "id": "2359ec96-4938-4178-8b82-f92c1d5fd2eb",
   "metadata": {
    "tags": []
   },
   "outputs": [
    {
     "name": "stdout",
     "output_type": "stream",
     "text": [
      " Volume in drive C is Windows\n",
      " Volume Serial Number is 96E0-2891\n",
      "\n",
      " Directory of C:\\Users\\shree\\Python\\Lecture Notes\\OOPS\\FileHandling\n",
      "\n",
      "12-08-2023  19:28    <DIR>          .\n",
      "12-08-2023  19:23    <DIR>          ..\n",
      "12-08-2023  19:24    <DIR>          .ipynb_checkpoints\n",
      "12-08-2023  19:25                 0 test.txt\n",
      "12-08-2023  19:28             1,294 Working with Files.ipynb\n",
      "               2 File(s)          1,294 bytes\n",
      "               3 Dir(s)  260,139,753,472 bytes free\n"
     ]
    }
   ],
   "source": [
    "ls"
   ]
  },
  {
   "cell_type": "code",
   "execution_count": 4,
   "id": "3833668e-9d74-4b8f-ae97-f23add0f92c5",
   "metadata": {
    "tags": []
   },
   "outputs": [
    {
     "data": {
      "text/plain": [
       "13"
      ]
     },
     "execution_count": 4,
     "metadata": {},
     "output_type": "execute_result"
    }
   ],
   "source": [
    "f.write(\"THis is first\")"
   ]
  },
  {
   "cell_type": "code",
   "execution_count": 5,
   "id": "a4d6f1d0-6e68-4f2b-b8f6-f3442065efba",
   "metadata": {
    "tags": []
   },
   "outputs": [],
   "source": [
    "f.close()"
   ]
  },
  {
   "cell_type": "code",
   "execution_count": 6,
   "id": "4cd7136e-b05c-4a4c-883f-55cead506570",
   "metadata": {
    "tags": []
   },
   "outputs": [],
   "source": [
    "# a mode appends info to the file without deleting existing info"
   ]
  },
  {
   "cell_type": "code",
   "execution_count": 7,
   "id": "26275d06-d700-4728-9c1c-842fa058436a",
   "metadata": {
    "tags": []
   },
   "outputs": [],
   "source": [
    "data=open(\"test.txt\",\"r\") # reading"
   ]
  },
  {
   "cell_type": "code",
   "execution_count": 8,
   "id": "14b86767-bfb2-4b38-8ab6-bbe00825e7b2",
   "metadata": {
    "tags": []
   },
   "outputs": [
    {
     "data": {
      "text/plain": [
       "'THis is first'"
      ]
     },
     "execution_count": 8,
     "metadata": {},
     "output_type": "execute_result"
    }
   ],
   "source": [
    "data.read()"
   ]
  },
  {
   "cell_type": "code",
   "execution_count": 10,
   "id": "f5a2024b-fc43-47b0-a56c-3a4bb7f03576",
   "metadata": {
    "tags": []
   },
   "outputs": [
    {
     "data": {
      "text/plain": [
       "''"
      ]
     },
     "execution_count": 10,
     "metadata": {},
     "output_type": "execute_result"
    }
   ],
   "source": [
    "data.read() # from the above operation the cursor will be at end ...so no info printed if we do read operation"
   ]
  },
  {
   "cell_type": "code",
   "execution_count": 11,
   "id": "4138b334-3e0a-4cb7-994e-f3626a530499",
   "metadata": {
    "tags": []
   },
   "outputs": [],
   "source": [
    "# to reset cursor use seek operation"
   ]
  },
  {
   "cell_type": "code",
   "execution_count": 12,
   "id": "d8dd4c00-8869-46d5-9629-5f4c33196222",
   "metadata": {
    "tags": []
   },
   "outputs": [
    {
     "data": {
      "text/plain": [
       "0"
      ]
     },
     "execution_count": 12,
     "metadata": {},
     "output_type": "execute_result"
    }
   ],
   "source": [
    "data.seek(0)  # moves cursor to beginning"
   ]
  },
  {
   "cell_type": "code",
   "execution_count": 13,
   "id": "84092cf6-435e-4223-bc8a-2e77f17ad6a3",
   "metadata": {
    "tags": []
   },
   "outputs": [
    {
     "data": {
      "text/plain": [
       "'THis is first'"
      ]
     },
     "execution_count": 13,
     "metadata": {},
     "output_type": "execute_result"
    }
   ],
   "source": [
    "data.read()"
   ]
  },
  {
   "cell_type": "code",
   "execution_count": 14,
   "id": "38090dc3-62e2-49ae-bfa5-e6379a8f0b38",
   "metadata": {
    "tags": []
   },
   "outputs": [],
   "source": [
    "import os\n"
   ]
  },
  {
   "cell_type": "code",
   "execution_count": 16,
   "id": "54592760-706f-4c45-8a7e-d2682d830519",
   "metadata": {
    "tags": []
   },
   "outputs": [
    {
     "data": {
      "text/plain": [
       "13"
      ]
     },
     "execution_count": 16,
     "metadata": {},
     "output_type": "execute_result"
    }
   ],
   "source": [
    "os.path.getsize(\"test.txt\") # gives size of file in bytes"
   ]
  },
  {
   "cell_type": "code",
   "execution_count": 17,
   "id": "3b071cb1-c4e2-4fe2-b780-74ca8fa66411",
   "metadata": {
    "tags": []
   },
   "outputs": [],
   "source": [
    "import shutil"
   ]
  },
  {
   "cell_type": "code",
   "execution_count": 19,
   "id": "2549f2ae-72eb-42aa-aeb9-30d5f02ada69",
   "metadata": {
    "tags": []
   },
   "outputs": [
    {
     "data": {
      "text/plain": [
       "'new.txt'"
      ]
     },
     "execution_count": 19,
     "metadata": {},
     "output_type": "execute_result"
    }
   ],
   "source": [
    "shutil.copy(\"test.txt\",\"new.txt\")  # copy the text text.txt"
   ]
  },
  {
   "cell_type": "code",
   "execution_count": 20,
   "id": "906536ea-ea5d-4b73-a941-751aa61d6e1e",
   "metadata": {
    "tags": []
   },
   "outputs": [],
   "source": [
    "# remove file"
   ]
  },
  {
   "cell_type": "code",
   "execution_count": 21,
   "id": "5f631fd2-94e9-42dd-a4ec-5a634841d7bb",
   "metadata": {
    "tags": []
   },
   "outputs": [
    {
     "ename": "PermissionError",
     "evalue": "[WinError 32] The process cannot access the file because it is being used by another process: 'test.txt'",
     "output_type": "error",
     "traceback": [
      "\u001b[1;31m---------------------------------------------------------------------------\u001b[0m",
      "\u001b[1;31mPermissionError\u001b[0m                           Traceback (most recent call last)",
      "Cell \u001b[1;32mIn[21], line 1\u001b[0m\n\u001b[1;32m----> 1\u001b[0m os\u001b[38;5;241m.\u001b[39mremove(\u001b[38;5;124m\"\u001b[39m\u001b[38;5;124mtest.txt\u001b[39m\u001b[38;5;124m\"\u001b[39m)\n",
      "\u001b[1;31mPermissionError\u001b[0m: [WinError 32] The process cannot access the file because it is being used by another process: 'test.txt'"
     ]
    }
   ],
   "source": [
    "os.remove(\"test.txt\")"
   ]
  },
  {
   "cell_type": "code",
   "execution_count": 22,
   "id": "c9f6c997-247e-4c1d-af76-a4edf9c0b20d",
   "metadata": {
    "tags": []
   },
   "outputs": [
    {
     "ename": "PermissionError",
     "evalue": "[WinError 32] The process cannot access the file because it is being used by another process: 'test.txt' -> 'test1.txt'",
     "output_type": "error",
     "traceback": [
      "\u001b[1;31m---------------------------------------------------------------------------\u001b[0m",
      "\u001b[1;31mPermissionError\u001b[0m                           Traceback (most recent call last)",
      "Cell \u001b[1;32mIn[22], line 1\u001b[0m\n\u001b[1;32m----> 1\u001b[0m os\u001b[38;5;241m.\u001b[39mrename(\u001b[38;5;124m\"\u001b[39m\u001b[38;5;124mtest.txt\u001b[39m\u001b[38;5;124m\"\u001b[39m,\u001b[38;5;124m\"\u001b[39m\u001b[38;5;124mtest1.txt\u001b[39m\u001b[38;5;124m\"\u001b[39m)\n",
      "\u001b[1;31mPermissionError\u001b[0m: [WinError 32] The process cannot access the file because it is being used by another process: 'test.txt' -> 'test1.txt'"
     ]
    }
   ],
   "source": [
    "os.rename(\"test.txt\",\"test1.txt\")"
   ]
  },
  {
   "cell_type": "code",
   "execution_count": null,
   "id": "3430dd85-badb-4aa1-92a4-626e5d88765b",
   "metadata": {},
   "outputs": [],
   "source": []
  }
 ],
 "metadata": {
  "kernelspec": {
   "display_name": "Python 3 (ipykernel)",
   "language": "python",
   "name": "python3"
  },
  "language_info": {
   "codemirror_mode": {
    "name": "ipython",
    "version": 3
   },
   "file_extension": ".py",
   "mimetype": "text/x-python",
   "name": "python",
   "nbconvert_exporter": "python",
   "pygments_lexer": "ipython3",
   "version": "3.11.3"
  }
 },
 "nbformat": 4,
 "nbformat_minor": 5
}
