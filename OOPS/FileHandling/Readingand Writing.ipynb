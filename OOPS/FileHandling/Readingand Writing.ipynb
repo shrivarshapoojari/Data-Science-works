{
 "cells": [
  {
   "cell_type": "code",
   "execution_count": 2,
   "id": "5d13a4a8-7eb6-4b91-b57d-1a9159200697",
   "metadata": {
    "tags": []
   },
   "outputs": [],
   "source": [
    "data={\n",
    "    \"name\":\"Shri\",\n",
    "    \"mail\":\"80953434\",\n",
    "    \"subject\":[\"ds\",\"wb\"]\n",
    "}"
   ]
  },
  {
   "cell_type": "code",
   "execution_count": 3,
   "id": "07542740-17e9-4907-81c5-972caf6f50eb",
   "metadata": {
    "tags": []
   },
   "outputs": [],
   "source": [
    "import json"
   ]
  },
  {
   "cell_type": "code",
   "execution_count": 5,
   "id": "a268162a-0461-47d3-8deb-a0a9d445120f",
   "metadata": {
    "tags": []
   },
   "outputs": [],
   "source": [
    "with open(\"test1.json \",\"w\") as f :\n",
    "    json.dump(data,f)  # dumps above data into f"
   ]
  },
  {
   "cell_type": "code",
   "execution_count": 10,
   "id": "54c9d595-9c6a-4004-bff6-a95789e89cac",
   "metadata": {
    "tags": []
   },
   "outputs": [],
   "source": [
    "with open(\"test1.json\",\"r\") as f:\n",
    "    data1=json.load(f)   # loads test1.json for data"
   ]
  },
  {
   "cell_type": "code",
   "execution_count": 11,
   "id": "dedb1008-8f3b-4e35-af3e-59578eae95e3",
   "metadata": {
    "tags": []
   },
   "outputs": [
    {
     "data": {
      "text/plain": [
       "{'name': 'Shri', 'mail': '80953434', 'subject': ['ds', 'wb']}"
      ]
     },
     "execution_count": 11,
     "metadata": {},
     "output_type": "execute_result"
    }
   ],
   "source": [
    "data1"
   ]
  },
  {
   "cell_type": "code",
   "execution_count": 13,
   "id": "bde4c279-043a-432e-9573-bf8b1245ca72",
   "metadata": {
    "tags": []
   },
   "outputs": [
    {
     "data": {
      "text/plain": [
       "'wb'"
      ]
     },
     "execution_count": 13,
     "metadata": {},
     "output_type": "execute_result"
    }
   ],
   "source": [
    "data1[\"subject\"][1]"
   ]
  },
  {
   "cell_type": "code",
   "execution_count": 15,
   "id": "9b0a442b-ea2a-41b0-a995-74f9cf871047",
   "metadata": {
    "tags": []
   },
   "outputs": [],
   "source": [
    "# store data in csv\n",
    "data2=[[\"name\",\"email\",\"number\"],\n",
    "       [\"shri\",\"Shri@gm\",90988],\n",
    "       [\"varsha\",\"Varsha@gm\",897878]]"
   ]
  },
  {
   "cell_type": "code",
   "execution_count": 16,
   "id": "a6b9f6f4-9f33-4477-a66f-6052d8d01b17",
   "metadata": {
    "tags": []
   },
   "outputs": [],
   "source": [
    "import csv"
   ]
  },
  {
   "cell_type": "code",
   "execution_count": 18,
   "id": "46079a3e-53b1-4923-9db9-f79612d00f72",
   "metadata": {
    "tags": []
   },
   "outputs": [],
   "source": [
    "with open(\"test2.csv\",\"w\") as f:\n",
    "    r=csv.writer(f)   # here r can be ur name or any alphabet\n",
    "    for i in data2:\n",
    "        r.writerow(i)"
   ]
  },
  {
   "cell_type": "code",
   "execution_count": 24,
   "id": "23e85ed9-d961-46b3-aa7b-3253c76e0e9c",
   "metadata": {
    "tags": []
   },
   "outputs": [
    {
     "name": "stdout",
     "output_type": "stream",
     "text": [
      "['name', 'email', 'number']\n",
      "[]\n",
      "['shri', 'Shri@gm', '90988']\n",
      "[]\n",
      "['varsha', 'Varsha@gm', '897878']\n",
      "[]\n"
     ]
    }
   ],
   "source": [
    "with open(\"test2.csv\",\"r\") as f:\n",
    "          read=csv.reader(f)\n",
    "          for i in read :\n",
    "                print(i)\n",
    "           "
   ]
  },
  {
   "cell_type": "code",
   "execution_count": 25,
   "id": "7d8f3ad6-ba70-4a52-a567-2f23839aaa1e",
   "metadata": {
    "tags": []
   },
   "outputs": [],
   "source": [
    "# binary read and write"
   ]
  },
  {
   "cell_type": "code",
   "execution_count": 26,
   "id": "1b271a01-b518-4665-b439-80c76ccc7582",
   "metadata": {
    "tags": []
   },
   "outputs": [],
   "source": [
    "with open(\"test4.bin\",\"wb\") as f: \n",
    "    f.write(b\"\\x01\\x02\\x03\")\n",
    "    # wb means write binary"
   ]
  },
  {
   "cell_type": "code",
   "execution_count": 28,
   "id": "6cddfe36-3cae-42b6-9389-ad5275598496",
   "metadata": {
    "tags": []
   },
   "outputs": [
    {
     "name": "stdout",
     "output_type": "stream",
     "text": [
      "b''\n"
     ]
    }
   ],
   "source": [
    "with open(\"test4.bin\",\"rb\") as f:\n",
    "    print(f.read())"
   ]
  },
  {
   "cell_type": "code",
   "execution_count": null,
   "id": "9227660f-0f53-4cd7-aa02-5837cd730a43",
   "metadata": {},
   "outputs": [],
   "source": []
  }
 ],
 "metadata": {
  "kernelspec": {
   "display_name": "Python 3 (ipykernel)",
   "language": "python",
   "name": "python3"
  },
  "language_info": {
   "codemirror_mode": {
    "name": "ipython",
    "version": 3
   },
   "file_extension": ".py",
   "mimetype": "text/x-python",
   "name": "python",
   "nbconvert_exporter": "python",
   "pygments_lexer": "ipython3",
   "version": "3.11.3"
  }
 },
 "nbformat": 4,
 "nbformat_minor": 5
}
