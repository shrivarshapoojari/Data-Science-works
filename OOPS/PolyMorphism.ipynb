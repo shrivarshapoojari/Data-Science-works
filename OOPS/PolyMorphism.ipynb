{
 "cells": [
  {
   "cell_type": "code",
   "execution_count": 2,
   "id": "ea66fa95-7aa2-448f-9f0a-fe8b4dfba7c0",
   "metadata": {
    "tags": []
   },
   "outputs": [],
   "source": [
    "def test(a,b):\n",
    "    return a+b"
   ]
  },
  {
   "cell_type": "code",
   "execution_count": 3,
   "id": "72287fcc-577f-49fe-9b1f-76732d11a933",
   "metadata": {
    "tags": []
   },
   "outputs": [
    {
     "data": {
      "text/plain": [
       "9"
      ]
     },
     "execution_count": 3,
     "metadata": {},
     "output_type": "execute_result"
    }
   ],
   "source": [
    "test(4,5)"
   ]
  },
  {
   "cell_type": "code",
   "execution_count": 4,
   "id": "33f29db4-e0e8-44f9-a6b4-9250f3d6527f",
   "metadata": {
    "tags": []
   },
   "outputs": [
    {
     "data": {
      "text/plain": [
       "'Shrivarsha'"
      ]
     },
     "execution_count": 4,
     "metadata": {},
     "output_type": "execute_result"
    }
   ],
   "source": [
    "test(\"Shri\",\"varsha\")"
   ]
  },
  {
   "cell_type": "code",
   "execution_count": 6,
   "id": "2fce49c6-6fa4-422b-95c1-5edcb087e60d",
   "metadata": {
    "tags": []
   },
   "outputs": [],
   "source": [
    "class ds:\n",
    "    def syl(self):\n",
    "        print(\"Ds syl\")"
   ]
  },
  {
   "cell_type": "code",
   "execution_count": 7,
   "id": "6aa83ca5-d90a-4819-a100-485bf5c1fe00",
   "metadata": {
    "tags": []
   },
   "outputs": [],
   "source": [
    "class wb:\n",
    "    def syl(self):\n",
    "        print(\"wb syl\")"
   ]
  },
  {
   "cell_type": "code",
   "execution_count": 8,
   "id": "03755ea0-44ab-432f-8fe3-641595a5c567",
   "metadata": {
    "tags": []
   },
   "outputs": [],
   "source": [
    "def cls(clsob):\n",
    "    for i in clsob:\n",
    "        i.syl()"
   ]
  },
  {
   "cell_type": "code",
   "execution_count": 11,
   "id": "4bd1d63f-c2da-44c4-b37b-6cc91577acbf",
   "metadata": {
    "tags": []
   },
   "outputs": [],
   "source": [
    "s=ds()\n",
    "w=wb()"
   ]
  },
  {
   "cell_type": "code",
   "execution_count": 12,
   "id": "5345740d-3bfd-4f7f-94c7-65cd99b168b1",
   "metadata": {
    "tags": []
   },
   "outputs": [],
   "source": [
    "clslist=[s,w]"
   ]
  },
  {
   "cell_type": "code",
   "execution_count": 13,
   "id": "8192f6e6-c838-415b-b53d-71ec73865ce8",
   "metadata": {
    "tags": []
   },
   "outputs": [
    {
     "name": "stdout",
     "output_type": "stream",
     "text": [
      "Ds syl\n",
      "wb syl\n"
     ]
    }
   ],
   "source": [
    "cls(clslist)"
   ]
  },
  {
   "cell_type": "code",
   "execution_count": null,
   "id": "11593259-f4ed-48a0-836a-d367835385c4",
   "metadata": {},
   "outputs": [],
   "source": []
  }
 ],
 "metadata": {
  "kernelspec": {
   "display_name": "Python 3 (ipykernel)",
   "language": "python",
   "name": "python3"
  },
  "language_info": {
   "codemirror_mode": {
    "name": "ipython",
    "version": 3
   },
   "file_extension": ".py",
   "mimetype": "text/x-python",
   "name": "python",
   "nbconvert_exporter": "python",
   "pygments_lexer": "ipython3",
   "version": "3.11.3"
  }
 },
 "nbformat": 4,
 "nbformat_minor": 5
}
