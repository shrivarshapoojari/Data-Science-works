{
 "cells": [
  {
   "cell_type": "code",
   "execution_count": 2,
   "id": "69974c11-3a24-4a27-83d5-899cc92b174e",
   "metadata": {
    "tags": []
   },
   "outputs": [],
   "source": [
    "class test :\n",
    "    pass"
   ]
  },
  {
   "cell_type": "code",
   "execution_count": 3,
   "id": "18a1bb97-41cc-451b-8088-4b5881aef9e0",
   "metadata": {
    "tags": []
   },
   "outputs": [],
   "source": [
    "a=test()"
   ]
  },
  {
   "cell_type": "code",
   "execution_count": 4,
   "id": "82a84d81-97b3-47d2-8a38-b573ba880eda",
   "metadata": {
    "tags": []
   },
   "outputs": [
    {
     "name": "stdout",
     "output_type": "stream",
     "text": [
      "<class '__main__.test'>\n"
     ]
    }
   ],
   "source": [
    "print(type(a))"
   ]
  },
  {
   "cell_type": "code",
   "execution_count": 11,
   "id": "4145a616-81f5-4d08-b3b6-85328a6b2d7b",
   "metadata": {
    "tags": []
   },
   "outputs": [],
   "source": [
    "class pwskills:\n",
    "    def welcome_msg(self):\n",
    "        print(\"Welcome to physicswallah\")"
   ]
  },
  {
   "cell_type": "code",
   "execution_count": 13,
   "id": "40600a8b-8f73-42c3-935c-879798fe27ee",
   "metadata": {
    "tags": []
   },
   "outputs": [],
   "source": [
    "rohan=pwskills()"
   ]
  },
  {
   "cell_type": "code",
   "execution_count": 14,
   "id": "daf19cd6-9ad6-452c-9657-5c6cf04abdb9",
   "metadata": {
    "tags": []
   },
   "outputs": [
    {
     "name": "stdout",
     "output_type": "stream",
     "text": [
      "Welcome to physicswallah\n"
     ]
    }
   ],
   "source": [
    "rohan.welcome_msg()"
   ]
  },
  {
   "cell_type": "markdown",
   "id": "e2cabb3f-1e18-46cb-844a-fc5b85dab223",
   "metadata": {},
   "source": [
    "# constructors"
   ]
  },
  {
   "cell_type": "code",
   "execution_count": 19,
   "id": "869a9872-da71-4774-8ce1-fd6a9ae4e5e9",
   "metadata": {
    "tags": []
   },
   "outputs": [],
   "source": [
    "class pw:\n",
    "    def init(self,ph,em,sid):\n",
    "        self.ph=ph\n",
    "        self.em=em\n",
    "        self.eid=eid\n",
    "    def details(self):\n",
    "        return self.ph,self.em,self.eid"
   ]
  },
  {
   "cell_type": "code",
   "execution_count": 20,
   "id": "6a17fb11-18cf-44f6-b473-0be1c3ee171c",
   "metadata": {
    "tags": []
   },
   "outputs": [],
   "source": [
    "p1=pw()"
   ]
  },
  {
   "cell_type": "code",
   "execution_count": 23,
   "id": "8f46e6e0-d2ad-45e6-a448-3b42392606db",
   "metadata": {
    "tags": []
   },
   "outputs": [],
   "source": [
    "p1.init(8095,\"Shrigmial\",\"s123\")"
   ]
  },
  {
   "cell_type": "code",
   "execution_count": 24,
   "id": "d791f816-621f-4c6e-b443-6eb6e6998a18",
   "metadata": {
    "tags": []
   },
   "outputs": [
    {
     "data": {
      "text/plain": [
       "(8095, 'Shrigmial', 's123')"
      ]
     },
     "execution_count": 24,
     "metadata": {},
     "output_type": "execute_result"
    }
   ],
   "source": [
    "p1.details()"
   ]
  },
  {
   "cell_type": "code",
   "execution_count": 25,
   "id": "fb9517f2-243f-437b-840b-4b956537ca2d",
   "metadata": {
    "tags": []
   },
   "outputs": [
    {
     "data": {
      "text/plain": [
       "8095"
      ]
     },
     "execution_count": 25,
     "metadata": {},
     "output_type": "execute_result"
    }
   ],
   "source": [
    "p1.ph"
   ]
  },
  {
   "cell_type": "code",
   "execution_count": 26,
   "id": "7a5e6fd0-8b14-480b-a82c-6faa3a97f553",
   "metadata": {
    "tags": []
   },
   "outputs": [
    {
     "data": {
      "text/plain": [
       "'Shrigmial'"
      ]
     },
     "execution_count": 26,
     "metadata": {},
     "output_type": "execute_result"
    }
   ],
   "source": [
    "p1.em"
   ]
  },
  {
   "cell_type": "code",
   "execution_count": 27,
   "id": "432731db-b18d-483a-a094-c5e1e114d611",
   "metadata": {
    "tags": []
   },
   "outputs": [
    {
     "data": {
      "text/plain": [
       "'s123'"
      ]
     },
     "execution_count": 27,
     "metadata": {},
     "output_type": "execute_result"
    }
   ],
   "source": [
    "p1.eid"
   ]
  },
  {
   "cell_type": "code",
   "execution_count": null,
   "id": "5836e80a-766c-4f76-94cd-98172b6dceae",
   "metadata": {
    "tags": []
   },
   "outputs": [],
   "source": [
    " "
   ]
  },
  {
   "cell_type": "code",
   "execution_count": null,
   "id": "11d746a9-6dfa-4d85-ae1b-fc227f9a98be",
   "metadata": {},
   "outputs": [],
   "source": []
  }
 ],
 "metadata": {
  "kernelspec": {
   "display_name": "Python 3 (ipykernel)",
   "language": "python",
   "name": "python3"
  },
  "language_info": {
   "codemirror_mode": {
    "name": "ipython",
    "version": 3
   },
   "file_extension": ".py",
   "mimetype": "text/x-python",
   "name": "python",
   "nbconvert_exporter": "python",
   "pygments_lexer": "ipython3",
   "version": "3.11.3"
  }
 },
 "nbformat": 4,
 "nbformat_minor": 5
}
