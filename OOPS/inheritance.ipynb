{
 "cells": [
  {
   "cell_type": "code",
   "execution_count": 7,
   "id": "44a54628-0d32-4b96-96bb-3b0d125672ee",
   "metadata": {
    "tags": []
   },
   "outputs": [],
   "source": [
    "class parent:\n",
    "    def test_parent(self):\n",
    "        print(\"This is parent\")\n",
    "        "
   ]
  },
  {
   "cell_type": "code",
   "execution_count": 8,
   "id": "708c678a-4c19-4cea-849a-fca32d81c579",
   "metadata": {
    "tags": []
   },
   "outputs": [],
   "source": [
    "class child(parent):\n",
    "       pass"
   ]
  },
  {
   "cell_type": "code",
   "execution_count": 10,
   "id": "85c44825-0039-4234-a5e9-77c22c0c2a3a",
   "metadata": {
    "tags": []
   },
   "outputs": [
    {
     "name": "stdout",
     "output_type": "stream",
     "text": [
      "This is parent\n"
     ]
    }
   ],
   "source": [
    "chobj=child()\n",
    "chobj.test_parent()"
   ]
  },
  {
   "cell_type": "code",
   "execution_count": null,
   "id": "753dfa4e-3caa-4777-94b9-69cff5ecdadc",
   "metadata": {},
   "outputs": [],
   "source": []
  }
 ],
 "metadata": {
  "kernelspec": {
   "display_name": "Python 3 (ipykernel)",
   "language": "python",
   "name": "python3"
  },
  "language_info": {
   "codemirror_mode": {
    "name": "ipython",
    "version": 3
   },
   "file_extension": ".py",
   "mimetype": "text/x-python",
   "name": "python",
   "nbconvert_exporter": "python",
   "pygments_lexer": "ipython3",
   "version": "3.11.3"
  }
 },
 "nbformat": 4,
 "nbformat_minor": 5
}
