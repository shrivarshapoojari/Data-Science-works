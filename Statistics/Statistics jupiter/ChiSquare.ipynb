{
 "cells": [
  {
   "cell_type": "code",
   "execution_count": 2,
   "id": "3cf3d16e-d627-4300-9fa3-b029e4706a95",
   "metadata": {
    "tags": []
   },
   "outputs": [],
   "source": [
    "import scipy.stats as stat\n",
    "import numpy as np"
   ]
  },
  {
   "cell_type": "code",
   "execution_count": 3,
   "id": "38351070-12b3-4195-b2a6-417ea2e31211",
   "metadata": {
    "tags": []
   },
   "outputs": [],
   "source": [
    "# No of hrs student study daily in a week"
   ]
  },
  {
   "cell_type": "code",
   "execution_count": 24,
   "id": "40b6559e-7d36-4004-8a11-8f369a3b140a",
   "metadata": {
    "tags": []
   },
   "outputs": [],
   "source": [
    "#mon,tue,wed,thurs,......\n",
    "expected_data=[8,6,7,9,6,9,7]\n",
    "observed_data=[7,8,6,9,9,6,7]"
   ]
  },
  {
   "cell_type": "code",
   "execution_count": 25,
   "id": "02a2701c-9db0-4585-88e1-797617bdc9a8",
   "metadata": {
    "tags": []
   },
   "outputs": [
    {
     "data": {
      "text/plain": [
       "(52, 52)"
      ]
     },
     "execution_count": 25,
     "metadata": {},
     "output_type": "execute_result"
    }
   ],
   "source": [
    "sum(expected_data),sum(observed_data)"
   ]
  },
  {
   "cell_type": "code",
   "execution_count": 26,
   "id": "a8336fac-f369-4684-aa3d-37a6fc9bade7",
   "metadata": {
    "tags": []
   },
   "outputs": [],
   "source": [
    "# Chi Square\n",
    "chisquare_test_stat,p_value=stat.chisquare(observed_data,expected_data)"
   ]
  },
  {
   "cell_type": "code",
   "execution_count": 12,
   "id": "86ea9bc6-71f0-474e-96b6-0ef35508abd5",
   "metadata": {
    "tags": []
   },
   "outputs": [
    {
     "name": "stdout",
     "output_type": "stream",
     "text": [
      "3.4345238095238093\n",
      "0.7526596580922865\n"
     ]
    },
    {
     "data": {
      "text/plain": [
       "(None, None)"
      ]
     },
     "execution_count": 12,
     "metadata": {},
     "output_type": "execute_result"
    }
   ],
   "source": [
    "print(chisquare_test_stat),print(p_value)"
   ]
  },
  {
   "cell_type": "code",
   "execution_count": 14,
   "id": "41fc1c8e-50e5-41e2-86a7-271644497250",
   "metadata": {
    "tags": []
   },
   "outputs": [],
   "source": [
    "## find critical value\n",
    "significance=0.05\n",
    "dof=6  ## degree of freedom\n",
    "critical_value=stat.chi2.ppf(1-significance,dof)  # built in function to find critical value"
   ]
  },
  {
   "cell_type": "code",
   "execution_count": 17,
   "id": "5182cd3e-78a4-4736-8f75-9f3d5c52944e",
   "metadata": {
    "tags": []
   },
   "outputs": [
    {
     "data": {
      "text/plain": [
       "12.591587243743977"
      ]
     },
     "execution_count": 17,
     "metadata": {},
     "output_type": "execute_result"
    }
   ],
   "source": [
    "critical_value"
   ]
  },
  {
   "cell_type": "code",
   "execution_count": 19,
   "id": "0ee4f3e1-2fe3-44aa-a0b3-ea94564eb7f7",
   "metadata": {
    "tags": []
   },
   "outputs": [
    {
     "data": {
      "text/plain": [
       "3.4345238095238093"
      ]
     },
     "execution_count": 19,
     "metadata": {},
     "output_type": "execute_result"
    }
   ],
   "source": [
    "chisquare_test_stat"
   ]
  },
  {
   "cell_type": "code",
   "execution_count": 16,
   "id": "70472e52-c28f-45d6-82aa-12960a615804",
   "metadata": {
    "tags": []
   },
   "outputs": [
    {
     "name": "stdout",
     "output_type": "stream",
     "text": [
      "Accept null hypothesis\n"
     ]
    }
   ],
   "source": [
    "if(chisquare_test_stat>critical_value):\n",
    "    print(\"Reject null hypothesis\")\n",
    "else:\n",
    "    print(\"Accept null hypothesis\")"
   ]
  },
  {
   "cell_type": "code",
   "execution_count": null,
   "id": "dabfc05f-3adb-4902-907a-6330bba0a9bb",
   "metadata": {},
   "outputs": [],
   "source": []
  },
  {
   "cell_type": "code",
   "execution_count": null,
   "id": "6f496b64-7f92-440e-be9e-f2e0240c0a1a",
   "metadata": {},
   "outputs": [],
   "source": []
  },
  {
   "cell_type": "code",
   "execution_count": null,
   "id": "41d6077f-6e08-4fbb-be89-262f00107a75",
   "metadata": {},
   "outputs": [],
   "source": []
  },
  {
   "cell_type": "code",
   "execution_count": null,
   "id": "81d9f16a-2d55-47d0-9707-f846eec79fa7",
   "metadata": {},
   "outputs": [],
   "source": []
  },
  {
   "cell_type": "code",
   "execution_count": null,
   "id": "fff1f6a4-e42e-4dbc-926e-3ecfffad5181",
   "metadata": {},
   "outputs": [],
   "source": []
  },
  {
   "cell_type": "code",
   "execution_count": null,
   "id": "192eb2e6-4b44-46e5-b57b-626da2fe08b0",
   "metadata": {},
   "outputs": [],
   "source": []
  },
  {
   "cell_type": "code",
   "execution_count": null,
   "id": "f43268bf-daaa-4895-b901-a777ea51c883",
   "metadata": {},
   "outputs": [],
   "source": []
  },
  {
   "cell_type": "code",
   "execution_count": null,
   "id": "7666fde6-688b-4514-8307-fc0f778eb27c",
   "metadata": {},
   "outputs": [],
   "source": []
  },
  {
   "cell_type": "code",
   "execution_count": null,
   "id": "cd40d4cd-37bc-4e20-bef8-aca8b6b19085",
   "metadata": {},
   "outputs": [],
   "source": []
  },
  {
   "cell_type": "code",
   "execution_count": null,
   "id": "47c969ce-fc77-4ff8-bd87-367f04989bbf",
   "metadata": {},
   "outputs": [],
   "source": []
  },
  {
   "cell_type": "code",
   "execution_count": null,
   "id": "e77db659-78a1-4dac-9cce-add8e117ae5a",
   "metadata": {},
   "outputs": [],
   "source": []
  },
  {
   "cell_type": "code",
   "execution_count": null,
   "id": "5c0697aa-ea32-48e3-9ce9-f45343c4f889",
   "metadata": {},
   "outputs": [],
   "source": []
  },
  {
   "cell_type": "code",
   "execution_count": null,
   "id": "87e03dd3-1577-4d52-ac54-172672c92c7f",
   "metadata": {},
   "outputs": [],
   "source": []
  }
 ],
 "metadata": {
  "kernelspec": {
   "display_name": "Python 3 (ipykernel)",
   "language": "python",
   "name": "python3"
  },
  "language_info": {
   "codemirror_mode": {
    "name": "ipython",
    "version": 3
   },
   "file_extension": ".py",
   "mimetype": "text/x-python",
   "name": "python",
   "nbconvert_exporter": "python",
   "pygments_lexer": "ipython3",
   "version": "3.11.3"
  }
 },
 "nbformat": 4,
 "nbformat_minor": 5
}
