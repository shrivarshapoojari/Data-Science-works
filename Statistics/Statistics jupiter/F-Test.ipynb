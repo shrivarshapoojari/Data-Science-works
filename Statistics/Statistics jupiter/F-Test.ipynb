{
 "cells": [
  {
   "cell_type": "code",
   "execution_count": 14,
   "id": "cc616c7c-ee7d-462b-96a1-d036c2361dde",
   "metadata": {
    "tags": []
   },
   "outputs": [],
   "source": [
    "## Number of item produced by workers\n",
    "#Check the worker2 is better than 1\n",
    "\n",
    "worker1=[18,19,22,25,27,28,41,45,51,55]\n",
    "worker2=[14,15,15,17,18,22,25,25,27,34]"
   ]
  },
  {
   "cell_type": "code",
   "execution_count": 4,
   "id": "25b7ca5b-4848-495d-84c8-931fe870794d",
   "metadata": {
    "tags": []
   },
   "outputs": [],
   "source": [
    "import numpy as np\n",
    "f_test=np.var(worker1)/np.var(worker2)"
   ]
  },
  {
   "cell_type": "code",
   "execution_count": 5,
   "id": "b2e71f2e-a1cb-4704-8752-d3fe5e55e90b",
   "metadata": {
    "tags": []
   },
   "outputs": [
    {
     "data": {
      "text/plain": [
       "4.387122002085506"
      ]
     },
     "execution_count": 5,
     "metadata": {},
     "output_type": "execute_result"
    }
   ],
   "source": [
    "f_test"
   ]
  },
  {
   "cell_type": "code",
   "execution_count": null,
   "id": "ea4e47a3-42a1-49c7-8390-0d3e6355b18a",
   "metadata": {},
   "outputs": [],
   "source": [
    "## Degree of freedom"
   ]
  },
  {
   "cell_type": "code",
   "execution_count": 7,
   "id": "c347c3f1-dfab-4e44-82ed-79ddccacade9",
   "metadata": {
    "tags": []
   },
   "outputs": [],
   "source": [
    "\n",
    "df1=len(worker1)-1\n",
    "df2=len(worker2)-1"
   ]
  },
  {
   "cell_type": "code",
   "execution_count": 9,
   "id": "16dd3c54-bf49-471d-b250-b722bcf5e3b6",
   "metadata": {
    "tags": []
   },
   "outputs": [],
   "source": [
    "import scipy.stats as stat\n",
    "significance_val=0.05\n",
    "confidence_interval=1-significance_val"
   ]
  },
  {
   "cell_type": "code",
   "execution_count": 11,
   "id": "eb7664c0-cb4b-4e30-a3d1-1f2207d75b2a",
   "metadata": {
    "tags": []
   },
   "outputs": [],
   "source": [
    "critical=stat.f.ppf(confidence_interval,df1,df2)"
   ]
  },
  {
   "cell_type": "code",
   "execution_count": 12,
   "id": "cfcd99ee-8884-4e1a-949f-38d91ed4f0a0",
   "metadata": {
    "tags": []
   },
   "outputs": [
    {
     "data": {
      "text/plain": [
       "3.178893104458269"
      ]
     },
     "execution_count": 12,
     "metadata": {},
     "output_type": "execute_result"
    }
   ],
   "source": [
    "critical"
   ]
  },
  {
   "cell_type": "code",
   "execution_count": 13,
   "id": "11571479-941a-45ee-8f07-b226ed55c178",
   "metadata": {
    "tags": []
   },
   "outputs": [
    {
     "name": "stdout",
     "output_type": "stream",
     "text": [
      "Reject null hypothesis\n"
     ]
    }
   ],
   "source": [
    "if(f_test>critical):\n",
    "    print(\"Reject null hypothesis\")\n",
    "else:\n",
    "    print(\"Accept null hypothesis\")"
   ]
  },
  {
   "cell_type": "code",
   "execution_count": null,
   "id": "7e0fb83a-a600-4087-96a4-324488aeb711",
   "metadata": {},
   "outputs": [],
   "source": []
  },
  {
   "cell_type": "code",
   "execution_count": null,
   "id": "fc9ff943-c792-400e-b16b-5b3ddc64d641",
   "metadata": {},
   "outputs": [],
   "source": []
  },
  {
   "cell_type": "code",
   "execution_count": null,
   "id": "6e27d83a-3af3-4b25-8db7-b8e11558f09d",
   "metadata": {},
   "outputs": [],
   "source": []
  }
 ],
 "metadata": {
  "kernelspec": {
   "display_name": "Python 3 (ipykernel)",
   "language": "python",
   "name": "python3"
  },
  "language_info": {
   "codemirror_mode": {
    "name": "ipython",
    "version": 3
   },
   "file_extension": ".py",
   "mimetype": "text/x-python",
   "name": "python",
   "nbconvert_exporter": "python",
   "pygments_lexer": "ipython3",
   "version": "3.11.3"
  }
 },
 "nbformat": 4,
 "nbformat_minor": 5
}
