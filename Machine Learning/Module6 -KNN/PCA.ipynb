{
 "cells": [
  {
   "cell_type": "code",
   "execution_count": 1,
   "id": "7627d977-eba1-42d4-8897-1c7e043bcfbe",
   "metadata": {
    "tags": []
   },
   "outputs": [],
   "source": [
    "import numpy as np\n",
    "import matplotlib.pyplot as plt \n",
    "from sklearn.decomposition import PCA \n",
    "from sklearn import datasets"
   ]
  },
  {
   "cell_type": "code",
   "execution_count": 2,
   "id": "65e0b26d-1fb8-49b4-8170-c59e0ddb41fb",
   "metadata": {
    "tags": []
   },
   "outputs": [],
   "source": [
    "ds=datasets.load_iris()"
   ]
  },
  {
   "cell_type": "code",
   "execution_count": 4,
   "id": "e9aff833-159b-4fb9-a35b-8f7cf32ab01b",
   "metadata": {
    "tags": []
   },
   "outputs": [],
   "source": [
    "X=ds['data']\n",
    "y=ds['target']"
   ]
  },
  {
   "cell_type": "code",
   "execution_count": 5,
   "id": "b508fcd0-2eb7-43e8-87c8-0e7188681a64",
   "metadata": {
    "tags": []
   },
   "outputs": [],
   "source": [
    "from sklearn.model_selection import train_test_split"
   ]
  },
  {
   "cell_type": "code",
   "execution_count": 6,
   "id": "25e3774f-c1e6-4ac7-b83a-fce00c5ad4ac",
   "metadata": {
    "tags": []
   },
   "outputs": [],
   "source": [
    "X_train,X_test ,y_train,y_test=train_test_split(X,y,test_size=0.33,random_state=3)\n"
   ]
  },
  {
   "cell_type": "code",
   "execution_count": 8,
   "id": "545b0046-09cd-4870-a32c-6d8a5ea7544c",
   "metadata": {
    "tags": []
   },
   "outputs": [
    {
     "data": {
      "text/plain": [
       "array([[4.8, 3. , 1.4, 0.3],\n",
       "       [5. , 3.2, 1.2, 0.2],\n",
       "       [5.8, 2.7, 5.1, 1.9],\n",
       "       [7. , 3.2, 4.7, 1.4],\n",
       "       [6.1, 2.8, 4.7, 1.2],\n",
       "       [4.9, 3.1, 1.5, 0.2],\n",
       "       [6.3, 3.4, 5.6, 2.4],\n",
       "       [5.1, 3.8, 1.5, 0.3],\n",
       "       [6.5, 3. , 5.5, 1.8],\n",
       "       [5.7, 2.9, 4.2, 1.3],\n",
       "       [5. , 3.6, 1.4, 0.2],\n",
       "       [4.8, 3. , 1.4, 0.1],\n",
       "       [6.8, 3.2, 5.9, 2.3],\n",
       "       [5.9, 3.2, 4.8, 1.8],\n",
       "       [5.4, 3.7, 1.5, 0.2],\n",
       "       [4.8, 3.4, 1.6, 0.2],\n",
       "       [5.1, 2.5, 3. , 1.1],\n",
       "       [6.4, 3.1, 5.5, 1.8],\n",
       "       [6.3, 3.3, 6. , 2.5],\n",
       "       [4.9, 3.1, 1.5, 0.1],\n",
       "       [6.7, 3.3, 5.7, 2.1],\n",
       "       [5.7, 3. , 4.2, 1.2],\n",
       "       [4.7, 3.2, 1.6, 0.2],\n",
       "       [5.1, 3.4, 1.5, 0.2],\n",
       "       [7.4, 2.8, 6.1, 1.9],\n",
       "       [7.7, 3.8, 6.7, 2.2],\n",
       "       [5.8, 2.8, 5.1, 2.4],\n",
       "       [5.7, 2.8, 4.1, 1.3],\n",
       "       [5.2, 2.7, 3.9, 1.4],\n",
       "       [6.3, 2.3, 4.4, 1.3],\n",
       "       [5.1, 3.8, 1.9, 0.4],\n",
       "       [5.5, 3.5, 1.3, 0.2],\n",
       "       [6.4, 3.2, 5.3, 2.3],\n",
       "       [6.7, 3.3, 5.7, 2.5],\n",
       "       [6.9, 3.1, 4.9, 1.5],\n",
       "       [7.1, 3. , 5.9, 2.1],\n",
       "       [5.9, 3. , 4.2, 1.5],\n",
       "       [7.7, 2.8, 6.7, 2. ],\n",
       "       [4.8, 3.1, 1.6, 0.2],\n",
       "       [6.3, 2.8, 5.1, 1.5],\n",
       "       [4.3, 3. , 1.1, 0.1],\n",
       "       [5.7, 2.8, 4.5, 1.3],\n",
       "       [6.6, 3. , 4.4, 1.4],\n",
       "       [6.4, 2.8, 5.6, 2.2],\n",
       "       [6.2, 3.4, 5.4, 2.3],\n",
       "       [5.2, 4.1, 1.5, 0.1],\n",
       "       [5.5, 2.4, 3.8, 1.1],\n",
       "       [5.4, 3.9, 1.3, 0.4],\n",
       "       [6.1, 3. , 4.6, 1.4],\n",
       "       [6.4, 2.9, 4.3, 1.3],\n",
       "       [6. , 3.4, 4.5, 1.6],\n",
       "       [4.9, 3. , 1.4, 0.2],\n",
       "       [7.2, 3.2, 6. , 1.8],\n",
       "       [5.1, 3.8, 1.6, 0.2],\n",
       "       [6.7, 2.5, 5.8, 1.8],\n",
       "       [6.1, 2.8, 4. , 1.3],\n",
       "       [6.7, 3. , 5.2, 2.3],\n",
       "       [6.3, 3.3, 4.7, 1.6],\n",
       "       [5.6, 2.8, 4.9, 2. ],\n",
       "       [6.1, 2.9, 4.7, 1.4],\n",
       "       [5.7, 3.8, 1.7, 0.3],\n",
       "       [7.6, 3. , 6.6, 2.1],\n",
       "       [5.6, 2.9, 3.6, 1.3],\n",
       "       [6.5, 3. , 5.2, 2. ],\n",
       "       [6.5, 2.8, 4.6, 1.5],\n",
       "       [5.2, 3.4, 1.4, 0.2],\n",
       "       [6. , 2.9, 4.5, 1.5],\n",
       "       [6.3, 2.5, 5. , 1.9],\n",
       "       [5. , 3.3, 1.4, 0.2],\n",
       "       [5.6, 2.7, 4.2, 1.3],\n",
       "       [5.4, 3.4, 1.7, 0.2],\n",
       "       [4.9, 3.6, 1.4, 0.1],\n",
       "       [5.3, 3.7, 1.5, 0.2],\n",
       "       [5.7, 2.6, 3.5, 1. ],\n",
       "       [6.3, 2.7, 4.9, 1.8],\n",
       "       [5.5, 4.2, 1.4, 0.2],\n",
       "       [5. , 3.5, 1.6, 0.6],\n",
       "       [6.9, 3.2, 5.7, 2.3],\n",
       "       [5. , 3.4, 1.5, 0.2],\n",
       "       [6. , 2.2, 4. , 1. ],\n",
       "       [5.9, 3. , 5.1, 1.8],\n",
       "       [6.2, 2.9, 4.3, 1.3],\n",
       "       [6.5, 3.2, 5.1, 2. ],\n",
       "       [6.5, 3. , 5.8, 2.2],\n",
       "       [5.6, 2.5, 3.9, 1.1],\n",
       "       [5.5, 2.6, 4.4, 1.2],\n",
       "       [7.2, 3. , 5.8, 1.6],\n",
       "       [5. , 2. , 3.5, 1. ],\n",
       "       [4.7, 3.2, 1.3, 0.2],\n",
       "       [5.6, 3. , 4.5, 1.5],\n",
       "       [5.5, 2.4, 3.7, 1. ],\n",
       "       [5. , 3.4, 1.6, 0.4],\n",
       "       [5. , 2.3, 3.3, 1. ],\n",
       "       [6. , 2.2, 5. , 1.5],\n",
       "       [6. , 3. , 4.8, 1.8],\n",
       "       [7.3, 2.9, 6.3, 1.8],\n",
       "       [5.1, 3.7, 1.5, 0.4],\n",
       "       [5.1, 3.5, 1.4, 0.2],\n",
       "       [7.9, 3.8, 6.4, 2. ],\n",
       "       [4.9, 2.5, 4.5, 1.7]])"
      ]
     },
     "execution_count": 8,
     "metadata": {},
     "output_type": "execute_result"
    }
   ],
   "source": [
    "X_train"
   ]
  },
  {
   "cell_type": "code",
   "execution_count": null,
   "id": "45caabb2-d6f0-40d8-9ec8-d015f1f3ca6d",
   "metadata": {},
   "outputs": [],
   "source": []
  },
  {
   "cell_type": "code",
   "execution_count": 9,
   "id": "d0dd3c18-30c5-44aa-80d0-2b51cee2b421",
   "metadata": {
    "tags": []
   },
   "outputs": [],
   "source": [
    "pca=PCA(n_components=3) # converts 4d to 3d"
   ]
  },
  {
   "cell_type": "code",
   "execution_count": 11,
   "id": "cedca3aa-924c-4704-80d0-75d45258caf1",
   "metadata": {
    "tags": []
   },
   "outputs": [
    {
     "data": {
      "text/html": [
       "<style>#sk-container-id-1 {color: black;background-color: white;}#sk-container-id-1 pre{padding: 0;}#sk-container-id-1 div.sk-toggleable {background-color: white;}#sk-container-id-1 label.sk-toggleable__label {cursor: pointer;display: block;width: 100%;margin-bottom: 0;padding: 0.3em;box-sizing: border-box;text-align: center;}#sk-container-id-1 label.sk-toggleable__label-arrow:before {content: \"▸\";float: left;margin-right: 0.25em;color: #696969;}#sk-container-id-1 label.sk-toggleable__label-arrow:hover:before {color: black;}#sk-container-id-1 div.sk-estimator:hover label.sk-toggleable__label-arrow:before {color: black;}#sk-container-id-1 div.sk-toggleable__content {max-height: 0;max-width: 0;overflow: hidden;text-align: left;background-color: #f0f8ff;}#sk-container-id-1 div.sk-toggleable__content pre {margin: 0.2em;color: black;border-radius: 0.25em;background-color: #f0f8ff;}#sk-container-id-1 input.sk-toggleable__control:checked~div.sk-toggleable__content {max-height: 200px;max-width: 100%;overflow: auto;}#sk-container-id-1 input.sk-toggleable__control:checked~label.sk-toggleable__label-arrow:before {content: \"▾\";}#sk-container-id-1 div.sk-estimator input.sk-toggleable__control:checked~label.sk-toggleable__label {background-color: #d4ebff;}#sk-container-id-1 div.sk-label input.sk-toggleable__control:checked~label.sk-toggleable__label {background-color: #d4ebff;}#sk-container-id-1 input.sk-hidden--visually {border: 0;clip: rect(1px 1px 1px 1px);clip: rect(1px, 1px, 1px, 1px);height: 1px;margin: -1px;overflow: hidden;padding: 0;position: absolute;width: 1px;}#sk-container-id-1 div.sk-estimator {font-family: monospace;background-color: #f0f8ff;border: 1px dotted black;border-radius: 0.25em;box-sizing: border-box;margin-bottom: 0.5em;}#sk-container-id-1 div.sk-estimator:hover {background-color: #d4ebff;}#sk-container-id-1 div.sk-parallel-item::after {content: \"\";width: 100%;border-bottom: 1px solid gray;flex-grow: 1;}#sk-container-id-1 div.sk-label:hover label.sk-toggleable__label {background-color: #d4ebff;}#sk-container-id-1 div.sk-serial::before {content: \"\";position: absolute;border-left: 1px solid gray;box-sizing: border-box;top: 0;bottom: 0;left: 50%;z-index: 0;}#sk-container-id-1 div.sk-serial {display: flex;flex-direction: column;align-items: center;background-color: white;padding-right: 0.2em;padding-left: 0.2em;position: relative;}#sk-container-id-1 div.sk-item {position: relative;z-index: 1;}#sk-container-id-1 div.sk-parallel {display: flex;align-items: stretch;justify-content: center;background-color: white;position: relative;}#sk-container-id-1 div.sk-item::before, #sk-container-id-1 div.sk-parallel-item::before {content: \"\";position: absolute;border-left: 1px solid gray;box-sizing: border-box;top: 0;bottom: 0;left: 50%;z-index: -1;}#sk-container-id-1 div.sk-parallel-item {display: flex;flex-direction: column;z-index: 1;position: relative;background-color: white;}#sk-container-id-1 div.sk-parallel-item:first-child::after {align-self: flex-end;width: 50%;}#sk-container-id-1 div.sk-parallel-item:last-child::after {align-self: flex-start;width: 50%;}#sk-container-id-1 div.sk-parallel-item:only-child::after {width: 0;}#sk-container-id-1 div.sk-dashed-wrapped {border: 1px dashed gray;margin: 0 0.4em 0.5em 0.4em;box-sizing: border-box;padding-bottom: 0.4em;background-color: white;}#sk-container-id-1 div.sk-label label {font-family: monospace;font-weight: bold;display: inline-block;line-height: 1.2em;}#sk-container-id-1 div.sk-label-container {text-align: center;}#sk-container-id-1 div.sk-container {/* jupyter's `normalize.less` sets `[hidden] { display: none; }` but bootstrap.min.css set `[hidden] { display: none !important; }` so we also need the `!important` here to be able to override the default hidden behavior on the sphinx rendered scikit-learn.org. See: https://github.com/scikit-learn/scikit-learn/issues/21755 */display: inline-block !important;position: relative;}#sk-container-id-1 div.sk-text-repr-fallback {display: none;}</style><div id=\"sk-container-id-1\" class=\"sk-top-container\"><div class=\"sk-text-repr-fallback\"><pre>PCA(n_components=3)</pre><b>In a Jupyter environment, please rerun this cell to show the HTML representation or trust the notebook. <br />On GitHub, the HTML representation is unable to render, please try loading this page with nbviewer.org.</b></div><div class=\"sk-container\" hidden><div class=\"sk-item\"><div class=\"sk-estimator sk-toggleable\"><input class=\"sk-toggleable__control sk-hidden--visually\" id=\"sk-estimator-id-1\" type=\"checkbox\" checked><label for=\"sk-estimator-id-1\" class=\"sk-toggleable__label sk-toggleable__label-arrow\">PCA</label><div class=\"sk-toggleable__content\"><pre>PCA(n_components=3)</pre></div></div></div></div></div>"
      ],
      "text/plain": [
       "PCA(n_components=3)"
      ]
     },
     "execution_count": 11,
     "metadata": {},
     "output_type": "execute_result"
    }
   ],
   "source": [
    "pca"
   ]
  },
  {
   "cell_type": "code",
   "execution_count": 12,
   "id": "fc1c9f37-76d0-450b-8784-4c436f70003b",
   "metadata": {
    "tags": []
   },
   "outputs": [],
   "source": [
    "X_train=pca.fit_transform(X_train)"
   ]
  },
  {
   "cell_type": "code",
   "execution_count": 13,
   "id": "cc4f72f4-a4ec-4857-a8a0-8581bc6129cc",
   "metadata": {
    "tags": []
   },
   "outputs": [
    {
     "data": {
      "text/plain": [
       "array([[-2.76768609e+00, -2.82426425e-01, -7.85895270e-02],\n",
       "       [-2.92115916e+00,  3.63666101e-02, -1.36272591e-01],\n",
       "       [ 1.36734992e+00, -5.93460880e-01,  2.59916013e-01],\n",
       "       [ 1.22610030e+00,  6.74580848e-01, -4.13751488e-01],\n",
       "       [ 8.68758735e-01, -1.80379684e-01, -2.69004371e-01],\n",
       "       [-2.69041419e+00, -1.46411477e-01, -1.28856805e-01],\n",
       "       [ 2.09824773e+00,  1.11513712e-01,  7.08696295e-01],\n",
       "       [-2.63938519e+00,  4.86010575e-01,  2.34636594e-01],\n",
       "       [ 1.89812024e+00,  3.55735579e-02,  7.46852668e-03],\n",
       "       [ 3.25942776e-01, -3.05521418e-01,  5.11925136e-02],\n",
       "       [-2.78081263e+00,  3.00910907e-01,  1.09204132e-01],\n",
       "       [-2.83976183e+00, -2.58003228e-01, -1.94828591e-01],\n",
       "       [ 2.51217282e+00,  2.57674016e-01,  2.65979284e-01],\n",
       "       [ 1.06888623e+00, -1.04439530e-01,  4.32223398e-01],\n",
       "       [-2.56185397e+00,  6.19831612e-01, -4.92199088e-02],\n",
       "       [-2.66337742e+00, -5.67053004e-03,  1.08767664e-01],\n",
       "       [-9.57914159e-01, -7.88440386e-01, -1.61407838e-02],\n",
       "       [ 1.85498373e+00,  4.40423561e-02,  1.22354634e-01],\n",
       "       [ 2.48626057e+00, -3.31805391e-02,  7.22623192e-01],\n",
       "       [-2.72645206e+00, -1.34199878e-01, -1.86976337e-01],\n",
       "       [ 2.22493319e+00,  3.20053379e-01,  2.56992307e-01],\n",
       "       [ 2.81984693e-01, -2.19801903e-01,  5.25336572e-02],\n",
       "       [-2.68275330e+00, -2.17725481e-01,  4.52717441e-02],\n",
       "       [-2.64374222e+00,  2.04190508e-01, -6.13256410e-02],\n",
       "       [ 2.78302732e+00,  3.73236085e-01, -5.29260117e-01],\n",
       "       [ 3.43366985e+00,  1.17833570e+00,  9.63310012e-02],\n",
       "       [ 1.53961907e+00, -5.81010956e-01,  6.09974349e-01],\n",
       "       [ 2.47849298e-01, -3.64285650e-01, -1.20851722e-02],\n",
       "       [-5.63014732e-02, -7.45713387e-01,  2.56066822e-01],\n",
       "       [ 7.56789185e-01, -3.85821575e-01, -6.30490111e-01],\n",
       "       [-2.25929257e+00,  4.14824240e-01,  3.08024166e-01],\n",
       "       [-2.68282463e+00,  5.67342265e-01, -2.31200712e-01],\n",
       "       [ 1.85522551e+00,  8.59796483e-02,  4.64778950e-01],\n",
       "       [ 2.36908469e+00,  2.71206986e-01,  4.89470435e-01],\n",
       "       [ 1.40686946e+00,  4.94334847e-01, -3.52033180e-01],\n",
       "       [ 2.56158638e+00,  3.30198735e-01, -1.35457427e-01],\n",
       "       [ 4.60530903e-01, -1.26358462e-01,  1.16041390e-01],\n",
       "       [ 3.44079621e+00,  4.67679737e-01, -6.14514820e-01],\n",
       "       [-2.63961679e+00, -2.26194279e-01, -6.96143633e-02],\n",
       "       [ 1.39135970e+00, -1.45910979e-01, -1.90228598e-01],\n",
       "       [-3.27388437e+00, -5.38967767e-01,  7.08475371e-02],\n",
       "       [ 5.91904050e-01, -4.23260386e-01,  3.18286789e-03],\n",
       "       [ 8.43034475e-01,  3.11639595e-01, -3.22422143e-01],\n",
       "       [ 2.10890954e+00, -2.40071471e-01,  1.80267745e-01],\n",
       "       [ 1.85496619e+00,  8.81735605e-02,  6.98368175e-01],\n",
       "       [-2.70000527e+00,  7.95996639e-01,  2.41354125e-01],\n",
       "       [-1.21019263e-01, -7.19741302e-01, -2.66767106e-01],\n",
       "       [-2.67764602e+00,  7.71911616e-01,  1.78306487e-01],\n",
       "       [ 8.38980373e-01, -4.30433639e-02, -3.76609651e-02],\n",
       "       [ 6.58470533e-01,  1.35008725e-01, -3.32968498e-01],\n",
       "       [ 7.58145295e-01,  1.76269670e-01,  3.68029223e-01],\n",
       "       [-2.76850766e+00, -2.05175709e-01, -1.92134491e-01],\n",
       "       [ 2.55886233e+00,  5.64144797e-01, -2.42503093e-01],\n",
       "       [-2.58940938e+00,  4.83478489e-01,  1.80334072e-01],\n",
       "       [ 2.26619494e+00, -2.46118840e-01, -3.89234685e-01],\n",
       "       [ 3.02700792e-01, -8.93854934e-02, -2.37603909e-01],\n",
       "       [ 1.89070113e+00,  1.48824854e-01,  1.75764294e-01],\n",
       "       [ 1.04374177e+00,  2.68391740e-01,  1.49926273e-01],\n",
       "       [ 1.15300762e+00, -6.32755430e-01,  4.80713064e-01],\n",
       "       [ 9.32914271e-01, -1.31294964e-01, -9.33046308e-02],\n",
       "       [-2.25606004e+00,  8.46757916e-01, -9.02819758e-02],\n",
       "       [ 3.33976368e+00,  5.52188537e-01, -3.85865515e-01],\n",
       "       [-2.25355648e-01, -2.82098431e-01,  8.37158851e-02],\n",
       "       [ 1.71215492e+00,  5.53814133e-02,  1.12256561e-01],\n",
       "       [ 1.03172385e+00,  5.78856776e-02, -3.20164511e-01],\n",
       "       [-2.69453962e+00,  2.83973311e-01, -1.20568083e-01],\n",
       "       [ 7.61708472e-01, -1.79058313e-01,  1.26063128e-02],\n",
       "       [ 1.47325813e+00, -4.00537438e-01, -1.39949507e-01],\n",
       "       [-2.75705200e+00,  8.03871582e-02, -6.91778951e-02],\n",
       "       [ 3.06566900e-01, -5.17576369e-01, -1.23034062e-02],\n",
       "       [-2.36606596e+00,  3.69820495e-01, -2.19967916e-01],\n",
       "       [-2.85206680e+00,  2.48083387e-01,  1.06510032e-01],\n",
       "       [-2.59707026e+00,  5.54792494e-01,  6.20552288e-03],\n",
       "       [-3.60506029e-01, -3.86204583e-01, -3.28267180e-01],\n",
       "       [ 1.33536615e+00, -2.26566323e-01, -8.29646973e-02],\n",
       "       [-2.65225241e+00,  1.06715400e+00,  1.88841028e-01],\n",
       "       [-2.45671355e+00,  1.49069229e-01,  2.89855605e-01],\n",
       "       [ 2.37536174e+00,  3.52200503e-01,  2.02919832e-01],\n",
       "       [-2.67895852e+00,  1.39151390e-01, -5.90020938e-03],\n",
       "       [ 2.06892137e-01, -5.58837314e-01, -7.13301128e-01],\n",
       "       [ 1.34276771e+00, -2.95686414e-01,  3.24753076e-01],\n",
       "       [ 5.88037941e-01,  4.93048872e-03, -2.22117635e-01],\n",
       "       [ 1.61030081e+00,  2.17140930e-01,  2.27360902e-01],\n",
       "       [ 2.30031279e+00, -5.75038882e-02,  2.51397685e-01],\n",
       "       [-7.70948976e-03, -5.95937952e-01, -2.58914852e-01],\n",
       "       [ 4.15260317e-01, -6.73399173e-01, -6.68241623e-02],\n",
       "       [ 2.33059963e+00,  4.71039529e-01, -4.85297529e-01],\n",
       "       [-5.59498838e-01, -1.28252591e+00, -2.97053213e-01],\n",
       "       [-2.94079436e+00, -1.73494428e-01,  3.38207140e-02],\n",
       "       [ 6.12923080e-01, -3.65706869e-01,  2.93768715e-01],\n",
       "       [-2.43070824e-01, -6.92786020e-01, -3.28703648e-01],\n",
       "       [-2.52086909e+00,  9.99845093e-02,  1.14155865e-01],\n",
       "       [-7.55286844e-01, -1.03251479e+00, -1.26305206e-01],\n",
       "       [ 1.24721838e+00, -7.67332147e-01, -3.84533367e-01],\n",
       "       [ 1.11994294e+00, -1.86416244e-01,  2.57876615e-01],\n",
       "       [ 2.87588032e+00,  3.64429114e-01, -4.64859522e-01],\n",
       "       [-2.59542711e+00,  4.00291060e-01,  2.33295450e-01],\n",
       "       [-2.73767612e+00,  2.92442109e-01, -5.68197531e-03],\n",
       "       [ 3.17398563e+00,  1.37706819e+00, -1.42209956e-01],\n",
       "       [ 4.78085807e-01, -1.21294347e+00,  5.00682422e-01]])"
      ]
     },
     "execution_count": 13,
     "metadata": {},
     "output_type": "execute_result"
    }
   ],
   "source": [
    "X_train"
   ]
  },
  {
   "cell_type": "code",
   "execution_count": 15,
   "id": "dffaeb2c-83c0-42d2-a5fb-e4725686b267",
   "metadata": {
    "tags": []
   },
   "outputs": [
    {
     "data": {
      "text/plain": [
       "array([[-2.88999697, -0.25327723,  0.09306316],\n",
       "       [-2.79606307, -0.34152883,  0.03741949],\n",
       "       [-2.46601759,  0.37488467, -0.11136287],\n",
       "       [-2.56126399, -0.16962396, -0.2399259 ],\n",
       "       [-2.4395708 ,  1.30508118,  0.31696759],\n",
       "       [ 3.73677762,  0.25454174, -0.55144356],\n",
       "       [ 0.11516365, -0.70014395, -0.08343335],\n",
       "       [-2.86979952, -0.118473  ,  0.27010404],\n",
       "       [ 1.92162155, -0.18275628,  0.06267572],\n",
       "       [ 0.87033056,  0.45018663, -0.3183869 ],\n",
       "       [ 0.19679258, -0.28230894,  0.16226161],\n",
       "       [-3.03060283, -0.51562762,  0.08117566],\n",
       "       [ 0.17685445, -0.41930708, -0.2483685 ],\n",
       "       [ 0.13100407, -0.84715978, -0.2023547 ],\n",
       "       [ 2.26287354,  0.15114644,  0.30861254],\n",
       "       [-2.82286823,  0.22993508,  0.10404598],\n",
       "       [ 1.24309295, -0.33694736, -0.37624464],\n",
       "       [ 3.01698728,  0.66652288, -0.34413693],\n",
       "       [ 1.29799823, -0.80298374,  0.25072262],\n",
       "       [-3.04644325, -0.36861178,  0.20009701],\n",
       "       [ 1.20621596, -0.20335384,  0.0281044 ],\n",
       "       [ 2.11188274,  0.19405612,  0.01555083],\n",
       "       [ 1.86719982,  0.36715469,  0.1205571 ],\n",
       "       [ 1.27336224,  0.23572726, -0.53692632],\n",
       "       [-2.33359127,  0.71293688,  0.19357453],\n",
       "       [ 2.86546029,  0.75795159,  0.40599334],\n",
       "       [ 1.73079809, -0.48451187, -0.23733357],\n",
       "       [ 0.18287218, -0.33611965, -0.30132988],\n",
       "       [-0.79842335, -1.02404599, -0.0114191 ],\n",
       "       [ 1.1644095 ,  0.39374398, -0.24881634],\n",
       "       [-2.70279048,  1.14474289, -0.10399064],\n",
       "       [-2.40533636, -0.04990158,  0.12021869],\n",
       "       [ 2.05316514,  0.34734684,  0.01576906],\n",
       "       [ 0.98694419,  0.22085591, -0.43236833],\n",
       "       [-2.93666893, -0.60387922,  0.02553199],\n",
       "       [-2.61644614,  0.34273754, -0.0572904 ],\n",
       "       [ 1.50244652,  0.25158181, -0.18058692],\n",
       "       [-2.90390719, -0.97735551, -0.33235497],\n",
       "       [ 1.75067507, -0.23271354, -0.06500256],\n",
       "       [ 0.88758253, -0.56353549, -0.51446928],\n",
       "       [ 2.07287167, -0.22785987,  0.12214821],\n",
       "       [ 0.08292055, -0.33105548, -0.19272483],\n",
       "       [-3.26573256,  0.09972917,  0.31563782],\n",
       "       [-2.70163825,  0.28023051,  0.05243756],\n",
       "       [ 1.24117293, -0.13612081,  0.20626819],\n",
       "       [ 0.87881302,  0.30162191, -0.03071339],\n",
       "       [-2.35568102,  0.06456043,  0.0612063 ],\n",
       "       [ 1.32966889, -0.42674785, -0.02529345],\n",
       "       [ 1.36734992, -0.59346088,  0.25991601],\n",
       "       [ 0.54249049, -0.49578511,  0.40461958]])"
      ]
     },
     "execution_count": 15,
     "metadata": {},
     "output_type": "execute_result"
    }
   ],
   "source": [
    "pca.transform(X_test)"
   ]
  },
  {
   "cell_type": "code",
   "execution_count": 18,
   "id": "3361cf44-d080-4c2e-bbd0-5e898b09b5dc",
   "metadata": {
    "tags": []
   },
   "outputs": [
    {
     "data": {
      "text/plain": [
       "array([[ 0.35216296, -0.0792021 ,  0.86013688,  0.36037873],\n",
       "       [ 0.65039118,  0.73507916, -0.14743684, -0.12211598],\n",
       "       [-0.55425432,  0.59460676,  0.0381701 ,  0.58119532]])"
      ]
     },
     "execution_count": 18,
     "metadata": {},
     "output_type": "execute_result"
    }
   ],
   "source": [
    "pca.components_   #  Eigen vectors"
   ]
  },
  {
   "cell_type": "code",
   "execution_count": 20,
   "id": "f39c4b6a-1ac8-4638-ba3e-57fb0e9e0ad2",
   "metadata": {
    "tags": []
   },
   "outputs": [
    {
     "data": {
      "text/plain": [
       "array([0.92422685, 0.05195908, 0.0193837 ])"
      ]
     },
     "execution_count": 20,
     "metadata": {},
     "output_type": "execute_result"
    }
   ],
   "source": [
    "pca.explained_variance_ratio_  # details of captured variance"
   ]
  },
  {
   "cell_type": "code",
   "execution_count": null,
   "id": "73de685c-523d-430c-9d01-da94cc5d1d7e",
   "metadata": {},
   "outputs": [],
   "source": []
  },
  {
   "cell_type": "code",
   "execution_count": null,
   "id": "31281165-c8dd-4d39-b0d0-c2bee7f3820b",
   "metadata": {},
   "outputs": [],
   "source": []
  },
  {
   "cell_type": "code",
   "execution_count": null,
   "id": "ab6fc481-ae47-4377-8cc1-d15f32ae060f",
   "metadata": {},
   "outputs": [],
   "source": []
  },
  {
   "cell_type": "code",
   "execution_count": null,
   "id": "8311f692-e928-48cf-b8f5-206651814562",
   "metadata": {},
   "outputs": [],
   "source": []
  },
  {
   "cell_type": "code",
   "execution_count": null,
   "id": "d798d659-0bac-4ed8-b89a-35a255582231",
   "metadata": {},
   "outputs": [],
   "source": []
  },
  {
   "cell_type": "code",
   "execution_count": null,
   "id": "8f82b4cc-dafb-49bc-a956-15bb7e8a9185",
   "metadata": {},
   "outputs": [],
   "source": []
  },
  {
   "cell_type": "code",
   "execution_count": null,
   "id": "c246c369-636a-479e-95ef-aa4dd81bf93a",
   "metadata": {},
   "outputs": [],
   "source": []
  },
  {
   "cell_type": "code",
   "execution_count": null,
   "id": "0335e4a7-1219-4f1d-828e-2fc58aa305c1",
   "metadata": {},
   "outputs": [],
   "source": []
  },
  {
   "cell_type": "code",
   "execution_count": null,
   "id": "ec528ace-450d-4139-a1b3-f2f9af236019",
   "metadata": {},
   "outputs": [],
   "source": []
  },
  {
   "cell_type": "code",
   "execution_count": null,
   "id": "27731cfb-d153-491b-a671-46774363f2d6",
   "metadata": {},
   "outputs": [],
   "source": []
  },
  {
   "cell_type": "code",
   "execution_count": null,
   "id": "1a315797-b298-4fab-b71e-050f86161484",
   "metadata": {},
   "outputs": [],
   "source": []
  },
  {
   "cell_type": "code",
   "execution_count": null,
   "id": "e51f7a7e-3831-4ba7-ac42-1a0ffffaf9eb",
   "metadata": {},
   "outputs": [],
   "source": []
  },
  {
   "cell_type": "code",
   "execution_count": null,
   "id": "e0d44c38-095d-4830-a701-00f931537763",
   "metadata": {},
   "outputs": [],
   "source": []
  },
  {
   "cell_type": "code",
   "execution_count": null,
   "id": "7aa28e80-8db7-4196-8f14-81a3a10695c5",
   "metadata": {},
   "outputs": [],
   "source": []
  },
  {
   "cell_type": "code",
   "execution_count": null,
   "id": "3809bb68-eb5b-40e7-97a4-f5c72ea86765",
   "metadata": {},
   "outputs": [],
   "source": []
  },
  {
   "cell_type": "code",
   "execution_count": null,
   "id": "a3ba9507-1442-405c-a6ce-91c17357e098",
   "metadata": {},
   "outputs": [],
   "source": []
  }
 ],
 "metadata": {
  "kernelspec": {
   "display_name": "Python 3 (ipykernel)",
   "language": "python",
   "name": "python3"
  },
  "language_info": {
   "codemirror_mode": {
    "name": "ipython",
    "version": 3
   },
   "file_extension": ".py",
   "mimetype": "text/x-python",
   "name": "python",
   "nbconvert_exporter": "python",
   "pygments_lexer": "ipython3",
   "version": "3.11.3"
  }
 },
 "nbformat": 4,
 "nbformat_minor": 5
}
