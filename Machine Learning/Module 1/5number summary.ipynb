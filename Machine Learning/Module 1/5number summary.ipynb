{
 "cells": [
  {
   "cell_type": "markdown",
   "id": "2a703daa-c47b-48ee-81aa-d4df2baa871e",
   "metadata": {},
   "source": [
    "# Box Plot"
   ]
  },
  {
   "cell_type": "code",
   "execution_count": 1,
   "id": "9de8466f-4cb3-4bd3-88ec-d28b2e77ee6e",
   "metadata": {
    "tags": []
   },
   "outputs": [],
   "source": [
    "## Min\n",
    "## MAx\n",
    "## Median\n",
    "##Q1 Q2"
   ]
  },
  {
   "cell_type": "code",
   "execution_count": 2,
   "id": "8d0334ae-c68a-432a-9eb1-ba1068fbff94",
   "metadata": {
    "tags": []
   },
   "outputs": [],
   "source": [
    "import numpy as np"
   ]
  },
  {
   "cell_type": "code",
   "execution_count": 3,
   "id": "a843c39a-f73b-470d-997b-3c9a468b4dfa",
   "metadata": {
    "tags": []
   },
   "outputs": [],
   "source": [
    "lst_marks=[45,46,47,56,78,90,34,10,49,48,43,42,97,5,34,33,31]"
   ]
  },
  {
   "cell_type": "code",
   "execution_count": 5,
   "id": "fa69aec0-f515-4811-aad0-fc1455143278",
   "metadata": {
    "tags": []
   },
   "outputs": [],
   "source": [
    "min,Q1,median,Q3,max=np.quantile(lst_marks,[0,0.25,0.5,0.75,1.0])"
   ]
  },
  {
   "cell_type": "code",
   "execution_count": 10,
   "id": "58c5e6d1-0ad8-404b-9337-ee149d7b630c",
   "metadata": {
    "tags": []
   },
   "outputs": [
    {
     "data": {
      "text/plain": [
       "(5.0, 97.0, 34.0, 49.0, 45.0)"
      ]
     },
     "execution_count": 10,
     "metadata": {},
     "output_type": "execute_result"
    }
   ],
   "source": [
    "min,max,Q1,Q3,median"
   ]
  },
  {
   "cell_type": "code",
   "execution_count": 11,
   "id": "6c70625d-e817-4b24-8eea-079850ae73f4",
   "metadata": {
    "tags": []
   },
   "outputs": [],
   "source": [
    "IQR=Q3-Q1"
   ]
  },
  {
   "cell_type": "code",
   "execution_count": 12,
   "id": "c5a1e315-e4c5-4507-8a42-6f9ca8f89435",
   "metadata": {
    "tags": []
   },
   "outputs": [
    {
     "data": {
      "text/plain": [
       "15.0"
      ]
     },
     "execution_count": 12,
     "metadata": {},
     "output_type": "execute_result"
    }
   ],
   "source": [
    "IQR"
   ]
  },
  {
   "cell_type": "code",
   "execution_count": 13,
   "id": "d6a28518-46fa-42c9-9ad1-01836bfc2e12",
   "metadata": {
    "tags": []
   },
   "outputs": [],
   "source": [
    "lower_fence=Q1-1.5*IQR\n",
    "higher_fence=Q3+1.5*IQR"
   ]
  },
  {
   "cell_type": "code",
   "execution_count": 14,
   "id": "071ffe27-504c-4f63-80bb-d929f9ef0c9b",
   "metadata": {
    "tags": []
   },
   "outputs": [
    {
     "data": {
      "text/plain": [
       "(11.5, 71.5)"
      ]
     },
     "execution_count": 14,
     "metadata": {},
     "output_type": "execute_result"
    }
   ],
   "source": [
    "lower_fence,higher_fence"
   ]
  },
  {
   "cell_type": "code",
   "execution_count": 15,
   "id": "ad4c927d-f04e-4394-9b76-6f387794c6c0",
   "metadata": {
    "tags": []
   },
   "outputs": [],
   "source": [
    "import seaborn as sns"
   ]
  },
  {
   "cell_type": "code",
   "execution_count": 16,
   "id": "e814c034-dab2-4a0a-8d8f-3f32ad7a653f",
   "metadata": {
    "tags": []
   },
   "outputs": [
    {
     "data": {
      "text/plain": [
       "<Axes: >"
      ]
     },
     "execution_count": 16,
     "metadata": {},
     "output_type": "execute_result"
    },
    {
     "data": {
      "image/png": "[encoded data removed]",
      "text/plain": [
       "<Figure size 640x480 with 1 Axes>"
      ]
     },
     "metadata": {},
     "output_type": "display_data"
    }
   ],
   "source": [
    "sns.boxplot(lst_marks)"
   ]
  },
  {
   "cell_type": "code",
   "execution_count": null,
   "id": "efeea1d6-1d8d-40a4-aa55-09b5b86a33ac",
   "metadata": {},
   "outputs": [],
   "source": []
  },
  {
   "cell_type": "code",
   "execution_count": null,
   "id": "991d6546-32f0-456a-ab48-2069a5692a96",
   "metadata": {},
   "outputs": [],
   "source": []
  },
  {
   "cell_type": "code",
   "execution_count": null,
   "id": "1c18b34b-86a6-4a52-912c-0d266a29d4e4",
   "metadata": {},
   "outputs": [],
   "source": []
  },
  {
   "cell_type": "code",
   "execution_count": null,
   "id": "6735ea6a-788c-4224-ad76-8d2fbca2e457",
   "metadata": {},
   "outputs": [],
   "source": []
  },
  {
   "cell_type": "code",
   "execution_count": null,
   "id": "0e04be2c-e388-4a94-a8da-8838a561b6f3",
   "metadata": {},
   "outputs": [],
   "source": []
  },
  {
   "cell_type": "code",
   "execution_count": null,
   "id": "c830aa29-3665-48c7-9e82-88332296c146",
   "metadata": {},
   "outputs": [],
   "source": []
  },
  {
   "cell_type": "code",
   "execution_count": null,
   "id": "2df56455-b385-4135-ace2-f0cb15d017d5",
   "metadata": {},
   "outputs": [],
   "source": []
  },
  {
   "cell_type": "code",
   "execution_count": null,
   "id": "e074c526-5d6b-43f0-8b9e-80e680fe159f",
   "metadata": {},
   "outputs": [],
   "source": []
  },
  {
   "cell_type": "code",
   "execution_count": null,
   "id": "eb09f356-ac60-4021-9991-dfa2a72f7119",
   "metadata": {},
   "outputs": [],
   "source": []
  },
  {
   "cell_type": "code",
   "execution_count": null,
   "id": "5d836a4f-c580-4248-b575-565d2eafab2a",
   "metadata": {},
   "outputs": [],
   "source": []
  },
  {
   "cell_type": "code",
   "execution_count": null,
   "id": "fe8a036d-ba3f-4bc6-920d-01f82241c3bf",
   "metadata": {},
   "outputs": [],
   "source": []
  },
  {
   "cell_type": "code",
   "execution_count": null,
   "id": "2bfd53e6-5bd1-4a41-aed6-f86da9eb45ba",
   "metadata": {},
   "outputs": [],
   "source": []
  },
  {
   "cell_type": "code",
   "execution_count": null,
   "id": "14725873-0174-44af-825f-f32eaadab710",
   "metadata": {},
   "outputs": [],
   "source": []
  },
  {
   "cell_type": "code",
   "execution_count": null,
   "id": "bb449318-a5a2-46ad-b4e3-ceb210bdc457",
   "metadata": {},
   "outputs": [],
   "source": []
  },
  {
   "cell_type": "code",
   "execution_count": null,
   "id": "306b5e27-ae3b-4fd7-823e-7b79bf22b3cf",
   "metadata": {},
   "outputs": [],
   "source": []
  },
  {
   "cell_type": "code",
   "execution_count": null,
   "id": "e6aac3ed-f735-42df-9bf6-1a841622cbbb",
   "metadata": {},
   "outputs": [],
   "source": []
  },
  {
   "cell_type": "code",
   "execution_count": null,
   "id": "48d6d5a8-0fb9-45e9-87a4-ce6384138839",
   "metadata": {},
   "outputs": [],
   "source": []
  },
  {
   "cell_type": "code",
   "execution_count": null,
   "id": "15bcf98c-a749-4342-87f9-7bb9fc7cb6b8",
   "metadata": {},
   "outputs": [],
   "source": []
  }
 ],
 "metadata": {
  "kernelspec": {
   "display_name": "Python 3 (ipykernel)",
   "language": "python",
   "name": "python3"
  },
  "language_info": {
   "codemirror_mode": {
    "name": "ipython",
    "version": 3
   },
   "file_extension": ".py",
   "mimetype": "text/x-python",
   "name": "python",
   "nbconvert_exporter": "python",
   "pygments_lexer": "ipython3",
   "version": "3.11.3"
  }
 },
 "nbformat": 4,
 "nbformat_minor": 5
}
