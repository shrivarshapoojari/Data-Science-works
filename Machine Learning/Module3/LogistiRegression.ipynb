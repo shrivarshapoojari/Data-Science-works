{
 "cells": [
  {
   "cell_type": "markdown",
   "id": "c35c8ba4-47a1-4df4-869c-de86321dae4f",
   "metadata": {},
   "source": [
    "# Logistic Regression"
   ]
  },
  {
   "cell_type": "code",
   "execution_count": 1,
   "id": "08aa1b58-e14b-4bb2-ba83-5b704a2612e2",
   "metadata": {
    "tags": []
   },
   "outputs": [],
   "source": [
    "import pandas as pd\n",
    "import numpy as np\n",
    "import matplotlib.pyplot as plt"
   ]
  },
  {
   "cell_type": "code",
   "execution_count": 5,
   "id": "2dea2205-9277-492b-87c5-b9d2f22555e0",
   "metadata": {
    "tags": []
   },
   "outputs": [],
   "source": [
    "from sklearn.datasets import load_iris"
   ]
  },
  {
   "cell_type": "code",
   "execution_count": 6,
   "id": "8a3d1a70-c7ab-4d86-8e3b-68cb3868cac8",
   "metadata": {
    "tags": []
   },
   "outputs": [],
   "source": [
    "dataset=load_iris()"
   ]
  },
  {
   "cell_type": "code",
   "execution_count": 7,
   "id": "7dafc07e-f5f1-44ee-aedc-88384f0c29a5",
   "metadata": {
    "tags": []
   },
   "outputs": [
    {
     "data": {
      "text/plain": [
       "{'data': array([[5.1, 3.5, 1.4, 0.2],\n",
       "        [4.9, 3. , 1.4, 0.2],\n",
       "        [4.7, 3.2, 1.3, 0.2],\n",
       "        [4.6, 3.1, 1.5, 0.2],\n",
       "        [5. , 3.6, 1.4, 0.2],\n",
       "        [5.4, 3.9, 1.7, 0.4],\n",
       "        [4.6, 3.4, 1.4, 0.3],\n",
       "        [5. , 3.4, 1.5, 0.2],\n",
       "        [4.4, 2.9, 1.4, 0.2],\n",
       "        [4.9, 3.1, 1.5, 0.1],\n",
       "        [5.4, 3.7, 1.5, 0.2],\n",
       "        [4.8, 3.4, 1.6, 0.2],\n",
       "        [4.8, 3. , 1.4, 0.1],\n",
       "        [4.3, 3. , 1.1, 0.1],\n",
       "        [5.8, 4. , 1.2, 0.2],\n",
       "        [5.7, 4.4, 1.5, 0.4],\n",
       "        [5.4, 3.9, 1.3, 0.4],\n",
       "        [5.1, 3.5, 1.4, 0.3],\n",
       "        [5.7, 3.8, 1.7, 0.3],\n",
       "        [5.1, 3.8, 1.5, 0.3],\n",
       "        [5.4, 3.4, 1.7, 0.2],\n",
       "        [5.1, 3.7, 1.5, 0.4],\n",
       "        [4.6, 3.6, 1. , 0.2],\n",
       "        [5.1, 3.3, 1.7, 0.5],\n",
       "        [4.8, 3.4, 1.9, 0.2],\n",
       "        [5. , 3. , 1.6, 0.2],\n",
       "        [5. , 3.4, 1.6, 0.4],\n",
       "        [5.2, 3.5, 1.5, 0.2],\n",
       "        [5.2, 3.4, 1.4, 0.2],\n",
       "        [4.7, 3.2, 1.6, 0.2],\n",
       "        [4.8, 3.1, 1.6, 0.2],\n",
       "        [5.4, 3.4, 1.5, 0.4],\n",
       "        [5.2, 4.1, 1.5, 0.1],\n",
       "        [5.5, 4.2, 1.4, 0.2],\n",
       "        [4.9, 3.1, 1.5, 0.2],\n",
       "        [5. , 3.2, 1.2, 0.2],\n",
       "        [5.5, 3.5, 1.3, 0.2],\n",
       "        [4.9, 3.6, 1.4, 0.1],\n",
       "        [4.4, 3. , 1.3, 0.2],\n",
       "        [5.1, 3.4, 1.5, 0.2],\n",
       "        [5. , 3.5, 1.3, 0.3],\n",
       "        [4.5, 2.3, 1.3, 0.3],\n",
       "        [4.4, 3.2, 1.3, 0.2],\n",
       "        [5. , 3.5, 1.6, 0.6],\n",
       "        [5.1, 3.8, 1.9, 0.4],\n",
       "        [4.8, 3. , 1.4, 0.3],\n",
       "        [5.1, 3.8, 1.6, 0.2],\n",
       "        [4.6, 3.2, 1.4, 0.2],\n",
       "        [5.3, 3.7, 1.5, 0.2],\n",
       "        [5. , 3.3, 1.4, 0.2],\n",
       "        [7. , 3.2, 4.7, 1.4],\n",
       "        [6.4, 3.2, 4.5, 1.5],\n",
       "        [6.9, 3.1, 4.9, 1.5],\n",
       "        [5.5, 2.3, 4. , 1.3],\n",
       "        [6.5, 2.8, 4.6, 1.5],\n",
       "        [5.7, 2.8, 4.5, 1.3],\n",
       "        [6.3, 3.3, 4.7, 1.6],\n",
       "        [4.9, 2.4, 3.3, 1. ],\n",
       "        [6.6, 2.9, 4.6, 1.3],\n",
       "        [5.2, 2.7, 3.9, 1.4],\n",
       "        [5. , 2. , 3.5, 1. ],\n",
       "        [5.9, 3. , 4.2, 1.5],\n",
       "        [6. , 2.2, 4. , 1. ],\n",
       "        [6.1, 2.9, 4.7, 1.4],\n",
       "        [5.6, 2.9, 3.6, 1.3],\n",
       "        [6.7, 3.1, 4.4, 1.4],\n",
       "        [5.6, 3. , 4.5, 1.5],\n",
       "        [5.8, 2.7, 4.1, 1. ],\n",
       "        [6.2, 2.2, 4.5, 1.5],\n",
       "        [5.6, 2.5, 3.9, 1.1],\n",
       "        [5.9, 3.2, 4.8, 1.8],\n",
       "        [6.1, 2.8, 4. , 1.3],\n",
       "        [6.3, 2.5, 4.9, 1.5],\n",
       "        [6.1, 2.8, 4.7, 1.2],\n",
       "        [6.4, 2.9, 4.3, 1.3],\n",
       "        [6.6, 3. , 4.4, 1.4],\n",
       "        [6.8, 2.8, 4.8, 1.4],\n",
       "        [6.7, 3. , 5. , 1.7],\n",
       "        [6. , 2.9, 4.5, 1.5],\n",
       "        [5.7, 2.6, 3.5, 1. ],\n",
       "        [5.5, 2.4, 3.8, 1.1],\n",
       "        [5.5, 2.4, 3.7, 1. ],\n",
       "        [5.8, 2.7, 3.9, 1.2],\n",
       "        [6. , 2.7, 5.1, 1.6],\n",
       "        [5.4, 3. , 4.5, 1.5],\n",
       "        [6. , 3.4, 4.5, 1.6],\n",
       "        [6.7, 3.1, 4.7, 1.5],\n",
       "        [6.3, 2.3, 4.4, 1.3],\n",
       "        [5.6, 3. , 4.1, 1.3],\n",
       "        [5.5, 2.5, 4. , 1.3],\n",
       "        [5.5, 2.6, 4.4, 1.2],\n",
       "        [6.1, 3. , 4.6, 1.4],\n",
       "        [5.8, 2.6, 4. , 1.2],\n",
       "        [5. , 2.3, 3.3, 1. ],\n",
       "        [5.6, 2.7, 4.2, 1.3],\n",
       "        [5.7, 3. , 4.2, 1.2],\n",
       "        [5.7, 2.9, 4.2, 1.3],\n",
       "        [6.2, 2.9, 4.3, 1.3],\n",
       "        [5.1, 2.5, 3. , 1.1],\n",
       "        [5.7, 2.8, 4.1, 1.3],\n",
       "        [6.3, 3.3, 6. , 2.5],\n",
       "        [5.8, 2.7, 5.1, 1.9],\n",
       "        [7.1, 3. , 5.9, 2.1],\n",
       "        [6.3, 2.9, 5.6, 1.8],\n",
       "        [6.5, 3. , 5.8, 2.2],\n",
       "        [7.6, 3. , 6.6, 2.1],\n",
       "        [4.9, 2.5, 4.5, 1.7],\n",
       "        [7.3, 2.9, 6.3, 1.8],\n",
       "        [6.7, 2.5, 5.8, 1.8],\n",
       "        [7.2, 3.6, 6.1, 2.5],\n",
       "        [6.5, 3.2, 5.1, 2. ],\n",
       "        [6.4, 2.7, 5.3, 1.9],\n",
       "        [6.8, 3. , 5.5, 2.1],\n",
       "        [5.7, 2.5, 5. , 2. ],\n",
       "        [5.8, 2.8, 5.1, 2.4],\n",
       "        [6.4, 3.2, 5.3, 2.3],\n",
       "        [6.5, 3. , 5.5, 1.8],\n",
       "        [7.7, 3.8, 6.7, 2.2],\n",
       "        [7.7, 2.6, 6.9, 2.3],\n",
       "        [6. , 2.2, 5. , 1.5],\n",
       "        [6.9, 3.2, 5.7, 2.3],\n",
       "        [5.6, 2.8, 4.9, 2. ],\n",
       "        [7.7, 2.8, 6.7, 2. ],\n",
       "        [6.3, 2.7, 4.9, 1.8],\n",
       "        [6.7, 3.3, 5.7, 2.1],\n",
       "        [7.2, 3.2, 6. , 1.8],\n",
       "        [6.2, 2.8, 4.8, 1.8],\n",
       "        [6.1, 3. , 4.9, 1.8],\n",
       "        [6.4, 2.8, 5.6, 2.1],\n",
       "        [7.2, 3. , 5.8, 1.6],\n",
       "        [7.4, 2.8, 6.1, 1.9],\n",
       "        [7.9, 3.8, 6.4, 2. ],\n",
       "        [6.4, 2.8, 5.6, 2.2],\n",
       "        [6.3, 2.8, 5.1, 1.5],\n",
       "        [6.1, 2.6, 5.6, 1.4],\n",
       "        [7.7, 3. , 6.1, 2.3],\n",
       "        [6.3, 3.4, 5.6, 2.4],\n",
       "        [6.4, 3.1, 5.5, 1.8],\n",
       "        [6. , 3. , 4.8, 1.8],\n",
       "        [6.9, 3.1, 5.4, 2.1],\n",
       "        [6.7, 3.1, 5.6, 2.4],\n",
       "        [6.9, 3.1, 5.1, 2.3],\n",
       "        [5.8, 2.7, 5.1, 1.9],\n",
       "        [6.8, 3.2, 5.9, 2.3],\n",
       "        [6.7, 3.3, 5.7, 2.5],\n",
       "        [6.7, 3. , 5.2, 2.3],\n",
       "        [6.3, 2.5, 5. , 1.9],\n",
       "        [6.5, 3. , 5.2, 2. ],\n",
       "        [6.2, 3.4, 5.4, 2.3],\n",
       "        [5.9, 3. , 5.1, 1.8]]),\n",
       " 'target': array([0, 0, 0, 0, 0, 0, 0, 0, 0, 0, 0, 0, 0, 0, 0, 0, 0, 0, 0, 0, 0, 0,\n",
       "        0, 0, 0, 0, 0, 0, 0, 0, 0, 0, 0, 0, 0, 0, 0, 0, 0, 0, 0, 0, 0, 0,\n",
       "        0, 0, 0, 0, 0, 0, 1, 1, 1, 1, 1, 1, 1, 1, 1, 1, 1, 1, 1, 1, 1, 1,\n",
       "        1, 1, 1, 1, 1, 1, 1, 1, 1, 1, 1, 1, 1, 1, 1, 1, 1, 1, 1, 1, 1, 1,\n",
       "        1, 1, 1, 1, 1, 1, 1, 1, 1, 1, 1, 1, 2, 2, 2, 2, 2, 2, 2, 2, 2, 2,\n",
       "        2, 2, 2, 2, 2, 2, 2, 2, 2, 2, 2, 2, 2, 2, 2, 2, 2, 2, 2, 2, 2, 2,\n",
       "        2, 2, 2, 2, 2, 2, 2, 2, 2, 2, 2, 2, 2, 2, 2, 2, 2, 2]),\n",
       " 'frame': None,\n",
       " 'target_names': array(['setosa', 'versicolor', 'virginica'], dtype='<U10'),\n",
       " 'DESCR': '.. _iris_dataset:\\n\\nIris plants dataset\\n--------------------\\n\\n**Data Set Characteristics:**\\n\\n    :Number of Instances: 150 (50 in each of three classes)\\n    :Number of Attributes: 4 numeric, predictive attributes and the class\\n    :Attribute Information:\\n        - sepal length in cm\\n        - sepal width in cm\\n        - petal length in cm\\n        - petal width in cm\\n        - class:\\n                - Iris-Setosa\\n                - Iris-Versicolour\\n                - Iris-Virginica\\n                \\n    :Summary Statistics:\\n\\n    ============== ==== ==== ======= ===== ====================\\n                    Min  Max   Mean    SD   Class Correlation\\n    ============== ==== ==== ======= ===== ====================\\n    sepal length:   4.3  7.9   5.84   0.83    0.7826\\n    sepal width:    2.0  4.4   3.05   0.43   -0.4194\\n    petal length:   1.0  6.9   3.76   1.76    0.9490  (high!)\\n    petal width:    0.1  2.5   1.20   0.76    0.9565  (high!)\\n    ============== ==== ==== ======= ===== ====================\\n\\n    :Missing Attribute Values: None\\n    :Class Distribution: 33.3% for each of 3 classes.\\n    :Creator: R.A. Fisher\\n    :Donor: Michael Marshall (MARSHALL%PLU@io.arc.nasa.gov)\\n    :Date: July, 1988\\n\\nThe famous Iris database, first used by Sir R.A. Fisher. The dataset is taken\\nfrom Fisher\\'s paper. Note that it\\'s the same as in R, but not as in the UCI\\nMachine Learning Repository, which has two wrong data points.\\n\\nThis is perhaps the best known database to be found in the\\npattern recognition literature.  Fisher\\'s paper is a classic in the field and\\nis referenced frequently to this day.  (See Duda & Hart, for example.)  The\\ndata set contains 3 classes of 50 instances each, where each class refers to a\\ntype of iris plant.  One class is linearly separable from the other 2; the\\nlatter are NOT linearly separable from each other.\\n\\n.. topic:: References\\n\\n   - Fisher, R.A. \"The use of multiple measurements in taxonomic problems\"\\n     Annual Eugenics, 7, Part II, 179-188 (1936); also in \"Contributions to\\n     Mathematical Statistics\" (John Wiley, NY, 1950).\\n   - Duda, R.O., & Hart, P.E. (1973) Pattern Classification and Scene Analysis.\\n     (Q327.D83) John Wiley & Sons.  ISBN 0-471-22361-1.  See page 218.\\n   - Dasarathy, B.V. (1980) \"Nosing Around the Neighborhood: A New System\\n     Structure and Classification Rule for Recognition in Partially Exposed\\n     Environments\".  IEEE Transactions on Pattern Analysis and Machine\\n     Intelligence, Vol. PAMI-2, No. 1, 67-71.\\n   - Gates, G.W. (1972) \"The Reduced Nearest Neighbor Rule\".  IEEE Transactions\\n     on Information Theory, May 1972, 431-433.\\n   - See also: 1988 MLC Proceedings, 54-64.  Cheeseman et al\"s AUTOCLASS II\\n     conceptual clustering system finds 3 classes in the data.\\n   - Many, many more ...',\n",
       " 'feature_names': ['sepal length (cm)',\n",
       "  'sepal width (cm)',\n",
       "  'petal length (cm)',\n",
       "  'petal width (cm)'],\n",
       " 'filename': 'iris.csv',\n",
       " 'data_module': 'sklearn.datasets.data'}"
      ]
     },
     "execution_count": 7,
     "metadata": {},
     "output_type": "execute_result"
    }
   ],
   "source": [
    "dataset"
   ]
  },
  {
   "cell_type": "code",
   "execution_count": 11,
   "id": "a539dc37-352e-4b2f-a1ae-f22217a1812f",
   "metadata": {
    "tags": []
   },
   "outputs": [
    {
     "name": "stdout",
     "output_type": "stream",
     "text": [
      ".. _iris_dataset:\n",
      "\n",
      "Iris plants dataset\n",
      "--------------------\n",
      "\n",
      "**Data Set Characteristics:**\n",
      "\n",
      "    :Number of Instances: 150 (50 in each of three classes)\n",
      "    :Number of Attributes: 4 numeric, predictive attributes and the class\n",
      "    :Attribute Information:\n",
      "        - sepal length in cm\n",
      "        - sepal width in cm\n",
      "        - petal length in cm\n",
      "        - petal width in cm\n",
      "        - class:\n",
      "                - Iris-Setosa\n",
      "                - Iris-Versicolour\n",
      "                - Iris-Virginica\n",
      "                \n",
      "    :Summary Statistics:\n",
      "\n",
      "    ============== ==== ==== ======= ===== ====================\n",
      "                    Min  Max   Mean    SD   Class Correlation\n",
      "    ============== ==== ==== ======= ===== ====================\n",
      "    sepal length:   4.3  7.9   5.84   0.83    0.7826\n",
      "    sepal width:    2.0  4.4   3.05   0.43   -0.4194\n",
      "    petal length:   1.0  6.9   3.76   1.76    0.9490  (high!)\n",
      "    petal width:    0.1  2.5   1.20   0.76    0.9565  (high!)\n",
      "    ============== ==== ==== ======= ===== ====================\n",
      "\n",
      "    :Missing Attribute Values: None\n",
      "    :Class Distribution: 33.3% for each of 3 classes.\n",
      "    :Creator: R.A. Fisher\n",
      "    :Donor: Michael Marshall (MARSHALL%PLU@io.arc.nasa.gov)\n",
      "    :Date: July, 1988\n",
      "\n",
      "The famous Iris database, first used by Sir R.A. Fisher. The dataset is taken\n",
      "from Fisher's paper. Note that it's the same as in R, but not as in the UCI\n",
      "Machine Learning Repository, which has two wrong data points.\n",
      "\n",
      "This is perhaps the best known database to be found in the\n",
      "pattern recognition literature.  Fisher's paper is a classic in the field and\n",
      "is referenced frequently to this day.  (See Duda & Hart, for example.)  The\n",
      "data set contains 3 classes of 50 instances each, where each class refers to a\n",
      "type of iris plant.  One class is linearly separable from the other 2; the\n",
      "latter are NOT linearly separable from each other.\n",
      "\n",
      ".. topic:: References\n",
      "\n",
      "   - Fisher, R.A. \"The use of multiple measurements in taxonomic problems\"\n",
      "     Annual Eugenics, 7, Part II, 179-188 (1936); also in \"Contributions to\n",
      "     Mathematical Statistics\" (John Wiley, NY, 1950).\n",
      "   - Duda, R.O., & Hart, P.E. (1973) Pattern Classification and Scene Analysis.\n",
      "     (Q327.D83) John Wiley & Sons.  ISBN 0-471-22361-1.  See page 218.\n",
      "   - Dasarathy, B.V. (1980) \"Nosing Around the Neighborhood: A New System\n",
      "     Structure and Classification Rule for Recognition in Partially Exposed\n",
      "     Environments\".  IEEE Transactions on Pattern Analysis and Machine\n",
      "     Intelligence, Vol. PAMI-2, No. 1, 67-71.\n",
      "   - Gates, G.W. (1972) \"The Reduced Nearest Neighbor Rule\".  IEEE Transactions\n",
      "     on Information Theory, May 1972, 431-433.\n",
      "   - See also: 1988 MLC Proceedings, 54-64.  Cheeseman et al\"s AUTOCLASS II\n",
      "     conceptual clustering system finds 3 classes in the data.\n",
      "   - Many, many more ...\n"
     ]
    }
   ],
   "source": [
    " print(dataset.DESCR)"
   ]
  },
  {
   "cell_type": "code",
   "execution_count": 12,
   "id": "903b8b98-ae2a-4a12-a978-b01be41501c0",
   "metadata": {
    "tags": []
   },
   "outputs": [
    {
     "data": {
      "text/plain": [
       "dict_keys(['data', 'target', 'frame', 'target_names', 'DESCR', 'feature_names', 'filename', 'data_module'])"
      ]
     },
     "execution_count": 12,
     "metadata": {},
     "output_type": "execute_result"
    }
   ],
   "source": [
    "dataset.keys()"
   ]
  },
  {
   "cell_type": "code",
   "execution_count": 17,
   "id": "b303ffb7-5628-4bc0-a81d-c23bd870beed",
   "metadata": {
    "tags": []
   },
   "outputs": [],
   "source": [
    "df=pd.DataFrame(dataset.data,columns=dataset.feature_names)\n"
   ]
  },
  {
   "cell_type": "code",
   "execution_count": 18,
   "id": "9746c835-925f-4e87-ad20-bb79321525ec",
   "metadata": {
    "tags": []
   },
   "outputs": [
    {
     "data": {
      "text/html": [
       "<div>\n",
       "<style scoped>\n",
       "    .dataframe tbody tr th:only-of-type {\n",
       "        vertical-align: middle;\n",
       "    }\n",
       "\n",
       "    .dataframe tbody tr th {\n",
       "        vertical-align: top;\n",
       "    }\n",
       "\n",
       "    .dataframe thead th {\n",
       "        text-align: right;\n",
       "    }\n",
       "</style>\n",
       "<table border=\"1\" class=\"dataframe\">\n",
       "  <thead>\n",
       "    <tr style=\"text-align: right;\">\n",
       "      <th></th>\n",
       "      <th>sepal length (cm)</th>\n",
       "      <th>sepal width (cm)</th>\n",
       "      <th>petal length (cm)</th>\n",
       "      <th>petal width (cm)</th>\n",
       "    </tr>\n",
       "  </thead>\n",
       "  <tbody>\n",
       "    <tr>\n",
       "      <th>0</th>\n",
       "      <td>5.1</td>\n",
       "      <td>3.5</td>\n",
       "      <td>1.4</td>\n",
       "      <td>0.2</td>\n",
       "    </tr>\n",
       "    <tr>\n",
       "      <th>1</th>\n",
       "      <td>4.9</td>\n",
       "      <td>3.0</td>\n",
       "      <td>1.4</td>\n",
       "      <td>0.2</td>\n",
       "    </tr>\n",
       "    <tr>\n",
       "      <th>2</th>\n",
       "      <td>4.7</td>\n",
       "      <td>3.2</td>\n",
       "      <td>1.3</td>\n",
       "      <td>0.2</td>\n",
       "    </tr>\n",
       "    <tr>\n",
       "      <th>3</th>\n",
       "      <td>4.6</td>\n",
       "      <td>3.1</td>\n",
       "      <td>1.5</td>\n",
       "      <td>0.2</td>\n",
       "    </tr>\n",
       "    <tr>\n",
       "      <th>4</th>\n",
       "      <td>5.0</td>\n",
       "      <td>3.6</td>\n",
       "      <td>1.4</td>\n",
       "      <td>0.2</td>\n",
       "    </tr>\n",
       "  </tbody>\n",
       "</table>\n",
       "</div>"
      ],
      "text/plain": [
       "   sepal length (cm)  sepal width (cm)  petal length (cm)  petal width (cm)\n",
       "0                5.1               3.5                1.4               0.2\n",
       "1                4.9               3.0                1.4               0.2\n",
       "2                4.7               3.2                1.3               0.2\n",
       "3                4.6               3.1                1.5               0.2\n",
       "4                5.0               3.6                1.4               0.2"
      ]
     },
     "execution_count": 18,
     "metadata": {},
     "output_type": "execute_result"
    }
   ],
   "source": [
    "df.head()"
   ]
  },
  {
   "cell_type": "code",
   "execution_count": 20,
   "id": "1afa53ad-3f7f-457e-8578-e693dff09c2a",
   "metadata": {
    "tags": []
   },
   "outputs": [
    {
     "data": {
      "text/plain": [
       "sepal length (cm)    0\n",
       "sepal width (cm)     0\n",
       "petal length (cm)    0\n",
       "petal width (cm)     0\n",
       "dtype: int64"
      ]
     },
     "execution_count": 20,
     "metadata": {},
     "output_type": "execute_result"
    }
   ],
   "source": [
    "df.isnull().sum()"
   ]
  },
  {
   "cell_type": "code",
   "execution_count": 21,
   "id": "a2c03747-a71f-4f29-a390-5e1c0d179c05",
   "metadata": {
    "tags": []
   },
   "outputs": [],
   "source": [
    "df['target']=dataset.target"
   ]
  },
  {
   "cell_type": "code",
   "execution_count": 22,
   "id": "532100f5-92e4-42a0-b2d1-f0a2eda8350d",
   "metadata": {
    "tags": []
   },
   "outputs": [
    {
     "data": {
      "text/html": [
       "<div>\n",
       "<style scoped>\n",
       "    .dataframe tbody tr th:only-of-type {\n",
       "        vertical-align: middle;\n",
       "    }\n",
       "\n",
       "    .dataframe tbody tr th {\n",
       "        vertical-align: top;\n",
       "    }\n",
       "\n",
       "    .dataframe thead th {\n",
       "        text-align: right;\n",
       "    }\n",
       "</style>\n",
       "<table border=\"1\" class=\"dataframe\">\n",
       "  <thead>\n",
       "    <tr style=\"text-align: right;\">\n",
       "      <th></th>\n",
       "      <th>sepal length (cm)</th>\n",
       "      <th>sepal width (cm)</th>\n",
       "      <th>petal length (cm)</th>\n",
       "      <th>petal width (cm)</th>\n",
       "      <th>target</th>\n",
       "    </tr>\n",
       "  </thead>\n",
       "  <tbody>\n",
       "    <tr>\n",
       "      <th>0</th>\n",
       "      <td>5.1</td>\n",
       "      <td>3.5</td>\n",
       "      <td>1.4</td>\n",
       "      <td>0.2</td>\n",
       "      <td>0</td>\n",
       "    </tr>\n",
       "    <tr>\n",
       "      <th>1</th>\n",
       "      <td>4.9</td>\n",
       "      <td>3.0</td>\n",
       "      <td>1.4</td>\n",
       "      <td>0.2</td>\n",
       "      <td>0</td>\n",
       "    </tr>\n",
       "    <tr>\n",
       "      <th>2</th>\n",
       "      <td>4.7</td>\n",
       "      <td>3.2</td>\n",
       "      <td>1.3</td>\n",
       "      <td>0.2</td>\n",
       "      <td>0</td>\n",
       "    </tr>\n",
       "    <tr>\n",
       "      <th>3</th>\n",
       "      <td>4.6</td>\n",
       "      <td>3.1</td>\n",
       "      <td>1.5</td>\n",
       "      <td>0.2</td>\n",
       "      <td>0</td>\n",
       "    </tr>\n",
       "    <tr>\n",
       "      <th>4</th>\n",
       "      <td>5.0</td>\n",
       "      <td>3.6</td>\n",
       "      <td>1.4</td>\n",
       "      <td>0.2</td>\n",
       "      <td>0</td>\n",
       "    </tr>\n",
       "    <tr>\n",
       "      <th>...</th>\n",
       "      <td>...</td>\n",
       "      <td>...</td>\n",
       "      <td>...</td>\n",
       "      <td>...</td>\n",
       "      <td>...</td>\n",
       "    </tr>\n",
       "    <tr>\n",
       "      <th>145</th>\n",
       "      <td>6.7</td>\n",
       "      <td>3.0</td>\n",
       "      <td>5.2</td>\n",
       "      <td>2.3</td>\n",
       "      <td>2</td>\n",
       "    </tr>\n",
       "    <tr>\n",
       "      <th>146</th>\n",
       "      <td>6.3</td>\n",
       "      <td>2.5</td>\n",
       "      <td>5.0</td>\n",
       "      <td>1.9</td>\n",
       "      <td>2</td>\n",
       "    </tr>\n",
       "    <tr>\n",
       "      <th>147</th>\n",
       "      <td>6.5</td>\n",
       "      <td>3.0</td>\n",
       "      <td>5.2</td>\n",
       "      <td>2.0</td>\n",
       "      <td>2</td>\n",
       "    </tr>\n",
       "    <tr>\n",
       "      <th>148</th>\n",
       "      <td>6.2</td>\n",
       "      <td>3.4</td>\n",
       "      <td>5.4</td>\n",
       "      <td>2.3</td>\n",
       "      <td>2</td>\n",
       "    </tr>\n",
       "    <tr>\n",
       "      <th>149</th>\n",
       "      <td>5.9</td>\n",
       "      <td>3.0</td>\n",
       "      <td>5.1</td>\n",
       "      <td>1.8</td>\n",
       "      <td>2</td>\n",
       "    </tr>\n",
       "  </tbody>\n",
       "</table>\n",
       "<p>150 rows × 5 columns</p>\n",
       "</div>"
      ],
      "text/plain": [
       "     sepal length (cm)  sepal width (cm)  petal length (cm)  petal width (cm)  \\\n",
       "0                  5.1               3.5                1.4               0.2   \n",
       "1                  4.9               3.0                1.4               0.2   \n",
       "2                  4.7               3.2                1.3               0.2   \n",
       "3                  4.6               3.1                1.5               0.2   \n",
       "4                  5.0               3.6                1.4               0.2   \n",
       "..                 ...               ...                ...               ...   \n",
       "145                6.7               3.0                5.2               2.3   \n",
       "146                6.3               2.5                5.0               1.9   \n",
       "147                6.5               3.0                5.2               2.0   \n",
       "148                6.2               3.4                5.4               2.3   \n",
       "149                5.9               3.0                5.1               1.8   \n",
       "\n",
       "     target  \n",
       "0         0  \n",
       "1         0  \n",
       "2         0  \n",
       "3         0  \n",
       "4         0  \n",
       "..      ...  \n",
       "145       2  \n",
       "146       2  \n",
       "147       2  \n",
       "148       2  \n",
       "149       2  \n",
       "\n",
       "[150 rows x 5 columns]"
      ]
     },
     "execution_count": 22,
     "metadata": {},
     "output_type": "execute_result"
    }
   ],
   "source": [
    "df"
   ]
  },
  {
   "cell_type": "code",
   "execution_count": 24,
   "id": "0bbce633-7f33-4c94-bf78-96be33b67eb2",
   "metadata": {
    "tags": []
   },
   "outputs": [
    {
     "data": {
      "text/html": [
       "<div>\n",
       "<style scoped>\n",
       "    .dataframe tbody tr th:only-of-type {\n",
       "        vertical-align: middle;\n",
       "    }\n",
       "\n",
       "    .dataframe tbody tr th {\n",
       "        vertical-align: top;\n",
       "    }\n",
       "\n",
       "    .dataframe thead th {\n",
       "        text-align: right;\n",
       "    }\n",
       "</style>\n",
       "<table border=\"1\" class=\"dataframe\">\n",
       "  <thead>\n",
       "    <tr style=\"text-align: right;\">\n",
       "      <th></th>\n",
       "      <th>sepal length (cm)</th>\n",
       "      <th>sepal width (cm)</th>\n",
       "      <th>petal length (cm)</th>\n",
       "      <th>petal width (cm)</th>\n",
       "      <th>target</th>\n",
       "    </tr>\n",
       "  </thead>\n",
       "  <tbody>\n",
       "    <tr>\n",
       "      <th>0</th>\n",
       "      <td>5.1</td>\n",
       "      <td>3.5</td>\n",
       "      <td>1.4</td>\n",
       "      <td>0.2</td>\n",
       "      <td>0</td>\n",
       "    </tr>\n",
       "    <tr>\n",
       "      <th>1</th>\n",
       "      <td>4.9</td>\n",
       "      <td>3.0</td>\n",
       "      <td>1.4</td>\n",
       "      <td>0.2</td>\n",
       "      <td>0</td>\n",
       "    </tr>\n",
       "    <tr>\n",
       "      <th>2</th>\n",
       "      <td>4.7</td>\n",
       "      <td>3.2</td>\n",
       "      <td>1.3</td>\n",
       "      <td>0.2</td>\n",
       "      <td>0</td>\n",
       "    </tr>\n",
       "    <tr>\n",
       "      <th>3</th>\n",
       "      <td>4.6</td>\n",
       "      <td>3.1</td>\n",
       "      <td>1.5</td>\n",
       "      <td>0.2</td>\n",
       "      <td>0</td>\n",
       "    </tr>\n",
       "    <tr>\n",
       "      <th>4</th>\n",
       "      <td>5.0</td>\n",
       "      <td>3.6</td>\n",
       "      <td>1.4</td>\n",
       "      <td>0.2</td>\n",
       "      <td>0</td>\n",
       "    </tr>\n",
       "    <tr>\n",
       "      <th>...</th>\n",
       "      <td>...</td>\n",
       "      <td>...</td>\n",
       "      <td>...</td>\n",
       "      <td>...</td>\n",
       "      <td>...</td>\n",
       "    </tr>\n",
       "    <tr>\n",
       "      <th>145</th>\n",
       "      <td>6.7</td>\n",
       "      <td>3.0</td>\n",
       "      <td>5.2</td>\n",
       "      <td>2.3</td>\n",
       "      <td>2</td>\n",
       "    </tr>\n",
       "    <tr>\n",
       "      <th>146</th>\n",
       "      <td>6.3</td>\n",
       "      <td>2.5</td>\n",
       "      <td>5.0</td>\n",
       "      <td>1.9</td>\n",
       "      <td>2</td>\n",
       "    </tr>\n",
       "    <tr>\n",
       "      <th>147</th>\n",
       "      <td>6.5</td>\n",
       "      <td>3.0</td>\n",
       "      <td>5.2</td>\n",
       "      <td>2.0</td>\n",
       "      <td>2</td>\n",
       "    </tr>\n",
       "    <tr>\n",
       "      <th>148</th>\n",
       "      <td>6.2</td>\n",
       "      <td>3.4</td>\n",
       "      <td>5.4</td>\n",
       "      <td>2.3</td>\n",
       "      <td>2</td>\n",
       "    </tr>\n",
       "    <tr>\n",
       "      <th>149</th>\n",
       "      <td>5.9</td>\n",
       "      <td>3.0</td>\n",
       "      <td>5.1</td>\n",
       "      <td>1.8</td>\n",
       "      <td>2</td>\n",
       "    </tr>\n",
       "  </tbody>\n",
       "</table>\n",
       "<p>150 rows × 5 columns</p>\n",
       "</div>"
      ],
      "text/plain": [
       "     sepal length (cm)  sepal width (cm)  petal length (cm)  petal width (cm)  \\\n",
       "0                  5.1               3.5                1.4               0.2   \n",
       "1                  4.9               3.0                1.4               0.2   \n",
       "2                  4.7               3.2                1.3               0.2   \n",
       "3                  4.6               3.1                1.5               0.2   \n",
       "4                  5.0               3.6                1.4               0.2   \n",
       "..                 ...               ...                ...               ...   \n",
       "145                6.7               3.0                5.2               2.3   \n",
       "146                6.3               2.5                5.0               1.9   \n",
       "147                6.5               3.0                5.2               2.0   \n",
       "148                6.2               3.4                5.4               2.3   \n",
       "149                5.9               3.0                5.1               1.8   \n",
       "\n",
       "     target  \n",
       "0         0  \n",
       "1         0  \n",
       "2         0  \n",
       "3         0  \n",
       "4         0  \n",
       "..      ...  \n",
       "145       2  \n",
       "146       2  \n",
       "147       2  \n",
       "148       2  \n",
       "149       2  \n",
       "\n",
       "[150 rows x 5 columns]"
      ]
     },
     "execution_count": 24,
     "metadata": {},
     "output_type": "execute_result"
    }
   ],
   "source": [
    " df"
   ]
  },
  {
   "cell_type": "code",
   "execution_count": 50,
   "id": "c101e21b-59de-422a-b71a-1519f6969340",
   "metadata": {
    "tags": []
   },
   "outputs": [],
   "source": [
    "df_copy=df[df['target']!=2]"
   ]
  },
  {
   "cell_type": "code",
   "execution_count": 51,
   "id": "b23f8bb8-f52b-4ba6-939e-15f9c8e8f32a",
   "metadata": {
    "tags": []
   },
   "outputs": [
    {
     "data": {
      "text/plain": [
       "(100, 5)"
      ]
     },
     "execution_count": 51,
     "metadata": {},
     "output_type": "execute_result"
    }
   ],
   "source": [
    "df_copy.shape"
   ]
  },
  {
   "cell_type": "code",
   "execution_count": 5,
   "id": "a6f78023-296b-422b-baed-8d1125c4fc52",
   "metadata": {
    "tags": []
   },
   "outputs": [],
   "source": [
    "from sklearn.model_selection import train_test_split"
   ]
  },
  {
   "cell_type": "code",
   "execution_count": 53,
   "id": "d65559c2-6781-4889-a950-22c4fc258901",
   "metadata": {
    "tags": []
   },
   "outputs": [],
   "source": [
    "X=df_copy.iloc[:,:-1]\n"
   ]
  },
  {
   "cell_type": "code",
   "execution_count": 56,
   "id": "45cd280b-7c42-4801-9004-b051ef6bdc43",
   "metadata": {
    "tags": []
   },
   "outputs": [
    {
     "data": {
      "text/plain": [
       "(100, 4)"
      ]
     },
     "execution_count": 56,
     "metadata": {},
     "output_type": "execute_result"
    }
   ],
   "source": [
    "X.shape"
   ]
  },
  {
   "cell_type": "code",
   "execution_count": 60,
   "id": "b6b0a284-9e11-4744-bbb0-93b152cb9875",
   "metadata": {
    "tags": []
   },
   "outputs": [],
   "source": [
    "y=df_copy.iloc[:,-1]\n"
   ]
  },
  {
   "cell_type": "code",
   "execution_count": 61,
   "id": "f4787ca6-a201-4d5d-8251-2ee60d12cad5",
   "metadata": {
    "tags": []
   },
   "outputs": [
    {
     "data": {
      "text/plain": [
       "(100,)"
      ]
     },
     "execution_count": 61,
     "metadata": {},
     "output_type": "execute_result"
    }
   ],
   "source": [
    "y.shape"
   ]
  },
  {
   "cell_type": "code",
   "execution_count": 63,
   "id": "a7726d5f-f94c-4763-ba10-56666dfc0e4b",
   "metadata": {
    "tags": []
   },
   "outputs": [],
   "source": [
    "X_train,X_test,y_train,y_test=train_test_split(X,y,test_size=0.25,random_state=42)"
   ]
  },
  {
   "cell_type": "code",
   "execution_count": 64,
   "id": "1ca211cb-65c4-4dc6-b3ed-cbef1484f5d7",
   "metadata": {
    "tags": []
   },
   "outputs": [
    {
     "data": {
      "text/plain": [
       "(75, 4)"
      ]
     },
     "execution_count": 64,
     "metadata": {},
     "output_type": "execute_result"
    }
   ],
   "source": [
    "X_train.shape"
   ]
  },
  {
   "cell_type": "code",
   "execution_count": 65,
   "id": "2e295729-0de7-4cdf-8811-8ce8221b835d",
   "metadata": {
    "tags": []
   },
   "outputs": [],
   "source": [
    "from sklearn.linear_model import LogisticRegression"
   ]
  },
  {
   "cell_type": "code",
   "execution_count": 66,
   "id": "bacb4b4b-1be9-4371-a263-2ce5e6c56e84",
   "metadata": {
    "tags": []
   },
   "outputs": [],
   "source": [
    "regressor=LogisticRegression()"
   ]
  },
  {
   "cell_type": "code",
   "execution_count": 67,
   "id": "d8a1bd1d-ac44-4f82-9131-e48a6945e4c5",
   "metadata": {
    "tags": []
   },
   "outputs": [
    {
     "data": {
      "text/html": [
       "<style>#sk-container-id-1 {color: black;background-color: white;}#sk-container-id-1 pre{padding: 0;}#sk-container-id-1 div.sk-toggleable {background-color: white;}#sk-container-id-1 label.sk-toggleable__label {cursor: pointer;display: block;width: 100%;margin-bottom: 0;padding: 0.3em;box-sizing: border-box;text-align: center;}#sk-container-id-1 label.sk-toggleable__label-arrow:before {content: \"▸\";float: left;margin-right: 0.25em;color: #696969;}#sk-container-id-1 label.sk-toggleable__label-arrow:hover:before {color: black;}#sk-container-id-1 div.sk-estimator:hover label.sk-toggleable__label-arrow:before {color: black;}#sk-container-id-1 div.sk-toggleable__content {max-height: 0;max-width: 0;overflow: hidden;text-align: left;background-color: #f0f8ff;}#sk-container-id-1 div.sk-toggleable__content pre {margin: 0.2em;color: black;border-radius: 0.25em;background-color: #f0f8ff;}#sk-container-id-1 input.sk-toggleable__control:checked~div.sk-toggleable__content {max-height: 200px;max-width: 100%;overflow: auto;}#sk-container-id-1 input.sk-toggleable__control:checked~label.sk-toggleable__label-arrow:before {content: \"▾\";}#sk-container-id-1 div.sk-estimator input.sk-toggleable__control:checked~label.sk-toggleable__label {background-color: #d4ebff;}#sk-container-id-1 div.sk-label input.sk-toggleable__control:checked~label.sk-toggleable__label {background-color: #d4ebff;}#sk-container-id-1 input.sk-hidden--visually {border: 0;clip: rect(1px 1px 1px 1px);clip: rect(1px, 1px, 1px, 1px);height: 1px;margin: -1px;overflow: hidden;padding: 0;position: absolute;width: 1px;}#sk-container-id-1 div.sk-estimator {font-family: monospace;background-color: #f0f8ff;border: 1px dotted black;border-radius: 0.25em;box-sizing: border-box;margin-bottom: 0.5em;}#sk-container-id-1 div.sk-estimator:hover {background-color: #d4ebff;}#sk-container-id-1 div.sk-parallel-item::after {content: \"\";width: 100%;border-bottom: 1px solid gray;flex-grow: 1;}#sk-container-id-1 div.sk-label:hover label.sk-toggleable__label {background-color: #d4ebff;}#sk-container-id-1 div.sk-serial::before {content: \"\";position: absolute;border-left: 1px solid gray;box-sizing: border-box;top: 0;bottom: 0;left: 50%;z-index: 0;}#sk-container-id-1 div.sk-serial {display: flex;flex-direction: column;align-items: center;background-color: white;padding-right: 0.2em;padding-left: 0.2em;position: relative;}#sk-container-id-1 div.sk-item {position: relative;z-index: 1;}#sk-container-id-1 div.sk-parallel {display: flex;align-items: stretch;justify-content: center;background-color: white;position: relative;}#sk-container-id-1 div.sk-item::before, #sk-container-id-1 div.sk-parallel-item::before {content: \"\";position: absolute;border-left: 1px solid gray;box-sizing: border-box;top: 0;bottom: 0;left: 50%;z-index: -1;}#sk-container-id-1 div.sk-parallel-item {display: flex;flex-direction: column;z-index: 1;position: relative;background-color: white;}#sk-container-id-1 div.sk-parallel-item:first-child::after {align-self: flex-end;width: 50%;}#sk-container-id-1 div.sk-parallel-item:last-child::after {align-self: flex-start;width: 50%;}#sk-container-id-1 div.sk-parallel-item:only-child::after {width: 0;}#sk-container-id-1 div.sk-dashed-wrapped {border: 1px dashed gray;margin: 0 0.4em 0.5em 0.4em;box-sizing: border-box;padding-bottom: 0.4em;background-color: white;}#sk-container-id-1 div.sk-label label {font-family: monospace;font-weight: bold;display: inline-block;line-height: 1.2em;}#sk-container-id-1 div.sk-label-container {text-align: center;}#sk-container-id-1 div.sk-container {/* jupyter's `normalize.less` sets `[hidden] { display: none; }` but bootstrap.min.css set `[hidden] { display: none !important; }` so we also need the `!important` here to be able to override the default hidden behavior on the sphinx rendered scikit-learn.org. See: https://github.com/scikit-learn/scikit-learn/issues/21755 */display: inline-block !important;position: relative;}#sk-container-id-1 div.sk-text-repr-fallback {display: none;}</style><div id=\"sk-container-id-1\" class=\"sk-top-container\"><div class=\"sk-text-repr-fallback\"><pre>LogisticRegression()</pre><b>In a Jupyter environment, please rerun this cell to show the HTML representation or trust the notebook. <br />On GitHub, the HTML representation is unable to render, please try loading this page with nbviewer.org.</b></div><div class=\"sk-container\" hidden><div class=\"sk-item\"><div class=\"sk-estimator sk-toggleable\"><input class=\"sk-toggleable__control sk-hidden--visually\" id=\"sk-estimator-id-1\" type=\"checkbox\" checked><label for=\"sk-estimator-id-1\" class=\"sk-toggleable__label sk-toggleable__label-arrow\">LogisticRegression</label><div class=\"sk-toggleable__content\"><pre>LogisticRegression()</pre></div></div></div></div></div>"
      ],
      "text/plain": [
       "LogisticRegression()"
      ]
     },
     "execution_count": 67,
     "metadata": {},
     "output_type": "execute_result"
    }
   ],
   "source": [
    "regressor"
   ]
  },
  {
   "cell_type": "code",
   "execution_count": 68,
   "id": "2c5ad0cf-7316-4b88-9ecf-f8921874ade4",
   "metadata": {
    "tags": []
   },
   "outputs": [
    {
     "data": {
      "text/html": [
       "<style>#sk-container-id-2 {color: black;background-color: white;}#sk-container-id-2 pre{padding: 0;}#sk-container-id-2 div.sk-toggleable {background-color: white;}#sk-container-id-2 label.sk-toggleable__label {cursor: pointer;display: block;width: 100%;margin-bottom: 0;padding: 0.3em;box-sizing: border-box;text-align: center;}#sk-container-id-2 label.sk-toggleable__label-arrow:before {content: \"▸\";float: left;margin-right: 0.25em;color: #696969;}#sk-container-id-2 label.sk-toggleable__label-arrow:hover:before {color: black;}#sk-container-id-2 div.sk-estimator:hover label.sk-toggleable__label-arrow:before {color: black;}#sk-container-id-2 div.sk-toggleable__content {max-height: 0;max-width: 0;overflow: hidden;text-align: left;background-color: #f0f8ff;}#sk-container-id-2 div.sk-toggleable__content pre {margin: 0.2em;color: black;border-radius: 0.25em;background-color: #f0f8ff;}#sk-container-id-2 input.sk-toggleable__control:checked~div.sk-toggleable__content {max-height: 200px;max-width: 100%;overflow: auto;}#sk-container-id-2 input.sk-toggleable__control:checked~label.sk-toggleable__label-arrow:before {content: \"▾\";}#sk-container-id-2 div.sk-estimator input.sk-toggleable__control:checked~label.sk-toggleable__label {background-color: #d4ebff;}#sk-container-id-2 div.sk-label input.sk-toggleable__control:checked~label.sk-toggleable__label {background-color: #d4ebff;}#sk-container-id-2 input.sk-hidden--visually {border: 0;clip: rect(1px 1px 1px 1px);clip: rect(1px, 1px, 1px, 1px);height: 1px;margin: -1px;overflow: hidden;padding: 0;position: absolute;width: 1px;}#sk-container-id-2 div.sk-estimator {font-family: monospace;background-color: #f0f8ff;border: 1px dotted black;border-radius: 0.25em;box-sizing: border-box;margin-bottom: 0.5em;}#sk-container-id-2 div.sk-estimator:hover {background-color: #d4ebff;}#sk-container-id-2 div.sk-parallel-item::after {content: \"\";width: 100%;border-bottom: 1px solid gray;flex-grow: 1;}#sk-container-id-2 div.sk-label:hover label.sk-toggleable__label {background-color: #d4ebff;}#sk-container-id-2 div.sk-serial::before {content: \"\";position: absolute;border-left: 1px solid gray;box-sizing: border-box;top: 0;bottom: 0;left: 50%;z-index: 0;}#sk-container-id-2 div.sk-serial {display: flex;flex-direction: column;align-items: center;background-color: white;padding-right: 0.2em;padding-left: 0.2em;position: relative;}#sk-container-id-2 div.sk-item {position: relative;z-index: 1;}#sk-container-id-2 div.sk-parallel {display: flex;align-items: stretch;justify-content: center;background-color: white;position: relative;}#sk-container-id-2 div.sk-item::before, #sk-container-id-2 div.sk-parallel-item::before {content: \"\";position: absolute;border-left: 1px solid gray;box-sizing: border-box;top: 0;bottom: 0;left: 50%;z-index: -1;}#sk-container-id-2 div.sk-parallel-item {display: flex;flex-direction: column;z-index: 1;position: relative;background-color: white;}#sk-container-id-2 div.sk-parallel-item:first-child::after {align-self: flex-end;width: 50%;}#sk-container-id-2 div.sk-parallel-item:last-child::after {align-self: flex-start;width: 50%;}#sk-container-id-2 div.sk-parallel-item:only-child::after {width: 0;}#sk-container-id-2 div.sk-dashed-wrapped {border: 1px dashed gray;margin: 0 0.4em 0.5em 0.4em;box-sizing: border-box;padding-bottom: 0.4em;background-color: white;}#sk-container-id-2 div.sk-label label {font-family: monospace;font-weight: bold;display: inline-block;line-height: 1.2em;}#sk-container-id-2 div.sk-label-container {text-align: center;}#sk-container-id-2 div.sk-container {/* jupyter's `normalize.less` sets `[hidden] { display: none; }` but bootstrap.min.css set `[hidden] { display: none !important; }` so we also need the `!important` here to be able to override the default hidden behavior on the sphinx rendered scikit-learn.org. See: https://github.com/scikit-learn/scikit-learn/issues/21755 */display: inline-block !important;position: relative;}#sk-container-id-2 div.sk-text-repr-fallback {display: none;}</style><div id=\"sk-container-id-2\" class=\"sk-top-container\"><div class=\"sk-text-repr-fallback\"><pre>LogisticRegression()</pre><b>In a Jupyter environment, please rerun this cell to show the HTML representation or trust the notebook. <br />On GitHub, the HTML representation is unable to render, please try loading this page with nbviewer.org.</b></div><div class=\"sk-container\" hidden><div class=\"sk-item\"><div class=\"sk-estimator sk-toggleable\"><input class=\"sk-toggleable__control sk-hidden--visually\" id=\"sk-estimator-id-2\" type=\"checkbox\" checked><label for=\"sk-estimator-id-2\" class=\"sk-toggleable__label sk-toggleable__label-arrow\">LogisticRegression</label><div class=\"sk-toggleable__content\"><pre>LogisticRegression()</pre></div></div></div></div></div>"
      ],
      "text/plain": [
       "LogisticRegression()"
      ]
     },
     "execution_count": 68,
     "metadata": {},
     "output_type": "execute_result"
    }
   ],
   "source": [
    "regressor.fit(X_train,y_train)"
   ]
  },
  {
   "cell_type": "code",
   "execution_count": 69,
   "id": "3e3aa43d-8106-4c27-a966-3209ccf1729c",
   "metadata": {
    "tags": []
   },
   "outputs": [],
   "source": [
    "y_pred=regressor.predict(X_test)"
   ]
  },
  {
   "cell_type": "code",
   "execution_count": 70,
   "id": "6ee87c20-7736-4a1a-971c-e4588ce20cc8",
   "metadata": {
    "tags": []
   },
   "outputs": [
    {
     "data": {
      "text/plain": [
       "array([1, 1, 1, 0, 0, 0, 0, 1, 0, 0, 0, 0, 1, 0, 1, 0, 1, 1, 0, 0, 1, 1,\n",
       "       0, 0, 1])"
      ]
     },
     "execution_count": 70,
     "metadata": {},
     "output_type": "execute_result"
    }
   ],
   "source": [
    "y_pred"
   ]
  },
  {
   "cell_type": "markdown",
   "id": "9440787f-bbb1-42da-bbd6-9ee3b7de2d0d",
   "metadata": {},
   "source": [
    "# Confusion Matrix Acuuracy Precision Recall"
   ]
  },
  {
   "cell_type": "code",
   "execution_count": 71,
   "id": "1fb44bef-2b32-4854-8886-3d77b243b5d2",
   "metadata": {
    "tags": []
   },
   "outputs": [],
   "source": [
    "from sklearn.metrics import confusion_matrix,accuracy_score,classification_report"
   ]
  },
  {
   "cell_type": "code",
   "execution_count": 72,
   "id": "0c2ec212-b188-4669-804c-ced1b8af3475",
   "metadata": {
    "tags": []
   },
   "outputs": [
    {
     "data": {
      "text/plain": [
       "array([[14,  0],\n",
       "       [ 0, 11]], dtype=int64)"
      ]
     },
     "execution_count": 72,
     "metadata": {},
     "output_type": "execute_result"
    }
   ],
   "source": [
    "confusion_matrix(y_test,y_pred)"
   ]
  },
  {
   "cell_type": "code",
   "execution_count": 73,
   "id": "b1f73f4c-5e9a-4383-a121-b1ed35a78b8e",
   "metadata": {
    "tags": []
   },
   "outputs": [
    {
     "data": {
      "text/plain": [
       "1.0"
      ]
     },
     "execution_count": 73,
     "metadata": {},
     "output_type": "execute_result"
    }
   ],
   "source": [
    "accuracy_score(y_test,y_pred)"
   ]
  },
  {
   "cell_type": "code",
   "execution_count": 74,
   "id": "7cf90345-76ce-438e-9458-8e490857c151",
   "metadata": {
    "tags": []
   },
   "outputs": [
    {
     "data": {
      "text/plain": [
       "'              precision    recall  f1-score   support\\n\\n           0       1.00      1.00      1.00        14\\n           1       1.00      1.00      1.00        11\\n\\n    accuracy                           1.00        25\\n   macro avg       1.00      1.00      1.00        25\\nweighted avg       1.00      1.00      1.00        25\\n'"
      ]
     },
     "execution_count": 74,
     "metadata": {},
     "output_type": "execute_result"
    }
   ],
   "source": [
    "classification_report(y_test,y_pred)"
   ]
  },
  {
   "cell_type": "code",
   "execution_count": 75,
   "id": "e01619b9-8a63-464c-8e71-4f485c533578",
   "metadata": {
    "tags": []
   },
   "outputs": [],
   "source": [
    "from sklearn.model_selection import KFold"
   ]
  },
  {
   "cell_type": "code",
   "execution_count": 76,
   "id": "9f14949f-54a2-4962-9fc5-d11548e7f961",
   "metadata": {
    "tags": []
   },
   "outputs": [],
   "source": [
    "cv=KFold(n_splits=5,shuffle=True)"
   ]
  },
  {
   "cell_type": "code",
   "execution_count": 77,
   "id": "fc378da3-2244-47f0-9271-ea899edf7603",
   "metadata": {
    "tags": []
   },
   "outputs": [
    {
     "data": {
      "text/plain": [
       "KFold(n_splits=5, random_state=None, shuffle=True)"
      ]
     },
     "execution_count": 77,
     "metadata": {},
     "output_type": "execute_result"
    }
   ],
   "source": [
    "cv"
   ]
  },
  {
   "cell_type": "code",
   "execution_count": 78,
   "id": "d1bcb3a9-496d-4b1a-9b46-3757fa151c35",
   "metadata": {
    "tags": []
   },
   "outputs": [],
   "source": [
    "from sklearn.model_selection import cross_val_score"
   ]
  },
  {
   "cell_type": "code",
   "execution_count": 82,
   "id": "7bac3034-e907-46ce-ba0b-498801d648b7",
   "metadata": {
    "tags": []
   },
   "outputs": [],
   "source": [
    "# Do cross validation\n",
    "score=cross_val_score(regressor,X_train,y_train,scoring='accuracy',cv=cv)"
   ]
  },
  {
   "cell_type": "code",
   "execution_count": 83,
   "id": "f48ab2fd-666c-410b-9499-70ed48d377b7",
   "metadata": {
    "tags": []
   },
   "outputs": [
    {
     "data": {
      "text/plain": [
       "array([1., 1., 1., 1., 1.])"
      ]
     },
     "execution_count": 83,
     "metadata": {},
     "output_type": "execute_result"
    }
   ],
   "source": [
    "score"
   ]
  },
  {
   "cell_type": "code",
   "execution_count": 84,
   "id": "ed86d089-d303-4113-9d5f-b7930d387676",
   "metadata": {
    "tags": []
   },
   "outputs": [],
   "source": [
    "final_accuracy=np.mean(score)"
   ]
  },
  {
   "cell_type": "code",
   "execution_count": 85,
   "id": "326d06cc-fdc2-4fb2-8d85-741d97f70345",
   "metadata": {
    "tags": []
   },
   "outputs": [
    {
     "data": {
      "text/plain": [
       "1.0"
      ]
     },
     "execution_count": 85,
     "metadata": {},
     "output_type": "execute_result"
    }
   ],
   "source": [
    "final_accuracy"
   ]
  },
  {
   "cell_type": "markdown",
   "id": "fae5a58f-ce30-4c7f-a38a-393c299387c6",
   "metadata": {},
   "source": [
    "# Logistic Regression Hyper Parameter  Tuning"
   ]
  },
  {
   "cell_type": "code",
   "execution_count": 41,
   "id": "eadb85ee-d1cd-434a-9bb4-aabb8b725f90",
   "metadata": {},
   "outputs": [],
   "source": [
    "from sklearn.datasets import make_classification\n",
    "from sklearn.linear_model import LogisticRegression\n",
    " "
   ]
  },
  {
   "cell_type": "code",
   "execution_count": 3,
   "id": "26ebb474-d45e-4037-a6e8-90c590e196ef",
   "metadata": {
    "tags": []
   },
   "outputs": [],
   "source": [
    "X,y=make_classification(n_samples=1000,n_features=10,n_informative=5,n_redundant=5,n_classes=2,random_state=42)"
   ]
  },
  {
   "cell_type": "code",
   "execution_count": 6,
   "id": "dd3d7af2-6e35-452d-95fc-28f7d84495ea",
   "metadata": {},
   "outputs": [],
   "source": [
    "X_train, X_test,y_train,y_test=train_test_split(X,y,test_size=0.20,random_state=42)"
   ]
  },
  {
   "cell_type": "markdown",
   "id": "c29d454e-0bcc-4802-b24e-c4f9804bb572",
   "metadata": {},
   "source": [
    "# HyperParameter Tuning\n",
    "# GridSearchCV"
   ]
  },
  {
   "cell_type": "code",
   "execution_count": 25,
   "id": "a78f3496-17cb-4c93-85d2-2b269b22832e",
   "metadata": {},
   "outputs": [],
   "source": [
    "from sklearn.model_selection import GridSearchCV"
   ]
  },
  {
   "cell_type": "code",
   "execution_count": 26,
   "id": "cb3eaf12-de87-4a0c-8b1c-d4282571dfa0",
   "metadata": {},
   "outputs": [],
   "source": [
    "parameters={'penalty':('l1','l2','elasicnet'),'C':[1,10,20,30]}"
   ]
  },
  {
   "cell_type": "code",
   "execution_count": 27,
   "id": "7e8602a1-8264-4a82-86d8-32165c4e1e33",
   "metadata": {},
   "outputs": [],
   "source": [
    "classifier=LogisticRegression()"
   ]
  },
  {
   "cell_type": "code",
   "execution_count": 29,
   "id": "57491b29-a12a-4786-a85b-8ba24ef85ac0",
   "metadata": {},
   "outputs": [],
   "source": [
    "clf=GridSearchCV(classifier,param_grid=parameters,cv=5)"
   ]
  },
  {
   "cell_type": "code",
   "execution_count": 30,
   "id": "6bee693c-c30a-467c-a7e5-19b135098425",
   "metadata": {},
   "outputs": [
    {
     "name": "stderr",
     "output_type": "stream",
     "text": [
      "C:\\Users\\shree\\anaconda3\\Lib\\site-packages\\sklearn\\model_selection\\_validation.py:378: FitFailedWarning: \n",
      "40 fits failed out of a total of 60.\n",
      "The score on these train-test partitions for these parameters will be set to nan.\n",
      "If these failures are not expected, you can try to debug them by setting error_score='raise'.\n",
      "\n",
      "Below are more details about the failures:\n",
      "--------------------------------------------------------------------------------\n",
      "20 fits failed with the following error:\n",
      "Traceback (most recent call last):\n",
      "  File \"C:\\Users\\shree\\anaconda3\\Lib\\site-packages\\sklearn\\model_selection\\_validation.py\", line 686, in _fit_and_score\n",
      "    estimator.fit(X_train, y_train, **fit_params)\n",
      "  File \"C:\\Users\\shree\\anaconda3\\Lib\\site-packages\\sklearn\\linear_model\\_logistic.py\", line 1162, in fit\n",
      "    solver = _check_solver(self.solver, self.penalty, self.dual)\n",
      "             ^^^^^^^^^^^^^^^^^^^^^^^^^^^^^^^^^^^^^^^^^^^^^^^^^^^\n",
      "  File \"C:\\Users\\shree\\anaconda3\\Lib\\site-packages\\sklearn\\linear_model\\_logistic.py\", line 54, in _check_solver\n",
      "    raise ValueError(\n",
      "ValueError: Solver lbfgs supports only 'l2' or 'none' penalties, got l1 penalty.\n",
      "\n",
      "--------------------------------------------------------------------------------\n",
      "20 fits failed with the following error:\n",
      "Traceback (most recent call last):\n",
      "  File \"C:\\Users\\shree\\anaconda3\\Lib\\site-packages\\sklearn\\model_selection\\_validation.py\", line 686, in _fit_and_score\n",
      "    estimator.fit(X_train, y_train, **fit_params)\n",
      "  File \"C:\\Users\\shree\\anaconda3\\Lib\\site-packages\\sklearn\\linear_model\\_logistic.py\", line 1160, in fit\n",
      "    self._validate_params()\n",
      "  File \"C:\\Users\\shree\\anaconda3\\Lib\\site-packages\\sklearn\\base.py\", line 600, in _validate_params\n",
      "    validate_parameter_constraints(\n",
      "  File \"C:\\Users\\shree\\anaconda3\\Lib\\site-packages\\sklearn\\utils\\_param_validation.py\", line 97, in validate_parameter_constraints\n",
      "    raise InvalidParameterError(\n",
      "sklearn.utils._param_validation.InvalidParameterError: The 'penalty' parameter of LogisticRegression must be a str among {'none' (deprecated), 'l2', 'l1', 'elasticnet'} or None. Got 'elasicnet' instead.\n",
      "\n",
      "  warnings.warn(some_fits_failed_message, FitFailedWarning)\n",
      "C:\\Users\\shree\\anaconda3\\Lib\\site-packages\\sklearn\\model_selection\\_search.py:952: UserWarning: One or more of the test scores are non-finite: [   nan 0.8275    nan    nan 0.8275    nan    nan 0.8275    nan    nan\n",
      " 0.8275    nan]\n",
      "  warnings.warn(\n"
     ]
    },
    {
     "data": {
      "text/html": [
       "<style>#sk-container-id-1 {color: black;background-color: white;}#sk-container-id-1 pre{padding: 0;}#sk-container-id-1 div.sk-toggleable {background-color: white;}#sk-container-id-1 label.sk-toggleable__label {cursor: pointer;display: block;width: 100%;margin-bottom: 0;padding: 0.3em;box-sizing: border-box;text-align: center;}#sk-container-id-1 label.sk-toggleable__label-arrow:before {content: \"▸\";float: left;margin-right: 0.25em;color: #696969;}#sk-container-id-1 label.sk-toggleable__label-arrow:hover:before {color: black;}#sk-container-id-1 div.sk-estimator:hover label.sk-toggleable__label-arrow:before {color: black;}#sk-container-id-1 div.sk-toggleable__content {max-height: 0;max-width: 0;overflow: hidden;text-align: left;background-color: #f0f8ff;}#sk-container-id-1 div.sk-toggleable__content pre {margin: 0.2em;color: black;border-radius: 0.25em;background-color: #f0f8ff;}#sk-container-id-1 input.sk-toggleable__control:checked~div.sk-toggleable__content {max-height: 200px;max-width: 100%;overflow: auto;}#sk-container-id-1 input.sk-toggleable__control:checked~label.sk-toggleable__label-arrow:before {content: \"▾\";}#sk-container-id-1 div.sk-estimator input.sk-toggleable__control:checked~label.sk-toggleable__label {background-color: #d4ebff;}#sk-container-id-1 div.sk-label input.sk-toggleable__control:checked~label.sk-toggleable__label {background-color: #d4ebff;}#sk-container-id-1 input.sk-hidden--visually {border: 0;clip: rect(1px 1px 1px 1px);clip: rect(1px, 1px, 1px, 1px);height: 1px;margin: -1px;overflow: hidden;padding: 0;position: absolute;width: 1px;}#sk-container-id-1 div.sk-estimator {font-family: monospace;background-color: #f0f8ff;border: 1px dotted black;border-radius: 0.25em;box-sizing: border-box;margin-bottom: 0.5em;}#sk-container-id-1 div.sk-estimator:hover {background-color: #d4ebff;}#sk-container-id-1 div.sk-parallel-item::after {content: \"\";width: 100%;border-bottom: 1px solid gray;flex-grow: 1;}#sk-container-id-1 div.sk-label:hover label.sk-toggleable__label {background-color: #d4ebff;}#sk-container-id-1 div.sk-serial::before {content: \"\";position: absolute;border-left: 1px solid gray;box-sizing: border-box;top: 0;bottom: 0;left: 50%;z-index: 0;}#sk-container-id-1 div.sk-serial {display: flex;flex-direction: column;align-items: center;background-color: white;padding-right: 0.2em;padding-left: 0.2em;position: relative;}#sk-container-id-1 div.sk-item {position: relative;z-index: 1;}#sk-container-id-1 div.sk-parallel {display: flex;align-items: stretch;justify-content: center;background-color: white;position: relative;}#sk-container-id-1 div.sk-item::before, #sk-container-id-1 div.sk-parallel-item::before {content: \"\";position: absolute;border-left: 1px solid gray;box-sizing: border-box;top: 0;bottom: 0;left: 50%;z-index: -1;}#sk-container-id-1 div.sk-parallel-item {display: flex;flex-direction: column;z-index: 1;position: relative;background-color: white;}#sk-container-id-1 div.sk-parallel-item:first-child::after {align-self: flex-end;width: 50%;}#sk-container-id-1 div.sk-parallel-item:last-child::after {align-self: flex-start;width: 50%;}#sk-container-id-1 div.sk-parallel-item:only-child::after {width: 0;}#sk-container-id-1 div.sk-dashed-wrapped {border: 1px dashed gray;margin: 0 0.4em 0.5em 0.4em;box-sizing: border-box;padding-bottom: 0.4em;background-color: white;}#sk-container-id-1 div.sk-label label {font-family: monospace;font-weight: bold;display: inline-block;line-height: 1.2em;}#sk-container-id-1 div.sk-label-container {text-align: center;}#sk-container-id-1 div.sk-container {/* jupyter's `normalize.less` sets `[hidden] { display: none; }` but bootstrap.min.css set `[hidden] { display: none !important; }` so we also need the `!important` here to be able to override the default hidden behavior on the sphinx rendered scikit-learn.org. See: https://github.com/scikit-learn/scikit-learn/issues/21755 */display: inline-block !important;position: relative;}#sk-container-id-1 div.sk-text-repr-fallback {display: none;}</style><div id=\"sk-container-id-1\" class=\"sk-top-container\"><div class=\"sk-text-repr-fallback\"><pre>GridSearchCV(cv=5, estimator=LogisticRegression(),\n",
       "             param_grid={&#x27;C&#x27;: [1, 10, 20, 30],\n",
       "                         &#x27;penalty&#x27;: (&#x27;l1&#x27;, &#x27;l2&#x27;, &#x27;elasicnet&#x27;)})</pre><b>In a Jupyter environment, please rerun this cell to show the HTML representation or trust the notebook. <br />On GitHub, the HTML representation is unable to render, please try loading this page with nbviewer.org.</b></div><div class=\"sk-container\" hidden><div class=\"sk-item sk-dashed-wrapped\"><div class=\"sk-label-container\"><div class=\"sk-label sk-toggleable\"><input class=\"sk-toggleable__control sk-hidden--visually\" id=\"sk-estimator-id-1\" type=\"checkbox\" ><label for=\"sk-estimator-id-1\" class=\"sk-toggleable__label sk-toggleable__label-arrow\">GridSearchCV</label><div class=\"sk-toggleable__content\"><pre>GridSearchCV(cv=5, estimator=LogisticRegression(),\n",
       "             param_grid={&#x27;C&#x27;: [1, 10, 20, 30],\n",
       "                         &#x27;penalty&#x27;: (&#x27;l1&#x27;, &#x27;l2&#x27;, &#x27;elasicnet&#x27;)})</pre></div></div></div><div class=\"sk-parallel\"><div class=\"sk-parallel-item\"><div class=\"sk-item\"><div class=\"sk-label-container\"><div class=\"sk-label sk-toggleable\"><input class=\"sk-toggleable__control sk-hidden--visually\" id=\"sk-estimator-id-2\" type=\"checkbox\" ><label for=\"sk-estimator-id-2\" class=\"sk-toggleable__label sk-toggleable__label-arrow\">estimator: LogisticRegression</label><div class=\"sk-toggleable__content\"><pre>LogisticRegression()</pre></div></div></div><div class=\"sk-serial\"><div class=\"sk-item\"><div class=\"sk-estimator sk-toggleable\"><input class=\"sk-toggleable__control sk-hidden--visually\" id=\"sk-estimator-id-3\" type=\"checkbox\" ><label for=\"sk-estimator-id-3\" class=\"sk-toggleable__label sk-toggleable__label-arrow\">LogisticRegression</label><div class=\"sk-toggleable__content\"><pre>LogisticRegression()</pre></div></div></div></div></div></div></div></div></div></div>"
      ],
      "text/plain": [
       "GridSearchCV(cv=5, estimator=LogisticRegression(),\n",
       "             param_grid={'C': [1, 10, 20, 30],\n",
       "                         'penalty': ('l1', 'l2', 'elasicnet')})"
      ]
     },
     "execution_count": 30,
     "metadata": {},
     "output_type": "execute_result"
    }
   ],
   "source": [
    "clf.fit(X_train,y_train)"
   ]
  },
  {
   "cell_type": "code",
   "execution_count": 31,
   "id": "896812ea-054a-4285-9122-292b4fd784e7",
   "metadata": {},
   "outputs": [
    {
     "data": {
      "text/plain": [
       "{'C': 1, 'penalty': 'l2'}"
      ]
     },
     "execution_count": 31,
     "metadata": {},
     "output_type": "execute_result"
    }
   ],
   "source": [
    "clf.best_params_"
   ]
  },
  {
   "cell_type": "code",
   "execution_count": 32,
   "id": "370c87e7-838f-4185-bfd7-1aa7812ed555",
   "metadata": {},
   "outputs": [
    {
     "data": {
      "text/plain": [
       "0.8275"
      ]
     },
     "execution_count": 32,
     "metadata": {},
     "output_type": "execute_result"
    }
   ],
   "source": [
    "clf.best_score_"
   ]
  },
  {
   "cell_type": "code",
   "execution_count": 33,
   "id": "de82f7b5-e7e2-462d-80e9-78a56f13eb1b",
   "metadata": {},
   "outputs": [],
   "source": [
    "classifier=LogisticRegression(C=1,penalty='l2')"
   ]
  },
  {
   "cell_type": "code",
   "execution_count": 34,
   "id": "9ffc565e-00d6-47f9-be36-db39a471151b",
   "metadata": {},
   "outputs": [
    {
     "data": {
      "text/html": [
       "<style>#sk-container-id-2 {color: black;background-color: white;}#sk-container-id-2 pre{padding: 0;}#sk-container-id-2 div.sk-toggleable {background-color: white;}#sk-container-id-2 label.sk-toggleable__label {cursor: pointer;display: block;width: 100%;margin-bottom: 0;padding: 0.3em;box-sizing: border-box;text-align: center;}#sk-container-id-2 label.sk-toggleable__label-arrow:before {content: \"▸\";float: left;margin-right: 0.25em;color: #696969;}#sk-container-id-2 label.sk-toggleable__label-arrow:hover:before {color: black;}#sk-container-id-2 div.sk-estimator:hover label.sk-toggleable__label-arrow:before {color: black;}#sk-container-id-2 div.sk-toggleable__content {max-height: 0;max-width: 0;overflow: hidden;text-align: left;background-color: #f0f8ff;}#sk-container-id-2 div.sk-toggleable__content pre {margin: 0.2em;color: black;border-radius: 0.25em;background-color: #f0f8ff;}#sk-container-id-2 input.sk-toggleable__control:checked~div.sk-toggleable__content {max-height: 200px;max-width: 100%;overflow: auto;}#sk-container-id-2 input.sk-toggleable__control:checked~label.sk-toggleable__label-arrow:before {content: \"▾\";}#sk-container-id-2 div.sk-estimator input.sk-toggleable__control:checked~label.sk-toggleable__label {background-color: #d4ebff;}#sk-container-id-2 div.sk-label input.sk-toggleable__control:checked~label.sk-toggleable__label {background-color: #d4ebff;}#sk-container-id-2 input.sk-hidden--visually {border: 0;clip: rect(1px 1px 1px 1px);clip: rect(1px, 1px, 1px, 1px);height: 1px;margin: -1px;overflow: hidden;padding: 0;position: absolute;width: 1px;}#sk-container-id-2 div.sk-estimator {font-family: monospace;background-color: #f0f8ff;border: 1px dotted black;border-radius: 0.25em;box-sizing: border-box;margin-bottom: 0.5em;}#sk-container-id-2 div.sk-estimator:hover {background-color: #d4ebff;}#sk-container-id-2 div.sk-parallel-item::after {content: \"\";width: 100%;border-bottom: 1px solid gray;flex-grow: 1;}#sk-container-id-2 div.sk-label:hover label.sk-toggleable__label {background-color: #d4ebff;}#sk-container-id-2 div.sk-serial::before {content: \"\";position: absolute;border-left: 1px solid gray;box-sizing: border-box;top: 0;bottom: 0;left: 50%;z-index: 0;}#sk-container-id-2 div.sk-serial {display: flex;flex-direction: column;align-items: center;background-color: white;padding-right: 0.2em;padding-left: 0.2em;position: relative;}#sk-container-id-2 div.sk-item {position: relative;z-index: 1;}#sk-container-id-2 div.sk-parallel {display: flex;align-items: stretch;justify-content: center;background-color: white;position: relative;}#sk-container-id-2 div.sk-item::before, #sk-container-id-2 div.sk-parallel-item::before {content: \"\";position: absolute;border-left: 1px solid gray;box-sizing: border-box;top: 0;bottom: 0;left: 50%;z-index: -1;}#sk-container-id-2 div.sk-parallel-item {display: flex;flex-direction: column;z-index: 1;position: relative;background-color: white;}#sk-container-id-2 div.sk-parallel-item:first-child::after {align-self: flex-end;width: 50%;}#sk-container-id-2 div.sk-parallel-item:last-child::after {align-self: flex-start;width: 50%;}#sk-container-id-2 div.sk-parallel-item:only-child::after {width: 0;}#sk-container-id-2 div.sk-dashed-wrapped {border: 1px dashed gray;margin: 0 0.4em 0.5em 0.4em;box-sizing: border-box;padding-bottom: 0.4em;background-color: white;}#sk-container-id-2 div.sk-label label {font-family: monospace;font-weight: bold;display: inline-block;line-height: 1.2em;}#sk-container-id-2 div.sk-label-container {text-align: center;}#sk-container-id-2 div.sk-container {/* jupyter's `normalize.less` sets `[hidden] { display: none; }` but bootstrap.min.css set `[hidden] { display: none !important; }` so we also need the `!important` here to be able to override the default hidden behavior on the sphinx rendered scikit-learn.org. See: https://github.com/scikit-learn/scikit-learn/issues/21755 */display: inline-block !important;position: relative;}#sk-container-id-2 div.sk-text-repr-fallback {display: none;}</style><div id=\"sk-container-id-2\" class=\"sk-top-container\"><div class=\"sk-text-repr-fallback\"><pre>LogisticRegression(C=1)</pre><b>In a Jupyter environment, please rerun this cell to show the HTML representation or trust the notebook. <br />On GitHub, the HTML representation is unable to render, please try loading this page with nbviewer.org.</b></div><div class=\"sk-container\" hidden><div class=\"sk-item\"><div class=\"sk-estimator sk-toggleable\"><input class=\"sk-toggleable__control sk-hidden--visually\" id=\"sk-estimator-id-4\" type=\"checkbox\" checked><label for=\"sk-estimator-id-4\" class=\"sk-toggleable__label sk-toggleable__label-arrow\">LogisticRegression</label><div class=\"sk-toggleable__content\"><pre>LogisticRegression(C=1)</pre></div></div></div></div></div>"
      ],
      "text/plain": [
       "LogisticRegression(C=1)"
      ]
     },
     "execution_count": 34,
     "metadata": {},
     "output_type": "execute_result"
    }
   ],
   "source": [
    "classifier.fit(X_train,y_train)"
   ]
  },
  {
   "cell_type": "code",
   "execution_count": 35,
   "id": "fe1327c4-60d3-48c9-bfda-f8fadd8d8633",
   "metadata": {},
   "outputs": [],
   "source": [
    "y_pred=classifier.predict(X_test)"
   ]
  },
  {
   "cell_type": "code",
   "execution_count": 36,
   "id": "d15b5ac9-fa9a-471a-a970-2caccc0a2fc9",
   "metadata": {},
   "outputs": [
    {
     "data": {
      "text/plain": [
       "array([[8.27439567e-01, 1.72560433e-01],\n",
       "       [8.53544633e-01, 1.46455367e-01],\n",
       "       [1.13368459e-01, 8.86631541e-01],\n",
       "       [2.83765274e-01, 7.16234726e-01],\n",
       "       [1.42745659e-01, 8.57254341e-01],\n",
       "       [7.47454472e-01, 2.52545528e-01],\n",
       "       [9.37948203e-01, 6.20517974e-02],\n",
       "       [9.62811851e-01, 3.71881494e-02],\n",
       "       [8.85548407e-01, 1.14451593e-01],\n",
       "       [9.98686022e-01, 1.31397824e-03],\n",
       "       [1.43555461e-01, 8.56444539e-01],\n",
       "       [4.84664599e-01, 5.15335401e-01],\n",
       "       [3.05707745e-01, 6.94292255e-01],\n",
       "       [4.40758573e-01, 5.59241427e-01],\n",
       "       [3.26259494e-01, 6.73740506e-01],\n",
       "       [8.90954703e-01, 1.09045297e-01],\n",
       "       [9.25581207e-01, 7.44187933e-02],\n",
       "       [6.07547733e-01, 3.92452267e-01],\n",
       "       [9.34638103e-01, 6.53618967e-02],\n",
       "       [1.75304926e-01, 8.24695074e-01],\n",
       "       [9.33781798e-01, 6.62182018e-02],\n",
       "       [1.44598853e-01, 8.55401147e-01],\n",
       "       [2.24035714e-01, 7.75964286e-01],\n",
       "       [2.69191345e-01, 7.30808655e-01],\n",
       "       [3.28542467e-01, 6.71457533e-01],\n",
       "       [4.78450909e-02, 9.52154909e-01],\n",
       "       [1.48107391e-01, 8.51892609e-01],\n",
       "       [8.63764080e-01, 1.36235920e-01],\n",
       "       [8.91752858e-01, 1.08247142e-01],\n",
       "       [9.12160217e-01, 8.78397827e-02],\n",
       "       [8.25152765e-01, 1.74847235e-01],\n",
       "       [6.96784154e-01, 3.03215846e-01],\n",
       "       [9.70316688e-01, 2.96833118e-02],\n",
       "       [4.01690046e-01, 5.98309954e-01],\n",
       "       [4.65439662e-01, 5.34560338e-01],\n",
       "       [4.50573914e-02, 9.54942609e-01],\n",
       "       [7.61410961e-01, 2.38589039e-01],\n",
       "       [2.98718313e-01, 7.01281687e-01],\n",
       "       [9.46029736e-01, 5.39702643e-02],\n",
       "       [7.50445284e-02, 9.24955472e-01],\n",
       "       [9.15644596e-01, 8.43554038e-02],\n",
       "       [7.55086436e-01, 2.44913564e-01],\n",
       "       [6.76827141e-01, 3.23172859e-01],\n",
       "       [9.76221596e-01, 2.37784035e-02],\n",
       "       [7.57479672e-01, 2.42520328e-01],\n",
       "       [7.02628664e-01, 2.97371336e-01],\n",
       "       [5.17299785e-01, 4.82700215e-01],\n",
       "       [3.97095192e-01, 6.02904808e-01],\n",
       "       [9.70437237e-01, 2.95627627e-02],\n",
       "       [5.12870674e-01, 4.87129326e-01],\n",
       "       [6.03453093e-01, 3.96546907e-01],\n",
       "       [7.46472216e-01, 2.53527784e-01],\n",
       "       [1.08947743e-01, 8.91052257e-01],\n",
       "       [8.63673063e-01, 1.36326937e-01],\n",
       "       [8.01264538e-01, 1.98735462e-01],\n",
       "       [7.16395964e-01, 2.83604036e-01],\n",
       "       [3.01516458e-01, 6.98483542e-01],\n",
       "       [2.29828736e-01, 7.70171264e-01],\n",
       "       [3.96096906e-01, 6.03903094e-01],\n",
       "       [8.86819025e-01, 1.13180975e-01],\n",
       "       [8.91350463e-03, 9.91086495e-01],\n",
       "       [8.63326928e-01, 1.36673072e-01],\n",
       "       [1.10675626e-01, 8.89324374e-01],\n",
       "       [4.05936722e-01, 5.94063278e-01],\n",
       "       [9.74587905e-01, 2.54120950e-02],\n",
       "       [2.46688631e-01, 7.53311369e-01],\n",
       "       [6.61893310e-03, 9.93381067e-01],\n",
       "       [1.77495598e-01, 8.22504402e-01],\n",
       "       [1.22392228e-01, 8.77607772e-01],\n",
       "       [5.06740844e-01, 4.93259156e-01],\n",
       "       [4.62050595e-01, 5.37949405e-01],\n",
       "       [6.36781728e-01, 3.63218272e-01],\n",
       "       [1.78297059e-02, 9.82170294e-01],\n",
       "       [5.61125187e-01, 4.38874813e-01],\n",
       "       [9.82026884e-01, 1.79731159e-02],\n",
       "       [9.57609521e-01, 4.23904788e-02],\n",
       "       [9.68698913e-01, 3.13010867e-02],\n",
       "       [2.29542590e-01, 7.70457410e-01],\n",
       "       [2.86886711e-01, 7.13113289e-01],\n",
       "       [4.67739384e-01, 5.32260616e-01],\n",
       "       [9.68102536e-01, 3.18974640e-02],\n",
       "       [6.85506832e-01, 3.14493168e-01],\n",
       "       [1.09030996e-01, 8.90969004e-01],\n",
       "       [2.75996122e-01, 7.24003878e-01],\n",
       "       [7.29143020e-01, 2.70856980e-01],\n",
       "       [4.13772924e-01, 5.86227076e-01],\n",
       "       [6.96029827e-01, 3.03970173e-01],\n",
       "       [1.95004516e-01, 8.04995484e-01],\n",
       "       [4.55565423e-01, 5.44434577e-01],\n",
       "       [8.76360815e-01, 1.23639185e-01],\n",
       "       [2.54283069e-01, 7.45716931e-01],\n",
       "       [1.36180474e-01, 8.63819526e-01],\n",
       "       [8.56425641e-01, 1.43574359e-01],\n",
       "       [9.14942204e-02, 9.08505780e-01],\n",
       "       [6.94346344e-03, 9.93056537e-01],\n",
       "       [6.54832380e-01, 3.45167620e-01],\n",
       "       [1.08633452e-01, 8.91366548e-01],\n",
       "       [9.93900220e-01, 6.09978040e-03],\n",
       "       [8.37422982e-01, 1.62577018e-01],\n",
       "       [7.84621364e-01, 2.15378636e-01],\n",
       "       [3.92021006e-02, 9.60797899e-01],\n",
       "       [9.99469230e-01, 5.30770111e-04],\n",
       "       [8.03874205e-02, 9.19612579e-01],\n",
       "       [9.10358690e-01, 8.96413101e-02],\n",
       "       [9.72267538e-01, 2.77324618e-02],\n",
       "       [8.81477945e-01, 1.18522055e-01],\n",
       "       [2.52412744e-01, 7.47587256e-01],\n",
       "       [8.47487386e-01, 1.52512614e-01],\n",
       "       [2.53052905e-01, 7.46947095e-01],\n",
       "       [2.38591445e-01, 7.61408555e-01],\n",
       "       [4.60016747e-02, 9.53998325e-01],\n",
       "       [9.30122993e-01, 6.98770069e-02],\n",
       "       [2.51670683e-01, 7.48329317e-01],\n",
       "       [3.15782017e-01, 6.84217983e-01],\n",
       "       [9.42026780e-01, 5.79732205e-02],\n",
       "       [7.53335684e-01, 2.46664316e-01],\n",
       "       [4.76955329e-01, 5.23044671e-01],\n",
       "       [7.17625845e-01, 2.82374155e-01],\n",
       "       [6.43354898e-01, 3.56645102e-01],\n",
       "       [6.94041398e-01, 3.05958602e-01],\n",
       "       [2.01313172e-01, 7.98686828e-01],\n",
       "       [8.01894321e-01, 1.98105679e-01],\n",
       "       [8.60269115e-01, 1.39730885e-01],\n",
       "       [1.33089192e-01, 8.66910808e-01],\n",
       "       [6.03004596e-01, 3.96995404e-01],\n",
       "       [8.07654776e-01, 1.92345224e-01],\n",
       "       [2.12624968e-01, 7.87375032e-01],\n",
       "       [8.16159144e-01, 1.83840856e-01],\n",
       "       [5.13216433e-01, 4.86783567e-01],\n",
       "       [1.57478256e-02, 9.84252174e-01],\n",
       "       [8.00023445e-01, 1.99976555e-01],\n",
       "       [9.58402775e-01, 4.15972251e-02],\n",
       "       [7.46073874e-01, 2.53926126e-01],\n",
       "       [5.13967180e-01, 4.86032820e-01],\n",
       "       [4.71949837e-01, 5.28050163e-01],\n",
       "       [7.65198219e-02, 9.23480178e-01],\n",
       "       [3.22597568e-02, 9.67740243e-01],\n",
       "       [9.63744634e-01, 3.62553655e-02],\n",
       "       [2.76750214e-01, 7.23249786e-01],\n",
       "       [2.02211235e-01, 7.97788765e-01],\n",
       "       [6.74137800e-01, 3.25862200e-01],\n",
       "       [8.86227332e-01, 1.13772668e-01],\n",
       "       [5.96130045e-01, 4.03869955e-01],\n",
       "       [3.12788796e-01, 6.87211204e-01],\n",
       "       [7.60288837e-01, 2.39711163e-01],\n",
       "       [1.74219947e-01, 8.25780053e-01],\n",
       "       [2.85867266e-01, 7.14132734e-01],\n",
       "       [7.31161201e-01, 2.68838799e-01],\n",
       "       [6.94339416e-01, 3.05660584e-01],\n",
       "       [8.94874095e-01, 1.05125905e-01],\n",
       "       [4.87966489e-01, 5.12033511e-01],\n",
       "       [8.70743096e-01, 1.29256904e-01],\n",
       "       [3.25843772e-01, 6.74156228e-01],\n",
       "       [8.74156554e-01, 1.25843446e-01],\n",
       "       [9.98565068e-01, 1.43493229e-03],\n",
       "       [3.24173797e-02, 9.67582620e-01],\n",
       "       [8.41740484e-01, 1.58259516e-01],\n",
       "       [1.35451815e-01, 8.64548185e-01],\n",
       "       [7.73725815e-01, 2.26274185e-01],\n",
       "       [9.25956370e-01, 7.40436303e-02],\n",
       "       [7.24923550e-01, 2.75076450e-01],\n",
       "       [8.17087577e-01, 1.82912423e-01],\n",
       "       [3.89318557e-01, 6.10681443e-01],\n",
       "       [2.13419846e-01, 7.86580154e-01],\n",
       "       [9.91136912e-01, 8.86308834e-03],\n",
       "       [9.49332310e-02, 9.05066769e-01],\n",
       "       [9.99031484e-02, 9.00096852e-01],\n",
       "       [4.68743369e-01, 5.31256631e-01],\n",
       "       [5.29945769e-01, 4.70054231e-01],\n",
       "       [5.47218760e-02, 9.45278124e-01],\n",
       "       [8.67481224e-02, 9.13251878e-01],\n",
       "       [5.14259702e-02, 9.48574030e-01],\n",
       "       [9.75199409e-01, 2.48005909e-02],\n",
       "       [1.82759973e-01, 8.17240027e-01],\n",
       "       [5.14117249e-01, 4.85882751e-01],\n",
       "       [7.83930873e-03, 9.92160691e-01],\n",
       "       [2.60835115e-01, 7.39164885e-01],\n",
       "       [1.69541355e-02, 9.83045864e-01],\n",
       "       [4.00112646e-01, 5.99887354e-01],\n",
       "       [9.94270023e-01, 5.72997729e-03],\n",
       "       [5.12444363e-01, 4.87555637e-01],\n",
       "       [5.15979670e-01, 4.84020330e-01],\n",
       "       [4.00099742e-01, 5.99900258e-01],\n",
       "       [6.76591489e-01, 3.23408511e-01],\n",
       "       [2.86044472e-01, 7.13955528e-01],\n",
       "       [1.74666614e-02, 9.82533339e-01],\n",
       "       [9.66263939e-01, 3.37360608e-02],\n",
       "       [5.05116157e-01, 4.94883843e-01],\n",
       "       [9.62006520e-01, 3.79934805e-02],\n",
       "       [6.71553227e-02, 9.32844677e-01],\n",
       "       [6.62828382e-01, 3.37171618e-01],\n",
       "       [5.43972326e-01, 4.56027674e-01],\n",
       "       [3.53171266e-01, 6.46828734e-01],\n",
       "       [4.75360665e-02, 9.52463934e-01],\n",
       "       [3.61234620e-01, 6.38765380e-01],\n",
       "       [2.32979945e-01, 7.67020055e-01],\n",
       "       [3.21559955e-01, 6.78440045e-01],\n",
       "       [8.00241425e-01, 1.99758575e-01],\n",
       "       [1.44595594e-01, 8.55404406e-01],\n",
       "       [3.20908051e-01, 6.79091949e-01]])"
      ]
     },
     "execution_count": 36,
     "metadata": {},
     "output_type": "execute_result"
    }
   ],
   "source": [
    "classifier.predict_proba(X_test)"
   ]
  },
  {
   "cell_type": "code",
   "execution_count": 37,
   "id": "407296ec-7969-49fb-b756-48802d385a7a",
   "metadata": {},
   "outputs": [],
   "source": [
    "from sklearn.metrics import confusion_matrix,accuracy_score,classification_report"
   ]
  },
  {
   "cell_type": "code",
   "execution_count": 38,
   "id": "b2a0c8c0-2f90-42f4-b6a7-376ab491723d",
   "metadata": {},
   "outputs": [
    {
     "data": {
      "text/plain": [
       "array([[81, 19],\n",
       "       [23, 77]], dtype=int64)"
      ]
     },
     "execution_count": 38,
     "metadata": {},
     "output_type": "execute_result"
    }
   ],
   "source": [
    "confusion_matrix(y_test,y_pred)"
   ]
  },
  {
   "cell_type": "code",
   "execution_count": 39,
   "id": "e8687cc3-b536-4c1c-9d9f-ba2c6f59a97e",
   "metadata": {},
   "outputs": [
    {
     "data": {
      "text/plain": [
       "0.79"
      ]
     },
     "execution_count": 39,
     "metadata": {},
     "output_type": "execute_result"
    }
   ],
   "source": [
    "accuracy_score(y_test,y_pred)"
   ]
  },
  {
   "cell_type": "code",
   "execution_count": 40,
   "id": "ca56178f-0395-4f1c-8ba0-1fb0b32a2178",
   "metadata": {
    "tags": []
   },
   "outputs": [
    {
     "data": {
      "text/plain": [
       "'              precision    recall  f1-score   support\\n\\n           0       0.78      0.81      0.79       100\\n           1       0.80      0.77      0.79       100\\n\\n    accuracy                           0.79       200\\n   macro avg       0.79      0.79      0.79       200\\nweighted avg       0.79      0.79      0.79       200\\n'"
      ]
     },
     "execution_count": 40,
     "metadata": {},
     "output_type": "execute_result"
    }
   ],
   "source": [
    "classification_report(y_test,y_pred)"
   ]
  },
  {
   "cell_type": "markdown",
   "id": "28d67493-0c5f-43c9-8e6f-0704455d7b0c",
   "metadata": {},
   "source": [
    "# Multiclaass Classification"
   ]
  },
  {
   "cell_type": "code",
   "execution_count": 42,
   "id": "e8943567-d166-4b3d-8ec0-1cb21a524b77",
   "metadata": {
    "tags": []
   },
   "outputs": [],
   "source": [
    "X,y=make_classification(n_samples=1000,n_features=10,n_informative=5,n_redundant=5,n_classes=3,random_state=42)"
   ]
  },
  {
   "cell_type": "code",
   "execution_count": 43,
   "id": "3dff2bf7-6cfe-4820-8e93-cb3233efe10e",
   "metadata": {
    "tags": []
   },
   "outputs": [
    {
     "data": {
      "text/plain": [
       "array([0, 0, 1, 0, 0, 1, 2, 2, 0, 2, 1, 2, 1, 2, 1, 1, 0, 2, 2, 2, 1, 0,\n",
       "       0, 0, 2, 2, 1, 1, 2, 1, 0, 0, 1, 2, 0, 1, 2, 2, 2, 0, 1, 1, 1, 2,\n",
       "       2, 2, 1, 2, 0, 2, 0, 0, 0, 0, 0, 2, 1, 2, 0, 1, 2, 2, 1, 2, 1, 1,\n",
       "       2, 1, 1, 0, 1, 1, 1, 1, 1, 2, 0, 0, 0, 2, 2, 2, 2, 0, 2, 0, 1, 1,\n",
       "       2, 0, 0, 1, 0, 0, 1, 2, 1, 2, 1, 0, 1, 2, 2, 2, 1, 1, 1, 1, 1, 1,\n",
       "       0, 0, 1, 1, 1, 1, 0, 1, 1, 2, 0, 1, 0, 1, 1, 0, 2, 0, 1, 0, 2, 0,\n",
       "       2, 0, 1, 2, 2, 0, 0, 0, 1, 1, 1, 1, 0, 1, 1, 2, 2, 0, 0, 0, 1, 1,\n",
       "       0, 1, 2, 2, 0, 0, 2, 0, 0, 2, 0, 0, 0, 0, 0, 1, 1, 0, 0, 0, 2, 2,\n",
       "       0, 0, 0, 1, 1, 2, 0, 1, 0, 1, 1, 1, 2, 0, 2, 0, 0, 1, 1, 1, 0, 0,\n",
       "       1, 1, 0, 0, 0, 2, 0, 0, 0, 0, 1, 2, 0, 2, 2, 1, 1, 2, 2, 0, 1, 1,\n",
       "       0, 0, 2, 1, 0, 0, 1, 0, 0, 2, 2, 1, 2, 2, 0, 0, 1, 1, 0, 2, 0, 0,\n",
       "       0, 2, 2, 2, 0, 2, 1, 1, 0, 2, 2, 1, 1, 2, 2, 0, 2, 1, 0, 2, 1, 2,\n",
       "       1, 2, 0, 2, 0, 0, 0, 2, 0, 1, 1, 2, 1, 0, 1, 0, 2, 1, 0, 2, 0, 2,\n",
       "       0, 2, 0, 1, 2, 1, 2, 0, 1, 2, 0, 2, 0, 0, 1, 1, 0, 1, 1, 0, 2, 0,\n",
       "       2, 2, 0, 2, 2, 1, 0, 0, 1, 2, 2, 1, 1, 1, 1, 2, 2, 1, 0, 2, 0, 1,\n",
       "       0, 1, 1, 1, 0, 1, 2, 0, 0, 2, 1, 1, 0, 1, 0, 0, 0, 0, 2, 0, 2, 2,\n",
       "       2, 1, 1, 1, 2, 1, 1, 0, 1, 1, 1, 0, 1, 2, 0, 0, 2, 1, 2, 0, 1, 0,\n",
       "       0, 1, 2, 0, 1, 1, 1, 0, 1, 2, 2, 1, 1, 0, 0, 1, 2, 2, 1, 1, 1, 2,\n",
       "       1, 1, 1, 1, 0, 2, 1, 2, 0, 1, 1, 1, 0, 1, 0, 2, 0, 1, 1, 0, 2, 0,\n",
       "       2, 0, 2, 2, 0, 1, 0, 0, 0, 0, 0, 2, 1, 1, 0, 2, 2, 2, 2, 2, 2, 1,\n",
       "       2, 1, 0, 2, 2, 2, 0, 1, 2, 0, 0, 1, 2, 2, 1, 2, 0, 2, 2, 1, 0, 0,\n",
       "       1, 2, 1, 0, 2, 1, 1, 0, 0, 1, 1, 0, 2, 2, 2, 0, 1, 0, 2, 2, 2, 2,\n",
       "       0, 1, 1, 0, 2, 2, 2, 1, 2, 2, 1, 2, 0, 0, 0, 2, 0, 0, 1, 2, 2, 0,\n",
       "       1, 1, 2, 0, 1, 2, 2, 2, 0, 0, 1, 2, 2, 1, 2, 1, 2, 0, 2, 1, 0, 0,\n",
       "       2, 0, 2, 2, 0, 1, 2, 0, 2, 2, 1, 2, 0, 1, 0, 1, 0, 1, 1, 1, 2, 2,\n",
       "       0, 2, 1, 0, 1, 1, 2, 2, 2, 0, 0, 0, 2, 0, 0, 2, 2, 2, 0, 0, 1, 0,\n",
       "       0, 1, 1, 0, 1, 2, 1, 0, 1, 1, 2, 0, 1, 1, 2, 2, 0, 0, 0, 2, 2, 1,\n",
       "       2, 1, 2, 1, 2, 2, 2, 0, 1, 0, 1, 1, 2, 2, 2, 0, 1, 2, 1, 1, 1, 0,\n",
       "       0, 2, 1, 1, 0, 1, 0, 2, 0, 2, 1, 1, 0, 1, 2, 2, 2, 1, 2, 2, 0, 1,\n",
       "       1, 2, 2, 2, 0, 2, 1, 0, 2, 2, 2, 1, 2, 2, 2, 2, 1, 2, 1, 2, 2, 1,\n",
       "       2, 0, 2, 1, 1, 0, 1, 2, 1, 2, 1, 0, 1, 2, 1, 1, 0, 0, 0, 2, 0, 0,\n",
       "       2, 1, 2, 0, 2, 0, 1, 0, 2, 1, 0, 0, 2, 0, 2, 0, 1, 1, 2, 0, 1, 1,\n",
       "       1, 1, 0, 0, 1, 0, 0, 1, 0, 1, 0, 2, 1, 0, 2, 1, 1, 2, 2, 2, 0, 0,\n",
       "       0, 0, 2, 2, 1, 1, 2, 2, 0, 1, 0, 2, 0, 0, 1, 1, 0, 1, 1, 2, 2, 2,\n",
       "       2, 1, 1, 2, 2, 1, 1, 0, 0, 2, 2, 0, 0, 2, 1, 1, 0, 2, 2, 0, 2, 2,\n",
       "       1, 2, 1, 0, 0, 1, 0, 1, 1, 1, 1, 1, 2, 2, 1, 0, 0, 0, 0, 0, 0, 1,\n",
       "       2, 0, 1, 0, 0, 2, 2, 1, 1, 2, 1, 2, 0, 1, 2, 2, 1, 1, 2, 1, 1, 0,\n",
       "       2, 1, 1, 1, 0, 1, 1, 2, 2, 0, 0, 2, 2, 0, 0, 1, 1, 0, 0, 0, 1, 0,\n",
       "       0, 1, 0, 0, 2, 0, 0, 0, 1, 2, 2, 2, 2, 0, 1, 2, 2, 1, 1, 1, 2, 1,\n",
       "       1, 2, 1, 2, 2, 0, 1, 0, 0, 0, 0, 1, 0, 0, 0, 2, 2, 1, 2, 1, 2, 0,\n",
       "       2, 0, 2, 2, 1, 1, 0, 0, 2, 0, 2, 1, 2, 1, 2, 1, 0, 0, 2, 0, 2, 2,\n",
       "       2, 1, 2, 1, 1, 2, 2, 0, 1, 0, 1, 0, 0, 0, 2, 2, 1, 0, 1, 1, 1, 2,\n",
       "       0, 1, 1, 0, 1, 2, 0, 2, 0, 2, 2, 0, 2, 2, 0, 1, 1, 1, 0, 0, 0, 1,\n",
       "       1, 0, 0, 2, 2, 1, 0, 0, 0, 2, 2, 0, 1, 2, 2, 0, 1, 0, 0, 2, 0, 0,\n",
       "       0, 2, 0, 1, 2, 0, 2, 2, 1, 2, 1, 2, 1, 2, 0, 2, 1, 0, 2, 0, 2, 1,\n",
       "       2, 0, 2, 0, 1, 1, 2, 1, 2, 0])"
      ]
     },
     "execution_count": 43,
     "metadata": {},
     "output_type": "execute_result"
    }
   ],
   "source": [
    "y"
   ]
  },
  {
   "cell_type": "code",
   "execution_count": 44,
   "id": "3c30e56f-e29b-4c49-864f-63cd3f86f892",
   "metadata": {
    "tags": []
   },
   "outputs": [],
   "source": [
    "model=LogisticRegression(multi_class='ovr',solver='lbfgs')"
   ]
  },
  {
   "cell_type": "code",
   "execution_count": 46,
   "id": "8a236e5b-4c9b-4f01-b8ac-02a2b3f34a78",
   "metadata": {
    "tags": []
   },
   "outputs": [],
   "source": [
    "from sklearn.model_selection import train_test_split"
   ]
  },
  {
   "cell_type": "code",
   "execution_count": 47,
   "id": "1e73a04c-a398-466c-920b-80f8739d2838",
   "metadata": {
    "tags": []
   },
   "outputs": [],
   "source": [
    "X_train,X_test,y_train,y_test=train_test_split(X,y,test_size=0.20,random_state=42)"
   ]
  },
  {
   "cell_type": "code",
   "execution_count": 48,
   "id": "f219e00a-ace9-4229-bad2-e71b5cf0b78e",
   "metadata": {
    "tags": []
   },
   "outputs": [
    {
     "data": {
      "text/html": [
       "<style>#sk-container-id-3 {color: black;background-color: white;}#sk-container-id-3 pre{padding: 0;}#sk-container-id-3 div.sk-toggleable {background-color: white;}#sk-container-id-3 label.sk-toggleable__label {cursor: pointer;display: block;width: 100%;margin-bottom: 0;padding: 0.3em;box-sizing: border-box;text-align: center;}#sk-container-id-3 label.sk-toggleable__label-arrow:before {content: \"▸\";float: left;margin-right: 0.25em;color: #696969;}#sk-container-id-3 label.sk-toggleable__label-arrow:hover:before {color: black;}#sk-container-id-3 div.sk-estimator:hover label.sk-toggleable__label-arrow:before {color: black;}#sk-container-id-3 div.sk-toggleable__content {max-height: 0;max-width: 0;overflow: hidden;text-align: left;background-color: #f0f8ff;}#sk-container-id-3 div.sk-toggleable__content pre {margin: 0.2em;color: black;border-radius: 0.25em;background-color: #f0f8ff;}#sk-container-id-3 input.sk-toggleable__control:checked~div.sk-toggleable__content {max-height: 200px;max-width: 100%;overflow: auto;}#sk-container-id-3 input.sk-toggleable__control:checked~label.sk-toggleable__label-arrow:before {content: \"▾\";}#sk-container-id-3 div.sk-estimator input.sk-toggleable__control:checked~label.sk-toggleable__label {background-color: #d4ebff;}#sk-container-id-3 div.sk-label input.sk-toggleable__control:checked~label.sk-toggleable__label {background-color: #d4ebff;}#sk-container-id-3 input.sk-hidden--visually {border: 0;clip: rect(1px 1px 1px 1px);clip: rect(1px, 1px, 1px, 1px);height: 1px;margin: -1px;overflow: hidden;padding: 0;position: absolute;width: 1px;}#sk-container-id-3 div.sk-estimator {font-family: monospace;background-color: #f0f8ff;border: 1px dotted black;border-radius: 0.25em;box-sizing: border-box;margin-bottom: 0.5em;}#sk-container-id-3 div.sk-estimator:hover {background-color: #d4ebff;}#sk-container-id-3 div.sk-parallel-item::after {content: \"\";width: 100%;border-bottom: 1px solid gray;flex-grow: 1;}#sk-container-id-3 div.sk-label:hover label.sk-toggleable__label {background-color: #d4ebff;}#sk-container-id-3 div.sk-serial::before {content: \"\";position: absolute;border-left: 1px solid gray;box-sizing: border-box;top: 0;bottom: 0;left: 50%;z-index: 0;}#sk-container-id-3 div.sk-serial {display: flex;flex-direction: column;align-items: center;background-color: white;padding-right: 0.2em;padding-left: 0.2em;position: relative;}#sk-container-id-3 div.sk-item {position: relative;z-index: 1;}#sk-container-id-3 div.sk-parallel {display: flex;align-items: stretch;justify-content: center;background-color: white;position: relative;}#sk-container-id-3 div.sk-item::before, #sk-container-id-3 div.sk-parallel-item::before {content: \"\";position: absolute;border-left: 1px solid gray;box-sizing: border-box;top: 0;bottom: 0;left: 50%;z-index: -1;}#sk-container-id-3 div.sk-parallel-item {display: flex;flex-direction: column;z-index: 1;position: relative;background-color: white;}#sk-container-id-3 div.sk-parallel-item:first-child::after {align-self: flex-end;width: 50%;}#sk-container-id-3 div.sk-parallel-item:last-child::after {align-self: flex-start;width: 50%;}#sk-container-id-3 div.sk-parallel-item:only-child::after {width: 0;}#sk-container-id-3 div.sk-dashed-wrapped {border: 1px dashed gray;margin: 0 0.4em 0.5em 0.4em;box-sizing: border-box;padding-bottom: 0.4em;background-color: white;}#sk-container-id-3 div.sk-label label {font-family: monospace;font-weight: bold;display: inline-block;line-height: 1.2em;}#sk-container-id-3 div.sk-label-container {text-align: center;}#sk-container-id-3 div.sk-container {/* jupyter's `normalize.less` sets `[hidden] { display: none; }` but bootstrap.min.css set `[hidden] { display: none !important; }` so we also need the `!important` here to be able to override the default hidden behavior on the sphinx rendered scikit-learn.org. See: https://github.com/scikit-learn/scikit-learn/issues/21755 */display: inline-block !important;position: relative;}#sk-container-id-3 div.sk-text-repr-fallback {display: none;}</style><div id=\"sk-container-id-3\" class=\"sk-top-container\"><div class=\"sk-text-repr-fallback\"><pre>LogisticRegression(multi_class=&#x27;ovr&#x27;)</pre><b>In a Jupyter environment, please rerun this cell to show the HTML representation or trust the notebook. <br />On GitHub, the HTML representation is unable to render, please try loading this page with nbviewer.org.</b></div><div class=\"sk-container\" hidden><div class=\"sk-item\"><div class=\"sk-estimator sk-toggleable\"><input class=\"sk-toggleable__control sk-hidden--visually\" id=\"sk-estimator-id-5\" type=\"checkbox\" checked><label for=\"sk-estimator-id-5\" class=\"sk-toggleable__label sk-toggleable__label-arrow\">LogisticRegression</label><div class=\"sk-toggleable__content\"><pre>LogisticRegression(multi_class=&#x27;ovr&#x27;)</pre></div></div></div></div></div>"
      ],
      "text/plain": [
       "LogisticRegression(multi_class='ovr')"
      ]
     },
     "execution_count": 48,
     "metadata": {},
     "output_type": "execute_result"
    }
   ],
   "source": [
    "model.fit(X_train,y_train)"
   ]
  },
  {
   "cell_type": "code",
   "execution_count": 49,
   "id": "b4f04e99-780a-449e-ae32-25b68d0babe7",
   "metadata": {
    "tags": []
   },
   "outputs": [],
   "source": [
    "y_pred=model.predict(X_test)"
   ]
  },
  {
   "cell_type": "code",
   "execution_count": 50,
   "id": "1b220d0e-75be-424a-8187-a76fdbc2e155",
   "metadata": {
    "tags": []
   },
   "outputs": [
    {
     "data": {
      "text/plain": [
       "array([[1.03558920e-01, 6.81583162e-01, 2.14857918e-01],\n",
       "       [4.93247668e-01, 3.27440274e-01, 1.79312058e-01],\n",
       "       [2.77898508e-01, 4.03127164e-01, 3.18974327e-01],\n",
       "       [4.79936783e-03, 6.59475265e-01, 3.35725367e-01],\n",
       "       [6.17966904e-01, 5.30442251e-02, 3.28988871e-01],\n",
       "       [7.19095033e-01, 2.55304529e-04, 2.80649662e-01],\n",
       "       [6.50831719e-02, 5.34588480e-01, 4.00328348e-01],\n",
       "       [4.22391618e-01, 1.00489926e-01, 4.77118455e-01],\n",
       "       [1.69228490e-01, 3.79802909e-01, 4.50968601e-01],\n",
       "       [3.63489761e-01, 1.76792578e-01, 4.59717661e-01],\n",
       "       [4.79832325e-01, 1.47558313e-01, 3.72609362e-01],\n",
       "       [8.19507625e-01, 8.75258003e-03, 1.71739795e-01],\n",
       "       [5.70090062e-01, 8.86859415e-03, 4.21041344e-01],\n",
       "       [7.97025314e-01, 1.06381422e-02, 1.92336544e-01],\n",
       "       [6.90399578e-01, 5.23121202e-02, 2.57288302e-01],\n",
       "       [6.94370549e-01, 1.17216389e-02, 2.93907812e-01],\n",
       "       [4.00574049e-01, 1.00720708e-01, 4.98705243e-01],\n",
       "       [5.78841683e-02, 4.93663003e-01, 4.48452828e-01],\n",
       "       [2.16535217e-01, 2.24740234e-01, 5.58724550e-01],\n",
       "       [3.29238200e-03, 8.58658118e-01, 1.38049500e-01],\n",
       "       [2.13776230e-01, 1.65515422e-01, 6.20708349e-01],\n",
       "       [8.01898472e-02, 3.72942436e-01, 5.46867717e-01],\n",
       "       [6.83250749e-01, 5.16338622e-02, 2.65115388e-01],\n",
       "       [5.30287456e-01, 2.41075459e-01, 2.28637085e-01],\n",
       "       [6.01024242e-01, 6.36978638e-02, 3.35277894e-01],\n",
       "       [7.89451578e-01, 3.50908648e-02, 1.75457557e-01],\n",
       "       [2.81532830e-02, 6.78491202e-01, 2.93355515e-01],\n",
       "       [2.18706923e-01, 2.09937446e-01, 5.71355632e-01],\n",
       "       [4.79833712e-01, 1.04589346e-01, 4.15576943e-01],\n",
       "       [7.64430745e-01, 2.98847611e-03, 2.32580779e-01],\n",
       "       [2.19236143e-01, 5.92575076e-01, 1.88188781e-01],\n",
       "       [8.39947120e-01, 5.03070251e-02, 1.09745855e-01],\n",
       "       [2.82772154e-02, 4.10551324e-01, 5.61171460e-01],\n",
       "       [8.00201182e-02, 3.36113418e-01, 5.83866463e-01],\n",
       "       [5.93462190e-02, 6.08711792e-01, 3.31941989e-01],\n",
       "       [8.67725851e-02, 6.05964600e-01, 3.07262815e-01],\n",
       "       [6.96297621e-01, 1.67651092e-01, 1.36051287e-01],\n",
       "       [2.40235659e-03, 7.77833978e-01, 2.19763665e-01],\n",
       "       [2.73768519e-01, 4.15295082e-01, 3.10936399e-01],\n",
       "       [4.41828810e-01, 4.11080079e-01, 1.47091111e-01],\n",
       "       [7.22976311e-01, 7.42133465e-02, 2.02810342e-01],\n",
       "       [2.23246713e-02, 4.19964373e-01, 5.57710955e-01],\n",
       "       [4.01893909e-01, 7.68259487e-02, 5.21280142e-01],\n",
       "       [2.37561748e-01, 7.17948344e-02, 6.90643418e-01],\n",
       "       [4.40731732e-01, 3.31134230e-02, 5.26154845e-01],\n",
       "       [7.98296359e-01, 6.47400179e-02, 1.36963623e-01],\n",
       "       [6.81708050e-01, 9.67841645e-02, 2.21507785e-01],\n",
       "       [7.15128694e-01, 1.20308600e-02, 2.72840446e-01],\n",
       "       [7.17554578e-02, 8.26493648e-01, 1.01750894e-01],\n",
       "       [9.44910626e-02, 5.67893153e-01, 3.37615784e-01],\n",
       "       [1.18595462e-02, 6.57063357e-01, 3.31077097e-01],\n",
       "       [3.24996823e-01, 4.69883700e-01, 2.05119477e-01],\n",
       "       [3.14992662e-02, 5.53384351e-01, 4.15116383e-01],\n",
       "       [2.10987226e-02, 7.90920096e-01, 1.87981182e-01],\n",
       "       [3.81999402e-01, 3.76327530e-01, 2.41673068e-01],\n",
       "       [6.97646057e-01, 1.13789444e-01, 1.88564499e-01],\n",
       "       [2.62923384e-01, 1.12504047e-01, 6.24572569e-01],\n",
       "       [9.76433852e-02, 7.42624608e-01, 1.59732007e-01],\n",
       "       [7.34636916e-01, 1.85190276e-01, 8.01728084e-02],\n",
       "       [1.57473425e-01, 7.01524090e-01, 1.41002484e-01],\n",
       "       [3.35498095e-01, 3.58894511e-01, 3.05607394e-01],\n",
       "       [6.26358681e-01, 7.19523245e-02, 3.01688994e-01],\n",
       "       [4.69491666e-01, 1.48503885e-01, 3.82004449e-01],\n",
       "       [3.13680106e-01, 7.49455485e-02, 6.11374345e-01],\n",
       "       [2.61559366e-01, 5.72700341e-01, 1.65740292e-01],\n",
       "       [5.08066916e-01, 2.20844991e-03, 4.89724634e-01],\n",
       "       [6.23097399e-01, 7.68576115e-02, 3.00044989e-01],\n",
       "       [7.03131520e-01, 2.75064183e-03, 2.94117838e-01],\n",
       "       [2.32314667e-02, 4.89435860e-01, 4.87332673e-01],\n",
       "       [1.54110483e-04, 2.82637828e-01, 7.17208062e-01],\n",
       "       [5.60061370e-02, 3.20689866e-01, 6.23303997e-01],\n",
       "       [5.47137215e-01, 1.98217403e-01, 2.54645381e-01],\n",
       "       [1.33717119e-01, 4.72106958e-01, 3.94175922e-01],\n",
       "       [1.94207826e-01, 2.57314287e-01, 5.48477887e-01],\n",
       "       [2.16840002e-01, 3.42776552e-01, 4.40383446e-01],\n",
       "       [6.53643047e-03, 8.64078936e-01, 1.29384634e-01],\n",
       "       [1.07194400e-01, 3.83379564e-01, 5.09426036e-01],\n",
       "       [4.92213498e-01, 1.47110745e-01, 3.60675756e-01],\n",
       "       [4.05967592e-01, 3.95810397e-01, 1.98222011e-01],\n",
       "       [7.46679586e-01, 2.12047865e-02, 2.32115627e-01],\n",
       "       [4.38988958e-01, 3.27430059e-01, 2.33580983e-01],\n",
       "       [2.89041883e-01, 2.18442115e-01, 4.92516002e-01],\n",
       "       [3.24247402e-01, 2.83164453e-02, 6.47436152e-01],\n",
       "       [3.20811460e-02, 5.21846507e-01, 4.46072347e-01],\n",
       "       [3.02302113e-01, 9.94657804e-02, 5.98232106e-01],\n",
       "       [3.97497350e-01, 1.00203115e-01, 5.02299535e-01],\n",
       "       [4.84323253e-01, 8.64863889e-02, 4.29190358e-01],\n",
       "       [3.08481865e-01, 3.45570837e-01, 3.45947298e-01],\n",
       "       [5.55843828e-01, 2.68152189e-01, 1.76003983e-01],\n",
       "       [7.45401659e-02, 5.05169511e-01, 4.20290323e-01],\n",
       "       [3.20967645e-02, 6.36574696e-01, 3.31328540e-01],\n",
       "       [6.21667253e-02, 6.50330442e-01, 2.87502832e-01],\n",
       "       [1.70129787e-03, 7.15801070e-01, 2.82497632e-01],\n",
       "       [7.19092156e-04, 8.56503432e-01, 1.42777475e-01],\n",
       "       [5.76264366e-01, 2.03340463e-01, 2.20395171e-01],\n",
       "       [2.14399718e-01, 4.16376448e-01, 3.69223834e-01],\n",
       "       [6.09573466e-01, 1.42812068e-01, 2.47614466e-01],\n",
       "       [4.68143448e-01, 3.59878419e-02, 4.95868710e-01],\n",
       "       [1.71585349e-01, 4.07957346e-01, 4.20457305e-01],\n",
       "       [3.05115849e-01, 8.57007146e-02, 6.09183436e-01],\n",
       "       [7.30631395e-03, 6.50481869e-01, 3.42211817e-01],\n",
       "       [5.05344044e-01, 1.32647525e-01, 3.62008431e-01],\n",
       "       [1.40892057e-01, 6.27118073e-01, 2.31989869e-01],\n",
       "       [8.40270981e-02, 5.15810084e-01, 4.00162818e-01],\n",
       "       [3.53729606e-01, 3.96550708e-02, 6.06615323e-01],\n",
       "       [3.74905669e-01, 5.51675370e-01, 7.34189608e-02],\n",
       "       [8.10112693e-03, 7.56767458e-01, 2.35131415e-01],\n",
       "       [4.98682870e-02, 4.28237913e-01, 5.21893800e-01],\n",
       "       [5.72345955e-01, 2.07655366e-01, 2.19998679e-01],\n",
       "       [8.61413103e-02, 6.60469905e-01, 2.53388785e-01],\n",
       "       [1.95817631e-01, 2.99805068e-01, 5.04377301e-01],\n",
       "       [7.71927215e-01, 3.13705679e-02, 1.96702217e-01],\n",
       "       [5.31404802e-01, 8.67598928e-02, 3.81835305e-01],\n",
       "       [1.33166993e-02, 4.68381304e-01, 5.18301997e-01],\n",
       "       [5.80932390e-03, 4.85989741e-01, 5.08200935e-01],\n",
       "       [3.55519631e-01, 2.28715373e-01, 4.15764995e-01],\n",
       "       [4.52400151e-01, 1.81564233e-01, 3.66035615e-01],\n",
       "       [7.16379778e-03, 7.17510436e-01, 2.75325766e-01],\n",
       "       [2.91942069e-01, 2.79252280e-01, 4.28805651e-01],\n",
       "       [6.35584895e-04, 5.26650494e-01, 4.72713921e-01],\n",
       "       [2.89974704e-01, 4.01773885e-02, 6.69847907e-01],\n",
       "       [4.48824174e-01, 1.87056588e-01, 3.64119237e-01],\n",
       "       [1.76293455e-02, 6.61266371e-01, 3.21104284e-01],\n",
       "       [8.01814359e-01, 1.12658915e-02, 1.86919749e-01],\n",
       "       [4.76663916e-01, 4.37312720e-01, 8.60233643e-02],\n",
       "       [6.93464153e-01, 2.18957773e-01, 8.75780743e-02],\n",
       "       [2.86206511e-02, 6.63388848e-01, 3.07990501e-01],\n",
       "       [2.25904884e-01, 1.22032289e-01, 6.52062827e-01],\n",
       "       [4.63961291e-01, 8.14415719e-02, 4.54597138e-01],\n",
       "       [4.24313807e-02, 4.34292470e-01, 5.23276150e-01],\n",
       "       [5.70889156e-01, 4.22812039e-02, 3.86829640e-01],\n",
       "       [7.88157965e-01, 7.26962332e-03, 2.04572412e-01],\n",
       "       [2.08013295e-01, 3.48516984e-01, 4.43469721e-01],\n",
       "       [5.12961214e-02, 6.64224386e-01, 2.84479493e-01],\n",
       "       [7.44662373e-01, 3.09219791e-02, 2.24415648e-01],\n",
       "       [9.69670422e-02, 4.46313381e-01, 4.56719576e-01],\n",
       "       [8.19498257e-01, 2.96969838e-02, 1.50804759e-01],\n",
       "       [8.71944225e-03, 6.50183770e-01, 3.41096788e-01],\n",
       "       [2.93965226e-01, 6.67306344e-02, 6.39304139e-01],\n",
       "       [6.53097056e-04, 7.10490124e-01, 2.88856779e-01],\n",
       "       [4.42824758e-01, 1.50341927e-01, 4.06833315e-01],\n",
       "       [4.23629750e-01, 6.60751307e-02, 5.10295120e-01],\n",
       "       [8.77766292e-03, 7.97266414e-01, 1.93955923e-01],\n",
       "       [4.39756032e-01, 2.47724428e-01, 3.12519540e-01],\n",
       "       [1.53869175e-03, 4.55606680e-01, 5.42854628e-01],\n",
       "       [7.72748343e-01, 5.59880370e-02, 1.71263620e-01],\n",
       "       [4.43403440e-01, 4.82827609e-03, 5.51768284e-01],\n",
       "       [2.82293748e-01, 2.98073078e-01, 4.19633174e-01],\n",
       "       [1.05294678e-01, 4.63786524e-01, 4.30918798e-01],\n",
       "       [2.99517071e-02, 6.84331912e-01, 2.85716381e-01],\n",
       "       [6.16063948e-01, 7.07517062e-02, 3.13184346e-01],\n",
       "       [5.93062738e-01, 6.44239176e-02, 3.42513345e-01],\n",
       "       [6.03300927e-01, 2.48842692e-02, 3.71814804e-01],\n",
       "       [1.49210723e-01, 2.22287577e-01, 6.28501701e-01],\n",
       "       [3.33705457e-02, 7.20531074e-01, 2.46098381e-01],\n",
       "       [8.48247559e-01, 4.24795066e-02, 1.09272935e-01],\n",
       "       [1.10273362e-02, 7.35439575e-01, 2.53533089e-01],\n",
       "       [5.94656513e-01, 5.87599064e-02, 3.46583580e-01],\n",
       "       [5.51677907e-01, 2.64636289e-02, 4.21858464e-01],\n",
       "       [6.27980850e-03, 4.83916127e-01, 5.09804065e-01],\n",
       "       [4.62519923e-02, 4.49436217e-01, 5.04311791e-01],\n",
       "       [2.27232970e-01, 4.12445549e-01, 3.60321482e-01],\n",
       "       [1.62223459e-02, 7.27209722e-01, 2.56567932e-01],\n",
       "       [8.03812678e-01, 1.02556109e-02, 1.85931711e-01],\n",
       "       [7.94301343e-01, 6.81062524e-04, 2.05017595e-01],\n",
       "       [1.52103285e-01, 7.64818292e-01, 8.30784235e-02],\n",
       "       [7.22161613e-01, 1.13766894e-01, 1.64071492e-01],\n",
       "       [6.14511039e-01, 1.84365727e-01, 2.01123234e-01],\n",
       "       [3.96326915e-01, 3.62633831e-01, 2.41039254e-01],\n",
       "       [2.23794784e-01, 2.29202920e-01, 5.47002296e-01],\n",
       "       [3.14512840e-03, 3.95217238e-01, 6.01637633e-01],\n",
       "       [6.39792974e-01, 7.49469564e-02, 2.85260069e-01],\n",
       "       [4.83779754e-01, 1.49892910e-02, 5.01230955e-01],\n",
       "       [1.96677536e-03, 4.90358554e-01, 5.07674671e-01],\n",
       "       [7.81565000e-04, 8.76603995e-01, 1.22614440e-01],\n",
       "       [3.64243297e-01, 2.43587868e-01, 3.92168835e-01],\n",
       "       [8.11028749e-02, 8.14261156e-01, 1.04635969e-01],\n",
       "       [2.04942345e-01, 6.62240873e-01, 1.32816782e-01],\n",
       "       [2.02308467e-03, 2.03715837e-01, 7.94261078e-01],\n",
       "       [7.10454521e-01, 3.16417514e-02, 2.57903727e-01],\n",
       "       [2.74042549e-02, 6.90970577e-01, 2.81625168e-01],\n",
       "       [6.71233643e-02, 8.57516057e-01, 7.53605784e-02],\n",
       "       [5.62646080e-01, 2.72686891e-01, 1.64667029e-01],\n",
       "       [7.36600184e-01, 3.59519700e-03, 2.59804619e-01],\n",
       "       [2.37177294e-01, 5.22090920e-02, 7.10613614e-01],\n",
       "       [2.75695450e-01, 2.51111332e-01, 4.73193217e-01],\n",
       "       [1.35821863e-02, 9.12423452e-01, 7.39943619e-02],\n",
       "       [2.15041176e-01, 4.31891044e-01, 3.53067780e-01],\n",
       "       [8.16253542e-01, 2.70721694e-02, 1.56674289e-01],\n",
       "       [8.13634782e-02, 5.95471367e-01, 3.23165155e-01],\n",
       "       [6.40309713e-01, 1.42800619e-02, 3.45410225e-01],\n",
       "       [1.94279017e-03, 8.70164939e-01, 1.27892271e-01],\n",
       "       [1.00915657e-04, 7.99686652e-01, 2.00212433e-01],\n",
       "       [1.87555467e-01, 7.48466325e-01, 6.39782083e-02],\n",
       "       [3.20578587e-02, 5.45379190e-01, 4.22562952e-01],\n",
       "       [7.30021065e-01, 9.76348943e-02, 1.72344040e-01],\n",
       "       [1.05510650e-01, 6.50107530e-01, 2.44381820e-01],\n",
       "       [6.16458129e-03, 5.35801687e-01, 4.58033731e-01],\n",
       "       [3.06389117e-02, 7.22713285e-01, 2.46647803e-01],\n",
       "       [1.96522431e-01, 5.26582417e-01, 2.76895152e-01]])"
      ]
     },
     "execution_count": 50,
     "metadata": {},
     "output_type": "execute_result"
    }
   ],
   "source": [
    "model.predict_proba(X_test)"
   ]
  },
  {
   "cell_type": "code",
   "execution_count": 51,
   "id": "a04894ca-7953-416c-b638-48397c932614",
   "metadata": {
    "tags": []
   },
   "outputs": [
    {
     "data": {
      "text/plain": [
       "array([[54,  6, 14],\n",
       "       [ 7, 45, 17],\n",
       "       [ 7, 14, 36]], dtype=int64)"
      ]
     },
     "execution_count": 51,
     "metadata": {},
     "output_type": "execute_result"
    }
   ],
   "source": [
    "confusion_matrix(y_pred,y_test)"
   ]
  },
  {
   "cell_type": "code",
   "execution_count": 52,
   "id": "2b8f2c36-5726-4179-a700-6337271398df",
   "metadata": {
    "tags": []
   },
   "outputs": [
    {
     "data": {
      "text/plain": [
       "0.675"
      ]
     },
     "execution_count": 52,
     "metadata": {},
     "output_type": "execute_result"
    }
   ],
   "source": [
    "accuracy_score(y_pred,y_test)"
   ]
  },
  {
   "cell_type": "code",
   "execution_count": 53,
   "id": "72795907-e821-4d03-8426-4c5aed664e17",
   "metadata": {
    "tags": []
   },
   "outputs": [
    {
     "data": {
      "text/plain": [
       "'              precision    recall  f1-score   support\\n\\n           0       0.79      0.73      0.76        74\\n           1       0.69      0.65      0.67        69\\n           2       0.54      0.63      0.58        57\\n\\n    accuracy                           0.68       200\\n   macro avg       0.67      0.67      0.67       200\\nweighted avg       0.69      0.68      0.68       200\\n'"
      ]
     },
     "execution_count": 53,
     "metadata": {},
     "output_type": "execute_result"
    }
   ],
   "source": [
    "classification_report(y_pred,y_test)"
   ]
  },
  {
   "cell_type": "code",
   "execution_count": null,
   "id": "085ea19e-d069-4942-9de3-bb5fe8d95f88",
   "metadata": {},
   "outputs": [],
   "source": []
  },
  {
   "cell_type": "code",
   "execution_count": null,
   "id": "075acace-ac3e-41a2-a65b-f5c009acf118",
   "metadata": {},
   "outputs": [],
   "source": []
  },
  {
   "cell_type": "code",
   "execution_count": null,
   "id": "b54c28b7-10e2-4617-b668-329c1dd48880",
   "metadata": {},
   "outputs": [],
   "source": []
  },
  {
   "cell_type": "code",
   "execution_count": null,
   "id": "639679e9-8740-403b-bc93-f46429c364f6",
   "metadata": {},
   "outputs": [],
   "source": []
  },
  {
   "cell_type": "code",
   "execution_count": null,
   "id": "a6f1a1dd-5ce5-43a2-86aa-8147b11dbbba",
   "metadata": {},
   "outputs": [],
   "source": []
  },
  {
   "cell_type": "code",
   "execution_count": null,
   "id": "eef55e86-4a35-4229-b8b3-64fa1f964017",
   "metadata": {},
   "outputs": [],
   "source": []
  },
  {
   "cell_type": "code",
   "execution_count": null,
   "id": "c2ae042b-c1d5-4e82-ad97-800334c8f27e",
   "metadata": {},
   "outputs": [],
   "source": []
  },
  {
   "cell_type": "code",
   "execution_count": null,
   "id": "433cb0a3-c378-40ab-bb18-b48d04db8e12",
   "metadata": {},
   "outputs": [],
   "source": []
  },
  {
   "cell_type": "code",
   "execution_count": null,
   "id": "044a16b6-1e4d-4b69-a9f8-248c05977f28",
   "metadata": {},
   "outputs": [],
   "source": []
  },
  {
   "cell_type": "code",
   "execution_count": null,
   "id": "c21f4807-5046-4373-bb16-120b6656db4a",
   "metadata": {},
   "outputs": [],
   "source": []
  },
  {
   "cell_type": "code",
   "execution_count": null,
   "id": "d1757d10-139f-49dd-a397-6a1e5393fe3f",
   "metadata": {},
   "outputs": [],
   "source": []
  },
  {
   "cell_type": "code",
   "execution_count": null,
   "id": "89a2f0a5-b5a7-4bf9-8cc3-8b12e4c15ffc",
   "metadata": {},
   "outputs": [],
   "source": []
  },
  {
   "cell_type": "code",
   "execution_count": null,
   "id": "c8d83ef1-43c0-4e28-b5cd-f5940f1cab25",
   "metadata": {},
   "outputs": [],
   "source": []
  },
  {
   "cell_type": "code",
   "execution_count": null,
   "id": "9c8a0174-a691-49bc-9ef7-5349d4b0e5a9",
   "metadata": {},
   "outputs": [],
   "source": []
  },
  {
   "cell_type": "code",
   "execution_count": null,
   "id": "cc3e9528-d512-4f94-9fab-4fee385c2a12",
   "metadata": {},
   "outputs": [],
   "source": []
  },
  {
   "cell_type": "code",
   "execution_count": null,
   "id": "c70d6419-3803-40bc-8da3-a3330e53250f",
   "metadata": {},
   "outputs": [],
   "source": []
  },
  {
   "cell_type": "code",
   "execution_count": null,
   "id": "92cca955-113d-43fe-bfc5-793c2950cace",
   "metadata": {},
   "outputs": [],
   "source": []
  },
  {
   "cell_type": "code",
   "execution_count": null,
   "id": "d8217099-eab7-48a6-bb31-6a8f3b1e4ce8",
   "metadata": {},
   "outputs": [],
   "source": []
  },
  {
   "cell_type": "code",
   "execution_count": null,
   "id": "067cbd05-12a9-4855-8a5d-0a1d05060462",
   "metadata": {},
   "outputs": [],
   "source": []
  },
  {
   "cell_type": "code",
   "execution_count": null,
   "id": "db560b1c-ee89-416c-97b5-73956b2d7fc6",
   "metadata": {},
   "outputs": [],
   "source": []
  }
 ],
 "metadata": {
  "kernelspec": {
   "display_name": "Python 3 (ipykernel)",
   "language": "python",
   "name": "python3"
  },
  "language_info": {
   "codemirror_mode": {
    "name": "ipython",
    "version": 3
   },
   "file_extension": ".py",
   "mimetype": "text/x-python",
   "name": "python",
   "nbconvert_exporter": "python",
   "pygments_lexer": "ipython3",
   "version": "3.11.3"
  }
 },
 "nbformat": 4,
 "nbformat_minor": 5
}
