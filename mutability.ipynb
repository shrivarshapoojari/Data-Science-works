{
 "cells": [
  {
   "cell_type": "code",
   "execution_count": 1,
   "id": "488da975-5966-4a63-a28d-14434e8f810f",
   "metadata": {
    "tags": []
   },
   "outputs": [],
   "source": [
    "s=\"Shri\""
   ]
  },
  {
   "cell_type": "code",
   "execution_count": 2,
   "id": "108ee2a2-fd3c-4a5f-814e-9681246b97db",
   "metadata": {
    "tags": []
   },
   "outputs": [
    {
     "data": {
      "text/plain": [
       "'S'"
      ]
     },
     "execution_count": 2,
     "metadata": {},
     "output_type": "execute_result"
    }
   ],
   "source": [
    "s[0]"
   ]
  },
  {
   "cell_type": "code",
   "execution_count": null,
   "id": "d46f7336-8b53-420d-a7ae-e3ca80cdb925",
   "metadata": {},
   "outputs": [],
   "source": []
  }
 ],
 "metadata": {
  "kernelspec": {
   "display_name": "Python 3 (ipykernel)",
   "language": "python",
   "name": "python3"
  },
  "language_info": {
   "codemirror_mode": {
    "name": "ipython",
    "version": 3
   },
   "file_extension": ".py",
   "mimetype": "text/x-python",
   "name": "python",
   "nbconvert_exporter": "python",
   "pygments_lexer": "ipython3",
   "version": "3.11.3"
  }
 },
 "nbformat": 4,
 "nbformat_minor": 5
}
