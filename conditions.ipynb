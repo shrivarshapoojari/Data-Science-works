{
 "cells": [
  {
   "cell_type": "code",
   "execution_count": 1,
   "id": "4ff1fcb4-0f36-4db2-a35e-521688c3f146",
   "metadata": {
    "tags": []
   },
   "outputs": [],
   "source": [
    "a=10"
   ]
  },
  {
   "cell_type": "code",
   "execution_count": 6,
   "id": "07ddbd3c-a356-44d3-a3d6-0adb4e28b94a",
   "metadata": {
    "tags": []
   },
   "outputs": [
    {
     "name": "stdout",
     "output_type": "stream",
     "text": [
      "Hello\n"
     ]
    }
   ],
   "source": [
    "if a>10:\n",
    "   print(\"Hi\");\n",
    "else:\n",
    "    print(\"Hello\")\n",
    "    "
   ]
  },
  {
   "cell_type": "code",
   "execution_count": 9,
   "id": "7aa6c5d0-a7ee-40a9-a634-90acbf0d7d7f",
   "metadata": {
    "tags": []
   },
   "outputs": [
    {
     "name": "stdin",
     "output_type": "stream",
     "text": [
      "Enter value 4\n"
     ]
    },
    {
     "name": "stdout",
     "output_type": "stream",
     "text": [
      "Less than 10\n"
     ]
    }
   ],
   "source": [
    "a=int(input(\"Enter value\"))\n",
    "if a>10 :\n",
    "    print(\"Greater than 10\")\n",
    "elif a==10 :\n",
    "    print(\"equal to 10\")\n",
    "else :\n",
    "    print(\"Less than 10\")\n"
   ]
  },
  {
   "cell_type": "markdown",
   "id": "a051a581-1396-4438-a6c4-28154e666dad",
   "metadata": {},
   "source": [
    "LOOP-----------------------------------------------\n"
   ]
  },
  {
   "cell_type": "code",
   "execution_count": 13,
   "id": "8b8880db-78fe-4261-bdff-0e7d9bde9e96",
   "metadata": {
    "tags": []
   },
   "outputs": [
    {
     "name": "stdout",
     "output_type": "stream",
     "text": [
      "1  2  3  4  5  6  7  8  9  "
     ]
    }
   ],
   "source": [
    "i=1\n",
    "n=10\n",
    "while i<n :\n",
    "    print(i, end=\"  \")\n",
    "    i+=1"
   ]
  },
  {
   "cell_type": "code",
   "execution_count": 15,
   "id": "13ccc6d0-fd33-4f0f-b31c-943c45f9bd49",
   "metadata": {
    "tags": []
   },
   "outputs": [
    {
     "name": "stdout",
     "output_type": "stream",
     "text": [
      "s\n",
      "h\n",
      "r\n",
      "i\n",
      "v\n",
      "a\n",
      "r\n",
      "s\n",
      "h\n",
      "a\n"
     ]
    }
   ],
   "source": [
    "s= \"shrivarsha\"\n",
    "for i in s :\n",
    "    print(i)\n",
    "    "
   ]
  },
  {
   "cell_type": "code",
   "execution_count": 16,
   "id": "284ac39e-5b30-4667-afb4-9279601fb0e2",
   "metadata": {
    "tags": []
   },
   "outputs": [
    {
     "name": "stdout",
     "output_type": "stream",
     "text": [
      "34\n",
      "a\n",
      "True\n"
     ]
    }
   ],
   "source": [
    "l=[ 34, \"a\", True]\n",
    "for i in l :\n",
    "    print(i)"
   ]
  },
  {
   "cell_type": "code",
   "execution_count": null,
   "id": "f04e80ff-9889-4735-a94b-ac922eb4d97d",
   "metadata": {},
   "outputs": [],
   "source": []
  }
 ],
 "metadata": {
  "kernelspec": {
   "display_name": "Python 3 (ipykernel)",
   "language": "python",
   "name": "python3"
  },
  "language_info": {
   "codemirror_mode": {
    "name": "ipython",
    "version": 3
   },
   "file_extension": ".py",
   "mimetype": "text/x-python",
   "name": "python",
   "nbconvert_exporter": "python",
   "pygments_lexer": "ipython3",
   "version": "3.11.3"
  }
 },
 "nbformat": 4,
 "nbformat_minor": 5
}
