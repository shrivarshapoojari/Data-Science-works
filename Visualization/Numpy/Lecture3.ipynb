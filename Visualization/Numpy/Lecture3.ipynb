{
 "cells": [
  {
   "cell_type": "markdown",
   "id": "6f745c60-f60a-457c-ab96-f3cd947d03ef",
   "metadata": {},
   "source": [
    "# ARRAY MANIPULATION"
   ]
  },
  {
   "cell_type": "code",
   "execution_count": 1,
   "id": "6197dd1e-579f-412b-8c50-c09b6da7f79f",
   "metadata": {
    "tags": []
   },
   "outputs": [],
   "source": [
    "import numpy as np"
   ]
  },
  {
   "cell_type": "code",
   "execution_count": 3,
   "id": "fcd1b707-13d7-41f1-9e72-e83566334ab4",
   "metadata": {
    "tags": []
   },
   "outputs": [],
   "source": [
    "arr= np.random.randint(1,10,(4,4))"
   ]
  },
  {
   "cell_type": "code",
   "execution_count": 4,
   "id": "a3f703bb-790e-455a-ba96-f9f79da2b62d",
   "metadata": {
    "tags": []
   },
   "outputs": [
    {
     "data": {
      "text/plain": [
       "array([[4, 2, 2, 2],\n",
       "       [3, 7, 8, 8],\n",
       "       [7, 9, 3, 6],\n",
       "       [8, 5, 2, 3]])"
      ]
     },
     "execution_count": 4,
     "metadata": {},
     "output_type": "execute_result"
    }
   ],
   "source": [
    "arr"
   ]
  },
  {
   "cell_type": "code",
   "execution_count": 5,
   "id": "f3b8b4db-4431-428b-ac3a-fdbdd9fcd669",
   "metadata": {
    "tags": []
   },
   "outputs": [
    {
     "data": {
      "text/plain": [
       "array([[4, 2],\n",
       "       [2, 2],\n",
       "       [3, 7],\n",
       "       [8, 8],\n",
       "       [7, 9],\n",
       "       [3, 6],\n",
       "       [8, 5],\n",
       "       [2, 3]])"
      ]
     },
     "execution_count": 5,
     "metadata": {},
     "output_type": "execute_result"
    }
   ],
   "source": [
    "arr.reshape(8,2)"
   ]
  },
  {
   "cell_type": "code",
   "execution_count": 6,
   "id": "892d5c51-7ada-409d-867c-6925dca5c703",
   "metadata": {
    "tags": []
   },
   "outputs": [],
   "source": [
    "#Transpose"
   ]
  },
  {
   "cell_type": "code",
   "execution_count": 7,
   "id": "6a72d5e5-2a62-4b4e-8710-ac1ac64ca14a",
   "metadata": {
    "tags": []
   },
   "outputs": [
    {
     "data": {
      "text/plain": [
       "array([[4, 3, 7, 8],\n",
       "       [2, 7, 9, 5],\n",
       "       [2, 8, 3, 2],\n",
       "       [2, 8, 6, 3]])"
      ]
     },
     "execution_count": 7,
     "metadata": {},
     "output_type": "execute_result"
    }
   ],
   "source": [
    "arr.T"
   ]
  },
  {
   "cell_type": "code",
   "execution_count": 12,
   "id": "3bddee3f-1d9c-4398-83f6-198316de5c5a",
   "metadata": {
    "tags": []
   },
   "outputs": [
    {
     "data": {
      "text/plain": [
       "array([4, 2, 2, 2, 3, 7, 8, 8, 7, 9, 3, 6, 8, 5, 2, 3])"
      ]
     },
     "execution_count": 12,
     "metadata": {},
     "output_type": "execute_result"
    }
   ],
   "source": [
    "arr.flatten() # returns 1d array"
   ]
  },
  {
   "cell_type": "code",
   "execution_count": 10,
   "id": "38f5df67-1263-40cc-a8b6-e51344aa217a",
   "metadata": {
    "tags": []
   },
   "outputs": [
    {
     "data": {
      "text/plain": [
       "<function ndarray.flatten>"
      ]
     },
     "execution_count": 10,
     "metadata": {},
     "output_type": "execute_result"
    }
   ],
   "source": []
  },
  {
   "cell_type": "code",
   "execution_count": 14,
   "id": "ef6d7870-c0e3-4278-b46b-f4dee3e4cccd",
   "metadata": {
    "tags": []
   },
   "outputs": [
    {
     "data": {
      "text/plain": [
       "array([[[4, 2, 2, 2]],\n",
       "\n",
       "       [[3, 7, 8, 8]],\n",
       "\n",
       "       [[7, 9, 3, 6]],\n",
       "\n",
       "       [[8, 5, 2, 3]]])"
      ]
     },
     "execution_count": 14,
     "metadata": {},
     "output_type": "execute_result"
    }
   ],
   "source": [
    "np.expand_dims(arr,axis=1)  # increase the dimension by one"
   ]
  },
  {
   "cell_type": "code",
   "execution_count": 15,
   "id": "be6aeb95-a731-4fc3-9d73-074e88b45388",
   "metadata": {
    "tags": []
   },
   "outputs": [],
   "source": [
    "data=np.array([[1],[2],[3]])"
   ]
  },
  {
   "cell_type": "code",
   "execution_count": 18,
   "id": "a9173a16-0176-4f12-9491-287879c7a8a0",
   "metadata": {
    "tags": []
   },
   "outputs": [
    {
     "data": {
      "text/plain": [
       "array([1, 2, 3])"
      ]
     },
     "execution_count": 18,
     "metadata": {},
     "output_type": "execute_result"
    }
   ],
   "source": [
    "np.squeeze(data)  # squeezes into 1 d array"
   ]
  },
  {
   "cell_type": "code",
   "execution_count": 19,
   "id": "9773a01f-bf37-417b-b28e-d91a4c9c898c",
   "metadata": {
    "tags": []
   },
   "outputs": [
    {
     "data": {
      "text/plain": [
       "array([1, 1, 2, 2, 3, 3])"
      ]
     },
     "execution_count": 19,
     "metadata": {},
     "output_type": "execute_result"
    }
   ],
   "source": [
    "np.repeat(data,2) # repead the elements in data 2 times"
   ]
  },
  {
   "cell_type": "code",
   "execution_count": 25,
   "id": "a878421a-7588-4628-9296-bc2cf959849d",
   "metadata": {
    "tags": []
   },
   "outputs": [
    {
     "data": {
      "text/plain": [
       "array([[3],\n",
       "       [1],\n",
       "       [2]])"
      ]
     },
     "execution_count": 25,
     "metadata": {},
     "output_type": "execute_result"
    }
   ],
   "source": [
    "np.roll(data,1) # roll the elements from last position and re insert it into firs  ROTATES THE DATASETt"
   ]
  },
  {
   "cell_type": "code",
   "execution_count": 29,
   "id": "012ed347-629e-41dc-a9aa-e4cb4c713e12",
   "metadata": {
    "tags": []
   },
   "outputs": [
    {
     "data": {
      "text/plain": [
       "array([[1, 0, 0, 0],\n",
       "       [0, 2, 0, 0],\n",
       "       [0, 0, 3, 0],\n",
       "       [0, 0, 0, 4]])"
      ]
     },
     "execution_count": 29,
     "metadata": {},
     "output_type": "execute_result"
    }
   ],
   "source": [
    "np.diag(np.array(range(1,5)))  # returns 2 d matrix by placing specified elements at the diagonal"
   ]
  },
  {
   "cell_type": "markdown",
   "id": "5ac6a0ae-94b3-4e2a-9cf0-e3edeeee7f23",
   "metadata": {},
   "source": [
    "# Binary Operation"
   ]
  },
  {
   "cell_type": "code",
   "execution_count": 31,
   "id": "a42ec9ee-6f89-4744-bef6-3df34bcac97c",
   "metadata": {
    "tags": []
   },
   "outputs": [],
   "source": [
    "arr1=np.random.randint(1,10,(3,4))\n",
    "arr2=np.random.randint(1,10,(3,4))"
   ]
  },
  {
   "cell_type": "code",
   "execution_count": 32,
   "id": "bb63cb5c-1a61-43c3-82ff-0c374f6ae035",
   "metadata": {
    "tags": []
   },
   "outputs": [
    {
     "data": {
      "text/plain": [
       "array([[8, 8, 6, 2],\n",
       "       [5, 2, 6, 5],\n",
       "       [2, 9, 6, 1]])"
      ]
     },
     "execution_count": 32,
     "metadata": {},
     "output_type": "execute_result"
    }
   ],
   "source": [
    "arr1"
   ]
  },
  {
   "cell_type": "code",
   "execution_count": 33,
   "id": "36e045fe-5dda-49be-874f-35cb08868c2e",
   "metadata": {
    "tags": []
   },
   "outputs": [
    {
     "data": {
      "text/plain": [
       "array([[6, 7, 2, 9],\n",
       "       [5, 4, 5, 8],\n",
       "       [8, 6, 2, 1]])"
      ]
     },
     "execution_count": 33,
     "metadata": {},
     "output_type": "execute_result"
    }
   ],
   "source": [
    "arr2"
   ]
  },
  {
   "cell_type": "code",
   "execution_count": 34,
   "id": "3c671122-6aab-46cc-8755-d32c4acb6147",
   "metadata": {
    "tags": []
   },
   "outputs": [
    {
     "data": {
      "text/plain": [
       "array([[14, 15,  8, 11],\n",
       "       [10,  6, 11, 13],\n",
       "       [10, 15,  8,  2]])"
      ]
     },
     "execution_count": 34,
     "metadata": {},
     "output_type": "execute_result"
    }
   ],
   "source": [
    "arr1+arr2"
   ]
  },
  {
   "cell_type": "code",
   "execution_count": 35,
   "id": "538632f6-9753-4cc1-9a59-f9001d6061e3",
   "metadata": {
    "tags": []
   },
   "outputs": [
    {
     "data": {
      "text/plain": [
       "array([[48, 56, 12, 18],\n",
       "       [25,  8, 30, 40],\n",
       "       [16, 54, 12,  1]])"
      ]
     },
     "execution_count": 35,
     "metadata": {},
     "output_type": "execute_result"
    }
   ],
   "source": [
    "arr1*arr2"
   ]
  },
  {
   "cell_type": "code",
   "execution_count": 36,
   "id": "02c607f0-2c71-4728-a1af-0fa8f962c815",
   "metadata": {
    "tags": []
   },
   "outputs": [
    {
     "data": {
      "text/plain": [
       "array([[1.33333333, 1.14285714, 3.        , 0.22222222],\n",
       "       [1.        , 0.5       , 1.2       , 0.625     ],\n",
       "       [0.25      , 1.5       , 3.        , 1.        ]])"
      ]
     },
     "execution_count": 36,
     "metadata": {},
     "output_type": "execute_result"
    }
   ],
   "source": [
    "arr1/arr2"
   ]
  },
  {
   "cell_type": "code",
   "execution_count": 37,
   "id": "a152b2ef-53bf-4e19-9c59-99e15d8d90a4",
   "metadata": {
    "tags": []
   },
   "outputs": [
    {
     "data": {
      "text/plain": [
       "array([[ 262144, 2097152,      36,     512],\n",
       "       [   3125,      16,    7776,  390625],\n",
       "       [    256,  531441,      36,       1]])"
      ]
     },
     "execution_count": 37,
     "metadata": {},
     "output_type": "execute_result"
    }
   ],
   "source": [
    " arr1**arr2"
   ]
  },
  {
   "cell_type": "code",
   "execution_count": 38,
   "id": "bcdddd8f-a9b1-485a-b62c-4795f46d3bfd",
   "metadata": {
    "tags": []
   },
   "outputs": [
    {
     "data": {
      "text/plain": [
       "array([[-8, -8, -6, -2],\n",
       "       [-5, -2, -6, -5],\n",
       "       [-2, -9, -6, -1]])"
      ]
     },
     "execution_count": 38,
     "metadata": {},
     "output_type": "execute_result"
    }
   ],
   "source": [
    "-arr1"
   ]
  },
  {
   "cell_type": "code",
   "execution_count": 39,
   "id": "5bf06b5a-60f2-4f21-8ee2-d8f4ac1f2f82",
   "metadata": {
    "tags": []
   },
   "outputs": [
    {
     "data": {
      "text/plain": [
       "array([[ True,  True,  True, False],\n",
       "       [False, False,  True, False],\n",
       "       [False,  True,  True, False]])"
      ]
     },
     "execution_count": 39,
     "metadata": {},
     "output_type": "execute_result"
    }
   ],
   "source": [
    "arr1>arr2"
   ]
  },
  {
   "cell_type": "code",
   "execution_count": 40,
   "id": "cfbb394e-8057-4ef9-a113-2fd8f2b049f3",
   "metadata": {
    "tags": []
   },
   "outputs": [],
   "source": [
    "# Numpy String Function"
   ]
  },
  {
   "cell_type": "code",
   "execution_count": 43,
   "id": "6da5d8bb-ecd2-4fa6-bafc-53305bfa2624",
   "metadata": {
    "tags": []
   },
   "outputs": [
    {
     "data": {
      "text/plain": [
       "array(['Sudh', 'kumar'], dtype='<U5')"
      ]
     },
     "execution_count": 43,
     "metadata": {},
     "output_type": "execute_result"
    }
   ],
   "source": [
    "arr=np.array([\"Sudh\",\"kumar\"])\n",
    "arr"
   ]
  },
  {
   "cell_type": "code",
   "execution_count": 44,
   "id": "3fe13bd9-68d6-4c21-8682-bd8b186edee9",
   "metadata": {
    "tags": []
   },
   "outputs": [
    {
     "data": {
      "text/plain": [
       "array(['SUDH', 'KUMAR'], dtype='<U5')"
      ]
     },
     "execution_count": 44,
     "metadata": {},
     "output_type": "execute_result"
    }
   ],
   "source": [
    "np.char.upper(arr)"
   ]
  },
  {
   "cell_type": "code",
   "execution_count": 45,
   "id": "2669d5a5-aab9-44b3-8c63-e29c312f4889",
   "metadata": {
    "tags": []
   },
   "outputs": [
    {
     "data": {
      "text/plain": [
       "array(['Sudh', 'Kumar'], dtype='<U5')"
      ]
     },
     "execution_count": 45,
     "metadata": {},
     "output_type": "execute_result"
    }
   ],
   "source": [
    "np.char.capitalize(arr)"
   ]
  },
  {
   "cell_type": "code",
   "execution_count": 46,
   "id": "72444c29-7e02-4edd-b52e-b99e7a696daa",
   "metadata": {
    "tags": []
   },
   "outputs": [
    {
     "data": {
      "text/plain": [
       "array(['Sudh', 'Kumar'], dtype='<U5')"
      ]
     },
     "execution_count": 46,
     "metadata": {},
     "output_type": "execute_result"
    }
   ],
   "source": [
    "np.char.title(arr)"
   ]
  },
  {
   "cell_type": "code",
   "execution_count": 47,
   "id": "d5941c09-92f9-4fe8-a86d-4eb9710f9445",
   "metadata": {
    "tags": []
   },
   "outputs": [],
   "source": [
    "# NUMPY MATH FUNCTIONS"
   ]
  },
  {
   "cell_type": "code",
   "execution_count": 48,
   "id": "d114e7fd-0b5f-4048-8d16-8423656e1749",
   "metadata": {
    "tags": []
   },
   "outputs": [
    {
     "data": {
      "text/plain": [
       "array([[8, 8, 6, 2],\n",
       "       [5, 2, 6, 5],\n",
       "       [2, 9, 6, 1]])"
      ]
     },
     "execution_count": 48,
     "metadata": {},
     "output_type": "execute_result"
    }
   ],
   "source": [
    "arr1"
   ]
  },
  {
   "cell_type": "code",
   "execution_count": 49,
   "id": "eb152803-724a-446d-a08c-ae861a598ab3",
   "metadata": {
    "tags": []
   },
   "outputs": [
    {
     "data": {
      "text/plain": [
       "array([[ 0.98935825,  0.98935825, -0.2794155 ,  0.90929743],\n",
       "       [-0.95892427,  0.90929743, -0.2794155 , -0.95892427],\n",
       "       [ 0.90929743,  0.41211849, -0.2794155 ,  0.84147098]])"
      ]
     },
     "execution_count": 49,
     "metadata": {},
     "output_type": "execute_result"
    }
   ],
   "source": [
    "np.sin(arr1)"
   ]
  },
  {
   "cell_type": "code",
   "execution_count": 50,
   "id": "d40aa276-0f09-45b2-9c25-0f3b580d4500",
   "metadata": {
    "tags": []
   },
   "outputs": [
    {
     "data": {
      "text/plain": [
       "array([[-0.14550003, -0.14550003,  0.96017029, -0.41614684],\n",
       "       [ 0.28366219, -0.41614684,  0.96017029,  0.28366219],\n",
       "       [-0.41614684, -0.91113026,  0.96017029,  0.54030231]])"
      ]
     },
     "execution_count": 50,
     "metadata": {},
     "output_type": "execute_result"
    }
   ],
   "source": [
    "np.cos(arr1)"
   ]
  },
  {
   "cell_type": "code",
   "execution_count": 51,
   "id": "b0d031d4-dc71-4af5-9f11-2a1296c59d4d",
   "metadata": {
    "tags": []
   },
   "outputs": [
    {
     "data": {
      "text/plain": [
       "array([[-6.79971146, -6.79971146, -0.29100619, -2.18503986],\n",
       "       [-3.38051501, -2.18503986, -0.29100619, -3.38051501],\n",
       "       [-2.18503986, -0.45231566, -0.29100619,  1.55740772]])"
      ]
     },
     "execution_count": 51,
     "metadata": {},
     "output_type": "execute_result"
    }
   ],
   "source": [
    "np.tan(arr1)"
   ]
  },
  {
   "cell_type": "code",
   "execution_count": 52,
   "id": "36d11e11-f850-412a-a443-edfba0c1d29d",
   "metadata": {
    "tags": []
   },
   "outputs": [
    {
     "data": {
      "text/plain": [
       "array([[0.90308999, 0.90308999, 0.77815125, 0.30103   ],\n",
       "       [0.69897   , 0.30103   , 0.77815125, 0.69897   ],\n",
       "       [0.30103   , 0.95424251, 0.77815125, 0.        ]])"
      ]
     },
     "execution_count": 52,
     "metadata": {},
     "output_type": "execute_result"
    }
   ],
   "source": [
    "np.log10(arr1)"
   ]
  },
  {
   "cell_type": "code",
   "execution_count": 53,
   "id": "c8a97dbc-e6e7-4399-a502-8da5d4dd330d",
   "metadata": {
    "tags": []
   },
   "outputs": [
    {
     "data": {
      "text/plain": [
       "array([[2.98095799e+03, 2.98095799e+03, 4.03428793e+02, 7.38905610e+00],\n",
       "       [1.48413159e+02, 7.38905610e+00, 4.03428793e+02, 1.48413159e+02],\n",
       "       [7.38905610e+00, 8.10308393e+03, 4.03428793e+02, 2.71828183e+00]])"
      ]
     },
     "execution_count": 53,
     "metadata": {},
     "output_type": "execute_result"
    }
   ],
   "source": [
    "np.exp(arr1)"
   ]
  },
  {
   "cell_type": "code",
   "execution_count": 54,
   "id": "a559717c-7a57-4d25-bfd4-c2ef4127a7a2",
   "metadata": {
    "tags": []
   },
   "outputs": [
    {
     "data": {
      "text/plain": [
       "array([[64, 64, 36,  4],\n",
       "       [25,  4, 36, 25],\n",
       "       [ 4, 81, 36,  1]], dtype=int32)"
      ]
     },
     "execution_count": 54,
     "metadata": {},
     "output_type": "execute_result"
    }
   ],
   "source": [
    "np.power(arr1,2)"
   ]
  },
  {
   "cell_type": "code",
   "execution_count": 55,
   "id": "9431dd97-1b9d-4f2b-8689-970cca0f0908",
   "metadata": {
    "tags": []
   },
   "outputs": [
    {
     "data": {
      "text/plain": [
       "5.0"
      ]
     },
     "execution_count": 55,
     "metadata": {},
     "output_type": "execute_result"
    }
   ],
   "source": [
    "np.mean(arr1)"
   ]
  },
  {
   "cell_type": "code",
   "execution_count": 57,
   "id": "9c5f0d96-7c05-4ba2-9072-aac51ef6d453",
   "metadata": {
    "tags": []
   },
   "outputs": [
    {
     "data": {
      "text/plain": [
       "5.5"
      ]
     },
     "execution_count": 57,
     "metadata": {},
     "output_type": "execute_result"
    }
   ],
   "source": [
    "np.median(arr1)"
   ]
  },
  {
   "cell_type": "code",
   "execution_count": 59,
   "id": "84aeaba3-18d7-4a9c-927b-4d0f48df4b10",
   "metadata": {
    "tags": []
   },
   "outputs": [
    {
     "data": {
      "text/plain": [
       "2.581988897471611"
      ]
     },
     "execution_count": 59,
     "metadata": {},
     "output_type": "execute_result"
    }
   ],
   "source": [
    "np.std(arr1)"
   ]
  },
  {
   "cell_type": "code",
   "execution_count": 61,
   "id": "99288cf2-1c55-40aa-8eba-6fadfd50f317",
   "metadata": {
    "tags": []
   },
   "outputs": [
    {
     "data": {
      "text/plain": [
       "6.666666666666667"
      ]
     },
     "execution_count": 61,
     "metadata": {},
     "output_type": "execute_result"
    }
   ],
   "source": [
    "np.var(arr1)   # variance"
   ]
  },
  {
   "cell_type": "code",
   "execution_count": 62,
   "id": "3f92d489-cc8c-478d-ba2e-a8530adbb529",
   "metadata": {
    "tags": []
   },
   "outputs": [
    {
     "data": {
      "text/plain": [
       "1"
      ]
     },
     "execution_count": 62,
     "metadata": {},
     "output_type": "execute_result"
    }
   ],
   "source": [
    "np.min(arr1)"
   ]
  },
  {
   "cell_type": "code",
   "execution_count": 63,
   "id": "131306aa-5089-4174-896f-69ae7328e2b7",
   "metadata": {
    "tags": []
   },
   "outputs": [
    {
     "data": {
      "text/plain": [
       "9"
      ]
     },
     "execution_count": 63,
     "metadata": {},
     "output_type": "execute_result"
    }
   ],
   "source": [
    "np.max(arr1)"
   ]
  },
  {
   "cell_type": "code",
   "execution_count": 64,
   "id": "c695a9a4-168b-468b-bcaa-d4de92454d1c",
   "metadata": {
    "tags": []
   },
   "outputs": [],
   "source": [
    "# arithmatic"
   ]
  },
  {
   "cell_type": "code",
   "execution_count": 65,
   "id": "9c966af0-5bda-40d3-9713-6b22b70b5db7",
   "metadata": {
    "tags": []
   },
   "outputs": [
    {
     "data": {
      "text/plain": [
       "array([[8, 8, 6, 2],\n",
       "       [5, 2, 6, 5],\n",
       "       [2, 9, 6, 1]])"
      ]
     },
     "execution_count": 65,
     "metadata": {},
     "output_type": "execute_result"
    }
   ],
   "source": [
    "arr1"
   ]
  },
  {
   "cell_type": "code",
   "execution_count": 66,
   "id": "abbd435b-520b-4592-afd6-31e5608faa68",
   "metadata": {
    "tags": []
   },
   "outputs": [
    {
     "data": {
      "text/plain": [
       "array([[6, 7, 2, 9],\n",
       "       [5, 4, 5, 8],\n",
       "       [8, 6, 2, 1]])"
      ]
     },
     "execution_count": 66,
     "metadata": {},
     "output_type": "execute_result"
    }
   ],
   "source": [
    "arr2"
   ]
  },
  {
   "cell_type": "code",
   "execution_count": 67,
   "id": "b5e64a0e-1809-4aa5-952a-425495054993",
   "metadata": {
    "tags": []
   },
   "outputs": [
    {
     "data": {
      "text/plain": [
       "array([[ 2,  1,  4, -7],\n",
       "       [ 0, -2,  1, -3],\n",
       "       [-6,  3,  4,  0]])"
      ]
     },
     "execution_count": 67,
     "metadata": {},
     "output_type": "execute_result"
    }
   ],
   "source": [
    "arr1-arr2"
   ]
  },
  {
   "cell_type": "code",
   "execution_count": 68,
   "id": "876a8481-fb16-476f-989c-56c561364e0a",
   "metadata": {
    "tags": []
   },
   "outputs": [
    {
     "data": {
      "text/plain": [
       "array([[ 2,  1,  4, -7],\n",
       "       [ 0, -2,  1, -3],\n",
       "       [-6,  3,  4,  0]])"
      ]
     },
     "execution_count": 68,
     "metadata": {},
     "output_type": "execute_result"
    }
   ],
   "source": [
    "np.subtract(arr1,arr2)"
   ]
  },
  {
   "cell_type": "code",
   "execution_count": 69,
   "id": "a8bc76d0-c78e-4011-a6c7-a2151c5f921f",
   "metadata": {
    "tags": []
   },
   "outputs": [
    {
     "data": {
      "text/plain": [
       "array([[48, 56, 12, 18],\n",
       "       [25,  8, 30, 40],\n",
       "       [16, 54, 12,  1]])"
      ]
     },
     "execution_count": 69,
     "metadata": {},
     "output_type": "execute_result"
    }
   ],
   "source": [
    "np.multiply(arr1,arr2)"
   ]
  },
  {
   "cell_type": "code",
   "execution_count": 70,
   "id": "8ccc996a-4c1c-44ab-89e3-9f6b7c0b9395",
   "metadata": {
    "tags": []
   },
   "outputs": [
    {
     "data": {
      "text/plain": [
       "array([[2, 1, 0, 2],\n",
       "       [0, 2, 1, 5],\n",
       "       [2, 3, 0, 0]])"
      ]
     },
     "execution_count": 70,
     "metadata": {},
     "output_type": "execute_result"
    }
   ],
   "source": [
    "np.mod(arr1,arr2)  # remainder"
   ]
  },
  {
   "cell_type": "code",
   "execution_count": 71,
   "id": "cac86670-1228-4926-9f7a-bf558ec0da15",
   "metadata": {
    "tags": []
   },
   "outputs": [
    {
     "data": {
      "text/plain": [
       "array([[ 262144, 2097152,      36,     512],\n",
       "       [   3125,      16,    7776,  390625],\n",
       "       [    256,  531441,      36,       1]])"
      ]
     },
     "execution_count": 71,
     "metadata": {},
     "output_type": "execute_result"
    }
   ],
   "source": [
    "np.power(arr1,arr2)"
   ]
  },
  {
   "cell_type": "code",
   "execution_count": 72,
   "id": "c1242dfb-2ef0-4d90-bc53-8c334c0a99a7",
   "metadata": {
    "tags": []
   },
   "outputs": [
    {
     "data": {
      "text/plain": [
       "array([[2.82842712, 2.82842712, 2.44948974, 1.41421356],\n",
       "       [2.23606798, 1.41421356, 2.44948974, 2.23606798],\n",
       "       [1.41421356, 3.        , 2.44948974, 1.        ]])"
      ]
     },
     "execution_count": 72,
     "metadata": {},
     "output_type": "execute_result"
    }
   ],
   "source": [
    "np.sqrt(arr1)"
   ]
  },
  {
   "cell_type": "code",
   "execution_count": 73,
   "id": "4cc61b80-d5f1-4e3b-b7ce-e6844f09a4c6",
   "metadata": {
    "tags": []
   },
   "outputs": [],
   "source": [
    "# Statistics"
   ]
  },
  {
   "cell_type": "code",
   "execution_count": 74,
   "id": "69c23a82-1677-4474-b4d4-512dff920908",
   "metadata": {
    "tags": []
   },
   "outputs": [
    {
     "data": {
      "text/plain": [
       "5.0"
      ]
     },
     "execution_count": 74,
     "metadata": {},
     "output_type": "execute_result"
    }
   ],
   "source": [
    "np.mean(arr1)"
   ]
  },
  {
   "cell_type": "code",
   "execution_count": 75,
   "id": "509b3018-b5c4-4fd6-a416-6636804f1e9d",
   "metadata": {
    "tags": []
   },
   "outputs": [
    {
     "data": {
      "text/plain": [
       "2.581988897471611"
      ]
     },
     "execution_count": 75,
     "metadata": {},
     "output_type": "execute_result"
    }
   ],
   "source": [
    "np.std(arr1)"
   ]
  },
  {
   "cell_type": "code",
   "execution_count": 76,
   "id": "9581048d-d6c1-4c42-bb61-32ba2a72d202",
   "metadata": {
    "tags": []
   },
   "outputs": [
    {
     "data": {
      "text/plain": [
       "5.5"
      ]
     },
     "execution_count": 76,
     "metadata": {},
     "output_type": "execute_result"
    }
   ],
   "source": [
    "np.median(arr1)"
   ]
  },
  {
   "cell_type": "code",
   "execution_count": null,
   "id": "74545df7-48e5-45d7-853e-77c34e28aab9",
   "metadata": {},
   "outputs": [],
   "source": []
  }
 ],
 "metadata": {
  "kernelspec": {
   "display_name": "Python 3 (ipykernel)",
   "language": "python",
   "name": "python3"
  },
  "language_info": {
   "codemirror_mode": {
    "name": "ipython",
    "version": 3
   },
   "file_extension": ".py",
   "mimetype": "text/x-python",
   "name": "python",
   "nbconvert_exporter": "python",
   "pygments_lexer": "ipython3",
   "version": "3.11.3"
  }
 },
 "nbformat": 4,
 "nbformat_minor": 5
}
