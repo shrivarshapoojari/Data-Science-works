{
 "cells": [
  {
   "cell_type": "code",
   "execution_count": 1,
   "id": "0957ef21-1615-4a5e-8373-e7d2d729faf0",
   "metadata": {
    "tags": []
   },
   "outputs": [],
   "source": [
    "# sort Search and counting functions"
   ]
  },
  {
   "cell_type": "code",
   "execution_count": 2,
   "id": "dc8a0c80-bfed-4570-bb92-becbd001614a",
   "metadata": {
    "tags": []
   },
   "outputs": [],
   "source": [
    "import numpy as np"
   ]
  },
  {
   "cell_type": "code",
   "execution_count": 5,
   "id": "da7cc3f9-4d4b-4644-a8dc-f6d4703665ce",
   "metadata": {
    "tags": []
   },
   "outputs": [],
   "source": [
    "arr=np.array([2,4,98,6])"
   ]
  },
  {
   "cell_type": "code",
   "execution_count": 6,
   "id": "be82ad9e-c6eb-4ea5-99cc-d7561cc59bbc",
   "metadata": {
    "tags": []
   },
   "outputs": [
    {
     "data": {
      "text/plain": [
       "array([ 2,  4,  6, 98])"
      ]
     },
     "execution_count": 6,
     "metadata": {},
     "output_type": "execute_result"
    }
   ],
   "source": [
    "np.sort(arr)"
   ]
  },
  {
   "cell_type": "code",
   "execution_count": 7,
   "id": "24f202ab-c966-4bf0-a913-4b04f16b0a2d",
   "metadata": {
    "tags": []
   },
   "outputs": [],
   "source": [
    "# search sorted finds the position where a given element to be inserted to maintain the order."
   ]
  },
  {
   "cell_type": "code",
   "execution_count": 8,
   "id": "6faa808c-21ea-4104-929e-4572c5d7264c",
   "metadata": {
    "tags": []
   },
   "outputs": [
    {
     "data": {
      "text/plain": [
       "2"
      ]
     },
     "execution_count": 8,
     "metadata": {},
     "output_type": "execute_result"
    }
   ],
   "source": [
    "np.searchsorted(arr,5)"
   ]
  },
  {
   "cell_type": "code",
   "execution_count": 11,
   "id": "750d9c8c-f4b6-4e16-8151-1d20a6fef730",
   "metadata": {
    "tags": []
   },
   "outputs": [],
   "source": [
    "arr1=np.random.randint(0,10,(2,3))"
   ]
  },
  {
   "cell_type": "code",
   "execution_count": 12,
   "id": "c361be13-496a-4491-9971-69aa929ae290",
   "metadata": {
    "tags": []
   },
   "outputs": [
    {
     "data": {
      "text/plain": [
       "array([[1, 8, 6],\n",
       "       [6, 1, 7]])"
      ]
     },
     "execution_count": 12,
     "metadata": {},
     "output_type": "execute_result"
    }
   ],
   "source": [
    "arr1"
   ]
  },
  {
   "cell_type": "code",
   "execution_count": 13,
   "id": "08f8bb1a-af81-462d-a49f-cdf60700e35c",
   "metadata": {
    "tags": []
   },
   "outputs": [
    {
     "data": {
      "text/plain": [
       "6"
      ]
     },
     "execution_count": 13,
     "metadata": {},
     "output_type": "execute_result"
    }
   ],
   "source": [
    "np.count_nonzero(arr1)"
   ]
  },
  {
   "cell_type": "code",
   "execution_count": 15,
   "id": "7b00792f-0216-4601-8929-594cf5a0dd59",
   "metadata": {
    "tags": []
   },
   "outputs": [
    {
     "data": {
      "text/plain": [
       "(array([0, 1, 2, 3], dtype=int64),)"
      ]
     },
     "execution_count": 15,
     "metadata": {},
     "output_type": "execute_result"
    }
   ],
   "source": [
    "np.where(arr>0)  #returns the indexes where entries greater than 0"
   ]
  },
  {
   "cell_type": "code",
   "execution_count": 17,
   "id": "6013e72c-cf5d-48a1-8e62-9de95d967c14",
   "metadata": {
    "tags": []
   },
   "outputs": [
    {
     "data": {
      "text/plain": [
       "array([ 4, 98,  6])"
      ]
     },
     "execution_count": 17,
     "metadata": {},
     "output_type": "execute_result"
    }
   ],
   "source": [
    "np.extract(arr>2,arr)  # extracts data based on condition"
   ]
  },
  {
   "cell_type": "code",
   "execution_count": 18,
   "id": "c7edddf2-42aa-4ced-8adc-b0bc6544d279",
   "metadata": {
    "tags": []
   },
   "outputs": [],
   "source": [
    "# linear algebra"
   ]
  },
  {
   "cell_type": "code",
   "execution_count": 25,
   "id": "537cb582-b1c3-43b7-a09d-0e057db1caa0",
   "metadata": {
    "tags": []
   },
   "outputs": [
    {
     "data": {
      "text/plain": [
       "array([[0, 2],\n",
       "       [2, 4]])"
      ]
     },
     "execution_count": 25,
     "metadata": {},
     "output_type": "execute_result"
    }
   ],
   "source": [
    "arr1=np.random.randint([[2,3],[4,5]])\n",
    "arr1"
   ]
  },
  {
   "cell_type": "code",
   "execution_count": 27,
   "id": "d01fe1bc-a175-4db5-a41f-292309dc355a",
   "metadata": {
    "tags": []
   },
   "outputs": [
    {
     "data": {
      "text/plain": [
       "array([[3, 0],\n",
       "       [1, 2]])"
      ]
     },
     "execution_count": 27,
     "metadata": {},
     "output_type": "execute_result"
    }
   ],
   "source": [
    "arr2=np.random.randint([[5,3],[2,5]])\n",
    "arr2"
   ]
  },
  {
   "cell_type": "code",
   "execution_count": 30,
   "id": "7f143fba-697a-4f2f-b0f1-377e72f4d292",
   "metadata": {
    "tags": []
   },
   "outputs": [
    {
     "data": {
      "text/plain": [
       "array([[ 2,  4],\n",
       "       [10,  8]])"
      ]
     },
     "execution_count": 30,
     "metadata": {},
     "output_type": "execute_result"
    }
   ],
   "source": [
    "np.dot(arr1,arr2)  # same as matrix multiplication"
   ]
  },
  {
   "cell_type": "code",
   "execution_count": 29,
   "id": "31d11799-5809-4591-b357-622116ad0cb4",
   "metadata": {
    "tags": []
   },
   "outputs": [
    {
     "data": {
      "text/plain": [
       "array([[ 2,  4],\n",
       "       [10,  8]])"
      ]
     },
     "execution_count": 29,
     "metadata": {},
     "output_type": "execute_result"
    }
   ],
   "source": [
    "arr1@arr2"
   ]
  },
  {
   "cell_type": "code",
   "execution_count": null,
   "id": "cfa4ef91-c402-4e73-b544-c6c044fba6ca",
   "metadata": {},
   "outputs": [],
   "source": []
  }
 ],
 "metadata": {
  "kernelspec": {
   "display_name": "Python 3 (ipykernel)",
   "language": "python",
   "name": "python3"
  },
  "language_info": {
   "codemirror_mode": {
    "name": "ipython",
    "version": 3
   },
   "file_extension": ".py",
   "mimetype": "text/x-python",
   "name": "python",
   "nbconvert_exporter": "python",
   "pygments_lexer": "ipython3",
   "version": "3.11.3"
  }
 },
 "nbformat": 4,
 "nbformat_minor": 5
}
