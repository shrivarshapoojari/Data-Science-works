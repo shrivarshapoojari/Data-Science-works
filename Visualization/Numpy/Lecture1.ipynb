{
 "cells": [
  {
   "cell_type": "code",
   "execution_count": 5,
   "id": "0bea088d-d203-4155-a57d-b5e225248375",
   "metadata": {
    "tags": []
   },
   "outputs": [],
   "source": [
    "import numpy as np"
   ]
  },
  {
   "cell_type": "code",
   "execution_count": 15,
   "id": "98f5cb03-9400-46e5-9962-27ddd7bc68a7",
   "metadata": {
    "tags": []
   },
   "outputs": [],
   "source": [
    "l=[1,2,3,4,5]"
   ]
  },
  {
   "cell_type": "code",
   "execution_count": 16,
   "id": "6b5fe222-2ea5-4b90-b8d7-3965c42664d8",
   "metadata": {
    "tags": []
   },
   "outputs": [],
   "source": [
    "arr=np.array(l)"
   ]
  },
  {
   "cell_type": "code",
   "execution_count": 4,
   "id": "4886c8fd-2907-453f-bd75-39c97d70084b",
   "metadata": {
    "tags": []
   },
   "outputs": [
    {
     "data": {
      "text/plain": [
       "numpy.ndarray"
      ]
     },
     "execution_count": 4,
     "metadata": {},
     "output_type": "execute_result"
    }
   ],
   "source": [
    "type(arr)"
   ]
  },
  {
   "cell_type": "code",
   "execution_count": 5,
   "id": "cf84b892-ca97-427b-b9ca-cba172da0398",
   "metadata": {
    "tags": []
   },
   "outputs": [
    {
     "data": {
      "text/plain": [
       "1"
      ]
     },
     "execution_count": 5,
     "metadata": {},
     "output_type": "execute_result"
    }
   ],
   "source": [
    "arr.ndim # gives dimension of array"
   ]
  },
  {
   "cell_type": "code",
   "execution_count": 6,
   "id": "d122a55a-3184-4041-81dc-e5ea1610888d",
   "metadata": {
    "tags": []
   },
   "outputs": [],
   "source": [
    "# matrix always has 2 dimensions"
   ]
  },
  {
   "cell_type": "code",
   "execution_count": 8,
   "id": "342cb478-fda6-400e-afe4-92467beeced4",
   "metadata": {
    "tags": []
   },
   "outputs": [],
   "source": [
    "mat=np.matrix(l)"
   ]
  },
  {
   "cell_type": "code",
   "execution_count": 9,
   "id": "4fc51bbe-0a0b-4440-88f1-f1da0d55b72f",
   "metadata": {
    "tags": []
   },
   "outputs": [
    {
     "data": {
      "text/plain": [
       "array([1, 2, 3, 4, 5])"
      ]
     },
     "execution_count": 9,
     "metadata": {},
     "output_type": "execute_result"
    }
   ],
   "source": [
    "np.asanyarray(l)  # converts any type to array"
   ]
  },
  {
   "cell_type": "markdown",
   "id": "e9fc55ab-d806-4dc1-ab8e-0bc87e7299ba",
   "metadata": {},
   "source": [
    "fromfunction() takes function as argument based on arg generates dataset "
   ]
  },
  {
   "cell_type": "code",
   "execution_count": 10,
   "id": "5048dd5b-89ea-4215-85cd-9de7a1630e43",
   "metadata": {
    "tags": []
   },
   "outputs": [
    {
     "data": {
      "text/plain": [
       "array([[ True, False, False],\n",
       "       [False,  True, False],\n",
       "       [False, False,  True]])"
      ]
     },
     "execution_count": 10,
     "metadata": {},
     "output_type": "execute_result"
    }
   ],
   "source": [
    "np.fromfunction(lambda i,j :i==j ,(3,3))  # 3,3 is size of dataset"
   ]
  },
  {
   "cell_type": "code",
   "execution_count": 1,
   "id": "b931da61-9109-4c12-8ab2-a871f65446bd",
   "metadata": {},
   "outputs": [
    {
     "data": {
      "text/plain": [
       "[0, 1, 4, 9, 16]"
      ]
     },
     "execution_count": 1,
     "metadata": {},
     "output_type": "execute_result"
    }
   ],
   "source": [
    "list(i*i for i in range(5))"
   ]
  },
  {
   "cell_type": "code",
   "execution_count": 2,
   "id": "e6f609e9-e78c-4a97-804d-6ec3ad5e47c8",
   "metadata": {
    "tags": []
   },
   "outputs": [],
   "source": [
    "# we can do this using numpy as follows"
   ]
  },
  {
   "cell_type": "code",
   "execution_count": 3,
   "id": "a78c3300-7542-4ce4-b8d3-9d45d06fd045",
   "metadata": {
    "tags": []
   },
   "outputs": [],
   "source": [
    "iterable=(i*i for i in range(5))"
   ]
  },
  {
   "cell_type": "code",
   "execution_count": 6,
   "id": "9a851767-b354-4b21-a9d8-1197f2463b38",
   "metadata": {
    "tags": []
   },
   "outputs": [
    {
     "data": {
      "text/plain": [
       "array([ 0.,  1.,  4.,  9., 16.])"
      ]
     },
     "execution_count": 6,
     "metadata": {},
     "output_type": "execute_result"
    }
   ],
   "source": [
    "np.fromiter(iterable,float)"
   ]
  },
  {
   "cell_type": "code",
   "execution_count": 7,
   "id": "e96cc06f-ae39-4f6a-b3d5-dbe002ea28ea",
   "metadata": {
    "tags": []
   },
   "outputs": [],
   "source": [
    "# from string we can generate the array"
   ]
  },
  {
   "cell_type": "code",
   "execution_count": 9,
   "id": "d35e3ba4-59d8-4abd-8ebb-6d3fc96cd05e",
   "metadata": {
    "tags": []
   },
   "outputs": [
    {
     "data": {
      "text/plain": [
       "array([23., 45., 56.])"
      ]
     },
     "execution_count": 9,
     "metadata": {},
     "output_type": "execute_result"
    }
   ],
   "source": [
    "np.fromstring('23 45 56',sep=' ')"
   ]
  },
  {
   "cell_type": "code",
   "execution_count": 10,
   "id": "d0c20d91-be1a-4529-9457-96b5a2a0ac0f",
   "metadata": {
    "tags": []
   },
   "outputs": [],
   "source": [
    " # generate array from comma separated string by giving sep as ,"
   ]
  },
  {
   "cell_type": "code",
   "execution_count": 12,
   "id": "7206a656-a8f3-475b-9f12-ef116839d754",
   "metadata": {
    "tags": []
   },
   "outputs": [
    {
     "data": {
      "text/plain": [
       "array([23., 45., 56.])"
      ]
     },
     "execution_count": 12,
     "metadata": {},
     "output_type": "execute_result"
    }
   ],
   "source": [
    "np.fromstring('23,45,56',sep=',')"
   ]
  },
  {
   "cell_type": "code",
   "execution_count": 18,
   "id": "c7199e1e-34d2-4914-abcf-bf63e299d3fb",
   "metadata": {
    "tags": []
   },
   "outputs": [
    {
     "data": {
      "text/plain": [
       "5"
      ]
     },
     "execution_count": 18,
     "metadata": {},
     "output_type": "execute_result"
    }
   ],
   "source": [
    "arr.size  # gives size of array"
   ]
  },
  {
   "cell_type": "code",
   "execution_count": 20,
   "id": "00cbec22-4279-4613-9059-e143651b57e0",
   "metadata": {
    "tags": []
   },
   "outputs": [
    {
     "data": {
      "text/plain": [
       "(5,)"
      ]
     },
     "execution_count": 20,
     "metadata": {},
     "output_type": "execute_result"
    }
   ],
   "source": [
    "arr.shape  # gives dimension of array"
   ]
  },
  {
   "cell_type": "code",
   "execution_count": 22,
   "id": "ea395e8e-323f-40d9-8c3a-6bbc02f9a08e",
   "metadata": {
    "tags": []
   },
   "outputs": [
    {
     "data": {
      "text/plain": [
       "dtype('int32')"
      ]
     },
     "execution_count": 22,
     "metadata": {},
     "output_type": "execute_result"
    }
   ],
   "source": [
    "arr.dtype  # gives datatype of array"
   ]
  },
  {
   "cell_type": "code",
   "execution_count": null,
   "id": "f9c2a154-5dbe-49ae-8486-69bebce0ec0e",
   "metadata": {},
   "outputs": [],
   "source": []
  }
 ],
 "metadata": {
  "kernelspec": {
   "display_name": "Python 3 (ipykernel)",
   "language": "python",
   "name": "python3"
  },
  "language_info": {
   "codemirror_mode": {
    "name": "ipython",
    "version": 3
   },
   "file_extension": ".py",
   "mimetype": "text/x-python",
   "name": "python",
   "nbconvert_exporter": "python",
   "pygments_lexer": "ipython3",
   "version": "3.11.3"
  }
 },
 "nbformat": 4,
 "nbformat_minor": 5
}
