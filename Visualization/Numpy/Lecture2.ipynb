{
 "cells": [
  {
   "cell_type": "code",
   "execution_count": 3,
   "id": "f0bbeae9-65a0-4299-8291-a0ae289c6f85",
   "metadata": {
    "tags": []
   },
   "outputs": [],
   "source": [
    "import numpy as np\n"
   ]
  },
  {
   "cell_type": "code",
   "execution_count": 2,
   "id": "62be8f5a-6b0f-4a21-8cd8-ff82e386bff0",
   "metadata": {
    "tags": []
   },
   "outputs": [
    {
     "data": {
      "text/plain": [
       "[0, 1, 2, 3, 4]"
      ]
     },
     "execution_count": 2,
     "metadata": {},
     "output_type": "execute_result"
    }
   ],
   "source": [
    "list(range(5))"
   ]
  },
  {
   "cell_type": "code",
   "execution_count": 3,
   "id": "9410e284-cb94-4b13-86ef-cb765c4a7152",
   "metadata": {
    "tags": []
   },
   "outputs": [
    {
     "data": {
      "text/plain": [
       "[0, 1, 2, 3, 4, 5, 6, 7, 8, 9]"
      ]
     },
     "execution_count": 3,
     "metadata": {},
     "output_type": "execute_result"
    }
   ],
   "source": [
    "list(range(0,10))"
   ]
  },
  {
   "cell_type": "code",
   "execution_count": 5,
   "id": "6f3cf3df-41d0-40e5-8447-cc9ede54ffbc",
   "metadata": {
    "tags": []
   },
   "outputs": [],
   "source": [
    "# range function cant give float value"
   ]
  },
  {
   "cell_type": "code",
   "execution_count": 6,
   "id": "b1af60c7-c3c4-427b-9421-c4ffb17fd495",
   "metadata": {
    "tags": []
   },
   "outputs": [
    {
     "ename": "TypeError",
     "evalue": "'float' object cannot be interpreted as an integer",
     "output_type": "error",
     "traceback": [
      "\u001b[1;31m---------------------------------------------------------------------------\u001b[0m",
      "\u001b[1;31mTypeError\u001b[0m                                 Traceback (most recent call last)",
      "Cell \u001b[1;32mIn[6], line 1\u001b[0m\n\u001b[1;32m----> 1\u001b[0m \u001b[38;5;28mlist\u001b[39m(\u001b[38;5;28mrange\u001b[39m(\u001b[38;5;241m0.4\u001b[39m,\u001b[38;5;241m10.4\u001b[39m))\n",
      "\u001b[1;31mTypeError\u001b[0m: 'float' object cannot be interpreted as an integer"
     ]
    }
   ],
   "source": [
    "list(range(0.4,10.4))"
   ]
  },
  {
   "cell_type": "code",
   "execution_count": 7,
   "id": "84933c27-ebc8-48a3-87f3-dadd3dcb4a28",
   "metadata": {
    "tags": []
   },
   "outputs": [],
   "source": [
    "# to get fraction value we can use np.arange function "
   ]
  },
  {
   "cell_type": "code",
   "execution_count": 8,
   "id": "0f8cadb6-8816-4aaf-9c94-cec7949eb975",
   "metadata": {
    "tags": []
   },
   "outputs": [
    {
     "data": {
      "text/plain": [
       "array([0.4, 1.4, 2.4, 3.4, 4.4, 5.4, 6.4, 7.4, 8.4, 9.4])"
      ]
     },
     "execution_count": 8,
     "metadata": {},
     "output_type": "execute_result"
    }
   ],
   "source": [
    "np.arange(.4,10.4)"
   ]
  },
  {
   "cell_type": "code",
   "execution_count": 9,
   "id": "7123037f-a9ff-4589-994b-046f49723d4a",
   "metadata": {
    "tags": []
   },
   "outputs": [],
   "source": [
    "# step size can also be a fraction"
   ]
  },
  {
   "cell_type": "code",
   "execution_count": 12,
   "id": "ea39d83f-3265-4f48-9f44-3b1cfe671429",
   "metadata": {
    "tags": []
   },
   "outputs": [
    {
     "data": {
      "text/plain": [
       "[0.4,\n",
       " 0.62,\n",
       " 0.84,\n",
       " 1.06,\n",
       " 1.2799999999999998,\n",
       " 1.5,\n",
       " 1.7199999999999998,\n",
       " 1.94,\n",
       " 2.1599999999999997,\n",
       " 2.38,\n",
       " 2.5999999999999996,\n",
       " 2.82,\n",
       " 3.0399999999999996,\n",
       " 3.2599999999999993,\n",
       " 3.4799999999999995,\n",
       " 3.6999999999999997,\n",
       " 3.9199999999999995,\n",
       " 4.14,\n",
       " 4.359999999999999,\n",
       " 4.58,\n",
       " 4.8,\n",
       " 5.02,\n",
       " 5.24,\n",
       " 5.46,\n",
       " 5.68,\n",
       " 5.8999999999999995,\n",
       " 6.119999999999999,\n",
       " 6.34,\n",
       " 6.56,\n",
       " 6.779999999999999,\n",
       " 7.0,\n",
       " 7.22,\n",
       " 7.4399999999999995,\n",
       " 7.659999999999999,\n",
       " 7.879999999999999,\n",
       " 8.1,\n",
       " 8.319999999999999,\n",
       " 8.54,\n",
       " 8.76,\n",
       " 8.979999999999999,\n",
       " 9.2,\n",
       " 9.42,\n",
       " 9.639999999999999,\n",
       " 9.86,\n",
       " 10.08,\n",
       " 10.299999999999999]"
      ]
     },
     "execution_count": 12,
     "metadata": {},
     "output_type": "execute_result"
    }
   ],
   "source": [
    "list(np.arange(.4,10.4,0.22))"
   ]
  },
  {
   "cell_type": "code",
   "execution_count": 15,
   "id": "ee9e37b2-3d39-41bc-8bb7-897335319292",
   "metadata": {
    "tags": []
   },
   "outputs": [
    {
     "data": {
      "text/plain": [
       "array([1.        , 1.21052632, 1.42105263, 1.63157895, 1.84210526,\n",
       "       2.05263158, 2.26315789, 2.47368421, 2.68421053, 2.89473684,\n",
       "       3.10526316, 3.31578947, 3.52631579, 3.73684211, 3.94736842,\n",
       "       4.15789474, 4.36842105, 4.57894737, 4.78947368, 5.        ])"
      ]
     },
     "execution_count": 15,
     "metadata": {},
     "output_type": "execute_result"
    }
   ],
   "source": [
    "np.linspace(1,5,20) # divides 1 to 5 into 20 spaces and generates value"
   ]
  },
  {
   "cell_type": "code",
   "execution_count": 16,
   "id": "b8c9cbce-1915-414c-bdcf-57a5bbd4ae58",
   "metadata": {
    "tags": []
   },
   "outputs": [
    {
     "data": {
      "text/plain": [
       "array([ 1.,  2.,  3.,  4.,  5.,  6.,  7.,  8.,  9., 10., 11., 12., 13.,\n",
       "       14., 15., 16., 17., 18., 19., 20.])"
      ]
     },
     "execution_count": 16,
     "metadata": {},
     "output_type": "execute_result"
    }
   ],
   "source": [
    "np.linspace(1,20,20)"
   ]
  },
  {
   "cell_type": "code",
   "execution_count": 17,
   "id": "e04bd8c5-413e-41c0-8520-4d86990110cf",
   "metadata": {
    "tags": []
   },
   "outputs": [
    {
     "data": {
      "text/plain": [
       "array([1.00000000e+01, 2.78255940e+01, 7.74263683e+01, 2.15443469e+02,\n",
       "       5.99484250e+02, 1.66810054e+03, 4.64158883e+03, 1.29154967e+04,\n",
       "       3.59381366e+04, 1.00000000e+05])"
      ]
     },
     "execution_count": 17,
     "metadata": {},
     "output_type": "execute_result"
    }
   ],
   "source": [
    "np.logspace(1,5,10)"
   ]
  },
  {
   "cell_type": "markdown",
   "id": "50959f68-fa80-4c8b-b9bf-0f4f2163c984",
   "metadata": {},
   "source": [
    "#The `np.logspace` function is a NumPy function used to generate an array of numbers spaced evenly on a logarithmic scale. The function takes three arguments: `start`, `stop`, and `num`. It returns an array of `num` numbers spaced evenly on a logarithmic scale between 10 raised to the power of `start` and 10 raised to the power of `stop`.\n",
    "\n",
    "In your example, `np.logspace(1, 5, 10)` generates an array of 10 numbers spaced evenly on a logarithmic scale between 10^1 (10) and 10^5 (100000). Here's the result:\n",
    "\n",
    "Each number in the array is the result of raising 10 to a power that ranges from 1 to 5, with a total of 10 evenly spaced steps. This is useful when you want to generate numbers for plotting or calculations that span several orders of magnitude on a logarithmic scale."
   ]
  },
  {
   "cell_type": "code",
   "execution_count": 18,
   "id": "6d393c40-8660-4a96-96ba-b274047aeeef",
   "metadata": {
    "tags": []
   },
   "outputs": [
    {
     "data": {
      "text/plain": [
       "array([ 2.        ,  2.72158   ,  3.70349885,  5.0396842 ,  6.85795186,\n",
       "        9.33223232, 12.69920842, 17.28095582, 23.51575188, 32.        ])"
      ]
     },
     "execution_count": 18,
     "metadata": {},
     "output_type": "execute_result"
    }
   ],
   "source": [
    "# by default base is 10\n",
    "# if we need other base we can define as follows\n",
    "np.logspace(1,5,10,base=2)"
   ]
  },
  {
   "cell_type": "code",
   "execution_count": 19,
   "id": "d881b938-f046-4e16-8314-dfd5ca1b250e",
   "metadata": {
    "tags": []
   },
   "outputs": [
    {
     "data": {
      "text/plain": [
       "array([0., 0., 0., 0., 0.])"
      ]
     },
     "execution_count": 19,
     "metadata": {},
     "output_type": "execute_result"
    }
   ],
   "source": [
    "np.zeros(5)  # generates 5 zeros"
   ]
  },
  {
   "cell_type": "code",
   "execution_count": 21,
   "id": "d982c4a6-ee27-4daa-a109-fc651f7d3fb1",
   "metadata": {
    "tags": []
   },
   "outputs": [
    {
     "data": {
      "text/plain": [
       "array([[0., 0., 0., 0.],\n",
       "       [0., 0., 0., 0.],\n",
       "       [0., 0., 0., 0.]])"
      ]
     },
     "execution_count": 21,
     "metadata": {},
     "output_type": "execute_result"
    }
   ],
   "source": [
    "np.zeros((3,4)) # generates 3X4 zero matrix"
   ]
  },
  {
   "cell_type": "code",
   "execution_count": 23,
   "id": "98edb5c4-f943-4aa6-aa31-d9a28b9db269",
   "metadata": {
    "tags": []
   },
   "outputs": [
    {
     "data": {
      "text/plain": [
       "array([[[0., 0.],\n",
       "        [0., 0.],\n",
       "        [0., 0.],\n",
       "        [0., 0.]],\n",
       "\n",
       "       [[0., 0.],\n",
       "        [0., 0.],\n",
       "        [0., 0.],\n",
       "        [0., 0.]],\n",
       "\n",
       "       [[0., 0.],\n",
       "        [0., 0.],\n",
       "        [0., 0.],\n",
       "        [0., 0.]]])"
      ]
     },
     "execution_count": 23,
     "metadata": {},
     "output_type": "execute_result"
    }
   ],
   "source": [
    "np.zeros((3,4,2))  # generates 3 4X2 matrix"
   ]
  },
  {
   "cell_type": "code",
   "execution_count": 24,
   "id": "707b015e-987c-45cb-9f9d-8430d82d8afe",
   "metadata": {
    "tags": []
   },
   "outputs": [
    {
     "data": {
      "text/plain": [
       "array([1., 1., 1., 1., 1.])"
      ]
     },
     "execution_count": 24,
     "metadata": {},
     "output_type": "execute_result"
    }
   ],
   "source": [
    " np.ones(5)  # generates 5 ones"
   ]
  },
  {
   "cell_type": "code",
   "execution_count": 26,
   "id": "0b39a8b2-b7d3-417a-a409-1b611e7d2152",
   "metadata": {
    "tags": []
   },
   "outputs": [],
   "source": [
    "ar=np.ones((3,4))"
   ]
  },
  {
   "cell_type": "code",
   "execution_count": 27,
   "id": "de24f67e-7294-47fd-ac06-60027ea99b19",
   "metadata": {
    "tags": []
   },
   "outputs": [
    {
     "data": {
      "text/plain": [
       "array([[1., 1., 1., 1.],\n",
       "       [1., 1., 1., 1.],\n",
       "       [1., 1., 1., 1.]])"
      ]
     },
     "execution_count": 27,
     "metadata": {},
     "output_type": "execute_result"
    }
   ],
   "source": [
    "ar"
   ]
  },
  {
   "cell_type": "code",
   "execution_count": 29,
   "id": "571f0949-1e65-4aab-95f8-5359bde9a1f8",
   "metadata": {
    "tags": []
   },
   "outputs": [
    {
     "data": {
      "text/plain": [
       "array([[6., 6., 6., 6.],\n",
       "       [6., 6., 6., 6.],\n",
       "       [6., 6., 6., 6.]])"
      ]
     },
     "execution_count": 29,
     "metadata": {},
     "output_type": "execute_result"
    }
   ],
   "source": [
    "ar+5  # adds 5 to all array elements"
   ]
  },
  {
   "cell_type": "code",
   "execution_count": 31,
   "id": "03e42f00-0c3c-4f95-bc2c-5aac4fab991c",
   "metadata": {
    "tags": []
   },
   "outputs": [],
   "source": [
    "arr2=np.eye(5)  # gives identity matrix of order 5"
   ]
  },
  {
   "cell_type": "code",
   "execution_count": 32,
   "id": "fc74df99-3ca5-4039-ba59-803b9ac31e8e",
   "metadata": {
    "tags": []
   },
   "outputs": [
    {
     "data": {
      "text/plain": [
       "array([[1., 0., 0., 0., 0.],\n",
       "       [0., 1., 0., 0., 0.],\n",
       "       [0., 0., 1., 0., 0.],\n",
       "       [0., 0., 0., 1., 0.],\n",
       "       [0., 0., 0., 0., 1.]])"
      ]
     },
     "execution_count": 32,
     "metadata": {},
     "output_type": "execute_result"
    }
   ],
   "source": [
    "arr2"
   ]
  },
  {
   "cell_type": "code",
   "execution_count": 33,
   "id": "9a4cc8fd-54e8-4d38-8eb9-4f76ba6148b8",
   "metadata": {
    "tags": []
   },
   "outputs": [],
   "source": [
    "#convert array to data frame"
   ]
  },
  {
   "cell_type": "code",
   "execution_count": 34,
   "id": "06e8e788-2a88-4d56-98fe-57a8909cbdc8",
   "metadata": {
    "tags": []
   },
   "outputs": [],
   "source": [
    "import pandas as pd"
   ]
  },
  {
   "cell_type": "code",
   "execution_count": 35,
   "id": "778d7821-40c4-46fe-ab69-6fb690ea7e69",
   "metadata": {
    "tags": []
   },
   "outputs": [
    {
     "data": {
      "text/html": [
       "<div>\n",
       "<style scoped>\n",
       "    .dataframe tbody tr th:only-of-type {\n",
       "        vertical-align: middle;\n",
       "    }\n",
       "\n",
       "    .dataframe tbody tr th {\n",
       "        vertical-align: top;\n",
       "    }\n",
       "\n",
       "    .dataframe thead th {\n",
       "        text-align: right;\n",
       "    }\n",
       "</style>\n",
       "<table border=\"1\" class=\"dataframe\">\n",
       "  <thead>\n",
       "    <tr style=\"text-align: right;\">\n",
       "      <th></th>\n",
       "      <th>0</th>\n",
       "      <th>1</th>\n",
       "      <th>2</th>\n",
       "      <th>3</th>\n",
       "      <th>4</th>\n",
       "    </tr>\n",
       "  </thead>\n",
       "  <tbody>\n",
       "    <tr>\n",
       "      <th>0</th>\n",
       "      <td>1.0</td>\n",
       "      <td>0.0</td>\n",
       "      <td>0.0</td>\n",
       "      <td>0.0</td>\n",
       "      <td>0.0</td>\n",
       "    </tr>\n",
       "    <tr>\n",
       "      <th>1</th>\n",
       "      <td>0.0</td>\n",
       "      <td>1.0</td>\n",
       "      <td>0.0</td>\n",
       "      <td>0.0</td>\n",
       "      <td>0.0</td>\n",
       "    </tr>\n",
       "    <tr>\n",
       "      <th>2</th>\n",
       "      <td>0.0</td>\n",
       "      <td>0.0</td>\n",
       "      <td>1.0</td>\n",
       "      <td>0.0</td>\n",
       "      <td>0.0</td>\n",
       "    </tr>\n",
       "    <tr>\n",
       "      <th>3</th>\n",
       "      <td>0.0</td>\n",
       "      <td>0.0</td>\n",
       "      <td>0.0</td>\n",
       "      <td>1.0</td>\n",
       "      <td>0.0</td>\n",
       "    </tr>\n",
       "    <tr>\n",
       "      <th>4</th>\n",
       "      <td>0.0</td>\n",
       "      <td>0.0</td>\n",
       "      <td>0.0</td>\n",
       "      <td>0.0</td>\n",
       "      <td>1.0</td>\n",
       "    </tr>\n",
       "  </tbody>\n",
       "</table>\n",
       "</div>"
      ],
      "text/plain": [
       "     0    1    2    3    4\n",
       "0  1.0  0.0  0.0  0.0  0.0\n",
       "1  0.0  1.0  0.0  0.0  0.0\n",
       "2  0.0  0.0  1.0  0.0  0.0\n",
       "3  0.0  0.0  0.0  1.0  0.0\n",
       "4  0.0  0.0  0.0  0.0  1.0"
      ]
     },
     "execution_count": 35,
     "metadata": {},
     "output_type": "execute_result"
    }
   ],
   "source": [
    "pd.DataFrame(arr2)"
   ]
  },
  {
   "cell_type": "code",
   "execution_count": 1,
   "id": "3bd02de8-3b8f-4f94-b269-1064528a77b5",
   "metadata": {},
   "outputs": [],
   "source": [
    "# generate random data"
   ]
  },
  {
   "cell_type": "code",
   "execution_count": 5,
   "id": "09c55460-9feb-4874-82c9-88fc659b3dd5",
   "metadata": {
    "tags": []
   },
   "outputs": [
    {
     "data": {
      "text/plain": [
       "array([[0.25550002, 0.51284555, 0.89624892],\n",
       "       [0.96461669, 0.53222247, 0.48738027]])"
      ]
     },
     "execution_count": 5,
     "metadata": {},
     "output_type": "execute_result"
    }
   ],
   "source": [
    "np.random.rand(2,3)  # generates 2X3 data set"
   ]
  },
  {
   "cell_type": "code",
   "execution_count": 6,
   "id": "20f1f397-d646-4825-8147-fb38f9829dee",
   "metadata": {
    "tags": []
   },
   "outputs": [
    {
     "data": {
      "text/plain": [
       "array([[ 0.24375884,  0.42260264, -0.64954972],\n",
       "       [ 0.54478919,  1.10747246,  2.61318963]])"
      ]
     },
     "execution_count": 6,
     "metadata": {},
     "output_type": "execute_result"
    }
   ],
   "source": [
    "np.random.randn(2,3)  # generates standard normal distribution data  means  whose mean is 0 and standard deviation is 1"
   ]
  },
  {
   "cell_type": "code",
   "execution_count": 8,
   "id": "afd0c41b-6ef0-4228-ab41-8332b9cdec8e",
   "metadata": {
    "tags": []
   },
   "outputs": [],
   "source": [
    "arr3=np.random.randint(1,5,(3,4)) #generates integer between 1 to 5  in a 3X4 matrix"
   ]
  },
  {
   "cell_type": "code",
   "execution_count": 10,
   "id": "f1b70e9e-ef1a-4d18-a0c9-fec8ac5f1cfb",
   "metadata": {
    "tags": []
   },
   "outputs": [
    {
     "data": {
      "text/plain": [
       "(3, 4)"
      ]
     },
     "execution_count": 10,
     "metadata": {},
     "output_type": "execute_result"
    }
   ],
   "source": [
    "arr3.shape"
   ]
  },
  {
   "cell_type": "code",
   "execution_count": 11,
   "id": "73ff23b3-eb41-4453-b860-131060a62c26",
   "metadata": {
    "tags": []
   },
   "outputs": [
    {
     "data": {
      "text/plain": [
       "array([[3, 2],\n",
       "       [2, 2],\n",
       "       [3, 1],\n",
       "       [1, 1],\n",
       "       [3, 1],\n",
       "       [1, 2]])"
      ]
     },
     "execution_count": 11,
     "metadata": {},
     "output_type": "execute_result"
    }
   ],
   "source": [
    "# change the shape\n",
    "arr3.reshape(6,2)"
   ]
  },
  {
   "cell_type": "code",
   "execution_count": 12,
   "id": "661eb221-ae97-4278-9204-d587d715ee20",
   "metadata": {
    "tags": []
   },
   "outputs": [],
   "source": [
    "arr4=np.random.randint(1,10,(5,6))"
   ]
  },
  {
   "cell_type": "code",
   "execution_count": 13,
   "id": "3ff56b91-d967-43fa-8f31-db21b44faa1d",
   "metadata": {
    "tags": []
   },
   "outputs": [
    {
     "data": {
      "text/plain": [
       "array([[9, 2, 7, 9, 1, 8],\n",
       "       [4, 1, 5, 7, 9, 4],\n",
       "       [6, 9, 9, 7, 1, 7],\n",
       "       [5, 9, 1, 7, 1, 2],\n",
       "       [2, 9, 2, 8, 7, 9]])"
      ]
     },
     "execution_count": 13,
     "metadata": {},
     "output_type": "execute_result"
    }
   ],
   "source": [
    "arr4"
   ]
  },
  {
   "cell_type": "code",
   "execution_count": 14,
   "id": "a5312129-da38-4e1c-9690-d4863cc82521",
   "metadata": {
    "tags": []
   },
   "outputs": [
    {
     "data": {
      "text/plain": [
       "array([[ True, False, False,  True, False, False],\n",
       "       [False, False, False, False,  True, False],\n",
       "       [False,  True,  True, False, False, False],\n",
       "       [False,  True, False, False, False, False],\n",
       "       [False,  True, False, False, False,  True]])"
      ]
     },
     "execution_count": 14,
     "metadata": {},
     "output_type": "execute_result"
    }
   ],
   "source": [
    "arr4>8\n"
   ]
  },
  {
   "cell_type": "code",
   "execution_count": 15,
   "id": "58e37371-e87b-4012-8923-434ac5cb8e45",
   "metadata": {
    "tags": []
   },
   "outputs": [
    {
     "data": {
      "text/plain": [
       "array([9, 9, 9, 9, 9, 9, 9, 9])"
      ]
     },
     "execution_count": 15,
     "metadata": {},
     "output_type": "execute_result"
    }
   ],
   "source": [
    "# to get all values greater than 8\n",
    "\n",
    "arr4[arr4>8]"
   ]
  },
  {
   "cell_type": "code",
   "execution_count": 16,
   "id": "84204e94-335e-45c3-8f06-7237bb7a626a",
   "metadata": {
    "tags": []
   },
   "outputs": [
    {
     "data": {
      "text/plain": [
       "array([[9, 2, 7, 9, 1, 8],\n",
       "       [4, 1, 5, 7, 9, 4],\n",
       "       [6, 9, 9, 7, 1, 7],\n",
       "       [5, 9, 1, 7, 1, 2],\n",
       "       [2, 9, 2, 8, 7, 9]])"
      ]
     },
     "execution_count": 16,
     "metadata": {},
     "output_type": "execute_result"
    }
   ],
   "source": [
    "arr4"
   ]
  },
  {
   "cell_type": "code",
   "execution_count": 17,
   "id": "eb649d94-b8fe-4329-8ed3-4f172f403d94",
   "metadata": {
    "tags": []
   },
   "outputs": [],
   "source": [
    "# acces elements"
   ]
  },
  {
   "cell_type": "code",
   "execution_count": 18,
   "id": "9a716973-0a56-4c12-bac7-daa89dbf70bf",
   "metadata": {
    "tags": []
   },
   "outputs": [
    {
     "data": {
      "text/plain": [
       "array([9, 2, 7, 9, 1, 8])"
      ]
     },
     "execution_count": 18,
     "metadata": {},
     "output_type": "execute_result"
    }
   ],
   "source": [
    "arr4[0]"
   ]
  },
  {
   "cell_type": "code",
   "execution_count": 19,
   "id": "af2f59c4-dad8-45e1-87c2-3c0894432662",
   "metadata": {
    "tags": []
   },
   "outputs": [
    {
     "data": {
      "text/plain": [
       "9"
      ]
     },
     "execution_count": 19,
     "metadata": {},
     "output_type": "execute_result"
    }
   ],
   "source": [
    "arr4[0][0]"
   ]
  },
  {
   "cell_type": "code",
   "execution_count": 21,
   "id": "ddc62b20-d080-45f2-8cd9-494e94ddc764",
   "metadata": {
    "tags": []
   },
   "outputs": [
    {
     "data": {
      "text/plain": [
       "array([9, 2])"
      ]
     },
     "execution_count": 21,
     "metadata": {},
     "output_type": "execute_result"
    }
   ],
   "source": [
    "arr4[[0],[0,1]]"
   ]
  },
  {
   "cell_type": "code",
   "execution_count": 29,
   "id": "45331418-a0c5-4ca9-94da-6c7e38aa3aa0",
   "metadata": {
    "tags": []
   },
   "outputs": [
    {
     "data": {
      "text/plain": [
       "array([[9, 7],\n",
       "       [1, 7]])"
      ]
     },
     "execution_count": 29,
     "metadata": {},
     "output_type": "execute_result"
    }
   ],
   "source": [
    "arr4[2:4,[2,3]]"
   ]
  },
  {
   "cell_type": "code",
   "execution_count": 34,
   "id": "9411007f-098e-477d-a725-706e926919dc",
   "metadata": {
    "tags": []
   },
   "outputs": [],
   "source": [
    "arr5=np.random.randint(1,5,(3,3))\n",
    "arr6=np.random.randint(2,6,(3,3))"
   ]
  },
  {
   "cell_type": "code",
   "execution_count": 35,
   "id": "8812f45d-37c6-43aa-9241-40b3200c48e9",
   "metadata": {
    "tags": []
   },
   "outputs": [
    {
     "data": {
      "text/plain": [
       "array([[4, 4, 1],\n",
       "       [1, 3, 1],\n",
       "       [3, 1, 4]])"
      ]
     },
     "execution_count": 35,
     "metadata": {},
     "output_type": "execute_result"
    }
   ],
   "source": [
    "arr5"
   ]
  },
  {
   "cell_type": "code",
   "execution_count": 36,
   "id": "9e57f6e8-87ab-4c27-bf2e-f7cdf0561e7f",
   "metadata": {
    "tags": []
   },
   "outputs": [
    {
     "data": {
      "text/plain": [
       "array([[5, 4, 3],\n",
       "       [2, 5, 5],\n",
       "       [2, 3, 2]])"
      ]
     },
     "execution_count": 36,
     "metadata": {},
     "output_type": "execute_result"
    }
   ],
   "source": [
    "arr6"
   ]
  },
  {
   "cell_type": "code",
   "execution_count": 38,
   "id": "19d27043-39cb-48f3-a7ec-86bd6a3f7359",
   "metadata": {
    "tags": []
   },
   "outputs": [
    {
     "data": {
      "text/plain": [
       "array([[9, 8, 4],\n",
       "       [3, 8, 6],\n",
       "       [5, 4, 6]])"
      ]
     },
     "execution_count": 38,
     "metadata": {},
     "output_type": "execute_result"
    }
   ],
   "source": [
    "arr5+arr6  # adds array1 and array2"
   ]
  },
  {
   "cell_type": "code",
   "execution_count": 39,
   "id": "1129f85c-166f-4fd6-9866-ba08c0ec94ad",
   "metadata": {
    "tags": []
   },
   "outputs": [
    {
     "data": {
      "text/plain": [
       "array([[20, 16,  3],\n",
       "       [ 2, 15,  5],\n",
       "       [ 6,  3,  8]])"
      ]
     },
     "execution_count": 39,
     "metadata": {},
     "output_type": "execute_result"
    }
   ],
   "source": [
    "arr5* arr6  #performs index wise multiplication not a matrix multiplication"
   ]
  },
  {
   "cell_type": "code",
   "execution_count": 40,
   "id": "fb69e2fe-3964-4434-a67f-4b32e2642a16",
   "metadata": {
    "tags": []
   },
   "outputs": [
    {
     "data": {
      "text/plain": [
       "array([[30, 39, 34],\n",
       "       [13, 22, 20],\n",
       "       [25, 29, 22]])"
      ]
     },
     "execution_count": 40,
     "metadata": {},
     "output_type": "execute_result"
    }
   ],
   "source": [
    "# to do matrix multiplication we have to use @\n",
    "arr5@arr6"
   ]
  },
  {
   "cell_type": "code",
   "execution_count": 41,
   "id": "b8689843-3f3b-4d55-b4f9-1e47c642858e",
   "metadata": {
    "tags": []
   },
   "outputs": [
    {
     "data": {
      "text/plain": [
       "array([[-1,  0, -2],\n",
       "       [-1, -2, -4],\n",
       "       [ 1, -2,  2]])"
      ]
     },
     "execution_count": 41,
     "metadata": {},
     "output_type": "execute_result"
    }
   ],
   "source": [
    "arr5-arr6"
   ]
  },
  {
   "cell_type": "code",
   "execution_count": 42,
   "id": "5f259469-97fe-4bb3-8ba7-7641776e1ced",
   "metadata": {
    "tags": []
   },
   "outputs": [
    {
     "data": {
      "text/plain": [
       "array([[0.8       , 1.        , 0.33333333],\n",
       "       [0.5       , 0.6       , 0.2       ],\n",
       "       [1.5       , 0.33333333, 2.        ]])"
      ]
     },
     "execution_count": 42,
     "metadata": {},
     "output_type": "execute_result"
    }
   ],
   "source": [
    "arr5/arr6"
   ]
  },
  {
   "cell_type": "markdown",
   "id": "d4d02f3e-45ac-4672-8dcd-a66604555640",
   "metadata": {},
   "source": [
    "## NUMPY BROADCASTING"
   ]
  },
  {
   "cell_type": "code",
   "execution_count": 44,
   "id": "039b967e-58de-4f1f-ab00-ced8c8d59604",
   "metadata": {
    "tags": []
   },
   "outputs": [],
   "source": [
    "arr=np.zeros((3,4))"
   ]
  },
  {
   "cell_type": "code",
   "execution_count": 45,
   "id": "2b0af6ed-9126-49f6-9033-4a0e41ab1815",
   "metadata": {
    "tags": []
   },
   "outputs": [
    {
     "data": {
      "text/plain": [
       "array([[0., 0., 0., 0.],\n",
       "       [0., 0., 0., 0.],\n",
       "       [0., 0., 0., 0.]])"
      ]
     },
     "execution_count": 45,
     "metadata": {},
     "output_type": "execute_result"
    }
   ],
   "source": [
    "arr"
   ]
  },
  {
   "cell_type": "code",
   "execution_count": 46,
   "id": "f8695505-bcd7-47c7-8434-c1072825eae6",
   "metadata": {
    "tags": []
   },
   "outputs": [
    {
     "data": {
      "text/plain": [
       "array([[5., 5., 5., 5.],\n",
       "       [5., 5., 5., 5.],\n",
       "       [5., 5., 5., 5.]])"
      ]
     },
     "execution_count": 46,
     "metadata": {},
     "output_type": "execute_result"
    }
   ],
   "source": [
    "arr+5"
   ]
  },
  {
   "cell_type": "code",
   "execution_count": 47,
   "id": "74f20f8d-4c1f-422f-bf79-1d8e14e52641",
   "metadata": {
    "tags": []
   },
   "outputs": [],
   "source": [
    "a=np.array([1,2,3,4])"
   ]
  },
  {
   "cell_type": "code",
   "execution_count": 49,
   "id": "e8ffc635-ecad-4d24-ba35-5464d283ba70",
   "metadata": {
    "tags": []
   },
   "outputs": [
    {
     "data": {
      "text/plain": [
       "array([[1., 2., 3., 4.],\n",
       "       [1., 2., 3., 4.],\n",
       "       [1., 2., 3., 4.]])"
      ]
     },
     "execution_count": 49,
     "metadata": {},
     "output_type": "execute_result"
    }
   ],
   "source": [
    "arr+a  # adds a to arr row wise"
   ]
  },
  {
   "cell_type": "code",
   "execution_count": 56,
   "id": "fb60432c-5ddf-4b59-8421-2e5b6a7bbe31",
   "metadata": {
    "tags": []
   },
   "outputs": [],
   "source": [
    "b=np.array([[1,2,3]])"
   ]
  },
  {
   "cell_type": "code",
   "execution_count": 52,
   "id": "34853da2-33ab-49b4-84e8-dd0d6cb1bda2",
   "metadata": {
    "tags": []
   },
   "outputs": [],
   "source": [
    "# cant add b to directly to arr as , number of rows didnt match"
   ]
  },
  {
   "cell_type": "code",
   "execution_count": 58,
   "id": "f5b1c7b7-3af4-4437-8459-f89188e207fa",
   "metadata": {
    "tags": []
   },
   "outputs": [],
   "source": [
    "#to add b to arr we have to add column wise so fisgt we have to take b transpose and add|"
   ]
  },
  {
   "cell_type": "code",
   "execution_count": 59,
   "id": "16bce2f8-b035-43c7-92b0-b93c1acee39f",
   "metadata": {
    "tags": []
   },
   "outputs": [
    {
     "data": {
      "text/plain": [
       "array([[1],\n",
       "       [2],\n",
       "       [3]])"
      ]
     },
     "execution_count": 59,
     "metadata": {},
     "output_type": "execute_result"
    }
   ],
   "source": [
    "b.T"
   ]
  },
  {
   "cell_type": "code",
   "execution_count": 63,
   "id": "45e75f70-185c-4e94-8e13-54feabc5d046",
   "metadata": {
    "tags": []
   },
   "outputs": [
    {
     "data": {
      "text/plain": [
       "array([[1., 1., 1., 1.],\n",
       "       [2., 2., 2., 2.],\n",
       "       [3., 3., 3., 3.]])"
      ]
     },
     "execution_count": 63,
     "metadata": {},
     "output_type": "execute_result"
    }
   ],
   "source": [
    "a1=arr+b.T\n",
    "a1"
   ]
  },
  {
   "cell_type": "code",
   "execution_count": 60,
   "id": "a4762cbf-7bab-4331-b94f-bc1509675bfa",
   "metadata": {
    "tags": []
   },
   "outputs": [],
   "source": [
    "# perform squrt"
   ]
  },
  {
   "cell_type": "code",
   "execution_count": 64,
   "id": "d16099b2-7ce3-4d88-89c7-03eab771bcad",
   "metadata": {
    "tags": []
   },
   "outputs": [
    {
     "data": {
      "text/plain": [
       "array([[1.        , 1.        , 1.        , 1.        ],\n",
       "       [1.41421356, 1.41421356, 1.41421356, 1.41421356],\n",
       "       [1.73205081, 1.73205081, 1.73205081, 1.73205081]])"
      ]
     },
     "execution_count": 64,
     "metadata": {},
     "output_type": "execute_result"
    }
   ],
   "source": [
    "np.sqrt(a1)"
   ]
  },
  {
   "cell_type": "code",
   "execution_count": 65,
   "id": "112dc1dc-0048-4ac2-bec5-e97167910516",
   "metadata": {
    "tags": []
   },
   "outputs": [
    {
     "data": {
      "text/plain": [
       "array([[0.        , 0.        , 0.        , 0.        ],\n",
       "       [0.30103   , 0.30103   , 0.30103   , 0.30103   ],\n",
       "       [0.47712125, 0.47712125, 0.47712125, 0.47712125]])"
      ]
     },
     "execution_count": 65,
     "metadata": {},
     "output_type": "execute_result"
    }
   ],
   "source": [
    "np.log10(a1)"
   ]
  },
  {
   "cell_type": "code",
   "execution_count": 66,
   "id": "758f2e60-26de-46d7-8602-9ec0f5cf04cf",
   "metadata": {
    "tags": []
   },
   "outputs": [
    {
     "data": {
      "text/plain": [
       "array([[ 2.71828183,  2.71828183,  2.71828183,  2.71828183],\n",
       "       [ 7.3890561 ,  7.3890561 ,  7.3890561 ,  7.3890561 ],\n",
       "       [20.08553692, 20.08553692, 20.08553692, 20.08553692]])"
      ]
     },
     "execution_count": 66,
     "metadata": {},
     "output_type": "execute_result"
    }
   ],
   "source": [
    "np.exp(a1)"
   ]
  },
  {
   "cell_type": "code",
   "execution_count": 67,
   "id": "2b8399a4-4919-4f3d-873e-def2029036c1",
   "metadata": {
    "tags": []
   },
   "outputs": [
    {
     "data": {
      "text/plain": [
       "1.0"
      ]
     },
     "execution_count": 67,
     "metadata": {},
     "output_type": "execute_result"
    }
   ],
   "source": [
    "np.min(a1)"
   ]
  },
  {
   "cell_type": "code",
   "execution_count": 68,
   "id": "dc4f3a88-f3c1-43c4-89be-9dc2acccd45c",
   "metadata": {
    "tags": []
   },
   "outputs": [
    {
     "data": {
      "text/plain": [
       "3.0"
      ]
     },
     "execution_count": 68,
     "metadata": {},
     "output_type": "execute_result"
    }
   ],
   "source": [
    "np.max(a1)"
   ]
  },
  {
   "cell_type": "code",
   "execution_count": null,
   "id": "aaa95dfd-42d5-4cdf-a85d-5f5c03d55ef2",
   "metadata": {},
   "outputs": [],
   "source": []
  }
 ],
 "metadata": {
  "kernelspec": {
   "display_name": "Python 3 (ipykernel)",
   "language": "python",
   "name": "python3"
  },
  "language_info": {
   "codemirror_mode": {
    "name": "ipython",
    "version": 3
   },
   "file_extension": ".py",
   "mimetype": "text/x-python",
   "name": "python",
   "nbconvert_exporter": "python",
   "pygments_lexer": "ipython3",
   "version": "3.11.3"
  }
 },
 "nbformat": 4,
 "nbformat_minor": 5
}
