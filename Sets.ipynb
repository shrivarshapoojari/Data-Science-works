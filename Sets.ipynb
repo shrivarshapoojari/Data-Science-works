{
 "cells": [
  {
   "cell_type": "markdown",
   "id": "e848a8df-f3b8-4c2b-9492-e082128a0421",
   "metadata": {},
   "source": [
    "# Sets"
   ]
  },
  {
   "cell_type": "code",
   "execution_count": 1,
   "id": "aabbc9a6-aa70-4907-b7ac-d0e8be04bb92",
   "metadata": {
    "tags": []
   },
   "outputs": [
    {
     "data": {
      "text/plain": [
       "set"
      ]
     },
     "execution_count": 1,
     "metadata": {},
     "output_type": "execute_result"
    }
   ],
   "source": [
    "s1={1}\n",
    "type(s1)"
   ]
  },
  {
   "cell_type": "code",
   "execution_count": 2,
   "id": "b0e7692f-6483-4fe1-8676-067a851f093f",
   "metadata": {
    "tags": []
   },
   "outputs": [],
   "source": [
    "s2={1,1,1,1,1,1,2,2,2,3,3,3,44,}"
   ]
  },
  {
   "cell_type": "code",
   "execution_count": 3,
   "id": "929cff10-dbe0-4b09-9fb2-d8fb1927116b",
   "metadata": {
    "tags": []
   },
   "outputs": [
    {
     "data": {
      "text/plain": [
       "{1, 2, 3, 44}"
      ]
     },
     "execution_count": 3,
     "metadata": {},
     "output_type": "execute_result"
    }
   ],
   "source": [
    "s2"
   ]
  },
  {
   "cell_type": "markdown",
   "id": "872ee4f0-4697-497a-8b7b-73cba8712ece",
   "metadata": {},
   "source": [
    "# Sets store Unique elements"
   ]
  },
  {
   "cell_type": "code",
   "execution_count": 4,
   "id": "fc5d3add-8452-4774-b20b-25add3014e44",
   "metadata": {
    "tags": []
   },
   "outputs": [
    {
     "data": {
      "text/plain": [
       "[1, 2, 3, 44]"
      ]
     },
     "execution_count": 4,
     "metadata": {},
     "output_type": "execute_result"
    }
   ],
   "source": [
    "list(s2)"
   ]
  },
  {
   "cell_type": "code",
   "execution_count": 5,
   "id": "72ccafe9-af7a-4778-8b2d-985b8df9a21a",
   "metadata": {
    "tags": []
   },
   "outputs": [
    {
     "data": {
      "text/plain": [
       "(1, 2, 3, 44)"
      ]
     },
     "execution_count": 5,
     "metadata": {},
     "output_type": "execute_result"
    }
   ],
   "source": [
    "tuple(s2)"
   ]
  },
  {
   "cell_type": "code",
   "execution_count": 7,
   "id": "86cfe1a6-d8a4-42a7-95e8-4fa55fb36340",
   "metadata": {
    "tags": []
   },
   "outputs": [],
   "source": [
    "# cant store list inside set can store tuple in set"
   ]
  },
  {
   "cell_type": "code",
   "execution_count": 8,
   "id": "64619b69-89e6-4597-a883-802ae5d0a364",
   "metadata": {
    "tags": []
   },
   "outputs": [],
   "source": [
    "#indexing not allowed"
   ]
  },
  {
   "cell_type": "code",
   "execution_count": 9,
   "id": "82a1088f-3f52-427e-932b-72e7b322a936",
   "metadata": {
    "tags": []
   },
   "outputs": [
    {
     "ename": "TypeError",
     "evalue": "'set' object is not subscriptable",
     "output_type": "error",
     "traceback": [
      "\u001b[1;31m---------------------------------------------------------------------------\u001b[0m",
      "\u001b[1;31mTypeError\u001b[0m                                 Traceback (most recent call last)",
      "Cell \u001b[1;32mIn[9], line 1\u001b[0m\n\u001b[1;32m----> 1\u001b[0m s2[\u001b[38;5;241m0\u001b[39m]\n",
      "\u001b[1;31mTypeError\u001b[0m: 'set' object is not subscriptable"
     ]
    }
   ],
   "source": [
    "s2[0]"
   ]
  },
  {
   "cell_type": "code",
   "execution_count": 10,
   "id": "8201fb33-02ee-48e9-a7b2-2ba9c809a129",
   "metadata": {
    "tags": []
   },
   "outputs": [],
   "source": [
    "# can accesed using foe loop"
   ]
  },
  {
   "cell_type": "code",
   "execution_count": 11,
   "id": "45ca7841-8ea1-494b-9f6d-0bb0e577a5ea",
   "metadata": {
    "tags": []
   },
   "outputs": [
    {
     "name": "stdout",
     "output_type": "stream",
     "text": [
      "1\n",
      "2\n",
      "3\n",
      "44\n"
     ]
    }
   ],
   "source": [
    "for i in s2:\n",
    "    print(i)"
   ]
  },
  {
   "cell_type": "code",
   "execution_count": 12,
   "id": "b6d745ad-5cb9-48ef-a6e9-e7b3fe00371d",
   "metadata": {
    "tags": []
   },
   "outputs": [],
   "source": [
    "s2.add(4)"
   ]
  },
  {
   "cell_type": "code",
   "execution_count": 13,
   "id": "492fc562-dd12-4496-a21a-167265b109e1",
   "metadata": {
    "tags": []
   },
   "outputs": [
    {
     "data": {
      "text/plain": [
       "{1, 2, 3, 4, 44}"
      ]
     },
     "execution_count": 13,
     "metadata": {},
     "output_type": "execute_result"
    }
   ],
   "source": [
    "s2"
   ]
  },
  {
   "cell_type": "code",
   "execution_count": 14,
   "id": "3a5599d9-126a-477e-ba1e-0b3ca95cdbb2",
   "metadata": {
    "tags": []
   },
   "outputs": [
    {
     "data": {
      "text/plain": [
       "5"
      ]
     },
     "execution_count": 14,
     "metadata": {},
     "output_type": "execute_result"
    }
   ],
   "source": [
    "len(s2)"
   ]
  },
  {
   "cell_type": "markdown",
   "id": "7d769d05-4b60-478c-a947-33345bb3d001",
   "metadata": {},
   "source": [
    "s2.pop()"
   ]
  },
  {
   "cell_type": "code",
   "execution_count": 15,
   "id": "d7e3e142-86c9-419e-97d0-5185e4fa0ec3",
   "metadata": {
    "tags": []
   },
   "outputs": [
    {
     "data": {
      "text/plain": [
       "1"
      ]
     },
     "execution_count": 15,
     "metadata": {},
     "output_type": "execute_result"
    }
   ],
   "source": [
    "s2.pop()"
   ]
  },
  {
   "cell_type": "code",
   "execution_count": 16,
   "id": "e9baa167-6eec-4907-8602-5e2962598f61",
   "metadata": {
    "tags": []
   },
   "outputs": [],
   "source": [
    "# pops up on basis of hashing\n"
   ]
  },
  {
   "cell_type": "code",
   "execution_count": 17,
   "id": "83a15bf0-1daf-426e-af3d-33dc3af9c614",
   "metadata": {
    "tags": []
   },
   "outputs": [],
   "source": [
    "s2.clear()  # removes all elements"
   ]
  },
  {
   "cell_type": "code",
   "execution_count": 22,
   "id": "1f2658f6-9ef6-4ae3-917f-ef1739ec5cc6",
   "metadata": {
    "tags": []
   },
   "outputs": [],
   "source": [
    "set4={1,2,3,4}\n",
    "set5={1,2,3,8}"
   ]
  },
  {
   "cell_type": "code",
   "execution_count": 23,
   "id": "d98af5e7-dc5d-4650-af7d-3519e8dc03ce",
   "metadata": {
    "tags": []
   },
   "outputs": [
    {
     "data": {
      "text/plain": [
       "{4}"
      ]
     },
     "execution_count": 23,
     "metadata": {},
     "output_type": "execute_result"
    }
   ],
   "source": [
    "set4.difference(set5)"
   ]
  },
  {
   "cell_type": "code",
   "execution_count": 24,
   "id": "99a011d7-c9a8-47ac-b690-785939da8e29",
   "metadata": {
    "tags": []
   },
   "outputs": [
    {
     "data": {
      "text/plain": [
       "{8}"
      ]
     },
     "execution_count": 24,
     "metadata": {},
     "output_type": "execute_result"
    }
   ],
   "source": [
    "set5.difference(set4)"
   ]
  },
  {
   "cell_type": "code",
   "execution_count": null,
   "id": "cb277587-7572-45ae-b8ed-1abd3621b45d",
   "metadata": {},
   "outputs": [],
   "source": []
  }
 ],
 "metadata": {
  "kernelspec": {
   "display_name": "Python 3 (ipykernel)",
   "language": "python",
   "name": "python3"
  },
  "language_info": {
   "codemirror_mode": {
    "name": "ipython",
    "version": 3
   },
   "file_extension": ".py",
   "mimetype": "text/x-python",
   "name": "python",
   "nbconvert_exporter": "python",
   "pygments_lexer": "ipython3",
   "version": "3.11.3"
  }
 },
 "nbformat": 4,
 "nbformat_minor": 5
}
