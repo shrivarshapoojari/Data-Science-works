{
 "cells": [
  {
   "cell_type": "markdown",
   "id": "a27ab9ff-c3fe-4052-a519-4c20b622e6e7",
   "metadata": {},
   "source": [
    " # DICTONARY"
   ]
  },
  {
   "cell_type": "code",
   "execution_count": 3,
   "id": "684ee0dd-afaf-4401-8735-f8590bce639b",
   "metadata": {
    "tags": []
   },
   "outputs": [],
   "source": [
    "d1={\"name\":\"Shri\",\"email\":\"Shri@gmail.com\", \"num\":8095343487}"
   ]
  },
  {
   "cell_type": "code",
   "execution_count": 4,
   "id": "f93a74e8-5065-43d7-80f2-15029553f932",
   "metadata": {
    "tags": []
   },
   "outputs": [
    {
     "data": {
      "text/plain": [
       "{'name': 'Shri', 'email': 'Shri@gmail.com', 'num': 8095343487}"
      ]
     },
     "execution_count": 4,
     "metadata": {},
     "output_type": "execute_result"
    }
   ],
   "source": [
    "d1"
   ]
  },
  {
   "cell_type": "code",
   "execution_count": 5,
   "id": "cc57799f-bc91-4549-b5df-063d04849771",
   "metadata": {
    "tags": []
   },
   "outputs": [],
   "source": [
    "# KEY SHOULD BE UNIQUE... "
   ]
  },
  {
   "cell_type": "code",
   "execution_count": 6,
   "id": "a1d6d98a-0529-488b-b9c9-4214013cc58f",
   "metadata": {
    "tags": []
   },
   "outputs": [],
   "source": [
    "d3={123:\"abc\"}"
   ]
  },
  {
   "cell_type": "code",
   "execution_count": 7,
   "id": "d59d1b65-c360-40f6-a6c9-822911ac6f3b",
   "metadata": {
    "tags": []
   },
   "outputs": [],
   "source": [
    "# KEY CAN BE NUMERIC FLOAT BOOLEAN Cant be special character"
   ]
  },
  {
   "cell_type": "code",
   "execution_count": 8,
   "id": "4cfbd138-2fce-4a14-9b84-b2e9f13d48f7",
   "metadata": {
    "tags": []
   },
   "outputs": [],
   "source": [
    "d5={True:\"ABC\"}"
   ]
  },
  {
   "cell_type": "code",
   "execution_count": 9,
   "id": "d3e1671f-4805-447a-b1ba-a58edb8eb931",
   "metadata": {
    "tags": []
   },
   "outputs": [],
   "source": [
    "# cant take list as key"
   ]
  },
  {
   "cell_type": "code",
   "execution_count": 10,
   "id": "c37a6fa4-5f93-406c-95d5-e8d07c0badad",
   "metadata": {
    "tags": []
   },
   "outputs": [],
   "source": [
    "#tuples can be taken as key"
   ]
  },
  {
   "cell_type": "code",
   "execution_count": 11,
   "id": "7bc18cd6-4eba-49b7-a4dd-6a124d7adab2",
   "metadata": {
    "tags": []
   },
   "outputs": [],
   "source": [
    "#Set cant be taken as key"
   ]
  },
  {
   "cell_type": "code",
   "execution_count": 12,
   "id": "5897f04c-89fb-4b7e-b69d-762f7229c3ab",
   "metadata": {
    "tags": []
   },
   "outputs": [],
   "source": [
    "# cant take dictionary as a key"
   ]
  },
  {
   "cell_type": "code",
   "execution_count": 13,
   "id": "d69a236c-a905-4c96-9939-ef6fe32922d6",
   "metadata": {
    "tags": []
   },
   "outputs": [],
   "source": [
    "d12={\"course\":[\"Day\",\"DEV\",\"DD\"]}"
   ]
  },
  {
   "cell_type": "code",
   "execution_count": 14,
   "id": "67d36519-9f6b-4551-a6fe-7e91d85d7380",
   "metadata": {
    "tags": []
   },
   "outputs": [],
   "source": [
    "# value can be LIST"
   ]
  },
  {
   "cell_type": "code",
   "execution_count": 15,
   "id": "bf6f2994-c875-4b53-b4ca-52ffe9097575",
   "metadata": {
    "tags": []
   },
   "outputs": [],
   "source": [
    "#value can be tuple"
   ]
  },
  {
   "cell_type": "code",
   "execution_count": 16,
   "id": "11a37fae-cb6c-40ad-9938-7e8402e11772",
   "metadata": {
    "tags": []
   },
   "outputs": [
    {
     "data": {
      "text/plain": [
       "{'KEY': {'name': 'SHRI', 'CLass': 14}}"
      ]
     },
     "execution_count": 16,
     "metadata": {},
     "output_type": "execute_result"
    }
   ],
   "source": [
    "# vale can be dictionary\n",
    "\n",
    "{\"KEY\":{\"name\":\"SHRI\",\"CLass\":14}}"
   ]
  },
  {
   "cell_type": "code",
   "execution_count": 17,
   "id": "46e8b322-2c1a-4d56-9ed9-99fefcec5efb",
   "metadata": {
    "tags": []
   },
   "outputs": [],
   "source": [
    "d16={\"Batch\":[\"DSA\",\"JDS\",\"DSM\"],\"Start\":(28,14,21),\"mentor\":{\"Krish\",\"SUDH\",\"HYDER\"}}"
   ]
  },
  {
   "cell_type": "code",
   "execution_count": 19,
   "id": "ee2fb8be-0ab2-47df-9098-2b52abd97a5a",
   "metadata": {
    "tags": []
   },
   "outputs": [
    {
     "data": {
      "text/plain": [
       "{'Batch': ['DSA', 'JDS', 'DSM'],\n",
       " 'Start': (28, 14, 21),\n",
       " 'mentor': {'HYDER', 'Krish', 'SUDH'}}"
      ]
     },
     "execution_count": 19,
     "metadata": {},
     "output_type": "execute_result"
    }
   ],
   "source": [
    "d16\n"
   ]
  },
  {
   "cell_type": "code",
   "execution_count": 20,
   "id": "b25273f6-390c-4f38-8ddc-ba0b2b9adf8d",
   "metadata": {
    "tags": []
   },
   "outputs": [],
   "source": [
    "d16[\"Timing\"]=(8,8,8)  # adding new item"
   ]
  },
  {
   "cell_type": "code",
   "execution_count": 21,
   "id": "ff9d55f0-adad-402b-a318-cc65a73965ff",
   "metadata": {
    "tags": []
   },
   "outputs": [
    {
     "data": {
      "text/plain": [
       "{'Batch': ['DSA', 'JDS', 'DSM'],\n",
       " 'Start': (28, 14, 21),\n",
       " 'mentor': {'HYDER', 'Krish', 'SUDH'},\n",
       " 'Timing': (8, 8, 8)}"
      ]
     },
     "execution_count": 21,
     "metadata": {},
     "output_type": "execute_result"
    }
   ],
   "source": [
    "d16"
   ]
  },
  {
   "cell_type": "code",
   "execution_count": 26,
   "id": "125ea387-f124-4d91-88ed-beb697ded52d",
   "metadata": {
    "tags": []
   },
   "outputs": [
    {
     "data": {
      "text/plain": [
       "{'HYDER', 'Krish', 'SUDH'}"
      ]
     },
     "execution_count": 26,
     "metadata": {},
     "output_type": "execute_result"
    }
   ],
   "source": [
    "# Accessing values\n",
    "d16['mentor']"
   ]
  },
  {
   "cell_type": "code",
   "execution_count": 27,
   "id": "868e3d48-87d7-4342-a99d-887ad79d67ec",
   "metadata": {
    "tags": []
   },
   "outputs": [],
   "source": [
    "d16[\"name\"]=\"Shrivarsha\""
   ]
  },
  {
   "cell_type": "code",
   "execution_count": 28,
   "id": "95af9fce-a044-4ea7-9614-290c9a7b1d85",
   "metadata": {
    "tags": []
   },
   "outputs": [
    {
     "data": {
      "text/plain": [
       "{'Batch': ['DSA', 'JDS', 'DSM'],\n",
       " 'Start': (28, 14, 21),\n",
       " 'mentor': {'HYDER', 'Krish', 'SUDH'},\n",
       " 'Timing': (8, 8, 8),\n",
       " 'name': 'Shrivarsha'}"
      ]
     },
     "execution_count": 28,
     "metadata": {},
     "output_type": "execute_result"
    }
   ],
   "source": [
    "d16"
   ]
  },
  {
   "cell_type": "code",
   "execution_count": 29,
   "id": "bca2c429-c61d-412d-ade1-f29c59e8fa0d",
   "metadata": {
    "tags": []
   },
   "outputs": [],
   "source": [
    "# Dictionary inside dictionary\n",
    "\n",
    "\n",
    "dn={\"key\":{\"name\":\"Shri\",\"ph\":878}}\n",
    "\n"
   ]
  },
  {
   "cell_type": "code",
   "execution_count": 30,
   "id": "bd13a90c-ebbc-4130-8dd8-35fcd3cf2ca3",
   "metadata": {
    "tags": []
   },
   "outputs": [
    {
     "data": {
      "text/plain": [
       "{'name': 'Shri', 'ph': 878}"
      ]
     },
     "execution_count": 30,
     "metadata": {},
     "output_type": "execute_result"
    }
   ],
   "source": [
    "dn[\"key\"]"
   ]
  },
  {
   "cell_type": "code",
   "execution_count": 32,
   "id": "11996a50-ab10-41eb-bb2f-ff0f8ddc0547",
   "metadata": {
    "tags": []
   },
   "outputs": [
    {
     "data": {
      "text/plain": [
       "'Shri'"
      ]
     },
     "execution_count": 32,
     "metadata": {},
     "output_type": "execute_result"
    }
   ],
   "source": [
    "dn[\"key\"][\"name\"]"
   ]
  },
  {
   "cell_type": "code",
   "execution_count": 40,
   "id": "906eb4ec-d48f-4b04-9228-c31bae565b07",
   "metadata": {
    "tags": []
   },
   "outputs": [],
   "source": [
    "dn[\"Keyy\"]=\"abc\""
   ]
  },
  {
   "cell_type": "code",
   "execution_count": 37,
   "id": "fe444a45-f287-4571-bfdc-09501d98c965",
   "metadata": {
    "tags": []
   },
   "outputs": [],
   "source": [
    " # DELETING\n"
   ]
  },
  {
   "cell_type": "code",
   "execution_count": 42,
   "id": "9290d1bc-74b4-4b46-9741-ed3fd77b0d39",
   "metadata": {
    "tags": []
   },
   "outputs": [],
   "source": [
    "del dn[\"Keyy\"]"
   ]
  },
  {
   "cell_type": "code",
   "execution_count": 43,
   "id": "907a6e14-d739-415c-8164-ce4ef75842f1",
   "metadata": {
    "tags": []
   },
   "outputs": [
    {
     "data": {
      "text/plain": [
       "{'key': {'name': 'Shri', 'ph': 878}, 'Key1': 'abc'}"
      ]
     },
     "execution_count": 43,
     "metadata": {},
     "output_type": "execute_result"
    }
   ],
   "source": [
    "dn"
   ]
  },
  {
   "cell_type": "code",
   "execution_count": 47,
   "id": "01fe2cd2-ee33-4a9d-9e5d-9b3917c00fb8",
   "metadata": {
    "tags": []
   },
   "outputs": [],
   "source": [
    " del dn[\"Key1\"]"
   ]
  },
  {
   "cell_type": "code",
   "execution_count": 49,
   "id": "8f4c047a-a439-470a-982a-57b8d223eaaf",
   "metadata": {
    "tags": []
   },
   "outputs": [
    {
     "data": {
      "text/plain": [
       "{'key': {'name': 'Shri', 'ph': 878}}"
      ]
     },
     "execution_count": 49,
     "metadata": {},
     "output_type": "execute_result"
    }
   ],
   "source": [
    "dn"
   ]
  },
  {
   "cell_type": "code",
   "execution_count": 51,
   "id": "ca70f322-eb10-42a1-9eb1-705740eff500",
   "metadata": {
    "tags": []
   },
   "outputs": [],
   "source": [
    "# Existing FUNCTION\n",
    "dn.clear()"
   ]
  },
  {
   "cell_type": "code",
   "execution_count": 52,
   "id": "ca7b74c2-68b5-499a-b49f-58640c41b4f6",
   "metadata": {
    "tags": []
   },
   "outputs": [
    {
     "data": {
      "text/plain": [
       "5"
      ]
     },
     "execution_count": 52,
     "metadata": {},
     "output_type": "execute_result"
    }
   ],
   "source": [
    "len(d16)"
   ]
  },
  {
   "cell_type": "code",
   "execution_count": 53,
   "id": "584fc252-19e1-4e29-b96c-23177fe6e2b7",
   "metadata": {
    "tags": []
   },
   "outputs": [
    {
     "data": {
      "text/plain": [
       "dict_keys(['Batch', 'Start', 'mentor', 'Timing', 'name'])"
      ]
     },
     "execution_count": 53,
     "metadata": {},
     "output_type": "execute_result"
    }
   ],
   "source": [
    "d16.keys()  # gives all keys"
   ]
  },
  {
   "cell_type": "code",
   "execution_count": 54,
   "id": "52474fbe-2f28-459a-a960-86ed393f2e5a",
   "metadata": {
    "tags": []
   },
   "outputs": [
    {
     "data": {
      "text/plain": [
       "dict_values([['DSA', 'JDS', 'DSM'], (28, 14, 21), {'HYDER', 'Krish', 'SUDH'}, (8, 8, 8), 'Shrivarsha'])"
      ]
     },
     "execution_count": 54,
     "metadata": {},
     "output_type": "execute_result"
    }
   ],
   "source": [
    "d16.values() # gives all values"
   ]
  },
  {
   "cell_type": "code",
   "execution_count": 55,
   "id": "504d9c0c-873f-4573-abd0-a0208665cad6",
   "metadata": {
    "tags": []
   },
   "outputs": [
    {
     "data": {
      "text/plain": [
       "[['DSA', 'JDS', 'DSM'],\n",
       " (28, 14, 21),\n",
       " {'HYDER', 'Krish', 'SUDH'},\n",
       " (8, 8, 8),\n",
       " 'Shrivarsha']"
      ]
     },
     "execution_count": 55,
     "metadata": {},
     "output_type": "execute_result"
    }
   ],
   "source": [
    "list(d16.values())"
   ]
  },
  {
   "cell_type": "code",
   "execution_count": 56,
   "id": "2c901c77-16fb-4985-9b2d-6a13bcf2878d",
   "metadata": {
    "tags": []
   },
   "outputs": [
    {
     "data": {
      "text/plain": [
       "dict_items([('Batch', ['DSA', 'JDS', 'DSM']), ('Start', (28, 14, 21)), ('mentor', {'HYDER', 'Krish', 'SUDH'}), ('Timing', (8, 8, 8)), ('name', 'Shrivarsha')])"
      ]
     },
     "execution_count": 56,
     "metadata": {},
     "output_type": "execute_result"
    }
   ],
   "source": [
    "d16.items() # conerts dictionary to list"
   ]
  },
  {
   "cell_type": "code",
   "execution_count": 64,
   "id": "5342000c-4720-427f-b0ef-5906542e06ad",
   "metadata": {
    "tags": []
   },
   "outputs": [],
   "source": [
    "d17 = d16.copy()   # copies d16 to d17\n",
    "# reserves new space for d17 .. afetr if we make change to d17 or d16 it wont effect each other.\n"
   ]
  },
  {
   "cell_type": "code",
   "execution_count": 65,
   "id": "255505a7-1f9f-421b-a3c0-92ab49390771",
   "metadata": {
    "tags": []
   },
   "outputs": [
    {
     "data": {
      "text/plain": [
       "{'Batch': ['DSA', 'JDS', 'DSM'],\n",
       " 'Start': (28, 14, 21),\n",
       " 'mentor': {'HYDER', 'Krish', 'SUDH'},\n",
       " 'Timing': (8, 8, 8),\n",
       " 'name': 'Shrivarsha'}"
      ]
     },
     "execution_count": 65,
     "metadata": {},
     "output_type": "execute_result"
    }
   ],
   "source": [
    " d17"
   ]
  },
  {
   "cell_type": "code",
   "execution_count": 66,
   "id": "bf31b771-9382-4f8a-9228-8ca1531b4b2f",
   "metadata": {
    "tags": []
   },
   "outputs": [],
   "source": [
    "d18=d16  #  after this if we change d16 d 18 also changes.. doesnt allocate new memory for d18"
   ]
  },
  {
   "cell_type": "code",
   "execution_count": 67,
   "id": "2e01bc86-a069-49da-a9d8-51a9fa38e48c",
   "metadata": {
    "tags": []
   },
   "outputs": [
    {
     "data": {
      "text/plain": [
       "{'Batch': ['DSA', 'JDS', 'DSM'],\n",
       " 'Start': (28, 14, 21),\n",
       " 'mentor': {'HYDER', 'Krish', 'SUDH'},\n",
       " 'Timing': (8, 8, 8),\n",
       " 'name': 'Shrivarsha'}"
      ]
     },
     "execution_count": 67,
     "metadata": {},
     "output_type": "execute_result"
    }
   ],
   "source": [
    "d18"
   ]
  },
  {
   "cell_type": "code",
   "execution_count": 68,
   "id": "08e14392-53f7-41e2-8dad-5ac95777caaf",
   "metadata": {
    "tags": []
   },
   "outputs": [
    {
     "ename": "TypeError",
     "evalue": "pop expected at least 1 argument, got 0",
     "output_type": "error",
     "traceback": [
      "\u001b[1;31m---------------------------------------------------------------------------\u001b[0m",
      "\u001b[1;31mTypeError\u001b[0m                                 Traceback (most recent call last)",
      "Cell \u001b[1;32mIn[68], line 1\u001b[0m\n\u001b[1;32m----> 1\u001b[0m d16\u001b[38;5;241m.\u001b[39mpop()\n",
      "\u001b[1;31mTypeError\u001b[0m: pop expected at least 1 argument, got 0"
     ]
    }
   ],
   "source": [
    " d16.pop()"
   ]
  },
  {
   "cell_type": "code",
   "execution_count": 80,
   "id": "5c0f29d8-cfca-469b-8a0f-1acb7e5e2928",
   "metadata": {
    "tags": []
   },
   "outputs": [
    {
     "data": {
      "text/plain": [
       "'Shrivarsha'"
      ]
     },
     "execution_count": 80,
     "metadata": {},
     "output_type": "execute_result"
    }
   ],
   "source": [
    "d16.pop(\"name\")"
   ]
  },
  {
   "cell_type": "code",
   "execution_count": 72,
   "id": "d0106479-a8a4-44f9-8ecd-691819a6e4d1",
   "metadata": {
    "tags": []
   },
   "outputs": [],
   "source": [
    "# Creating new dict\n",
    "d={}"
   ]
  },
  {
   "cell_type": "code",
   "execution_count": 73,
   "id": "be43c09a-ba79-4108-a8dc-ce7d068fbfff",
   "metadata": {
    "tags": []
   },
   "outputs": [
    {
     "data": {
      "text/plain": [
       "{1: {'a', 'b', 'c'}, 2: {'a', 'b', 'c'}, 3: {'a', 'b', 'c'}}"
      ]
     },
     "execution_count": 73,
     "metadata": {},
     "output_type": "execute_result"
    }
   ],
   "source": [
    "d.fromkeys((1,2,3),{'a','b','c'})"
   ]
  },
  {
   "cell_type": "code",
   "execution_count": 75,
   "id": "69eb1b75-f702-4891-8420-28a2b6a663d1",
   "metadata": {
    "tags": []
   },
   "outputs": [],
   "source": [
    "d19={\"key1\":\"val1\",\"key2\":\"val2\"}"
   ]
  },
  {
   "cell_type": "code",
   "execution_count": 76,
   "id": "7487c692-694c-4d24-91c2-dab087c53834",
   "metadata": {
    "tags": []
   },
   "outputs": [],
   "source": [
    "d20={\"key3\":\"val3\",\"key4\":\"val4\"}"
   ]
  },
  {
   "cell_type": "code",
   "execution_count": 77,
   "id": "e1c588b6-3cc1-44bd-ae61-211e0cf79bfa",
   "metadata": {
    "tags": []
   },
   "outputs": [
    {
     "data": {
      "text/plain": [
       "({'key1': 'val1', 'key2': 'val2'}, {'key3': 'val3', 'key4': 'val4'})"
      ]
     },
     "execution_count": 77,
     "metadata": {},
     "output_type": "execute_result"
    }
   ],
   "source": [
    "# convert into tuple\n",
    "(d19,d20)"
   ]
  },
  {
   "cell_type": "code",
   "execution_count": 78,
   "id": "31eba82c-06fd-4b73-875e-32fae592be5e",
   "metadata": {
    "tags": []
   },
   "outputs": [],
   "source": [
    "d19.update(d20)  # adds value to d19 from d20"
   ]
  },
  {
   "cell_type": "code",
   "execution_count": 79,
   "id": "c605e8bf-1fbb-4694-a56b-b98fc31bd7a8",
   "metadata": {
    "tags": []
   },
   "outputs": [
    {
     "data": {
      "text/plain": [
       "{'key1': 'val1', 'key2': 'val2', 'key3': 'val3', 'key4': 'val4'}"
      ]
     },
     "execution_count": 79,
     "metadata": {},
     "output_type": "execute_result"
    }
   ],
   "source": [
    "d19"
   ]
  },
  {
   "cell_type": "code",
   "execution_count": 81,
   "id": "08baf85f-407b-424c-870d-71eb02506a38",
   "metadata": {
    "tags": []
   },
   "outputs": [
    {
     "data": {
      "text/plain": [
       "{'key3': 'val3', 'key4': 'val4'}"
      ]
     },
     "execution_count": 81,
     "metadata": {},
     "output_type": "execute_result"
    }
   ],
   "source": [
    "d20"
   ]
  },
  {
   "cell_type": "code",
   "execution_count": 82,
   "id": "69500300-8688-408c-8c69-1c4ddc9d2992",
   "metadata": {
    "tags": []
   },
   "outputs": [
    {
     "data": {
      "text/plain": [
       "'val3'"
      ]
     },
     "execution_count": 82,
     "metadata": {},
     "output_type": "execute_result"
    }
   ],
   "source": [
    "d20.get(\"key3\")"
   ]
  },
  {
   "cell_type": "markdown",
   "id": "896ca549-ee34-4837-8ab3-73332f8f0bc5",
   "metadata": {},
   "source": [
    "# Dictionary Comprehension"
   ]
  },
  {
   "cell_type": "code",
   "execution_count": 6,
   "id": "4c0e17e6-a236-4e7b-a902-db79fade2bef",
   "metadata": {
    "tags": []
   },
   "outputs": [],
   "source": [
    " # create dictionary which has 1 to 10 as key and their sqyuares as a value"
   ]
  },
  {
   "cell_type": "code",
   "execution_count": 23,
   "id": "ac55bae6-c969-4384-a6c2-38f5addaf528",
   "metadata": {
    "tags": []
   },
   "outputs": [
    {
     "data": {
      "text/plain": [
       "{1: 1, 2: 4, 3: 9, 4: 16, 5: 25, 6: 36, 7: 49, 8: 64, 9: 81, 10: 100}"
      ]
     },
     "execution_count": 23,
     "metadata": {},
     "output_type": "execute_result"
    }
   ],
   "source": [
    "dx={i :i*i for i in range(1,11)} \n",
    "dx"
   ]
  },
  {
   "cell_type": "code",
   "execution_count": 9,
   "id": "83425e00-9d1f-42d4-bc14-83b7f32ae3ac",
   "metadata": {
    "tags": []
   },
   "outputs": [],
   "source": [
    "# chek key is there in dictionary\n"
   ]
  },
  {
   "cell_type": "code",
   "execution_count": 14,
   "id": "59562af8-4d09-42fa-8ac7-de610ccfc096",
   "metadata": {
    "tags": []
   },
   "outputs": [],
   "source": [
    "d20={\"name\":\"Shri\"}"
   ]
  },
  {
   "cell_type": "code",
   "execution_count": 16,
   "id": "04f0a6a0-75e6-4f52-87f4-ac271f3483de",
   "metadata": {
    "tags": []
   },
   "outputs": [
    {
     "data": {
      "text/plain": [
       "True"
      ]
     },
     "execution_count": 16,
     "metadata": {},
     "output_type": "execute_result"
    }
   ],
   "source": [
    "\"name\" in d20"
   ]
  },
  {
   "cell_type": "code",
   "execution_count": 24,
   "id": "2f5fd92b-795a-47e9-b7fd-569a9bf99f91",
   "metadata": {
    "tags": []
   },
   "outputs": [
    {
     "name": "stdout",
     "output_type": "stream",
     "text": [
      "4\n",
      "16\n",
      "36\n",
      "64\n",
      "100\n"
     ]
    }
   ],
   "source": [
    " for i in dx.keys():\n",
    "        if i%2==0 :\n",
    "            print(dx[i])\n",
    "        "
   ]
  },
  {
   "cell_type": "code",
   "execution_count": 21,
   "id": "8dde4d1f-4c7e-4629-b7b5-7df9a46dc77b",
   "metadata": {
    "tags": []
   },
   "outputs": [
    {
     "data": {
      "text/plain": [
       "{' ', 10, 2, 4, 6, 8}"
      ]
     },
     "execution_count": 21,
     "metadata": {},
     "output_type": "execute_result"
    }
   ],
   "source": [
    " "
   ]
  },
  {
   "cell_type": "code",
   "execution_count": null,
   "id": "9a50bf5d-ae07-48eb-9b64-8e23346b5691",
   "metadata": {},
   "outputs": [],
   "source": []
  }
 ],
 "metadata": {
  "kernelspec": {
   "display_name": "Python 3 (ipykernel)",
   "language": "python",
   "name": "python3"
  },
  "language_info": {
   "codemirror_mode": {
    "name": "ipython",
    "version": 3
   },
   "file_extension": ".py",
   "mimetype": "text/x-python",
   "name": "python",
   "nbconvert_exporter": "python",
   "pygments_lexer": "ipython3",
   "version": "3.11.3"
  }
 },
 "nbformat": 4,
 "nbformat_minor": 5
}
